{
 "cells": [
  {
   "metadata": {
    "ExecuteTime": {
     "end_time": "2024-12-28T10:40:22.865031Z",
     "start_time": "2024-12-28T10:40:10.834160Z"
    }
   },
   "cell_type": "code",
   "source": [
    "from massspecgym.data.datasets import MSnDataset, MassSpecDataset\n",
    "from massspecgym.data.transforms import MolFingerprinter, SpecTokenizer\n",
    "from massspecgym.data import MassSpecDataModule\n",
    "from massspecgym.featurize import SpectrumFeaturizer"
   ],
   "id": "88120acd023d62c4",
   "outputs": [
    {
     "name": "stderr",
     "output_type": "stream",
     "text": [
      "/Users/macbook/UTILS/anaconda3/envs/phantoms_env/lib/python3.11/site-packages/tqdm/auto.py:21: TqdmWarning: IProgress not found. Please update jupyter and ipywidgets. See https://ipywidgets.readthedocs.io/en/stable/user_install.html\n",
      "  from .autonotebook import tqdm as notebook_tqdm\n"
     ]
    }
   ],
   "execution_count": 1
  },
  {
   "cell_type": "code",
   "id": "initial_id",
   "metadata": {
    "collapsed": true,
    "ExecuteTime": {
     "end_time": "2024-12-28T10:40:22.874788Z",
     "start_time": "2024-12-28T10:40:22.872605Z"
    }
   },
   "source": [
    "file_mgf = \"/Users/macbook/CODE/Majer:MassSpecGym/data/MSn/20241211_msn_library_pos_all_lib_MSn.mgf\"\n",
    "file_json = \"/Users/macbook/CODE/Majer:MassSpecGym/data/Retrieval/MassSpecGym_retrieval_candidates_mass.json\"\n",
    "split_file = \"/Users/macbook/CODE/Majer:MassSpecGym/data/MSn/20241211_split.tsv\""
   ],
   "outputs": [],
   "execution_count": 2
  },
  {
   "metadata": {
    "ExecuteTime": {
     "end_time": "2024-12-28T10:40:22.881175Z",
     "start_time": "2024-12-28T10:40:22.879792Z"
    }
   },
   "cell_type": "code",
   "source": [
    "config = {\n",
    "    'features': ['collision_energy', 'ionmode', 'adduct', 'spectrum_stats', 'atom_counts', 'value', \"retention_time\", 'ion_source', 'binned_peaks'],\n",
    "    'feature_attributes': {\n",
    "        'atom_counts': {\n",
    "            'top_n_atoms': 12,\n",
    "            'include_other': True,\n",
    "        },\n",
    "    },\n",
    "}"
   ],
   "id": "49d9b16fb00c6a51",
   "outputs": [],
   "execution_count": null
  },
  {
   "metadata": {
    "ExecuteTime": {
     "end_time": "2024-12-28T10:40:22.927631Z",
     "start_time": "2024-12-28T10:40:22.926304Z"
    }
   },
   "cell_type": "code",
   "source": "featurizer = SpectrumFeaturizer(config, mode='torch')",
   "id": "4da7ed5c4ae9e752",
   "outputs": [],
   "execution_count": null
  },
  {
   "metadata": {
    "ExecuteTime": {
     "end_time": "2024-12-28T10:40:22.933049Z",
     "start_time": "2024-12-28T10:40:22.931667Z"
    }
   },
   "cell_type": "code",
   "source": [
    "# Init hyperparameters\n",
    "n_peaks = 60\n",
    "fp_size = 4096\n",
    "batch_size = 12\n",
    "\n",
    "msn_dataset = MSnDataset(\n",
    "    pth=file_mgf,\n",
    "    featurizer=featurizer,\n",
    "    mol_transform=MolFingerprinter(fp_size=fp_size),\n",
    "    max_allowed_deviation=0.005\n",
    ")"
   ],
   "id": "1381d3fbbe811896",
   "outputs": [],
   "execution_count": null
  },
  {
   "metadata": {
    "ExecuteTime": {
     "end_time": "2024-12-28T10:40:22.949769Z",
     "start_time": "2024-12-28T10:40:22.948483Z"
    }
   },
   "cell_type": "code",
   "source": "",
   "id": "56b483f1ef08e66c",
   "outputs": [],
   "execution_count": null
  },
  {
   "metadata": {
    "ExecuteTime": {
     "end_time": "2024-12-28T10:40:22.987623Z",
     "start_time": "2024-12-28T10:40:22.986233Z"
    }
   },
   "cell_type": "code",
   "source": "",
   "id": "569fadc1c14afc88",
   "outputs": [],
   "execution_count": null
  },
  {
   "metadata": {},
   "cell_type": "code",
   "outputs": [],
   "execution_count": null,
   "source": "",
   "id": "e0d11b8602560809"
  }
 ],
 "metadata": {
  "kernelspec": {
   "display_name": "Python 3",
   "language": "python",
   "name": "python3"
  },
  "language_info": {
   "codemirror_mode": {
    "name": "ipython",
    "version": 2
   },
   "file_extension": ".py",
   "mimetype": "text/x-python",
   "name": "python",
   "nbconvert_exporter": "python",
   "pygments_lexer": "ipython2",
   "version": "2.7.6"
  }
 },
 "nbformat": 4,
 "nbformat_minor": 5
}
