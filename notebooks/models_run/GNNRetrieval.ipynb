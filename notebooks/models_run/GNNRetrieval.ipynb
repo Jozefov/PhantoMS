{
 "cells": [
  {
   "cell_type": "code",
   "id": "initial_id",
   "metadata": {
    "collapsed": true,
    "ExecuteTime": {
     "end_time": "2025-02-04T13:08:38.272305Z",
     "start_time": "2025-02-04T13:08:35.047746Z"
    }
   },
   "source": [
    "import pytorch_lightning as pl\n",
    "from phantoms.models.retrieval.gnn_retrieval_model import GNNRetrievalModel  # Existing small model\n",
    "from phantoms.models.retrieval.gnn_retrieval_model_skip_connection import GNNRetrievalSkipConnections  # New large model\n",
    "from massspecgym.data.data_module import MassSpecDataModule\n",
    "from massspecgym.data.transforms import MolFingerprinter\n",
    "from massspecgym.featurize import SpectrumFeaturizer\n",
    "from pytorch_lightning.loggers import TensorBoardLogger, WandbLogger\n",
    "import wandb\n",
    "from massspecgym.data.datasets import MSnRetrievalDataset, MSnDataset\n",
    "import yaml\n",
    "import argparse\n",
    "import shutil\n",
    "import os\n",
    "import numpy as np\n",
    "import random\n",
    "import torch\n",
    "from datetime import datetime\n",
    "from phantoms.utils.data import save_embeddings\n",
    "from phantoms.optimizations.training import set_global_seeds\n",
    "from phantoms.utils.parser import validate_config, train_model, extract_and_save_embeddings"
   ],
   "outputs": [],
   "execution_count": 2
  },
  {
   "metadata": {
    "ExecuteTime": {
     "end_time": "2025-02-04T13:08:38.285049Z",
     "start_time": "2025-02-04T13:08:38.277395Z"
    }
   },
   "cell_type": "code",
   "source": [
    "pl.seed_everything(42)\n",
    "\n",
    "config_path = \"/Users/macbook/CODE/PhantoMS/phantoms/models/retrieval/configs/config_skip_connection.yml\"\n",
    "# Load configuration\n",
    "with open(config_path, 'r') as f:\n",
    "    config = yaml.safe_load(f)"
   ],
   "id": "cc92650cfaccead2",
   "outputs": [
    {
     "name": "stderr",
     "output_type": "stream",
     "text": [
      "Seed set to 42\n"
     ]
    }
   ],
   "execution_count": 3
  },
  {
   "metadata": {},
   "cell_type": "markdown",
   "source": "# Run one experiment",
   "id": "1a1127fe7ea9c8f4"
  },
  {
   "metadata": {
    "ExecuteTime": {
     "end_time": "2025-02-04T13:10:26.413543Z",
     "start_time": "2025-02-04T13:10:26.405822Z"
    }
   },
   "cell_type": "code",
   "source": [
    "set_global_seeds(42)\n",
    "\n",
    "config_path = \"/Users/macbook/CODE/PhantoMS/phantoms/models/retrieval/configs/config_skip_connection.yml\"\n",
    "# Load configuration\n",
    "with open(config_path, 'r') as f:\n",
    "    config = yaml.safe_load(f)\n",
    "\n",
    "validate_config(config)\n",
    "\n",
    "experiment_folder = '/Users/macbook/CODE/PhantoMS/experiments_run'\n",
    "\n",
    "timestamp = datetime.now().strftime(\"%Y-%m-%d_%H-%M-%S\")\n",
    "\n",
    "experiment_folder = os.path.join(experiment_folder, f'{timestamp}_{config[\"experiment_base_name\"]}')"
   ],
   "id": "c5c5773b77f7307f",
   "outputs": [],
   "execution_count": 4
  },
  {
   "metadata": {
    "ExecuteTime": {
     "end_time": "2025-02-04T13:11:47.436205Z",
     "start_time": "2025-02-04T13:11:35.425445Z"
    }
   },
   "cell_type": "code",
   "source": [
    "# Define different cut_tree_at_level values\n",
    "cut_tree_level = None\n",
    "\n",
    "\n",
    "# Train the model (this will also initialize the data module, loggers, callbacks, etc.)\n",
    "train_model(config, experiment_folder, config_path, cut_tree_level)"
   ],
   "id": "5ee6e5a313fdc5ee",
   "outputs": [
    {
     "name": "stdout",
     "output_type": "stream",
     "text": [
      "\n",
      "Starting training for /Users/macbook/CODE/PhantoMS/experiments_run/2025-02-04_14-10-26_name\n",
      "Using retrieval task/model.\n",
      "Warning: No candidates for 0 SMILES. Skipping them.\n",
      "Total valid indices: 105\n",
      "MSnRetrievalDataset length: 105\n"
     ]
    },
    {
     "name": "stderr",
     "output_type": "stream",
     "text": [
      "/Users/macbook/UTILS/anaconda3/envs/phantoms_env/lib/python3.11/site-packages/torch/nn/utils/weight_norm.py:143: FutureWarning: `torch.nn.utils.weight_norm` is deprecated in favor of `torch.nn.utils.parametrizations.weight_norm`.\n",
      "  WeightNorm.apply(module, name, dim)\n",
      "GPU available: True (mps), used: False\n",
      "TPU available: False, using: 0 TPU cores\n",
      "HPU available: False, using: 0 HPUs\n",
      "/Users/macbook/UTILS/anaconda3/envs/phantoms_env/lib/python3.11/site-packages/pytorch_lightning/trainer/setup.py:177: GPU available but not used. You can set it by doing `Trainer(accelerator='gpu')`.\n",
      "\u001B[34m\u001B[1mwandb\u001B[0m: Currently logged in as: \u001B[33mjozefov\u001B[0m (\u001B[33mjozefov-iocb-prague\u001B[0m). Use \u001B[1m`wandb login --relogin`\u001B[0m to force relogin\n",
      "\u001B[34m\u001B[1mwandb\u001B[0m: Using wandb-core as the SDK backend.  Please refer to https://wandb.me/wandb-core for more information.\n"
     ]
    },
    {
     "data": {
      "text/plain": [
       "<IPython.core.display.HTML object>"
      ],
      "text/html": [
       "Tracking run with wandb version 0.19.4"
      ]
     },
     "metadata": {},
     "output_type": "display_data"
    },
    {
     "data": {
      "text/plain": [
       "<IPython.core.display.HTML object>"
      ],
      "text/html": [
       "Run data is saved locally in <code>./wandb/run-20250204_141137-4jewoqga</code>"
      ]
     },
     "metadata": {},
     "output_type": "display_data"
    },
    {
     "data": {
      "text/plain": [
       "<IPython.core.display.HTML object>"
      ],
      "text/html": [
       "Syncing run <strong><a href='https://wandb.ai/jozefov-iocb-prague/PhantoMS_Retrieval/runs/4jewoqga' target=\"_blank\">2025-02-04_14-10-26_name</a></strong> to <a href='https://wandb.ai/jozefov-iocb-prague/PhantoMS_Retrieval' target=\"_blank\">Weights & Biases</a> (<a href='https://wandb.me/developer-guide' target=\"_blank\">docs</a>)<br>"
      ]
     },
     "metadata": {},
     "output_type": "display_data"
    },
    {
     "data": {
      "text/plain": [
       "<IPython.core.display.HTML object>"
      ],
      "text/html": [
       " View project at <a href='https://wandb.ai/jozefov-iocb-prague/PhantoMS_Retrieval' target=\"_blank\">https://wandb.ai/jozefov-iocb-prague/PhantoMS_Retrieval</a>"
      ]
     },
     "metadata": {},
     "output_type": "display_data"
    },
    {
     "data": {
      "text/plain": [
       "<IPython.core.display.HTML object>"
      ],
      "text/html": [
       " View run at <a href='https://wandb.ai/jozefov-iocb-prague/PhantoMS_Retrieval/runs/4jewoqga' target=\"_blank\">https://wandb.ai/jozefov-iocb-prague/PhantoMS_Retrieval/runs/4jewoqga</a>"
      ]
     },
     "metadata": {},
     "output_type": "display_data"
    },
    {
     "name": "stderr",
     "output_type": "stream",
     "text": [
      "\n",
      "  | Name       | Type                        | Params | Mode \n",
      "-------------------------------------------------------------------\n",
      "0 | gcn_layers | ModuleList                  | 16.6 M | train\n",
      "1 | head       | SkipConnectionRetrievalHead | 37.8 M | train\n",
      "2 | loss_fn    | MSELoss                     | 0      | train\n",
      "-------------------------------------------------------------------\n",
      "54.4 M    Trainable params\n",
      "0         Non-trainable params\n",
      "54.4 M    Total params\n",
      "217.596   Total estimated model params size (MB)\n",
      "54        Modules in train mode\n",
      "0         Modules in eval mode\n"
     ]
    },
    {
     "name": "stdout",
     "output_type": "stream",
     "text": [
      "Warning: Some identifiers in the split file are not found in the dataset. Taking intersection.\n",
      "Train dataset size: 82\n",
      "Val dataset size: 6\n"
     ]
    },
    {
     "data": {
      "text/plain": [
       "Sanity Checking: |          | 0/? [00:00<?, ?it/s]"
      ],
      "application/vnd.jupyter.widget-view+json": {
       "version_major": 2,
       "version_minor": 0,
       "model_id": "8a8352b00d3e4c1da9625222d2e4ad3d"
      }
     },
     "metadata": {},
     "output_type": "display_data"
    },
    {
     "name": "stderr",
     "output_type": "stream",
     "text": [
      "/Users/macbook/UTILS/anaconda3/envs/phantoms_env/lib/python3.11/site-packages/pytorch_lightning/trainer/connectors/data_connector.py:425: The 'val_dataloader' does not have many workers which may be a bottleneck. Consider increasing the value of the `num_workers` argument` to `num_workers=9` in the `DataLoader` to improve performance.\n",
      "/Users/macbook/UTILS/anaconda3/envs/phantoms_env/lib/python3.11/site-packages/pytorch_lightning/trainer/connectors/data_connector.py:425: The 'train_dataloader' does not have many workers which may be a bottleneck. Consider increasing the value of the `num_workers` argument` to `num_workers=9` in the `DataLoader` to improve performance.\n",
      "/Users/macbook/UTILS/anaconda3/envs/phantoms_env/lib/python3.11/site-packages/pytorch_lightning/loops/fit_loop.py:310: The number of training batches (2) is smaller than the logging interval Trainer(log_every_n_steps=10). Set a lower value for log_every_n_steps if you want to see logs for the training epoch.\n"
     ]
    },
    {
     "data": {
      "text/plain": [
       "Training: |          | 0/? [00:00<?, ?it/s]"
      ],
      "application/vnd.jupyter.widget-view+json": {
       "version_major": 2,
       "version_minor": 0,
       "model_id": "af93a37dc7834b9ca1e2f3ab37049378"
      }
     },
     "metadata": {},
     "output_type": "display_data"
    },
    {
     "data": {
      "text/plain": [
       "Validation: |          | 0/? [00:00<?, ?it/s]"
      ],
      "application/vnd.jupyter.widget-view+json": {
       "version_major": 2,
       "version_minor": 0,
       "model_id": "67be68d63b1747dcae22fd143cd48ebf"
      }
     },
     "metadata": {},
     "output_type": "display_data"
    },
    {
     "data": {
      "text/plain": [
       "Validation: |          | 0/? [00:00<?, ?it/s]"
      ],
      "application/vnd.jupyter.widget-view+json": {
       "version_major": 2,
       "version_minor": 0,
       "model_id": "fcfbb8a4b0ac418cac9d2f452bd242a1"
      }
     },
     "metadata": {},
     "output_type": "display_data"
    },
    {
     "name": "stderr",
     "output_type": "stream",
     "text": [
      "`Trainer.fit` stopped: `max_epochs=2` reached.\n"
     ]
    },
    {
     "name": "stdout",
     "output_type": "stream",
     "text": [
      "Warning: Some identifiers in the split file are not found in the dataset. Taking intersection.\n",
      "Test dataset size: 17\n"
     ]
    },
    {
     "name": "stderr",
     "output_type": "stream",
     "text": [
      "/Users/macbook/UTILS/anaconda3/envs/phantoms_env/lib/python3.11/site-packages/pytorch_lightning/trainer/connectors/data_connector.py:425: The 'test_dataloader' does not have many workers which may be a bottleneck. Consider increasing the value of the `num_workers` argument` to `num_workers=9` in the `DataLoader` to improve performance.\n"
     ]
    },
    {
     "data": {
      "text/plain": [
       "Testing: |          | 0/? [00:00<?, ?it/s]"
      ],
      "application/vnd.jupyter.widget-view+json": {
       "version_major": 2,
       "version_minor": 0,
       "model_id": "163c32afafe84f0daf8319b42e1c78de"
      }
     },
     "metadata": {},
     "output_type": "display_data"
    },
    {
     "name": "stdout",
     "output_type": "stream",
     "text": [
      "────────────────────────────────────────────────────────────────────────────────────────────────────────────────────────\n",
      "       Test metric             DataLoader 0\n",
      "────────────────────────────────────────────────────────────────────────────────────────────────────────────────────────\n",
      "     test_hit_rate@1                0.5\n",
      "    test_hit_rate@20               0.75\n",
      "     test_hit_rate@5                0.5\n",
      "        test_loss           0.02292540669441223\n",
      "       test_mces@1                 21.0\n",
      "────────────────────────────────────────────────────────────────────────────────────────────────────────────────────────\n",
      "Model saved to /Users/macbook/CODE/PhantoMS/experiments_run/2025-02-04_14-10-26_name/checkpoints/final_model.ckpt\n"
     ]
    },
    {
     "data": {
      "text/plain": [
       "<IPython.core.display.HTML object>"
      ],
      "text/html": []
     },
     "metadata": {},
     "output_type": "display_data"
    },
    {
     "data": {
      "text/plain": [
       "<IPython.core.display.HTML object>"
      ],
      "text/html": [
       "<br>    <style><br>        .wandb-row {<br>            display: flex;<br>            flex-direction: row;<br>            flex-wrap: wrap;<br>            justify-content: flex-start;<br>            width: 100%;<br>        }<br>        .wandb-col {<br>            display: flex;<br>            flex-direction: column;<br>            flex-basis: 100%;<br>            flex: 1;<br>            padding: 10px;<br>        }<br>    </style><br><div class=\"wandb-row\"><div class=\"wandb-col\"><h3>Run history:</h3><br/><table class=\"wandb\"><tr><td>epoch</td><td>▁▅█</td></tr><tr><td>test_hit_rate@1</td><td>▁</td></tr><tr><td>test_hit_rate@20</td><td>▁</td></tr><tr><td>test_hit_rate@5</td><td>▁</td></tr><tr><td>test_loss</td><td>▁</td></tr><tr><td>test_mces@1</td><td>▁</td></tr><tr><td>trainer/global_step</td><td>▁▆█</td></tr><tr><td>val_hit_rate@1</td><td>▁▁</td></tr><tr><td>val_hit_rate@20</td><td>█▁</td></tr><tr><td>val_hit_rate@5</td><td>█▁</td></tr><tr><td>val_loss</td><td>▁█</td></tr><tr><td>val_mces@1</td><td>▁█</td></tr></table><br/></div><div class=\"wandb-col\"><h3>Run summary:</h3><br/><table class=\"wandb\"><tr><td>epoch</td><td>2</td></tr><tr><td>test_hit_rate@1</td><td>0.5</td></tr><tr><td>test_hit_rate@20</td><td>0.75</td></tr><tr><td>test_hit_rate@5</td><td>0.5</td></tr><tr><td>test_loss</td><td>0.02293</td></tr><tr><td>test_mces@1</td><td>21</td></tr><tr><td>trainer/global_step</td><td>4</td></tr><tr><td>val_hit_rate@1</td><td>0</td></tr><tr><td>val_hit_rate@20</td><td>0.75</td></tr><tr><td>val_hit_rate@5</td><td>0</td></tr><tr><td>val_loss</td><td>0.02615</td></tr><tr><td>val_mces@1</td><td>29.875</td></tr></table><br/></div></div>"
      ]
     },
     "metadata": {},
     "output_type": "display_data"
    },
    {
     "data": {
      "text/plain": [
       "<IPython.core.display.HTML object>"
      ],
      "text/html": [
       " View run <strong style=\"color:#cdcd00\">2025-02-04_14-10-26_name</strong> at: <a href='https://wandb.ai/jozefov-iocb-prague/PhantoMS_Retrieval/runs/4jewoqga' target=\"_blank\">https://wandb.ai/jozefov-iocb-prague/PhantoMS_Retrieval/runs/4jewoqga</a><br> View project at: <a href='https://wandb.ai/jozefov-iocb-prague/PhantoMS_Retrieval' target=\"_blank\">https://wandb.ai/jozefov-iocb-prague/PhantoMS_Retrieval</a><br>Synced 5 W&B file(s), 0 media file(s), 0 artifact file(s) and 0 other file(s)"
      ]
     },
     "metadata": {},
     "output_type": "display_data"
    },
    {
     "data": {
      "text/plain": [
       "<IPython.core.display.HTML object>"
      ],
      "text/html": [
       "Find logs at: <code>./wandb/run-20250204_141137-4jewoqga/logs</code>"
      ]
     },
     "metadata": {},
     "output_type": "display_data"
    },
    {
     "name": "stdout",
     "output_type": "stream",
     "text": [
      "Configuration saved to /Users/macbook/CODE/PhantoMS/experiments_run/2025-02-04_14-10-26_name/configs/config_skip_connection.yml\n"
     ]
    }
   ],
   "execution_count": 5
  },
  {
   "metadata": {
    "ExecuteTime": {
     "end_time": "2025-02-04T13:15:28.765745Z",
     "start_time": "2025-02-04T13:15:24.928599Z"
    }
   },
   "cell_type": "code",
   "source": "extract_and_save_embeddings(config, cut_tree_level, experiment_folder)",
   "id": "bff97b1c55e641e4",
   "outputs": [
    {
     "name": "stdout",
     "output_type": "stream",
     "text": [
      "\n",
      "Extracting embeddings for /Users/macbook/CODE/PhantoMS/experiments_run/2025-02-04_14-10-26_name\n"
     ]
    },
    {
     "name": "stderr",
     "output_type": "stream",
     "text": [
      "/Users/macbook/UTILS/anaconda3/envs/phantoms_env/lib/python3.11/site-packages/torch/nn/utils/weight_norm.py:143: FutureWarning: `torch.nn.utils.weight_norm` is deprecated in favor of `torch.nn.utils.parametrizations.weight_norm`.\n",
      "  WeightNorm.apply(module, name, dim)\n"
     ]
    },
    {
     "name": "stdout",
     "output_type": "stream",
     "text": [
      "Warning: No candidates for 0 SMILES. Skipping them.\n",
      "Total valid indices: 105\n",
      "MSnRetrievalDataset length: 105\n",
      "Warning: Some identifiers in the split file are not found in the dataset. Taking intersection.\n",
      "Test dataset size: 17\n",
      "Embeddings saved to /Users/macbook/CODE/PhantoMS/experiments_run/2025-02-04_14-10-26_name/embeddings\n"
     ]
    }
   ],
   "execution_count": 6
  },
  {
   "metadata": {},
   "cell_type": "markdown",
   "source": "# Train all",
   "id": "a3f50fc6def7130b"
  },
  {
   "metadata": {
    "ExecuteTime": {
     "end_time": "2025-02-04T13:25:25.968177Z",
     "start_time": "2025-02-04T13:25:25.963317Z"
    }
   },
   "cell_type": "code",
   "source": [
    "import wandb\n",
    "import yaml\n",
    "import os\n",
    "from datetime import datetime\n",
    "import time\n",
    "from typing import List, Optional\n",
    "\n",
    "from phantoms.utils.parser import validate_config, train_model, extract_and_save_embeddings\n",
    "from phantoms.optimizations.training import set_global_seeds\n",
    "\n",
    "def run_all_experiments(config_dir: str,\n",
    "                        experiment_parent_dir: str,\n",
    "                        config_files: List[str],\n",
    "                        cut_tree_levels: Optional[List[int]],\n",
    "                        wandb_project_name: str):\n",
    "    \"\"\"\n",
    "    Iterate over all configuration files and tree levels to run experiments.\n",
    "\n",
    "    Args:\n",
    "        config_dir (str): Directory containing configuration YAML files.\n",
    "        experiment_parent_dir (str): Parent directory to store all experiments.\n",
    "        config_files (List[str]): List of configuration YAML filenames.\n",
    "        cut_tree_levels (Optional[List[int]]): List of cut_tree_at_level values.\n",
    "        wandb_project_name (str): Name of the wandb project.\n",
    "    \"\"\"\n",
    "    # Set global seeds for reproducibility\n",
    "    set_global_seeds(42)\n",
    "\n",
    "    # Create the parent experiment directory if it doesn't exist\n",
    "    os.makedirs(experiment_parent_dir, exist_ok=True)\n",
    "\n",
    "    # Iterate over each configuration file\n",
    "    for config_file in config_files:\n",
    "        config_path = os.path.join(config_dir, config_file)\n",
    "\n",
    "        if not os.path.exists(config_path):\n",
    "            print(f\"Configuration file {config_path} does not exist. Skipping.\")\n",
    "            continue\n",
    "\n",
    "        # Load the configuration\n",
    "        with open(config_path, 'r') as f:\n",
    "            config = yaml.safe_load(f)\n",
    "\n",
    "        # Validate the configuration\n",
    "        try:\n",
    "            validate_config(config)\n",
    "        except ValueError as ve:\n",
    "            print(f\"Configuration validation error in {config_file}: {ve}\")\n",
    "            continue\n",
    "\n",
    "        # Iterate over each tree level\n",
    "        for level in cut_tree_levels:\n",
    "            timestamp = datetime.now().strftime(\"%Y-%m-%d_%H-%M-%S\")\n",
    "            # Adding a slight sleep to ensure different timestamps\n",
    "            time.sleep(1.0)\n",
    "\n",
    "            # Define a unique experiment folder name\n",
    "            config_name = os.path.splitext(os.path.basename(config_file))[0]\n",
    "            experiment_folder_name = f\"{config_name}_cut_tree_{level}_{timestamp}\"\n",
    "            experiment_folder = os.path.join(experiment_parent_dir, experiment_folder_name)\n",
    "\n",
    "            # Print experiment details for debugging\n",
    "            print(f\"\\nRunning Experiment: {experiment_folder_name}\")\n",
    "            print(f\"W&B Project: {wandb_project_name}\")\n",
    "            print(f\"Cut Tree Level: {level}\")\n",
    "\n",
    "            # Create the experiment folder\n",
    "            os.makedirs(experiment_folder, exist_ok=True)\n",
    "\n",
    "            # Modify the config dict's 'trainer.checkpoint_dir' to point to experiment_folder subdirectories\n",
    "            config['trainer']['checkpoint_dir'] = os.path.join(experiment_folder, 'checkpoints')\n",
    "\n",
    "            # Optionally, modify 'experiment_base_name' to include the experiment_folder name or set to a unified value\n",
    "            config['experiment_base_name'] = 'experiment_trial'  # Or any desired base name\n",
    "\n",
    "            # Update W&B project name\n",
    "            config['wandb']['project'] = wandb_project_name\n",
    "\n",
    "            # Train the model\n",
    "            train_model(config, experiment_folder, config_path, level)\n",
    "\n",
    "            # Extract and save embeddings\n",
    "            extract_and_save_embeddings(config, level, experiment_folder)\n",
    "\n",
    "            # Finish the W&B run to ensure it's properly logged\n",
    "            wandb.finish()\n",
    "\n",
    "    print(\"\\nAll experiments completed successfully.\")"
   ],
   "id": "467501a94334c925",
   "outputs": [],
   "execution_count": 8
  },
  {
   "metadata": {
    "ExecuteTime": {
     "end_time": "2025-02-04T13:25:27.691991Z",
     "start_time": "2025-02-04T13:25:27.688869Z"
    }
   },
   "cell_type": "code",
   "source": [
    "# Define parameters\n",
    "config_directory = '/Users/macbook/CODE/PhantoMS/phantoms/models/retrieval/configs' \n",
    "experiment_parent_directory = '/Users/macbook/CODE/PhantoMS/experiments_run/new_gnn_retrieval_cut'  \n",
    "\n",
    "configuration_files = [\n",
    "    'config_skip_connection.yml',\n",
    "    'config_skip_connection_bonus.yml',\n",
    "    'config_skip_connection_dreams.yml',\n",
    "    'config_skip_connection_dreams_bonus.yml'\n",
    "]\n",
    "tree_levels = [0, 1, 2, 3]\n",
    "\n",
    "wandb_project_name = 'new_gnn_retrieval_cut'"
   ],
   "id": "a867e732cf387aa9",
   "outputs": [],
   "execution_count": 9
  },
  {
   "metadata": {
    "ExecuteTime": {
     "end_time": "2025-02-04T13:35:47.125817Z",
     "start_time": "2025-02-04T13:25:28.228062Z"
    }
   },
   "cell_type": "code",
   "source": [
    "run_all_experiments(config_dir=config_directory,\n",
    "                    experiment_parent_dir=experiment_parent_directory,\n",
    "                    config_files=configuration_files,\n",
    "                    cut_tree_levels=tree_levels,\n",
    "                    wandb_project_name=wandb_project_name)"
   ],
   "id": "2d13d5b45253d1bc",
   "outputs": [
    {
     "name": "stdout",
     "output_type": "stream",
     "text": [
      "\n",
      "Running Experiment: config_skip_connection_cut_tree_0_2025-02-04_14-25-28\n",
      "W&B Project: new_gnn_retrieval_cut\n",
      "Cut Tree Level: 0\n",
      "\n",
      "Starting training for /Users/macbook/CODE/PhantoMS/experiments_run/new_gnn_retrieval_cut/config_skip_connection_cut_tree_0_2025-02-04_14-25-28\n",
      "Using retrieval task/model.\n",
      "Warning: No candidates for 0 SMILES. Skipping them.\n",
      "Total valid indices: 105\n",
      "MSnRetrievalDataset length: 105\n"
     ]
    },
    {
     "name": "stderr",
     "output_type": "stream",
     "text": [
      "/Users/macbook/UTILS/anaconda3/envs/phantoms_env/lib/python3.11/site-packages/torch/nn/utils/weight_norm.py:143: FutureWarning: `torch.nn.utils.weight_norm` is deprecated in favor of `torch.nn.utils.parametrizations.weight_norm`.\n",
      "  WeightNorm.apply(module, name, dim)\n",
      "GPU available: True (mps), used: False\n",
      "TPU available: False, using: 0 TPU cores\n",
      "HPU available: False, using: 0 HPUs\n",
      "/Users/macbook/UTILS/anaconda3/envs/phantoms_env/lib/python3.11/site-packages/pytorch_lightning/trainer/setup.py:177: GPU available but not used. You can set it by doing `Trainer(accelerator='gpu')`.\n"
     ]
    },
    {
     "data": {
      "text/plain": [
       "<IPython.core.display.HTML object>"
      ],
      "text/html": [
       "Tracking run with wandb version 0.19.4"
      ]
     },
     "metadata": {},
     "output_type": "display_data"
    },
    {
     "data": {
      "text/plain": [
       "<IPython.core.display.HTML object>"
      ],
      "text/html": [
       "Run data is saved locally in <code>./wandb/run-20250204_142530-1egs3xe5</code>"
      ]
     },
     "metadata": {},
     "output_type": "display_data"
    },
    {
     "data": {
      "text/plain": [
       "<IPython.core.display.HTML object>"
      ],
      "text/html": [
       "Syncing run <strong><a href='https://wandb.ai/jozefov-iocb-prague/new_gnn_retrieval_cut/runs/1egs3xe5' target=\"_blank\">config_skip_connection_cut_tree_0_2025-02-04_14-25-28</a></strong> to <a href='https://wandb.ai/jozefov-iocb-prague/new_gnn_retrieval_cut' target=\"_blank\">Weights & Biases</a> (<a href='https://wandb.me/developer-guide' target=\"_blank\">docs</a>)<br>"
      ]
     },
     "metadata": {},
     "output_type": "display_data"
    },
    {
     "data": {
      "text/plain": [
       "<IPython.core.display.HTML object>"
      ],
      "text/html": [
       " View project at <a href='https://wandb.ai/jozefov-iocb-prague/new_gnn_retrieval_cut' target=\"_blank\">https://wandb.ai/jozefov-iocb-prague/new_gnn_retrieval_cut</a>"
      ]
     },
     "metadata": {},
     "output_type": "display_data"
    },
    {
     "data": {
      "text/plain": [
       "<IPython.core.display.HTML object>"
      ],
      "text/html": [
       " View run at <a href='https://wandb.ai/jozefov-iocb-prague/new_gnn_retrieval_cut/runs/1egs3xe5' target=\"_blank\">https://wandb.ai/jozefov-iocb-prague/new_gnn_retrieval_cut/runs/1egs3xe5</a>"
      ]
     },
     "metadata": {},
     "output_type": "display_data"
    },
    {
     "name": "stderr",
     "output_type": "stream",
     "text": [
      "\n",
      "  | Name       | Type                        | Params | Mode \n",
      "-------------------------------------------------------------------\n",
      "0 | gcn_layers | ModuleList                  | 16.6 M | train\n",
      "1 | head       | SkipConnectionRetrievalHead | 37.8 M | train\n",
      "2 | loss_fn    | MSELoss                     | 0      | train\n",
      "-------------------------------------------------------------------\n",
      "54.4 M    Trainable params\n",
      "0         Non-trainable params\n",
      "54.4 M    Total params\n",
      "217.596   Total estimated model params size (MB)\n",
      "54        Modules in train mode\n",
      "0         Modules in eval mode\n"
     ]
    },
    {
     "name": "stdout",
     "output_type": "stream",
     "text": [
      "Warning: Some identifiers in the split file are not found in the dataset. Taking intersection.\n",
      "Train dataset size: 82\n",
      "Val dataset size: 6\n"
     ]
    },
    {
     "data": {
      "text/plain": [
       "Sanity Checking: |          | 0/? [00:00<?, ?it/s]"
      ],
      "application/vnd.jupyter.widget-view+json": {
       "version_major": 2,
       "version_minor": 0,
       "model_id": "d2899c2e20804250927894d635bdc597"
      }
     },
     "metadata": {},
     "output_type": "display_data"
    },
    {
     "name": "stderr",
     "output_type": "stream",
     "text": [
      "/Users/macbook/UTILS/anaconda3/envs/phantoms_env/lib/python3.11/site-packages/pytorch_lightning/trainer/connectors/data_connector.py:425: The 'val_dataloader' does not have many workers which may be a bottleneck. Consider increasing the value of the `num_workers` argument` to `num_workers=9` in the `DataLoader` to improve performance.\n",
      "/Users/macbook/UTILS/anaconda3/envs/phantoms_env/lib/python3.11/site-packages/pytorch_lightning/trainer/connectors/data_connector.py:425: The 'train_dataloader' does not have many workers which may be a bottleneck. Consider increasing the value of the `num_workers` argument` to `num_workers=9` in the `DataLoader` to improve performance.\n",
      "/Users/macbook/UTILS/anaconda3/envs/phantoms_env/lib/python3.11/site-packages/pytorch_lightning/loops/fit_loop.py:310: The number of training batches (2) is smaller than the logging interval Trainer(log_every_n_steps=10). Set a lower value for log_every_n_steps if you want to see logs for the training epoch.\n"
     ]
    },
    {
     "data": {
      "text/plain": [
       "Training: |          | 0/? [00:00<?, ?it/s]"
      ],
      "application/vnd.jupyter.widget-view+json": {
       "version_major": 2,
       "version_minor": 0,
       "model_id": "8c8d9ea33f1c4f86abe46b0b7ec87f8d"
      }
     },
     "metadata": {},
     "output_type": "display_data"
    },
    {
     "data": {
      "text/plain": [
       "Validation: |          | 0/? [00:00<?, ?it/s]"
      ],
      "application/vnd.jupyter.widget-view+json": {
       "version_major": 2,
       "version_minor": 0,
       "model_id": "f2099544ec264a97b3d2eef365945119"
      }
     },
     "metadata": {},
     "output_type": "display_data"
    },
    {
     "data": {
      "text/plain": [
       "Validation: |          | 0/? [00:00<?, ?it/s]"
      ],
      "application/vnd.jupyter.widget-view+json": {
       "version_major": 2,
       "version_minor": 0,
       "model_id": "b774f8ed33bc4ae9aa90b676355e953b"
      }
     },
     "metadata": {},
     "output_type": "display_data"
    },
    {
     "name": "stderr",
     "output_type": "stream",
     "text": [
      "`Trainer.fit` stopped: `max_epochs=2` reached.\n"
     ]
    },
    {
     "name": "stdout",
     "output_type": "stream",
     "text": [
      "Warning: Some identifiers in the split file are not found in the dataset. Taking intersection.\n",
      "Test dataset size: 17\n"
     ]
    },
    {
     "name": "stderr",
     "output_type": "stream",
     "text": [
      "/Users/macbook/UTILS/anaconda3/envs/phantoms_env/lib/python3.11/site-packages/pytorch_lightning/trainer/connectors/data_connector.py:425: The 'test_dataloader' does not have many workers which may be a bottleneck. Consider increasing the value of the `num_workers` argument` to `num_workers=9` in the `DataLoader` to improve performance.\n"
     ]
    },
    {
     "data": {
      "text/plain": [
       "Testing: |          | 0/? [00:00<?, ?it/s]"
      ],
      "application/vnd.jupyter.widget-view+json": {
       "version_major": 2,
       "version_minor": 0,
       "model_id": "fb3bce606d7a41e38bcf64e303ae40df"
      }
     },
     "metadata": {},
     "output_type": "display_data"
    },
    {
     "name": "stdout",
     "output_type": "stream",
     "text": [
      "────────────────────────────────────────────────────────────────────────────────────────────────────────────────────────\n",
      "       Test metric             DataLoader 0\n",
      "────────────────────────────────────────────────────────────────────────────────────────────────────────────────────────\n",
      "     test_hit_rate@1               0.25\n",
      "    test_hit_rate@20                0.5\n",
      "     test_hit_rate@5                0.5\n",
      "        test_loss           0.02303762547671795\n",
      "       test_mces@1                 17.0\n",
      "────────────────────────────────────────────────────────────────────────────────────────────────────────────────────────\n",
      "Model saved to /Users/macbook/CODE/PhantoMS/experiments_run/new_gnn_retrieval_cut/config_skip_connection_cut_tree_0_2025-02-04_14-25-28/checkpoints/final_model.ckpt\n"
     ]
    },
    {
     "data": {
      "text/plain": [
       "<IPython.core.display.HTML object>"
      ],
      "text/html": []
     },
     "metadata": {},
     "output_type": "display_data"
    },
    {
     "data": {
      "text/plain": [
       "<IPython.core.display.HTML object>"
      ],
      "text/html": [
       "<br>    <style><br>        .wandb-row {<br>            display: flex;<br>            flex-direction: row;<br>            flex-wrap: wrap;<br>            justify-content: flex-start;<br>            width: 100%;<br>        }<br>        .wandb-col {<br>            display: flex;<br>            flex-direction: column;<br>            flex-basis: 100%;<br>            flex: 1;<br>            padding: 10px;<br>        }<br>    </style><br><div class=\"wandb-row\"><div class=\"wandb-col\"><h3>Run history:</h3><br/><table class=\"wandb\"><tr><td>epoch</td><td>▁▅█</td></tr><tr><td>test_hit_rate@1</td><td>▁</td></tr><tr><td>test_hit_rate@20</td><td>▁</td></tr><tr><td>test_hit_rate@5</td><td>▁</td></tr><tr><td>test_loss</td><td>▁</td></tr><tr><td>test_mces@1</td><td>▁</td></tr><tr><td>trainer/global_step</td><td>▁▆█</td></tr><tr><td>val_hit_rate@1</td><td>█▁</td></tr><tr><td>val_hit_rate@20</td><td>█▁</td></tr><tr><td>val_hit_rate@5</td><td>█▁</td></tr><tr><td>val_loss</td><td>▁█</td></tr><tr><td>val_mces@1</td><td>▁█</td></tr></table><br/></div><div class=\"wandb-col\"><h3>Run summary:</h3><br/><table class=\"wandb\"><tr><td>epoch</td><td>2</td></tr><tr><td>test_hit_rate@1</td><td>0.25</td></tr><tr><td>test_hit_rate@20</td><td>0.5</td></tr><tr><td>test_hit_rate@5</td><td>0.5</td></tr><tr><td>test_loss</td><td>0.02304</td></tr><tr><td>test_mces@1</td><td>17</td></tr><tr><td>trainer/global_step</td><td>4</td></tr><tr><td>val_hit_rate@1</td><td>0</td></tr><tr><td>val_hit_rate@20</td><td>0.25</td></tr><tr><td>val_hit_rate@5</td><td>0</td></tr><tr><td>val_loss</td><td>0.02629</td></tr><tr><td>val_mces@1</td><td>32.375</td></tr></table><br/></div></div>"
      ]
     },
     "metadata": {},
     "output_type": "display_data"
    },
    {
     "data": {
      "text/plain": [
       "<IPython.core.display.HTML object>"
      ],
      "text/html": [
       " View run <strong style=\"color:#cdcd00\">config_skip_connection_cut_tree_0_2025-02-04_14-25-28</strong> at: <a href='https://wandb.ai/jozefov-iocb-prague/new_gnn_retrieval_cut/runs/1egs3xe5' target=\"_blank\">https://wandb.ai/jozefov-iocb-prague/new_gnn_retrieval_cut/runs/1egs3xe5</a><br> View project at: <a href='https://wandb.ai/jozefov-iocb-prague/new_gnn_retrieval_cut' target=\"_blank\">https://wandb.ai/jozefov-iocb-prague/new_gnn_retrieval_cut</a><br>Synced 5 W&B file(s), 0 media file(s), 0 artifact file(s) and 0 other file(s)"
      ]
     },
     "metadata": {},
     "output_type": "display_data"
    },
    {
     "data": {
      "text/plain": [
       "<IPython.core.display.HTML object>"
      ],
      "text/html": [
       "Find logs at: <code>./wandb/run-20250204_142530-1egs3xe5/logs</code>"
      ]
     },
     "metadata": {},
     "output_type": "display_data"
    },
    {
     "name": "stdout",
     "output_type": "stream",
     "text": [
      "Configuration saved to /Users/macbook/CODE/PhantoMS/experiments_run/new_gnn_retrieval_cut/config_skip_connection_cut_tree_0_2025-02-04_14-25-28/configs/config_skip_connection.yml\n",
      "\n",
      "Extracting embeddings for /Users/macbook/CODE/PhantoMS/experiments_run/new_gnn_retrieval_cut/config_skip_connection_cut_tree_0_2025-02-04_14-25-28\n"
     ]
    },
    {
     "name": "stderr",
     "output_type": "stream",
     "text": [
      "/Users/macbook/UTILS/anaconda3/envs/phantoms_env/lib/python3.11/site-packages/torch/nn/utils/weight_norm.py:143: FutureWarning: `torch.nn.utils.weight_norm` is deprecated in favor of `torch.nn.utils.parametrizations.weight_norm`.\n",
      "  WeightNorm.apply(module, name, dim)\n"
     ]
    },
    {
     "name": "stdout",
     "output_type": "stream",
     "text": [
      "Warning: No candidates for 0 SMILES. Skipping them.\n",
      "Total valid indices: 105\n",
      "MSnRetrievalDataset length: 105\n",
      "Warning: Some identifiers in the split file are not found in the dataset. Taking intersection.\n",
      "Test dataset size: 17\n",
      "Embeddings saved to /Users/macbook/CODE/PhantoMS/experiments_run/new_gnn_retrieval_cut/config_skip_connection_cut_tree_0_2025-02-04_14-25-28/embeddings\n",
      "\n",
      "Running Experiment: config_skip_connection_cut_tree_1_2025-02-04_14-25-45\n",
      "W&B Project: new_gnn_retrieval_cut\n",
      "Cut Tree Level: 1\n",
      "\n",
      "Starting training for /Users/macbook/CODE/PhantoMS/experiments_run/new_gnn_retrieval_cut/config_skip_connection_cut_tree_1_2025-02-04_14-25-45\n",
      "Using retrieval task/model.\n",
      "Warning: No candidates for 0 SMILES. Skipping them.\n",
      "Total valid indices: 105\n",
      "MSnRetrievalDataset length: 105\n"
     ]
    },
    {
     "name": "stderr",
     "output_type": "stream",
     "text": [
      "/Users/macbook/UTILS/anaconda3/envs/phantoms_env/lib/python3.11/site-packages/torch/nn/utils/weight_norm.py:143: FutureWarning: `torch.nn.utils.weight_norm` is deprecated in favor of `torch.nn.utils.parametrizations.weight_norm`.\n",
      "  WeightNorm.apply(module, name, dim)\n",
      "GPU available: True (mps), used: False\n",
      "TPU available: False, using: 0 TPU cores\n",
      "HPU available: False, using: 0 HPUs\n",
      "/Users/macbook/UTILS/anaconda3/envs/phantoms_env/lib/python3.11/site-packages/pytorch_lightning/trainer/setup.py:177: GPU available but not used. You can set it by doing `Trainer(accelerator='gpu')`.\n"
     ]
    },
    {
     "data": {
      "text/plain": [
       "<IPython.core.display.HTML object>"
      ],
      "text/html": [
       "Tracking run with wandb version 0.19.4"
      ]
     },
     "metadata": {},
     "output_type": "display_data"
    },
    {
     "data": {
      "text/plain": [
       "<IPython.core.display.HTML object>"
      ],
      "text/html": [
       "Run data is saved locally in <code>./wandb/run-20250204_142547-u371zcp6</code>"
      ]
     },
     "metadata": {},
     "output_type": "display_data"
    },
    {
     "data": {
      "text/plain": [
       "<IPython.core.display.HTML object>"
      ],
      "text/html": [
       "Syncing run <strong><a href='https://wandb.ai/jozefov-iocb-prague/new_gnn_retrieval_cut/runs/u371zcp6' target=\"_blank\">config_skip_connection_cut_tree_1_2025-02-04_14-25-45</a></strong> to <a href='https://wandb.ai/jozefov-iocb-prague/new_gnn_retrieval_cut' target=\"_blank\">Weights & Biases</a> (<a href='https://wandb.me/developer-guide' target=\"_blank\">docs</a>)<br>"
      ]
     },
     "metadata": {},
     "output_type": "display_data"
    },
    {
     "data": {
      "text/plain": [
       "<IPython.core.display.HTML object>"
      ],
      "text/html": [
       " View project at <a href='https://wandb.ai/jozefov-iocb-prague/new_gnn_retrieval_cut' target=\"_blank\">https://wandb.ai/jozefov-iocb-prague/new_gnn_retrieval_cut</a>"
      ]
     },
     "metadata": {},
     "output_type": "display_data"
    },
    {
     "data": {
      "text/plain": [
       "<IPython.core.display.HTML object>"
      ],
      "text/html": [
       " View run at <a href='https://wandb.ai/jozefov-iocb-prague/new_gnn_retrieval_cut/runs/u371zcp6' target=\"_blank\">https://wandb.ai/jozefov-iocb-prague/new_gnn_retrieval_cut/runs/u371zcp6</a>"
      ]
     },
     "metadata": {},
     "output_type": "display_data"
    },
    {
     "name": "stderr",
     "output_type": "stream",
     "text": [
      "\n",
      "  | Name       | Type                        | Params | Mode \n",
      "-------------------------------------------------------------------\n",
      "0 | gcn_layers | ModuleList                  | 16.6 M | train\n",
      "1 | head       | SkipConnectionRetrievalHead | 37.8 M | train\n",
      "2 | loss_fn    | MSELoss                     | 0      | train\n",
      "-------------------------------------------------------------------\n",
      "54.4 M    Trainable params\n",
      "0         Non-trainable params\n",
      "54.4 M    Total params\n",
      "217.596   Total estimated model params size (MB)\n",
      "54        Modules in train mode\n",
      "0         Modules in eval mode\n"
     ]
    },
    {
     "name": "stdout",
     "output_type": "stream",
     "text": [
      "Warning: Some identifiers in the split file are not found in the dataset. Taking intersection.\n",
      "Train dataset size: 82\n",
      "Val dataset size: 6\n"
     ]
    },
    {
     "data": {
      "text/plain": [
       "Sanity Checking: |          | 0/? [00:00<?, ?it/s]"
      ],
      "application/vnd.jupyter.widget-view+json": {
       "version_major": 2,
       "version_minor": 0,
       "model_id": "bf8eac93e01143a1a59284f95f38ecd5"
      }
     },
     "metadata": {},
     "output_type": "display_data"
    },
    {
     "name": "stderr",
     "output_type": "stream",
     "text": [
      "/Users/macbook/UTILS/anaconda3/envs/phantoms_env/lib/python3.11/site-packages/pytorch_lightning/trainer/connectors/data_connector.py:425: The 'val_dataloader' does not have many workers which may be a bottleneck. Consider increasing the value of the `num_workers` argument` to `num_workers=9` in the `DataLoader` to improve performance.\n",
      "/Users/macbook/UTILS/anaconda3/envs/phantoms_env/lib/python3.11/site-packages/pytorch_lightning/trainer/connectors/data_connector.py:425: The 'train_dataloader' does not have many workers which may be a bottleneck. Consider increasing the value of the `num_workers` argument` to `num_workers=9` in the `DataLoader` to improve performance.\n",
      "/Users/macbook/UTILS/anaconda3/envs/phantoms_env/lib/python3.11/site-packages/pytorch_lightning/loops/fit_loop.py:310: The number of training batches (2) is smaller than the logging interval Trainer(log_every_n_steps=10). Set a lower value for log_every_n_steps if you want to see logs for the training epoch.\n"
     ]
    },
    {
     "data": {
      "text/plain": [
       "Training: |          | 0/? [00:00<?, ?it/s]"
      ],
      "application/vnd.jupyter.widget-view+json": {
       "version_major": 2,
       "version_minor": 0,
       "model_id": "22bed5c337e241909d15dfffae427e7f"
      }
     },
     "metadata": {},
     "output_type": "display_data"
    },
    {
     "data": {
      "text/plain": [
       "Validation: |          | 0/? [00:00<?, ?it/s]"
      ],
      "application/vnd.jupyter.widget-view+json": {
       "version_major": 2,
       "version_minor": 0,
       "model_id": "3361b377eb3c4dc797cd73db3783ecf7"
      }
     },
     "metadata": {},
     "output_type": "display_data"
    },
    {
     "data": {
      "text/plain": [
       "Validation: |          | 0/? [00:00<?, ?it/s]"
      ],
      "application/vnd.jupyter.widget-view+json": {
       "version_major": 2,
       "version_minor": 0,
       "model_id": "f1e5e828118248b4b1b897c8da71cc55"
      }
     },
     "metadata": {},
     "output_type": "display_data"
    },
    {
     "name": "stderr",
     "output_type": "stream",
     "text": [
      "`Trainer.fit` stopped: `max_epochs=2` reached.\n"
     ]
    },
    {
     "name": "stdout",
     "output_type": "stream",
     "text": [
      "Warning: Some identifiers in the split file are not found in the dataset. Taking intersection.\n",
      "Test dataset size: 17\n"
     ]
    },
    {
     "name": "stderr",
     "output_type": "stream",
     "text": [
      "/Users/macbook/UTILS/anaconda3/envs/phantoms_env/lib/python3.11/site-packages/pytorch_lightning/trainer/connectors/data_connector.py:425: The 'test_dataloader' does not have many workers which may be a bottleneck. Consider increasing the value of the `num_workers` argument` to `num_workers=9` in the `DataLoader` to improve performance.\n"
     ]
    },
    {
     "data": {
      "text/plain": [
       "Testing: |          | 0/? [00:00<?, ?it/s]"
      ],
      "application/vnd.jupyter.widget-view+json": {
       "version_major": 2,
       "version_minor": 0,
       "model_id": "8c9ec6d9ea65466284e6c34896709f07"
      }
     },
     "metadata": {},
     "output_type": "display_data"
    },
    {
     "name": "stdout",
     "output_type": "stream",
     "text": [
      "────────────────────────────────────────────────────────────────────────────────────────────────────────────────────────\n",
      "       Test metric             DataLoader 0\n",
      "────────────────────────────────────────────────────────────────────────────────────────────────────────────────────────\n",
      "     test_hit_rate@1                0.0\n",
      "    test_hit_rate@20                0.5\n",
      "     test_hit_rate@5                0.5\n",
      "        test_loss          0.022988861426711082\n",
      "       test_mces@1                25.875\n",
      "────────────────────────────────────────────────────────────────────────────────────────────────────────────────────────\n",
      "Model saved to /Users/macbook/CODE/PhantoMS/experiments_run/new_gnn_retrieval_cut/config_skip_connection_cut_tree_1_2025-02-04_14-25-45/checkpoints/final_model.ckpt\n"
     ]
    },
    {
     "data": {
      "text/plain": [
       "<IPython.core.display.HTML object>"
      ],
      "text/html": []
     },
     "metadata": {},
     "output_type": "display_data"
    },
    {
     "data": {
      "text/plain": [
       "<IPython.core.display.HTML object>"
      ],
      "text/html": [
       "<br>    <style><br>        .wandb-row {<br>            display: flex;<br>            flex-direction: row;<br>            flex-wrap: wrap;<br>            justify-content: flex-start;<br>            width: 100%;<br>        }<br>        .wandb-col {<br>            display: flex;<br>            flex-direction: column;<br>            flex-basis: 100%;<br>            flex: 1;<br>            padding: 10px;<br>        }<br>    </style><br><div class=\"wandb-row\"><div class=\"wandb-col\"><h3>Run history:</h3><br/><table class=\"wandb\"><tr><td>epoch</td><td>▁▅█</td></tr><tr><td>test_hit_rate@1</td><td>▁</td></tr><tr><td>test_hit_rate@20</td><td>▁</td></tr><tr><td>test_hit_rate@5</td><td>▁</td></tr><tr><td>test_loss</td><td>▁</td></tr><tr><td>test_mces@1</td><td>▁</td></tr><tr><td>trainer/global_step</td><td>▁▆█</td></tr><tr><td>val_hit_rate@1</td><td>▁▁</td></tr><tr><td>val_hit_rate@20</td><td>█▁</td></tr><tr><td>val_hit_rate@5</td><td>▁▁</td></tr><tr><td>val_loss</td><td>▁█</td></tr><tr><td>val_mces@1</td><td>█▁</td></tr></table><br/></div><div class=\"wandb-col\"><h3>Run summary:</h3><br/><table class=\"wandb\"><tr><td>epoch</td><td>2</td></tr><tr><td>test_hit_rate@1</td><td>0</td></tr><tr><td>test_hit_rate@20</td><td>0.5</td></tr><tr><td>test_hit_rate@5</td><td>0.5</td></tr><tr><td>test_loss</td><td>0.02299</td></tr><tr><td>test_mces@1</td><td>25.875</td></tr><tr><td>trainer/global_step</td><td>4</td></tr><tr><td>val_hit_rate@1</td><td>0</td></tr><tr><td>val_hit_rate@20</td><td>0.25</td></tr><tr><td>val_hit_rate@5</td><td>0.25</td></tr><tr><td>val_loss</td><td>0.02641</td></tr><tr><td>val_mces@1</td><td>19.75</td></tr></table><br/></div></div>"
      ]
     },
     "metadata": {},
     "output_type": "display_data"
    },
    {
     "data": {
      "text/plain": [
       "<IPython.core.display.HTML object>"
      ],
      "text/html": [
       " View run <strong style=\"color:#cdcd00\">config_skip_connection_cut_tree_1_2025-02-04_14-25-45</strong> at: <a href='https://wandb.ai/jozefov-iocb-prague/new_gnn_retrieval_cut/runs/u371zcp6' target=\"_blank\">https://wandb.ai/jozefov-iocb-prague/new_gnn_retrieval_cut/runs/u371zcp6</a><br> View project at: <a href='https://wandb.ai/jozefov-iocb-prague/new_gnn_retrieval_cut' target=\"_blank\">https://wandb.ai/jozefov-iocb-prague/new_gnn_retrieval_cut</a><br>Synced 5 W&B file(s), 0 media file(s), 0 artifact file(s) and 0 other file(s)"
      ]
     },
     "metadata": {},
     "output_type": "display_data"
    },
    {
     "data": {
      "text/plain": [
       "<IPython.core.display.HTML object>"
      ],
      "text/html": [
       "Find logs at: <code>./wandb/run-20250204_142547-u371zcp6/logs</code>"
      ]
     },
     "metadata": {},
     "output_type": "display_data"
    },
    {
     "name": "stdout",
     "output_type": "stream",
     "text": [
      "Configuration saved to /Users/macbook/CODE/PhantoMS/experiments_run/new_gnn_retrieval_cut/config_skip_connection_cut_tree_1_2025-02-04_14-25-45/configs/config_skip_connection.yml\n",
      "\n",
      "Extracting embeddings for /Users/macbook/CODE/PhantoMS/experiments_run/new_gnn_retrieval_cut/config_skip_connection_cut_tree_1_2025-02-04_14-25-45\n"
     ]
    },
    {
     "name": "stderr",
     "output_type": "stream",
     "text": [
      "/Users/macbook/UTILS/anaconda3/envs/phantoms_env/lib/python3.11/site-packages/torch/nn/utils/weight_norm.py:143: FutureWarning: `torch.nn.utils.weight_norm` is deprecated in favor of `torch.nn.utils.parametrizations.weight_norm`.\n",
      "  WeightNorm.apply(module, name, dim)\n"
     ]
    },
    {
     "name": "stdout",
     "output_type": "stream",
     "text": [
      "Warning: No candidates for 0 SMILES. Skipping them.\n",
      "Total valid indices: 105\n",
      "MSnRetrievalDataset length: 105\n",
      "Warning: Some identifiers in the split file are not found in the dataset. Taking intersection.\n",
      "Test dataset size: 17\n",
      "Embeddings saved to /Users/macbook/CODE/PhantoMS/experiments_run/new_gnn_retrieval_cut/config_skip_connection_cut_tree_1_2025-02-04_14-25-45/embeddings\n",
      "\n",
      "Running Experiment: config_skip_connection_cut_tree_2_2025-02-04_14-26-01\n",
      "W&B Project: new_gnn_retrieval_cut\n",
      "Cut Tree Level: 2\n",
      "\n",
      "Starting training for /Users/macbook/CODE/PhantoMS/experiments_run/new_gnn_retrieval_cut/config_skip_connection_cut_tree_2_2025-02-04_14-26-01\n",
      "Using retrieval task/model.\n",
      "Warning: No candidates for 0 SMILES. Skipping them.\n",
      "Total valid indices: 105\n",
      "MSnRetrievalDataset length: 105\n"
     ]
    },
    {
     "name": "stderr",
     "output_type": "stream",
     "text": [
      "/Users/macbook/UTILS/anaconda3/envs/phantoms_env/lib/python3.11/site-packages/torch/nn/utils/weight_norm.py:143: FutureWarning: `torch.nn.utils.weight_norm` is deprecated in favor of `torch.nn.utils.parametrizations.weight_norm`.\n",
      "  WeightNorm.apply(module, name, dim)\n",
      "GPU available: True (mps), used: False\n",
      "TPU available: False, using: 0 TPU cores\n",
      "HPU available: False, using: 0 HPUs\n",
      "/Users/macbook/UTILS/anaconda3/envs/phantoms_env/lib/python3.11/site-packages/pytorch_lightning/trainer/setup.py:177: GPU available but not used. You can set it by doing `Trainer(accelerator='gpu')`.\n"
     ]
    },
    {
     "data": {
      "text/plain": [
       "<IPython.core.display.HTML object>"
      ],
      "text/html": [
       "Tracking run with wandb version 0.19.4"
      ]
     },
     "metadata": {},
     "output_type": "display_data"
    },
    {
     "data": {
      "text/plain": [
       "<IPython.core.display.HTML object>"
      ],
      "text/html": [
       "Run data is saved locally in <code>./wandb/run-20250204_142603-6bt3cvp9</code>"
      ]
     },
     "metadata": {},
     "output_type": "display_data"
    },
    {
     "data": {
      "text/plain": [
       "<IPython.core.display.HTML object>"
      ],
      "text/html": [
       "Syncing run <strong><a href='https://wandb.ai/jozefov-iocb-prague/new_gnn_retrieval_cut/runs/6bt3cvp9' target=\"_blank\">config_skip_connection_cut_tree_2_2025-02-04_14-26-01</a></strong> to <a href='https://wandb.ai/jozefov-iocb-prague/new_gnn_retrieval_cut' target=\"_blank\">Weights & Biases</a> (<a href='https://wandb.me/developer-guide' target=\"_blank\">docs</a>)<br>"
      ]
     },
     "metadata": {},
     "output_type": "display_data"
    },
    {
     "data": {
      "text/plain": [
       "<IPython.core.display.HTML object>"
      ],
      "text/html": [
       " View project at <a href='https://wandb.ai/jozefov-iocb-prague/new_gnn_retrieval_cut' target=\"_blank\">https://wandb.ai/jozefov-iocb-prague/new_gnn_retrieval_cut</a>"
      ]
     },
     "metadata": {},
     "output_type": "display_data"
    },
    {
     "data": {
      "text/plain": [
       "<IPython.core.display.HTML object>"
      ],
      "text/html": [
       " View run at <a href='https://wandb.ai/jozefov-iocb-prague/new_gnn_retrieval_cut/runs/6bt3cvp9' target=\"_blank\">https://wandb.ai/jozefov-iocb-prague/new_gnn_retrieval_cut/runs/6bt3cvp9</a>"
      ]
     },
     "metadata": {},
     "output_type": "display_data"
    },
    {
     "name": "stderr",
     "output_type": "stream",
     "text": [
      "\n",
      "  | Name       | Type                        | Params | Mode \n",
      "-------------------------------------------------------------------\n",
      "0 | gcn_layers | ModuleList                  | 16.6 M | train\n",
      "1 | head       | SkipConnectionRetrievalHead | 37.8 M | train\n",
      "2 | loss_fn    | MSELoss                     | 0      | train\n",
      "-------------------------------------------------------------------\n",
      "54.4 M    Trainable params\n",
      "0         Non-trainable params\n",
      "54.4 M    Total params\n",
      "217.596   Total estimated model params size (MB)\n",
      "54        Modules in train mode\n",
      "0         Modules in eval mode\n"
     ]
    },
    {
     "name": "stdout",
     "output_type": "stream",
     "text": [
      "Warning: Some identifiers in the split file are not found in the dataset. Taking intersection.\n",
      "Train dataset size: 82\n",
      "Val dataset size: 6\n"
     ]
    },
    {
     "data": {
      "text/plain": [
       "Sanity Checking: |          | 0/? [00:00<?, ?it/s]"
      ],
      "application/vnd.jupyter.widget-view+json": {
       "version_major": 2,
       "version_minor": 0,
       "model_id": "a5c4b0ce9a984b5881f2dbd50296c8d0"
      }
     },
     "metadata": {},
     "output_type": "display_data"
    },
    {
     "name": "stderr",
     "output_type": "stream",
     "text": [
      "/Users/macbook/UTILS/anaconda3/envs/phantoms_env/lib/python3.11/site-packages/pytorch_lightning/trainer/connectors/data_connector.py:425: The 'val_dataloader' does not have many workers which may be a bottleneck. Consider increasing the value of the `num_workers` argument` to `num_workers=9` in the `DataLoader` to improve performance.\n",
      "/Users/macbook/UTILS/anaconda3/envs/phantoms_env/lib/python3.11/site-packages/pytorch_lightning/trainer/connectors/data_connector.py:425: The 'train_dataloader' does not have many workers which may be a bottleneck. Consider increasing the value of the `num_workers` argument` to `num_workers=9` in the `DataLoader` to improve performance.\n",
      "/Users/macbook/UTILS/anaconda3/envs/phantoms_env/lib/python3.11/site-packages/pytorch_lightning/loops/fit_loop.py:310: The number of training batches (2) is smaller than the logging interval Trainer(log_every_n_steps=10). Set a lower value for log_every_n_steps if you want to see logs for the training epoch.\n"
     ]
    },
    {
     "data": {
      "text/plain": [
       "Training: |          | 0/? [00:00<?, ?it/s]"
      ],
      "application/vnd.jupyter.widget-view+json": {
       "version_major": 2,
       "version_minor": 0,
       "model_id": "0430098fb8434499ad02bf4c8365d9e7"
      }
     },
     "metadata": {},
     "output_type": "display_data"
    },
    {
     "data": {
      "text/plain": [
       "Validation: |          | 0/? [00:00<?, ?it/s]"
      ],
      "application/vnd.jupyter.widget-view+json": {
       "version_major": 2,
       "version_minor": 0,
       "model_id": "d1d821ebcbc444248d291fb48fb889cf"
      }
     },
     "metadata": {},
     "output_type": "display_data"
    },
    {
     "data": {
      "text/plain": [
       "Validation: |          | 0/? [00:00<?, ?it/s]"
      ],
      "application/vnd.jupyter.widget-view+json": {
       "version_major": 2,
       "version_minor": 0,
       "model_id": "783c76020fca4e1e91cf889a4112b8c8"
      }
     },
     "metadata": {},
     "output_type": "display_data"
    },
    {
     "name": "stderr",
     "output_type": "stream",
     "text": [
      "`Trainer.fit` stopped: `max_epochs=2` reached.\n"
     ]
    },
    {
     "name": "stdout",
     "output_type": "stream",
     "text": [
      "Warning: Some identifiers in the split file are not found in the dataset. Taking intersection.\n",
      "Test dataset size: 17\n"
     ]
    },
    {
     "name": "stderr",
     "output_type": "stream",
     "text": [
      "/Users/macbook/UTILS/anaconda3/envs/phantoms_env/lib/python3.11/site-packages/pytorch_lightning/trainer/connectors/data_connector.py:425: The 'test_dataloader' does not have many workers which may be a bottleneck. Consider increasing the value of the `num_workers` argument` to `num_workers=9` in the `DataLoader` to improve performance.\n"
     ]
    },
    {
     "data": {
      "text/plain": [
       "Testing: |          | 0/? [00:00<?, ?it/s]"
      ],
      "application/vnd.jupyter.widget-view+json": {
       "version_major": 2,
       "version_minor": 0,
       "model_id": "d979ffa4638c454d8aba076784ad765a"
      }
     },
     "metadata": {},
     "output_type": "display_data"
    },
    {
     "name": "stdout",
     "output_type": "stream",
     "text": [
      "────────────────────────────────────────────────────────────────────────────────────────────────────────────────────────\n",
      "       Test metric             DataLoader 0\n",
      "────────────────────────────────────────────────────────────────────────────────────────────────────────────────────────\n",
      "     test_hit_rate@1               0.25\n",
      "    test_hit_rate@20                0.5\n",
      "     test_hit_rate@5                0.5\n",
      "        test_loss          0.022955333814024925\n",
      "       test_mces@1                22.625\n",
      "────────────────────────────────────────────────────────────────────────────────────────────────────────────────────────\n",
      "Model saved to /Users/macbook/CODE/PhantoMS/experiments_run/new_gnn_retrieval_cut/config_skip_connection_cut_tree_2_2025-02-04_14-26-01/checkpoints/final_model.ckpt\n"
     ]
    },
    {
     "data": {
      "text/plain": [
       "<IPython.core.display.HTML object>"
      ],
      "text/html": []
     },
     "metadata": {},
     "output_type": "display_data"
    },
    {
     "data": {
      "text/plain": [
       "<IPython.core.display.HTML object>"
      ],
      "text/html": [
       "<br>    <style><br>        .wandb-row {<br>            display: flex;<br>            flex-direction: row;<br>            flex-wrap: wrap;<br>            justify-content: flex-start;<br>            width: 100%;<br>        }<br>        .wandb-col {<br>            display: flex;<br>            flex-direction: column;<br>            flex-basis: 100%;<br>            flex: 1;<br>            padding: 10px;<br>        }<br>    </style><br><div class=\"wandb-row\"><div class=\"wandb-col\"><h3>Run history:</h3><br/><table class=\"wandb\"><tr><td>epoch</td><td>▁▅█</td></tr><tr><td>test_hit_rate@1</td><td>▁</td></tr><tr><td>test_hit_rate@20</td><td>▁</td></tr><tr><td>test_hit_rate@5</td><td>▁</td></tr><tr><td>test_loss</td><td>▁</td></tr><tr><td>test_mces@1</td><td>▁</td></tr><tr><td>trainer/global_step</td><td>▁▆█</td></tr><tr><td>val_hit_rate@1</td><td>▁▁</td></tr><tr><td>val_hit_rate@20</td><td>█▁</td></tr><tr><td>val_hit_rate@5</td><td>█▁</td></tr><tr><td>val_loss</td><td>▁█</td></tr><tr><td>val_mces@1</td><td>█▁</td></tr></table><br/></div><div class=\"wandb-col\"><h3>Run summary:</h3><br/><table class=\"wandb\"><tr><td>epoch</td><td>2</td></tr><tr><td>test_hit_rate@1</td><td>0.25</td></tr><tr><td>test_hit_rate@20</td><td>0.5</td></tr><tr><td>test_hit_rate@5</td><td>0.5</td></tr><tr><td>test_loss</td><td>0.02296</td></tr><tr><td>test_mces@1</td><td>22.625</td></tr><tr><td>trainer/global_step</td><td>4</td></tr><tr><td>val_hit_rate@1</td><td>0</td></tr><tr><td>val_hit_rate@20</td><td>0.5</td></tr><tr><td>val_hit_rate@5</td><td>0.25</td></tr><tr><td>val_loss</td><td>0.0263</td></tr><tr><td>val_mces@1</td><td>26.375</td></tr></table><br/></div></div>"
      ]
     },
     "metadata": {},
     "output_type": "display_data"
    },
    {
     "data": {
      "text/plain": [
       "<IPython.core.display.HTML object>"
      ],
      "text/html": [
       " View run <strong style=\"color:#cdcd00\">config_skip_connection_cut_tree_2_2025-02-04_14-26-01</strong> at: <a href='https://wandb.ai/jozefov-iocb-prague/new_gnn_retrieval_cut/runs/6bt3cvp9' target=\"_blank\">https://wandb.ai/jozefov-iocb-prague/new_gnn_retrieval_cut/runs/6bt3cvp9</a><br> View project at: <a href='https://wandb.ai/jozefov-iocb-prague/new_gnn_retrieval_cut' target=\"_blank\">https://wandb.ai/jozefov-iocb-prague/new_gnn_retrieval_cut</a><br>Synced 5 W&B file(s), 0 media file(s), 0 artifact file(s) and 0 other file(s)"
      ]
     },
     "metadata": {},
     "output_type": "display_data"
    },
    {
     "data": {
      "text/plain": [
       "<IPython.core.display.HTML object>"
      ],
      "text/html": [
       "Find logs at: <code>./wandb/run-20250204_142603-6bt3cvp9/logs</code>"
      ]
     },
     "metadata": {},
     "output_type": "display_data"
    },
    {
     "name": "stdout",
     "output_type": "stream",
     "text": [
      "Configuration saved to /Users/macbook/CODE/PhantoMS/experiments_run/new_gnn_retrieval_cut/config_skip_connection_cut_tree_2_2025-02-04_14-26-01/configs/config_skip_connection.yml\n",
      "\n",
      "Extracting embeddings for /Users/macbook/CODE/PhantoMS/experiments_run/new_gnn_retrieval_cut/config_skip_connection_cut_tree_2_2025-02-04_14-26-01\n"
     ]
    },
    {
     "name": "stderr",
     "output_type": "stream",
     "text": [
      "/Users/macbook/UTILS/anaconda3/envs/phantoms_env/lib/python3.11/site-packages/torch/nn/utils/weight_norm.py:143: FutureWarning: `torch.nn.utils.weight_norm` is deprecated in favor of `torch.nn.utils.parametrizations.weight_norm`.\n",
      "  WeightNorm.apply(module, name, dim)\n"
     ]
    },
    {
     "name": "stdout",
     "output_type": "stream",
     "text": [
      "Warning: No candidates for 0 SMILES. Skipping them.\n",
      "Total valid indices: 105\n",
      "MSnRetrievalDataset length: 105\n",
      "Warning: Some identifiers in the split file are not found in the dataset. Taking intersection.\n",
      "Test dataset size: 17\n",
      "Embeddings saved to /Users/macbook/CODE/PhantoMS/experiments_run/new_gnn_retrieval_cut/config_skip_connection_cut_tree_2_2025-02-04_14-26-01/embeddings\n",
      "\n",
      "Running Experiment: config_skip_connection_cut_tree_3_2025-02-04_14-26-16\n",
      "W&B Project: new_gnn_retrieval_cut\n",
      "Cut Tree Level: 3\n",
      "\n",
      "Starting training for /Users/macbook/CODE/PhantoMS/experiments_run/new_gnn_retrieval_cut/config_skip_connection_cut_tree_3_2025-02-04_14-26-16\n",
      "Using retrieval task/model.\n",
      "Warning: No candidates for 0 SMILES. Skipping them.\n",
      "Total valid indices: 105\n",
      "MSnRetrievalDataset length: 105\n"
     ]
    },
    {
     "name": "stderr",
     "output_type": "stream",
     "text": [
      "/Users/macbook/UTILS/anaconda3/envs/phantoms_env/lib/python3.11/site-packages/torch/nn/utils/weight_norm.py:143: FutureWarning: `torch.nn.utils.weight_norm` is deprecated in favor of `torch.nn.utils.parametrizations.weight_norm`.\n",
      "  WeightNorm.apply(module, name, dim)\n",
      "GPU available: True (mps), used: False\n",
      "TPU available: False, using: 0 TPU cores\n",
      "HPU available: False, using: 0 HPUs\n",
      "/Users/macbook/UTILS/anaconda3/envs/phantoms_env/lib/python3.11/site-packages/pytorch_lightning/trainer/setup.py:177: GPU available but not used. You can set it by doing `Trainer(accelerator='gpu')`.\n"
     ]
    },
    {
     "data": {
      "text/plain": [
       "<IPython.core.display.HTML object>"
      ],
      "text/html": [
       "Tracking run with wandb version 0.19.4"
      ]
     },
     "metadata": {},
     "output_type": "display_data"
    },
    {
     "data": {
      "text/plain": [
       "<IPython.core.display.HTML object>"
      ],
      "text/html": [
       "Run data is saved locally in <code>./wandb/run-20250204_142619-bl26xdxz</code>"
      ]
     },
     "metadata": {},
     "output_type": "display_data"
    },
    {
     "data": {
      "text/plain": [
       "<IPython.core.display.HTML object>"
      ],
      "text/html": [
       "Syncing run <strong><a href='https://wandb.ai/jozefov-iocb-prague/new_gnn_retrieval_cut/runs/bl26xdxz' target=\"_blank\">config_skip_connection_cut_tree_3_2025-02-04_14-26-16</a></strong> to <a href='https://wandb.ai/jozefov-iocb-prague/new_gnn_retrieval_cut' target=\"_blank\">Weights & Biases</a> (<a href='https://wandb.me/developer-guide' target=\"_blank\">docs</a>)<br>"
      ]
     },
     "metadata": {},
     "output_type": "display_data"
    },
    {
     "data": {
      "text/plain": [
       "<IPython.core.display.HTML object>"
      ],
      "text/html": [
       " View project at <a href='https://wandb.ai/jozefov-iocb-prague/new_gnn_retrieval_cut' target=\"_blank\">https://wandb.ai/jozefov-iocb-prague/new_gnn_retrieval_cut</a>"
      ]
     },
     "metadata": {},
     "output_type": "display_data"
    },
    {
     "data": {
      "text/plain": [
       "<IPython.core.display.HTML object>"
      ],
      "text/html": [
       " View run at <a href='https://wandb.ai/jozefov-iocb-prague/new_gnn_retrieval_cut/runs/bl26xdxz' target=\"_blank\">https://wandb.ai/jozefov-iocb-prague/new_gnn_retrieval_cut/runs/bl26xdxz</a>"
      ]
     },
     "metadata": {},
     "output_type": "display_data"
    },
    {
     "name": "stderr",
     "output_type": "stream",
     "text": [
      "\n",
      "  | Name       | Type                        | Params | Mode \n",
      "-------------------------------------------------------------------\n",
      "0 | gcn_layers | ModuleList                  | 16.6 M | train\n",
      "1 | head       | SkipConnectionRetrievalHead | 37.8 M | train\n",
      "2 | loss_fn    | MSELoss                     | 0      | train\n",
      "-------------------------------------------------------------------\n",
      "54.4 M    Trainable params\n",
      "0         Non-trainable params\n",
      "54.4 M    Total params\n",
      "217.596   Total estimated model params size (MB)\n",
      "54        Modules in train mode\n",
      "0         Modules in eval mode\n"
     ]
    },
    {
     "name": "stdout",
     "output_type": "stream",
     "text": [
      "Warning: Some identifiers in the split file are not found in the dataset. Taking intersection.\n",
      "Train dataset size: 82\n",
      "Val dataset size: 6\n"
     ]
    },
    {
     "data": {
      "text/plain": [
       "Sanity Checking: |          | 0/? [00:00<?, ?it/s]"
      ],
      "application/vnd.jupyter.widget-view+json": {
       "version_major": 2,
       "version_minor": 0,
       "model_id": "385a705aa21d4634bf226b0d7cddcc80"
      }
     },
     "metadata": {},
     "output_type": "display_data"
    },
    {
     "name": "stderr",
     "output_type": "stream",
     "text": [
      "/Users/macbook/UTILS/anaconda3/envs/phantoms_env/lib/python3.11/site-packages/pytorch_lightning/trainer/connectors/data_connector.py:425: The 'val_dataloader' does not have many workers which may be a bottleneck. Consider increasing the value of the `num_workers` argument` to `num_workers=9` in the `DataLoader` to improve performance.\n",
      "/Users/macbook/UTILS/anaconda3/envs/phantoms_env/lib/python3.11/site-packages/pytorch_lightning/trainer/connectors/data_connector.py:425: The 'train_dataloader' does not have many workers which may be a bottleneck. Consider increasing the value of the `num_workers` argument` to `num_workers=9` in the `DataLoader` to improve performance.\n",
      "/Users/macbook/UTILS/anaconda3/envs/phantoms_env/lib/python3.11/site-packages/pytorch_lightning/loops/fit_loop.py:310: The number of training batches (2) is smaller than the logging interval Trainer(log_every_n_steps=10). Set a lower value for log_every_n_steps if you want to see logs for the training epoch.\n"
     ]
    },
    {
     "data": {
      "text/plain": [
       "Training: |          | 0/? [00:00<?, ?it/s]"
      ],
      "application/vnd.jupyter.widget-view+json": {
       "version_major": 2,
       "version_minor": 0,
       "model_id": "07b7b4e8cbce485fac52acddd1892878"
      }
     },
     "metadata": {},
     "output_type": "display_data"
    },
    {
     "data": {
      "text/plain": [
       "Validation: |          | 0/? [00:00<?, ?it/s]"
      ],
      "application/vnd.jupyter.widget-view+json": {
       "version_major": 2,
       "version_minor": 0,
       "model_id": "5a32cde3073748efacff0d2f8def21ee"
      }
     },
     "metadata": {},
     "output_type": "display_data"
    },
    {
     "data": {
      "text/plain": [
       "Validation: |          | 0/? [00:00<?, ?it/s]"
      ],
      "application/vnd.jupyter.widget-view+json": {
       "version_major": 2,
       "version_minor": 0,
       "model_id": "ae6d81d8642a42a49de1c49138012e6e"
      }
     },
     "metadata": {},
     "output_type": "display_data"
    },
    {
     "name": "stderr",
     "output_type": "stream",
     "text": [
      "`Trainer.fit` stopped: `max_epochs=2` reached.\n"
     ]
    },
    {
     "name": "stdout",
     "output_type": "stream",
     "text": [
      "Warning: Some identifiers in the split file are not found in the dataset. Taking intersection.\n",
      "Test dataset size: 17\n"
     ]
    },
    {
     "name": "stderr",
     "output_type": "stream",
     "text": [
      "/Users/macbook/UTILS/anaconda3/envs/phantoms_env/lib/python3.11/site-packages/pytorch_lightning/trainer/connectors/data_connector.py:425: The 'test_dataloader' does not have many workers which may be a bottleneck. Consider increasing the value of the `num_workers` argument` to `num_workers=9` in the `DataLoader` to improve performance.\n"
     ]
    },
    {
     "data": {
      "text/plain": [
       "Testing: |          | 0/? [00:00<?, ?it/s]"
      ],
      "application/vnd.jupyter.widget-view+json": {
       "version_major": 2,
       "version_minor": 0,
       "model_id": "b0e3a4e3b94244eb846073099a3aec9f"
      }
     },
     "metadata": {},
     "output_type": "display_data"
    },
    {
     "name": "stdout",
     "output_type": "stream",
     "text": [
      "────────────────────────────────────────────────────────────────────────────────────────────────────────────────────────\n",
      "       Test metric             DataLoader 0\n",
      "────────────────────────────────────────────────────────────────────────────────────────────────────────────────────────\n",
      "     test_hit_rate@1                0.5\n",
      "    test_hit_rate@20               0.75\n",
      "     test_hit_rate@5                0.5\n",
      "        test_loss           0.02292540669441223\n",
      "       test_mces@1                 21.0\n",
      "────────────────────────────────────────────────────────────────────────────────────────────────────────────────────────\n",
      "Model saved to /Users/macbook/CODE/PhantoMS/experiments_run/new_gnn_retrieval_cut/config_skip_connection_cut_tree_3_2025-02-04_14-26-16/checkpoints/final_model.ckpt\n"
     ]
    },
    {
     "data": {
      "text/plain": [
       "<IPython.core.display.HTML object>"
      ],
      "text/html": []
     },
     "metadata": {},
     "output_type": "display_data"
    },
    {
     "data": {
      "text/plain": [
       "<IPython.core.display.HTML object>"
      ],
      "text/html": [
       "<br>    <style><br>        .wandb-row {<br>            display: flex;<br>            flex-direction: row;<br>            flex-wrap: wrap;<br>            justify-content: flex-start;<br>            width: 100%;<br>        }<br>        .wandb-col {<br>            display: flex;<br>            flex-direction: column;<br>            flex-basis: 100%;<br>            flex: 1;<br>            padding: 10px;<br>        }<br>    </style><br><div class=\"wandb-row\"><div class=\"wandb-col\"><h3>Run history:</h3><br/><table class=\"wandb\"><tr><td>epoch</td><td>▁▅█</td></tr><tr><td>test_hit_rate@1</td><td>▁</td></tr><tr><td>test_hit_rate@20</td><td>▁</td></tr><tr><td>test_hit_rate@5</td><td>▁</td></tr><tr><td>test_loss</td><td>▁</td></tr><tr><td>test_mces@1</td><td>▁</td></tr><tr><td>trainer/global_step</td><td>▁▆█</td></tr><tr><td>val_hit_rate@1</td><td>▁▁</td></tr><tr><td>val_hit_rate@20</td><td>█▁</td></tr><tr><td>val_hit_rate@5</td><td>█▁</td></tr><tr><td>val_loss</td><td>▁█</td></tr><tr><td>val_mces@1</td><td>▁█</td></tr></table><br/></div><div class=\"wandb-col\"><h3>Run summary:</h3><br/><table class=\"wandb\"><tr><td>epoch</td><td>2</td></tr><tr><td>test_hit_rate@1</td><td>0.5</td></tr><tr><td>test_hit_rate@20</td><td>0.75</td></tr><tr><td>test_hit_rate@5</td><td>0.5</td></tr><tr><td>test_loss</td><td>0.02293</td></tr><tr><td>test_mces@1</td><td>21</td></tr><tr><td>trainer/global_step</td><td>4</td></tr><tr><td>val_hit_rate@1</td><td>0</td></tr><tr><td>val_hit_rate@20</td><td>0.75</td></tr><tr><td>val_hit_rate@5</td><td>0</td></tr><tr><td>val_loss</td><td>0.02615</td></tr><tr><td>val_mces@1</td><td>29.875</td></tr></table><br/></div></div>"
      ]
     },
     "metadata": {},
     "output_type": "display_data"
    },
    {
     "data": {
      "text/plain": [
       "<IPython.core.display.HTML object>"
      ],
      "text/html": [
       " View run <strong style=\"color:#cdcd00\">config_skip_connection_cut_tree_3_2025-02-04_14-26-16</strong> at: <a href='https://wandb.ai/jozefov-iocb-prague/new_gnn_retrieval_cut/runs/bl26xdxz' target=\"_blank\">https://wandb.ai/jozefov-iocb-prague/new_gnn_retrieval_cut/runs/bl26xdxz</a><br> View project at: <a href='https://wandb.ai/jozefov-iocb-prague/new_gnn_retrieval_cut' target=\"_blank\">https://wandb.ai/jozefov-iocb-prague/new_gnn_retrieval_cut</a><br>Synced 5 W&B file(s), 0 media file(s), 0 artifact file(s) and 0 other file(s)"
      ]
     },
     "metadata": {},
     "output_type": "display_data"
    },
    {
     "data": {
      "text/plain": [
       "<IPython.core.display.HTML object>"
      ],
      "text/html": [
       "Find logs at: <code>./wandb/run-20250204_142619-bl26xdxz/logs</code>"
      ]
     },
     "metadata": {},
     "output_type": "display_data"
    },
    {
     "name": "stdout",
     "output_type": "stream",
     "text": [
      "Configuration saved to /Users/macbook/CODE/PhantoMS/experiments_run/new_gnn_retrieval_cut/config_skip_connection_cut_tree_3_2025-02-04_14-26-16/configs/config_skip_connection.yml\n",
      "\n",
      "Extracting embeddings for /Users/macbook/CODE/PhantoMS/experiments_run/new_gnn_retrieval_cut/config_skip_connection_cut_tree_3_2025-02-04_14-26-16\n"
     ]
    },
    {
     "name": "stderr",
     "output_type": "stream",
     "text": [
      "/Users/macbook/UTILS/anaconda3/envs/phantoms_env/lib/python3.11/site-packages/torch/nn/utils/weight_norm.py:143: FutureWarning: `torch.nn.utils.weight_norm` is deprecated in favor of `torch.nn.utils.parametrizations.weight_norm`.\n",
      "  WeightNorm.apply(module, name, dim)\n"
     ]
    },
    {
     "name": "stdout",
     "output_type": "stream",
     "text": [
      "Warning: No candidates for 0 SMILES. Skipping them.\n",
      "Total valid indices: 105\n",
      "MSnRetrievalDataset length: 105\n",
      "Warning: Some identifiers in the split file are not found in the dataset. Taking intersection.\n",
      "Test dataset size: 17\n",
      "Embeddings saved to /Users/macbook/CODE/PhantoMS/experiments_run/new_gnn_retrieval_cut/config_skip_connection_cut_tree_3_2025-02-04_14-26-16/embeddings\n",
      "\n",
      "Running Experiment: config_skip_connection_bonus_cut_tree_0_2025-02-04_14-26-32\n",
      "W&B Project: new_gnn_retrieval_cut\n",
      "Cut Tree Level: 0\n",
      "\n",
      "Starting training for /Users/macbook/CODE/PhantoMS/experiments_run/new_gnn_retrieval_cut/config_skip_connection_bonus_cut_tree_0_2025-02-04_14-26-32\n",
      "Using retrieval task/model.\n",
      "Warning: No candidates for 0 SMILES. Skipping them.\n",
      "Total valid indices: 105\n",
      "MSnRetrievalDataset length: 105\n"
     ]
    },
    {
     "name": "stderr",
     "output_type": "stream",
     "text": [
      "/Users/macbook/UTILS/anaconda3/envs/phantoms_env/lib/python3.11/site-packages/torch/nn/utils/weight_norm.py:143: FutureWarning: `torch.nn.utils.weight_norm` is deprecated in favor of `torch.nn.utils.parametrizations.weight_norm`.\n",
      "  WeightNorm.apply(module, name, dim)\n",
      "GPU available: True (mps), used: False\n",
      "TPU available: False, using: 0 TPU cores\n",
      "HPU available: False, using: 0 HPUs\n",
      "/Users/macbook/UTILS/anaconda3/envs/phantoms_env/lib/python3.11/site-packages/pytorch_lightning/trainer/setup.py:177: GPU available but not used. You can set it by doing `Trainer(accelerator='gpu')`.\n"
     ]
    },
    {
     "data": {
      "text/plain": [
       "<IPython.core.display.HTML object>"
      ],
      "text/html": [
       "Tracking run with wandb version 0.19.4"
      ]
     },
     "metadata": {},
     "output_type": "display_data"
    },
    {
     "data": {
      "text/plain": [
       "<IPython.core.display.HTML object>"
      ],
      "text/html": [
       "Run data is saved locally in <code>./wandb/run-20250204_142634-lbd8cl65</code>"
      ]
     },
     "metadata": {},
     "output_type": "display_data"
    },
    {
     "data": {
      "text/plain": [
       "<IPython.core.display.HTML object>"
      ],
      "text/html": [
       "Syncing run <strong><a href='https://wandb.ai/jozefov-iocb-prague/new_gnn_retrieval_cut/runs/lbd8cl65' target=\"_blank\">config_skip_connection_bonus_cut_tree_0_2025-02-04_14-26-32</a></strong> to <a href='https://wandb.ai/jozefov-iocb-prague/new_gnn_retrieval_cut' target=\"_blank\">Weights & Biases</a> (<a href='https://wandb.me/developer-guide' target=\"_blank\">docs</a>)<br>"
      ]
     },
     "metadata": {},
     "output_type": "display_data"
    },
    {
     "data": {
      "text/plain": [
       "<IPython.core.display.HTML object>"
      ],
      "text/html": [
       " View project at <a href='https://wandb.ai/jozefov-iocb-prague/new_gnn_retrieval_cut' target=\"_blank\">https://wandb.ai/jozefov-iocb-prague/new_gnn_retrieval_cut</a>"
      ]
     },
     "metadata": {},
     "output_type": "display_data"
    },
    {
     "data": {
      "text/plain": [
       "<IPython.core.display.HTML object>"
      ],
      "text/html": [
       " View run at <a href='https://wandb.ai/jozefov-iocb-prague/new_gnn_retrieval_cut/runs/lbd8cl65' target=\"_blank\">https://wandb.ai/jozefov-iocb-prague/new_gnn_retrieval_cut/runs/lbd8cl65</a>"
      ]
     },
     "metadata": {},
     "output_type": "display_data"
    },
    {
     "name": "stderr",
     "output_type": "stream",
     "text": [
      "\n",
      "  | Name            | Type                        | Params | Mode \n",
      "------------------------------------------------------------------------\n",
      "0 | gcn_layers      | ModuleList                  | 16.6 M | train\n",
      "1 | formula_encoder | Sequential                  | 4.9 K  | train\n",
      "2 | head            | SkipConnectionRetrievalHead | 37.9 M | train\n",
      "3 | loss_fn         | MSELoss                     | 0      | train\n",
      "------------------------------------------------------------------------\n",
      "54.5 M    Trainable params\n",
      "0         Non-trainable params\n",
      "54.5 M    Total params\n",
      "218.140   Total estimated model params size (MB)\n",
      "59        Modules in train mode\n",
      "0         Modules in eval mode\n"
     ]
    },
    {
     "name": "stdout",
     "output_type": "stream",
     "text": [
      "Warning: Some identifiers in the split file are not found in the dataset. Taking intersection.\n",
      "Train dataset size: 82\n",
      "Val dataset size: 6\n"
     ]
    },
    {
     "data": {
      "text/plain": [
       "Sanity Checking: |          | 0/? [00:00<?, ?it/s]"
      ],
      "application/vnd.jupyter.widget-view+json": {
       "version_major": 2,
       "version_minor": 0,
       "model_id": "c88503c2f0e04209a2977333a7a5f799"
      }
     },
     "metadata": {},
     "output_type": "display_data"
    },
    {
     "name": "stderr",
     "output_type": "stream",
     "text": [
      "/Users/macbook/UTILS/anaconda3/envs/phantoms_env/lib/python3.11/site-packages/pytorch_lightning/trainer/connectors/data_connector.py:425: The 'val_dataloader' does not have many workers which may be a bottleneck. Consider increasing the value of the `num_workers` argument` to `num_workers=9` in the `DataLoader` to improve performance.\n",
      "/Users/macbook/UTILS/anaconda3/envs/phantoms_env/lib/python3.11/site-packages/pytorch_lightning/trainer/connectors/data_connector.py:425: The 'train_dataloader' does not have many workers which may be a bottleneck. Consider increasing the value of the `num_workers` argument` to `num_workers=9` in the `DataLoader` to improve performance.\n",
      "/Users/macbook/UTILS/anaconda3/envs/phantoms_env/lib/python3.11/site-packages/pytorch_lightning/loops/fit_loop.py:310: The number of training batches (2) is smaller than the logging interval Trainer(log_every_n_steps=10). Set a lower value for log_every_n_steps if you want to see logs for the training epoch.\n"
     ]
    },
    {
     "data": {
      "text/plain": [
       "Training: |          | 0/? [00:00<?, ?it/s]"
      ],
      "application/vnd.jupyter.widget-view+json": {
       "version_major": 2,
       "version_minor": 0,
       "model_id": "7b535fa4db7f4e068ad7583b320da336"
      }
     },
     "metadata": {},
     "output_type": "display_data"
    },
    {
     "data": {
      "text/plain": [
       "Validation: |          | 0/? [00:00<?, ?it/s]"
      ],
      "application/vnd.jupyter.widget-view+json": {
       "version_major": 2,
       "version_minor": 0,
       "model_id": "45902d8e1a0345df866ae8ee04674b16"
      }
     },
     "metadata": {},
     "output_type": "display_data"
    },
    {
     "data": {
      "text/plain": [
       "Validation: |          | 0/? [00:00<?, ?it/s]"
      ],
      "application/vnd.jupyter.widget-view+json": {
       "version_major": 2,
       "version_minor": 0,
       "model_id": "c657e5aa86144700be8c2738841dc5c4"
      }
     },
     "metadata": {},
     "output_type": "display_data"
    },
    {
     "name": "stderr",
     "output_type": "stream",
     "text": [
      "`Trainer.fit` stopped: `max_epochs=2` reached.\n"
     ]
    },
    {
     "name": "stdout",
     "output_type": "stream",
     "text": [
      "Warning: Some identifiers in the split file are not found in the dataset. Taking intersection.\n",
      "Test dataset size: 17\n"
     ]
    },
    {
     "name": "stderr",
     "output_type": "stream",
     "text": [
      "/Users/macbook/UTILS/anaconda3/envs/phantoms_env/lib/python3.11/site-packages/pytorch_lightning/trainer/connectors/data_connector.py:425: The 'test_dataloader' does not have many workers which may be a bottleneck. Consider increasing the value of the `num_workers` argument` to `num_workers=9` in the `DataLoader` to improve performance.\n"
     ]
    },
    {
     "data": {
      "text/plain": [
       "Testing: |          | 0/? [00:00<?, ?it/s]"
      ],
      "application/vnd.jupyter.widget-view+json": {
       "version_major": 2,
       "version_minor": 0,
       "model_id": "dc3f971fa9a14c6ab270f64ec93c06eb"
      }
     },
     "metadata": {},
     "output_type": "display_data"
    },
    {
     "name": "stdout",
     "output_type": "stream",
     "text": [
      "────────────────────────────────────────────────────────────────────────────────────────────────────────────────────────\n",
      "       Test metric             DataLoader 0\n",
      "────────────────────────────────────────────────────────────────────────────────────────────────────────────────────────\n",
      "     test_hit_rate@1                0.0\n",
      "    test_hit_rate@20               0.25\n",
      "     test_hit_rate@5               0.25\n",
      "        test_loss          0.023733556270599365\n",
      "       test_mces@1                 13.25\n",
      "────────────────────────────────────────────────────────────────────────────────────────────────────────────────────────\n",
      "Model saved to /Users/macbook/CODE/PhantoMS/experiments_run/new_gnn_retrieval_cut/config_skip_connection_bonus_cut_tree_0_2025-02-04_14-26-32/checkpoints/final_model.ckpt\n"
     ]
    },
    {
     "data": {
      "text/plain": [
       "<IPython.core.display.HTML object>"
      ],
      "text/html": []
     },
     "metadata": {},
     "output_type": "display_data"
    },
    {
     "data": {
      "text/plain": [
       "<IPython.core.display.HTML object>"
      ],
      "text/html": [
       "<br>    <style><br>        .wandb-row {<br>            display: flex;<br>            flex-direction: row;<br>            flex-wrap: wrap;<br>            justify-content: flex-start;<br>            width: 100%;<br>        }<br>        .wandb-col {<br>            display: flex;<br>            flex-direction: column;<br>            flex-basis: 100%;<br>            flex: 1;<br>            padding: 10px;<br>        }<br>    </style><br><div class=\"wandb-row\"><div class=\"wandb-col\"><h3>Run history:</h3><br/><table class=\"wandb\"><tr><td>epoch</td><td>▁▅█</td></tr><tr><td>test_hit_rate@1</td><td>▁</td></tr><tr><td>test_hit_rate@20</td><td>▁</td></tr><tr><td>test_hit_rate@5</td><td>▁</td></tr><tr><td>test_loss</td><td>▁</td></tr><tr><td>test_mces@1</td><td>▁</td></tr><tr><td>trainer/global_step</td><td>▁▆█</td></tr><tr><td>val_hit_rate@1</td><td>▁▁</td></tr><tr><td>val_hit_rate@20</td><td>▁▁</td></tr><tr><td>val_hit_rate@5</td><td>▁▁</td></tr><tr><td>val_loss</td><td>▁█</td></tr><tr><td>val_mces@1</td><td>█▁</td></tr></table><br/></div><div class=\"wandb-col\"><h3>Run summary:</h3><br/><table class=\"wandb\"><tr><td>epoch</td><td>2</td></tr><tr><td>test_hit_rate@1</td><td>0</td></tr><tr><td>test_hit_rate@20</td><td>0.25</td></tr><tr><td>test_hit_rate@5</td><td>0.25</td></tr><tr><td>test_loss</td><td>0.02373</td></tr><tr><td>test_mces@1</td><td>13.25</td></tr><tr><td>trainer/global_step</td><td>4</td></tr><tr><td>val_hit_rate@1</td><td>0</td></tr><tr><td>val_hit_rate@20</td><td>0.5</td></tr><tr><td>val_hit_rate@5</td><td>0</td></tr><tr><td>val_loss</td><td>0.02717</td></tr><tr><td>val_mces@1</td><td>10.25</td></tr></table><br/></div></div>"
      ]
     },
     "metadata": {},
     "output_type": "display_data"
    },
    {
     "data": {
      "text/plain": [
       "<IPython.core.display.HTML object>"
      ],
      "text/html": [
       " View run <strong style=\"color:#cdcd00\">config_skip_connection_bonus_cut_tree_0_2025-02-04_14-26-32</strong> at: <a href='https://wandb.ai/jozefov-iocb-prague/new_gnn_retrieval_cut/runs/lbd8cl65' target=\"_blank\">https://wandb.ai/jozefov-iocb-prague/new_gnn_retrieval_cut/runs/lbd8cl65</a><br> View project at: <a href='https://wandb.ai/jozefov-iocb-prague/new_gnn_retrieval_cut' target=\"_blank\">https://wandb.ai/jozefov-iocb-prague/new_gnn_retrieval_cut</a><br>Synced 5 W&B file(s), 0 media file(s), 0 artifact file(s) and 0 other file(s)"
      ]
     },
     "metadata": {},
     "output_type": "display_data"
    },
    {
     "data": {
      "text/plain": [
       "<IPython.core.display.HTML object>"
      ],
      "text/html": [
       "Find logs at: <code>./wandb/run-20250204_142634-lbd8cl65/logs</code>"
      ]
     },
     "metadata": {},
     "output_type": "display_data"
    },
    {
     "name": "stdout",
     "output_type": "stream",
     "text": [
      "Configuration saved to /Users/macbook/CODE/PhantoMS/experiments_run/new_gnn_retrieval_cut/config_skip_connection_bonus_cut_tree_0_2025-02-04_14-26-32/configs/config_skip_connection_bonus.yml\n",
      "\n",
      "Extracting embeddings for /Users/macbook/CODE/PhantoMS/experiments_run/new_gnn_retrieval_cut/config_skip_connection_bonus_cut_tree_0_2025-02-04_14-26-32\n"
     ]
    },
    {
     "name": "stderr",
     "output_type": "stream",
     "text": [
      "/Users/macbook/UTILS/anaconda3/envs/phantoms_env/lib/python3.11/site-packages/torch/nn/utils/weight_norm.py:143: FutureWarning: `torch.nn.utils.weight_norm` is deprecated in favor of `torch.nn.utils.parametrizations.weight_norm`.\n",
      "  WeightNorm.apply(module, name, dim)\n"
     ]
    },
    {
     "name": "stdout",
     "output_type": "stream",
     "text": [
      "Warning: No candidates for 0 SMILES. Skipping them.\n",
      "Total valid indices: 105\n",
      "MSnRetrievalDataset length: 105\n",
      "Warning: Some identifiers in the split file are not found in the dataset. Taking intersection.\n",
      "Test dataset size: 17\n",
      "Embeddings saved to /Users/macbook/CODE/PhantoMS/experiments_run/new_gnn_retrieval_cut/config_skip_connection_bonus_cut_tree_0_2025-02-04_14-26-32/embeddings\n",
      "\n",
      "Running Experiment: config_skip_connection_bonus_cut_tree_1_2025-02-04_14-27-06\n",
      "W&B Project: new_gnn_retrieval_cut\n",
      "Cut Tree Level: 1\n",
      "\n",
      "Starting training for /Users/macbook/CODE/PhantoMS/experiments_run/new_gnn_retrieval_cut/config_skip_connection_bonus_cut_tree_1_2025-02-04_14-27-06\n",
      "Using retrieval task/model.\n",
      "Warning: No candidates for 0 SMILES. Skipping them.\n",
      "Total valid indices: 105\n",
      "MSnRetrievalDataset length: 105\n"
     ]
    },
    {
     "name": "stderr",
     "output_type": "stream",
     "text": [
      "/Users/macbook/UTILS/anaconda3/envs/phantoms_env/lib/python3.11/site-packages/torch/nn/utils/weight_norm.py:143: FutureWarning: `torch.nn.utils.weight_norm` is deprecated in favor of `torch.nn.utils.parametrizations.weight_norm`.\n",
      "  WeightNorm.apply(module, name, dim)\n",
      "GPU available: True (mps), used: False\n",
      "TPU available: False, using: 0 TPU cores\n",
      "HPU available: False, using: 0 HPUs\n",
      "/Users/macbook/UTILS/anaconda3/envs/phantoms_env/lib/python3.11/site-packages/pytorch_lightning/trainer/setup.py:177: GPU available but not used. You can set it by doing `Trainer(accelerator='gpu')`.\n"
     ]
    },
    {
     "data": {
      "text/plain": [
       "<IPython.core.display.HTML object>"
      ],
      "text/html": [
       "Tracking run with wandb version 0.19.4"
      ]
     },
     "metadata": {},
     "output_type": "display_data"
    },
    {
     "data": {
      "text/plain": [
       "<IPython.core.display.HTML object>"
      ],
      "text/html": [
       "Run data is saved locally in <code>./wandb/run-20250204_142709-gt0b7mdw</code>"
      ]
     },
     "metadata": {},
     "output_type": "display_data"
    },
    {
     "data": {
      "text/plain": [
       "<IPython.core.display.HTML object>"
      ],
      "text/html": [
       "Syncing run <strong><a href='https://wandb.ai/jozefov-iocb-prague/new_gnn_retrieval_cut/runs/gt0b7mdw' target=\"_blank\">config_skip_connection_bonus_cut_tree_1_2025-02-04_14-27-06</a></strong> to <a href='https://wandb.ai/jozefov-iocb-prague/new_gnn_retrieval_cut' target=\"_blank\">Weights & Biases</a> (<a href='https://wandb.me/developer-guide' target=\"_blank\">docs</a>)<br>"
      ]
     },
     "metadata": {},
     "output_type": "display_data"
    },
    {
     "data": {
      "text/plain": [
       "<IPython.core.display.HTML object>"
      ],
      "text/html": [
       " View project at <a href='https://wandb.ai/jozefov-iocb-prague/new_gnn_retrieval_cut' target=\"_blank\">https://wandb.ai/jozefov-iocb-prague/new_gnn_retrieval_cut</a>"
      ]
     },
     "metadata": {},
     "output_type": "display_data"
    },
    {
     "data": {
      "text/plain": [
       "<IPython.core.display.HTML object>"
      ],
      "text/html": [
       " View run at <a href='https://wandb.ai/jozefov-iocb-prague/new_gnn_retrieval_cut/runs/gt0b7mdw' target=\"_blank\">https://wandb.ai/jozefov-iocb-prague/new_gnn_retrieval_cut/runs/gt0b7mdw</a>"
      ]
     },
     "metadata": {},
     "output_type": "display_data"
    },
    {
     "name": "stderr",
     "output_type": "stream",
     "text": [
      "\n",
      "  | Name            | Type                        | Params | Mode \n",
      "------------------------------------------------------------------------\n",
      "0 | gcn_layers      | ModuleList                  | 16.6 M | train\n",
      "1 | formula_encoder | Sequential                  | 4.9 K  | train\n",
      "2 | head            | SkipConnectionRetrievalHead | 37.9 M | train\n",
      "3 | loss_fn         | MSELoss                     | 0      | train\n",
      "------------------------------------------------------------------------\n",
      "54.5 M    Trainable params\n",
      "0         Non-trainable params\n",
      "54.5 M    Total params\n",
      "218.140   Total estimated model params size (MB)\n",
      "59        Modules in train mode\n",
      "0         Modules in eval mode\n"
     ]
    },
    {
     "name": "stdout",
     "output_type": "stream",
     "text": [
      "Warning: Some identifiers in the split file are not found in the dataset. Taking intersection.\n",
      "Train dataset size: 82\n",
      "Val dataset size: 6\n"
     ]
    },
    {
     "data": {
      "text/plain": [
       "Sanity Checking: |          | 0/? [00:00<?, ?it/s]"
      ],
      "application/vnd.jupyter.widget-view+json": {
       "version_major": 2,
       "version_minor": 0,
       "model_id": "4860d29a0abd4f08b073fec3b5928c21"
      }
     },
     "metadata": {},
     "output_type": "display_data"
    },
    {
     "name": "stderr",
     "output_type": "stream",
     "text": [
      "/Users/macbook/UTILS/anaconda3/envs/phantoms_env/lib/python3.11/site-packages/pytorch_lightning/trainer/connectors/data_connector.py:425: The 'val_dataloader' does not have many workers which may be a bottleneck. Consider increasing the value of the `num_workers` argument` to `num_workers=9` in the `DataLoader` to improve performance.\n",
      "/Users/macbook/UTILS/anaconda3/envs/phantoms_env/lib/python3.11/site-packages/pytorch_lightning/trainer/connectors/data_connector.py:425: The 'train_dataloader' does not have many workers which may be a bottleneck. Consider increasing the value of the `num_workers` argument` to `num_workers=9` in the `DataLoader` to improve performance.\n",
      "/Users/macbook/UTILS/anaconda3/envs/phantoms_env/lib/python3.11/site-packages/pytorch_lightning/loops/fit_loop.py:310: The number of training batches (2) is smaller than the logging interval Trainer(log_every_n_steps=10). Set a lower value for log_every_n_steps if you want to see logs for the training epoch.\n"
     ]
    },
    {
     "data": {
      "text/plain": [
       "Training: |          | 0/? [00:00<?, ?it/s]"
      ],
      "application/vnd.jupyter.widget-view+json": {
       "version_major": 2,
       "version_minor": 0,
       "model_id": "49d07664763b4bb9b3c52292c72361e7"
      }
     },
     "metadata": {},
     "output_type": "display_data"
    },
    {
     "data": {
      "text/plain": [
       "Validation: |          | 0/? [00:00<?, ?it/s]"
      ],
      "application/vnd.jupyter.widget-view+json": {
       "version_major": 2,
       "version_minor": 0,
       "model_id": "93f79a4df1b241e9ad1cca7f06706683"
      }
     },
     "metadata": {},
     "output_type": "display_data"
    },
    {
     "data": {
      "text/plain": [
       "Validation: |          | 0/? [00:00<?, ?it/s]"
      ],
      "application/vnd.jupyter.widget-view+json": {
       "version_major": 2,
       "version_minor": 0,
       "model_id": "cd3e1db2900f49c3b8c7d1fb3245e551"
      }
     },
     "metadata": {},
     "output_type": "display_data"
    },
    {
     "name": "stderr",
     "output_type": "stream",
     "text": [
      "`Trainer.fit` stopped: `max_epochs=2` reached.\n"
     ]
    },
    {
     "name": "stdout",
     "output_type": "stream",
     "text": [
      "Warning: Some identifiers in the split file are not found in the dataset. Taking intersection.\n",
      "Test dataset size: 17\n"
     ]
    },
    {
     "name": "stderr",
     "output_type": "stream",
     "text": [
      "/Users/macbook/UTILS/anaconda3/envs/phantoms_env/lib/python3.11/site-packages/pytorch_lightning/trainer/connectors/data_connector.py:425: The 'test_dataloader' does not have many workers which may be a bottleneck. Consider increasing the value of the `num_workers` argument` to `num_workers=9` in the `DataLoader` to improve performance.\n"
     ]
    },
    {
     "data": {
      "text/plain": [
       "Testing: |          | 0/? [00:00<?, ?it/s]"
      ],
      "application/vnd.jupyter.widget-view+json": {
       "version_major": 2,
       "version_minor": 0,
       "model_id": "6ebb8aa6ea6e42e5a50a3e56a0827282"
      }
     },
     "metadata": {},
     "output_type": "display_data"
    },
    {
     "name": "stdout",
     "output_type": "stream",
     "text": [
      "────────────────────────────────────────────────────────────────────────────────────────────────────────────────────────\n",
      "       Test metric             DataLoader 0\n",
      "────────────────────────────────────────────────────────────────────────────────────────────────────────────────────────\n",
      "     test_hit_rate@1                0.0\n",
      "    test_hit_rate@20               0.25\n",
      "     test_hit_rate@5                0.0\n",
      "        test_loss           0.0238944161683321\n",
      "       test_mces@1                 10.5\n",
      "────────────────────────────────────────────────────────────────────────────────────────────────────────────────────────\n",
      "Model saved to /Users/macbook/CODE/PhantoMS/experiments_run/new_gnn_retrieval_cut/config_skip_connection_bonus_cut_tree_1_2025-02-04_14-27-06/checkpoints/final_model.ckpt\n"
     ]
    },
    {
     "data": {
      "text/plain": [
       "<IPython.core.display.HTML object>"
      ],
      "text/html": []
     },
     "metadata": {},
     "output_type": "display_data"
    },
    {
     "data": {
      "text/plain": [
       "<IPython.core.display.HTML object>"
      ],
      "text/html": [
       "<br>    <style><br>        .wandb-row {<br>            display: flex;<br>            flex-direction: row;<br>            flex-wrap: wrap;<br>            justify-content: flex-start;<br>            width: 100%;<br>        }<br>        .wandb-col {<br>            display: flex;<br>            flex-direction: column;<br>            flex-basis: 100%;<br>            flex: 1;<br>            padding: 10px;<br>        }<br>    </style><br><div class=\"wandb-row\"><div class=\"wandb-col\"><h3>Run history:</h3><br/><table class=\"wandb\"><tr><td>epoch</td><td>▁▅█</td></tr><tr><td>test_hit_rate@1</td><td>▁</td></tr><tr><td>test_hit_rate@20</td><td>▁</td></tr><tr><td>test_hit_rate@5</td><td>▁</td></tr><tr><td>test_loss</td><td>▁</td></tr><tr><td>test_mces@1</td><td>▁</td></tr><tr><td>trainer/global_step</td><td>▁▆█</td></tr><tr><td>val_hit_rate@1</td><td>▁▁</td></tr><tr><td>val_hit_rate@20</td><td>▁█</td></tr><tr><td>val_hit_rate@5</td><td>▁▁</td></tr><tr><td>val_loss</td><td>▁█</td></tr><tr><td>val_mces@1</td><td>▁█</td></tr></table><br/></div><div class=\"wandb-col\"><h3>Run summary:</h3><br/><table class=\"wandb\"><tr><td>epoch</td><td>2</td></tr><tr><td>test_hit_rate@1</td><td>0</td></tr><tr><td>test_hit_rate@20</td><td>0.25</td></tr><tr><td>test_hit_rate@5</td><td>0</td></tr><tr><td>test_loss</td><td>0.02389</td></tr><tr><td>test_mces@1</td><td>10.5</td></tr><tr><td>trainer/global_step</td><td>4</td></tr><tr><td>val_hit_rate@1</td><td>0</td></tr><tr><td>val_hit_rate@20</td><td>0.5</td></tr><tr><td>val_hit_rate@5</td><td>0</td></tr><tr><td>val_loss</td><td>0.02681</td></tr><tr><td>val_mces@1</td><td>12.75</td></tr></table><br/></div></div>"
      ]
     },
     "metadata": {},
     "output_type": "display_data"
    },
    {
     "data": {
      "text/plain": [
       "<IPython.core.display.HTML object>"
      ],
      "text/html": [
       " View run <strong style=\"color:#cdcd00\">config_skip_connection_bonus_cut_tree_1_2025-02-04_14-27-06</strong> at: <a href='https://wandb.ai/jozefov-iocb-prague/new_gnn_retrieval_cut/runs/gt0b7mdw' target=\"_blank\">https://wandb.ai/jozefov-iocb-prague/new_gnn_retrieval_cut/runs/gt0b7mdw</a><br> View project at: <a href='https://wandb.ai/jozefov-iocb-prague/new_gnn_retrieval_cut' target=\"_blank\">https://wandb.ai/jozefov-iocb-prague/new_gnn_retrieval_cut</a><br>Synced 5 W&B file(s), 0 media file(s), 0 artifact file(s) and 0 other file(s)"
      ]
     },
     "metadata": {},
     "output_type": "display_data"
    },
    {
     "data": {
      "text/plain": [
       "<IPython.core.display.HTML object>"
      ],
      "text/html": [
       "Find logs at: <code>./wandb/run-20250204_142709-gt0b7mdw/logs</code>"
      ]
     },
     "metadata": {},
     "output_type": "display_data"
    },
    {
     "name": "stdout",
     "output_type": "stream",
     "text": [
      "Configuration saved to /Users/macbook/CODE/PhantoMS/experiments_run/new_gnn_retrieval_cut/config_skip_connection_bonus_cut_tree_1_2025-02-04_14-27-06/configs/config_skip_connection_bonus.yml\n",
      "\n",
      "Extracting embeddings for /Users/macbook/CODE/PhantoMS/experiments_run/new_gnn_retrieval_cut/config_skip_connection_bonus_cut_tree_1_2025-02-04_14-27-06\n"
     ]
    },
    {
     "name": "stderr",
     "output_type": "stream",
     "text": [
      "/Users/macbook/UTILS/anaconda3/envs/phantoms_env/lib/python3.11/site-packages/torch/nn/utils/weight_norm.py:143: FutureWarning: `torch.nn.utils.weight_norm` is deprecated in favor of `torch.nn.utils.parametrizations.weight_norm`.\n",
      "  WeightNorm.apply(module, name, dim)\n"
     ]
    },
    {
     "name": "stdout",
     "output_type": "stream",
     "text": [
      "Warning: No candidates for 0 SMILES. Skipping them.\n",
      "Total valid indices: 105\n",
      "MSnRetrievalDataset length: 105\n",
      "Warning: Some identifiers in the split file are not found in the dataset. Taking intersection.\n",
      "Test dataset size: 17\n",
      "Embeddings saved to /Users/macbook/CODE/PhantoMS/experiments_run/new_gnn_retrieval_cut/config_skip_connection_bonus_cut_tree_1_2025-02-04_14-27-06/embeddings\n",
      "\n",
      "Running Experiment: config_skip_connection_bonus_cut_tree_2_2025-02-04_14-27-45\n",
      "W&B Project: new_gnn_retrieval_cut\n",
      "Cut Tree Level: 2\n",
      "\n",
      "Starting training for /Users/macbook/CODE/PhantoMS/experiments_run/new_gnn_retrieval_cut/config_skip_connection_bonus_cut_tree_2_2025-02-04_14-27-45\n",
      "Using retrieval task/model.\n",
      "Warning: No candidates for 0 SMILES. Skipping them.\n",
      "Total valid indices: 105\n",
      "MSnRetrievalDataset length: 105\n"
     ]
    },
    {
     "name": "stderr",
     "output_type": "stream",
     "text": [
      "/Users/macbook/UTILS/anaconda3/envs/phantoms_env/lib/python3.11/site-packages/torch/nn/utils/weight_norm.py:143: FutureWarning: `torch.nn.utils.weight_norm` is deprecated in favor of `torch.nn.utils.parametrizations.weight_norm`.\n",
      "  WeightNorm.apply(module, name, dim)\n",
      "GPU available: True (mps), used: False\n",
      "TPU available: False, using: 0 TPU cores\n",
      "HPU available: False, using: 0 HPUs\n",
      "/Users/macbook/UTILS/anaconda3/envs/phantoms_env/lib/python3.11/site-packages/pytorch_lightning/trainer/setup.py:177: GPU available but not used. You can set it by doing `Trainer(accelerator='gpu')`.\n"
     ]
    },
    {
     "data": {
      "text/plain": [
       "<IPython.core.display.HTML object>"
      ],
      "text/html": [
       "Tracking run with wandb version 0.19.4"
      ]
     },
     "metadata": {},
     "output_type": "display_data"
    },
    {
     "data": {
      "text/plain": [
       "<IPython.core.display.HTML object>"
      ],
      "text/html": [
       "Run data is saved locally in <code>./wandb/run-20250204_142747-o4812o2n</code>"
      ]
     },
     "metadata": {},
     "output_type": "display_data"
    },
    {
     "data": {
      "text/plain": [
       "<IPython.core.display.HTML object>"
      ],
      "text/html": [
       "Syncing run <strong><a href='https://wandb.ai/jozefov-iocb-prague/new_gnn_retrieval_cut/runs/o4812o2n' target=\"_blank\">config_skip_connection_bonus_cut_tree_2_2025-02-04_14-27-45</a></strong> to <a href='https://wandb.ai/jozefov-iocb-prague/new_gnn_retrieval_cut' target=\"_blank\">Weights & Biases</a> (<a href='https://wandb.me/developer-guide' target=\"_blank\">docs</a>)<br>"
      ]
     },
     "metadata": {},
     "output_type": "display_data"
    },
    {
     "data": {
      "text/plain": [
       "<IPython.core.display.HTML object>"
      ],
      "text/html": [
       " View project at <a href='https://wandb.ai/jozefov-iocb-prague/new_gnn_retrieval_cut' target=\"_blank\">https://wandb.ai/jozefov-iocb-prague/new_gnn_retrieval_cut</a>"
      ]
     },
     "metadata": {},
     "output_type": "display_data"
    },
    {
     "data": {
      "text/plain": [
       "<IPython.core.display.HTML object>"
      ],
      "text/html": [
       " View run at <a href='https://wandb.ai/jozefov-iocb-prague/new_gnn_retrieval_cut/runs/o4812o2n' target=\"_blank\">https://wandb.ai/jozefov-iocb-prague/new_gnn_retrieval_cut/runs/o4812o2n</a>"
      ]
     },
     "metadata": {},
     "output_type": "display_data"
    },
    {
     "name": "stderr",
     "output_type": "stream",
     "text": [
      "\n",
      "  | Name            | Type                        | Params | Mode \n",
      "------------------------------------------------------------------------\n",
      "0 | gcn_layers      | ModuleList                  | 16.6 M | train\n",
      "1 | formula_encoder | Sequential                  | 4.9 K  | train\n",
      "2 | head            | SkipConnectionRetrievalHead | 37.9 M | train\n",
      "3 | loss_fn         | MSELoss                     | 0      | train\n",
      "------------------------------------------------------------------------\n",
      "54.5 M    Trainable params\n",
      "0         Non-trainable params\n",
      "54.5 M    Total params\n",
      "218.140   Total estimated model params size (MB)\n",
      "59        Modules in train mode\n",
      "0         Modules in eval mode\n"
     ]
    },
    {
     "name": "stdout",
     "output_type": "stream",
     "text": [
      "Warning: Some identifiers in the split file are not found in the dataset. Taking intersection.\n",
      "Train dataset size: 82\n",
      "Val dataset size: 6\n"
     ]
    },
    {
     "data": {
      "text/plain": [
       "Sanity Checking: |          | 0/? [00:00<?, ?it/s]"
      ],
      "application/vnd.jupyter.widget-view+json": {
       "version_major": 2,
       "version_minor": 0,
       "model_id": "af3ffe321add4b468affc4374ae13615"
      }
     },
     "metadata": {},
     "output_type": "display_data"
    },
    {
     "name": "stderr",
     "output_type": "stream",
     "text": [
      "/Users/macbook/UTILS/anaconda3/envs/phantoms_env/lib/python3.11/site-packages/pytorch_lightning/trainer/connectors/data_connector.py:425: The 'val_dataloader' does not have many workers which may be a bottleneck. Consider increasing the value of the `num_workers` argument` to `num_workers=9` in the `DataLoader` to improve performance.\n",
      "/Users/macbook/UTILS/anaconda3/envs/phantoms_env/lib/python3.11/site-packages/pytorch_lightning/trainer/connectors/data_connector.py:425: The 'train_dataloader' does not have many workers which may be a bottleneck. Consider increasing the value of the `num_workers` argument` to `num_workers=9` in the `DataLoader` to improve performance.\n",
      "/Users/macbook/UTILS/anaconda3/envs/phantoms_env/lib/python3.11/site-packages/pytorch_lightning/loops/fit_loop.py:310: The number of training batches (2) is smaller than the logging interval Trainer(log_every_n_steps=10). Set a lower value for log_every_n_steps if you want to see logs for the training epoch.\n"
     ]
    },
    {
     "data": {
      "text/plain": [
       "Training: |          | 0/? [00:00<?, ?it/s]"
      ],
      "application/vnd.jupyter.widget-view+json": {
       "version_major": 2,
       "version_minor": 0,
       "model_id": "6f46f00feffe4e0399abdf28b32850c8"
      }
     },
     "metadata": {},
     "output_type": "display_data"
    },
    {
     "data": {
      "text/plain": [
       "Validation: |          | 0/? [00:00<?, ?it/s]"
      ],
      "application/vnd.jupyter.widget-view+json": {
       "version_major": 2,
       "version_minor": 0,
       "model_id": "d8301db055034054a67abd09e0aff6d4"
      }
     },
     "metadata": {},
     "output_type": "display_data"
    },
    {
     "data": {
      "text/plain": [
       "Validation: |          | 0/? [00:00<?, ?it/s]"
      ],
      "application/vnd.jupyter.widget-view+json": {
       "version_major": 2,
       "version_minor": 0,
       "model_id": "6e26fc5664c14fdaab5904b577b66b8d"
      }
     },
     "metadata": {},
     "output_type": "display_data"
    },
    {
     "name": "stderr",
     "output_type": "stream",
     "text": [
      "`Trainer.fit` stopped: `max_epochs=2` reached.\n"
     ]
    },
    {
     "name": "stdout",
     "output_type": "stream",
     "text": [
      "Warning: Some identifiers in the split file are not found in the dataset. Taking intersection.\n",
      "Test dataset size: 17\n"
     ]
    },
    {
     "name": "stderr",
     "output_type": "stream",
     "text": [
      "/Users/macbook/UTILS/anaconda3/envs/phantoms_env/lib/python3.11/site-packages/pytorch_lightning/trainer/connectors/data_connector.py:425: The 'test_dataloader' does not have many workers which may be a bottleneck. Consider increasing the value of the `num_workers` argument` to `num_workers=9` in the `DataLoader` to improve performance.\n"
     ]
    },
    {
     "data": {
      "text/plain": [
       "Testing: |          | 0/? [00:00<?, ?it/s]"
      ],
      "application/vnd.jupyter.widget-view+json": {
       "version_major": 2,
       "version_minor": 0,
       "model_id": "5231e0fb76e946b48ac0edddc26e6d08"
      }
     },
     "metadata": {},
     "output_type": "display_data"
    },
    {
     "name": "stdout",
     "output_type": "stream",
     "text": [
      "────────────────────────────────────────────────────────────────────────────────────────────────────────────────────────\n",
      "       Test metric             DataLoader 0\n",
      "────────────────────────────────────────────────────────────────────────────────────────────────────────────────────────\n",
      "     test_hit_rate@1                0.0\n",
      "    test_hit_rate@20               0.25\n",
      "     test_hit_rate@5                0.0\n",
      "        test_loss          0.023616963997483253\n",
      "       test_mces@1                  9.5\n",
      "────────────────────────────────────────────────────────────────────────────────────────────────────────────────────────\n",
      "Model saved to /Users/macbook/CODE/PhantoMS/experiments_run/new_gnn_retrieval_cut/config_skip_connection_bonus_cut_tree_2_2025-02-04_14-27-45/checkpoints/final_model.ckpt\n"
     ]
    },
    {
     "data": {
      "text/plain": [
       "<IPython.core.display.HTML object>"
      ],
      "text/html": []
     },
     "metadata": {},
     "output_type": "display_data"
    },
    {
     "data": {
      "text/plain": [
       "<IPython.core.display.HTML object>"
      ],
      "text/html": [
       "<br>    <style><br>        .wandb-row {<br>            display: flex;<br>            flex-direction: row;<br>            flex-wrap: wrap;<br>            justify-content: flex-start;<br>            width: 100%;<br>        }<br>        .wandb-col {<br>            display: flex;<br>            flex-direction: column;<br>            flex-basis: 100%;<br>            flex: 1;<br>            padding: 10px;<br>        }<br>    </style><br><div class=\"wandb-row\"><div class=\"wandb-col\"><h3>Run history:</h3><br/><table class=\"wandb\"><tr><td>epoch</td><td>▁▅█</td></tr><tr><td>test_hit_rate@1</td><td>▁</td></tr><tr><td>test_hit_rate@20</td><td>▁</td></tr><tr><td>test_hit_rate@5</td><td>▁</td></tr><tr><td>test_loss</td><td>▁</td></tr><tr><td>test_mces@1</td><td>▁</td></tr><tr><td>trainer/global_step</td><td>▁▆█</td></tr><tr><td>val_hit_rate@1</td><td>▁▁</td></tr><tr><td>val_hit_rate@20</td><td>▁█</td></tr><tr><td>val_hit_rate@5</td><td>▁█</td></tr><tr><td>val_loss</td><td>▁█</td></tr><tr><td>val_mces@1</td><td>▁█</td></tr></table><br/></div><div class=\"wandb-col\"><h3>Run summary:</h3><br/><table class=\"wandb\"><tr><td>epoch</td><td>2</td></tr><tr><td>test_hit_rate@1</td><td>0</td></tr><tr><td>test_hit_rate@20</td><td>0.25</td></tr><tr><td>test_hit_rate@5</td><td>0</td></tr><tr><td>test_loss</td><td>0.02362</td></tr><tr><td>test_mces@1</td><td>9.5</td></tr><tr><td>trainer/global_step</td><td>4</td></tr><tr><td>val_hit_rate@1</td><td>0</td></tr><tr><td>val_hit_rate@20</td><td>0.5</td></tr><tr><td>val_hit_rate@5</td><td>0.5</td></tr><tr><td>val_loss</td><td>0.02666</td></tr><tr><td>val_mces@1</td><td>13.75</td></tr></table><br/></div></div>"
      ]
     },
     "metadata": {},
     "output_type": "display_data"
    },
    {
     "data": {
      "text/plain": [
       "<IPython.core.display.HTML object>"
      ],
      "text/html": [
       " View run <strong style=\"color:#cdcd00\">config_skip_connection_bonus_cut_tree_2_2025-02-04_14-27-45</strong> at: <a href='https://wandb.ai/jozefov-iocb-prague/new_gnn_retrieval_cut/runs/o4812o2n' target=\"_blank\">https://wandb.ai/jozefov-iocb-prague/new_gnn_retrieval_cut/runs/o4812o2n</a><br> View project at: <a href='https://wandb.ai/jozefov-iocb-prague/new_gnn_retrieval_cut' target=\"_blank\">https://wandb.ai/jozefov-iocb-prague/new_gnn_retrieval_cut</a><br>Synced 5 W&B file(s), 0 media file(s), 0 artifact file(s) and 0 other file(s)"
      ]
     },
     "metadata": {},
     "output_type": "display_data"
    },
    {
     "data": {
      "text/plain": [
       "<IPython.core.display.HTML object>"
      ],
      "text/html": [
       "Find logs at: <code>./wandb/run-20250204_142747-o4812o2n/logs</code>"
      ]
     },
     "metadata": {},
     "output_type": "display_data"
    },
    {
     "name": "stdout",
     "output_type": "stream",
     "text": [
      "Configuration saved to /Users/macbook/CODE/PhantoMS/experiments_run/new_gnn_retrieval_cut/config_skip_connection_bonus_cut_tree_2_2025-02-04_14-27-45/configs/config_skip_connection_bonus.yml\n",
      "\n",
      "Extracting embeddings for /Users/macbook/CODE/PhantoMS/experiments_run/new_gnn_retrieval_cut/config_skip_connection_bonus_cut_tree_2_2025-02-04_14-27-45\n"
     ]
    },
    {
     "name": "stderr",
     "output_type": "stream",
     "text": [
      "/Users/macbook/UTILS/anaconda3/envs/phantoms_env/lib/python3.11/site-packages/torch/nn/utils/weight_norm.py:143: FutureWarning: `torch.nn.utils.weight_norm` is deprecated in favor of `torch.nn.utils.parametrizations.weight_norm`.\n",
      "  WeightNorm.apply(module, name, dim)\n"
     ]
    },
    {
     "name": "stdout",
     "output_type": "stream",
     "text": [
      "Warning: No candidates for 0 SMILES. Skipping them.\n",
      "Total valid indices: 105\n",
      "MSnRetrievalDataset length: 105\n",
      "Warning: Some identifiers in the split file are not found in the dataset. Taking intersection.\n",
      "Test dataset size: 17\n",
      "Embeddings saved to /Users/macbook/CODE/PhantoMS/experiments_run/new_gnn_retrieval_cut/config_skip_connection_bonus_cut_tree_2_2025-02-04_14-27-45/embeddings\n",
      "\n",
      "Running Experiment: config_skip_connection_bonus_cut_tree_3_2025-02-04_14-28-15\n",
      "W&B Project: new_gnn_retrieval_cut\n",
      "Cut Tree Level: 3\n",
      "\n",
      "Starting training for /Users/macbook/CODE/PhantoMS/experiments_run/new_gnn_retrieval_cut/config_skip_connection_bonus_cut_tree_3_2025-02-04_14-28-15\n",
      "Using retrieval task/model.\n",
      "Warning: No candidates for 0 SMILES. Skipping them.\n",
      "Total valid indices: 105\n",
      "MSnRetrievalDataset length: 105\n"
     ]
    },
    {
     "name": "stderr",
     "output_type": "stream",
     "text": [
      "/Users/macbook/UTILS/anaconda3/envs/phantoms_env/lib/python3.11/site-packages/torch/nn/utils/weight_norm.py:143: FutureWarning: `torch.nn.utils.weight_norm` is deprecated in favor of `torch.nn.utils.parametrizations.weight_norm`.\n",
      "  WeightNorm.apply(module, name, dim)\n",
      "GPU available: True (mps), used: False\n",
      "TPU available: False, using: 0 TPU cores\n",
      "HPU available: False, using: 0 HPUs\n",
      "/Users/macbook/UTILS/anaconda3/envs/phantoms_env/lib/python3.11/site-packages/pytorch_lightning/trainer/setup.py:177: GPU available but not used. You can set it by doing `Trainer(accelerator='gpu')`.\n"
     ]
    },
    {
     "data": {
      "text/plain": [
       "<IPython.core.display.HTML object>"
      ],
      "text/html": [
       "Tracking run with wandb version 0.19.4"
      ]
     },
     "metadata": {},
     "output_type": "display_data"
    },
    {
     "data": {
      "text/plain": [
       "<IPython.core.display.HTML object>"
      ],
      "text/html": [
       "Run data is saved locally in <code>./wandb/run-20250204_142817-6hw5qmd0</code>"
      ]
     },
     "metadata": {},
     "output_type": "display_data"
    },
    {
     "data": {
      "text/plain": [
       "<IPython.core.display.HTML object>"
      ],
      "text/html": [
       "Syncing run <strong><a href='https://wandb.ai/jozefov-iocb-prague/new_gnn_retrieval_cut/runs/6hw5qmd0' target=\"_blank\">config_skip_connection_bonus_cut_tree_3_2025-02-04_14-28-15</a></strong> to <a href='https://wandb.ai/jozefov-iocb-prague/new_gnn_retrieval_cut' target=\"_blank\">Weights & Biases</a> (<a href='https://wandb.me/developer-guide' target=\"_blank\">docs</a>)<br>"
      ]
     },
     "metadata": {},
     "output_type": "display_data"
    },
    {
     "data": {
      "text/plain": [
       "<IPython.core.display.HTML object>"
      ],
      "text/html": [
       " View project at <a href='https://wandb.ai/jozefov-iocb-prague/new_gnn_retrieval_cut' target=\"_blank\">https://wandb.ai/jozefov-iocb-prague/new_gnn_retrieval_cut</a>"
      ]
     },
     "metadata": {},
     "output_type": "display_data"
    },
    {
     "data": {
      "text/plain": [
       "<IPython.core.display.HTML object>"
      ],
      "text/html": [
       " View run at <a href='https://wandb.ai/jozefov-iocb-prague/new_gnn_retrieval_cut/runs/6hw5qmd0' target=\"_blank\">https://wandb.ai/jozefov-iocb-prague/new_gnn_retrieval_cut/runs/6hw5qmd0</a>"
      ]
     },
     "metadata": {},
     "output_type": "display_data"
    },
    {
     "name": "stderr",
     "output_type": "stream",
     "text": [
      "\n",
      "  | Name            | Type                        | Params | Mode \n",
      "------------------------------------------------------------------------\n",
      "0 | gcn_layers      | ModuleList                  | 16.6 M | train\n",
      "1 | formula_encoder | Sequential                  | 4.9 K  | train\n",
      "2 | head            | SkipConnectionRetrievalHead | 37.9 M | train\n",
      "3 | loss_fn         | MSELoss                     | 0      | train\n",
      "------------------------------------------------------------------------\n",
      "54.5 M    Trainable params\n",
      "0         Non-trainable params\n",
      "54.5 M    Total params\n",
      "218.140   Total estimated model params size (MB)\n",
      "59        Modules in train mode\n",
      "0         Modules in eval mode\n"
     ]
    },
    {
     "name": "stdout",
     "output_type": "stream",
     "text": [
      "Warning: Some identifiers in the split file are not found in the dataset. Taking intersection.\n",
      "Train dataset size: 82\n",
      "Val dataset size: 6\n"
     ]
    },
    {
     "data": {
      "text/plain": [
       "Sanity Checking: |          | 0/? [00:00<?, ?it/s]"
      ],
      "application/vnd.jupyter.widget-view+json": {
       "version_major": 2,
       "version_minor": 0,
       "model_id": "40e8e8de347c4e3ebf9d3f19131b31f5"
      }
     },
     "metadata": {},
     "output_type": "display_data"
    },
    {
     "name": "stderr",
     "output_type": "stream",
     "text": [
      "/Users/macbook/UTILS/anaconda3/envs/phantoms_env/lib/python3.11/site-packages/pytorch_lightning/trainer/connectors/data_connector.py:425: The 'val_dataloader' does not have many workers which may be a bottleneck. Consider increasing the value of the `num_workers` argument` to `num_workers=9` in the `DataLoader` to improve performance.\n",
      "/Users/macbook/UTILS/anaconda3/envs/phantoms_env/lib/python3.11/site-packages/pytorch_lightning/trainer/connectors/data_connector.py:425: The 'train_dataloader' does not have many workers which may be a bottleneck. Consider increasing the value of the `num_workers` argument` to `num_workers=9` in the `DataLoader` to improve performance.\n",
      "/Users/macbook/UTILS/anaconda3/envs/phantoms_env/lib/python3.11/site-packages/pytorch_lightning/loops/fit_loop.py:310: The number of training batches (2) is smaller than the logging interval Trainer(log_every_n_steps=10). Set a lower value for log_every_n_steps if you want to see logs for the training epoch.\n"
     ]
    },
    {
     "data": {
      "text/plain": [
       "Training: |          | 0/? [00:00<?, ?it/s]"
      ],
      "application/vnd.jupyter.widget-view+json": {
       "version_major": 2,
       "version_minor": 0,
       "model_id": "3b22d78e7e6b474494772884764fd986"
      }
     },
     "metadata": {},
     "output_type": "display_data"
    },
    {
     "data": {
      "text/plain": [
       "Validation: |          | 0/? [00:00<?, ?it/s]"
      ],
      "application/vnd.jupyter.widget-view+json": {
       "version_major": 2,
       "version_minor": 0,
       "model_id": "deecc7c5afc04d6f8676b4be9b1ea9c0"
      }
     },
     "metadata": {},
     "output_type": "display_data"
    },
    {
     "data": {
      "text/plain": [
       "Validation: |          | 0/? [00:00<?, ?it/s]"
      ],
      "application/vnd.jupyter.widget-view+json": {
       "version_major": 2,
       "version_minor": 0,
       "model_id": "d4643c6ad38c41bf9bf4b084ac3b6a27"
      }
     },
     "metadata": {},
     "output_type": "display_data"
    },
    {
     "name": "stderr",
     "output_type": "stream",
     "text": [
      "`Trainer.fit` stopped: `max_epochs=2` reached.\n"
     ]
    },
    {
     "name": "stdout",
     "output_type": "stream",
     "text": [
      "Warning: Some identifiers in the split file are not found in the dataset. Taking intersection.\n",
      "Test dataset size: 17\n"
     ]
    },
    {
     "name": "stderr",
     "output_type": "stream",
     "text": [
      "/Users/macbook/UTILS/anaconda3/envs/phantoms_env/lib/python3.11/site-packages/pytorch_lightning/trainer/connectors/data_connector.py:425: The 'test_dataloader' does not have many workers which may be a bottleneck. Consider increasing the value of the `num_workers` argument` to `num_workers=9` in the `DataLoader` to improve performance.\n"
     ]
    },
    {
     "data": {
      "text/plain": [
       "Testing: |          | 0/? [00:00<?, ?it/s]"
      ],
      "application/vnd.jupyter.widget-view+json": {
       "version_major": 2,
       "version_minor": 0,
       "model_id": "f1cda352973f430f848ce28c2dc0638b"
      }
     },
     "metadata": {},
     "output_type": "display_data"
    },
    {
     "name": "stdout",
     "output_type": "stream",
     "text": [
      "────────────────────────────────────────────────────────────────────────────────────────────────────────────────────────\n",
      "       Test metric             DataLoader 0\n",
      "────────────────────────────────────────────────────────────────────────────────────────────────────────────────────────\n",
      "     test_hit_rate@1                0.0\n",
      "    test_hit_rate@20               0.25\n",
      "     test_hit_rate@5                0.0\n",
      "        test_loss          0.023725509643554688\n",
      "       test_mces@1                 12.5\n",
      "────────────────────────────────────────────────────────────────────────────────────────────────────────────────────────\n",
      "Model saved to /Users/macbook/CODE/PhantoMS/experiments_run/new_gnn_retrieval_cut/config_skip_connection_bonus_cut_tree_3_2025-02-04_14-28-15/checkpoints/final_model.ckpt\n"
     ]
    },
    {
     "data": {
      "text/plain": [
       "<IPython.core.display.HTML object>"
      ],
      "text/html": []
     },
     "metadata": {},
     "output_type": "display_data"
    },
    {
     "data": {
      "text/plain": [
       "<IPython.core.display.HTML object>"
      ],
      "text/html": [
       "<br>    <style><br>        .wandb-row {<br>            display: flex;<br>            flex-direction: row;<br>            flex-wrap: wrap;<br>            justify-content: flex-start;<br>            width: 100%;<br>        }<br>        .wandb-col {<br>            display: flex;<br>            flex-direction: column;<br>            flex-basis: 100%;<br>            flex: 1;<br>            padding: 10px;<br>        }<br>    </style><br><div class=\"wandb-row\"><div class=\"wandb-col\"><h3>Run history:</h3><br/><table class=\"wandb\"><tr><td>epoch</td><td>▁▅█</td></tr><tr><td>test_hit_rate@1</td><td>▁</td></tr><tr><td>test_hit_rate@20</td><td>▁</td></tr><tr><td>test_hit_rate@5</td><td>▁</td></tr><tr><td>test_loss</td><td>▁</td></tr><tr><td>test_mces@1</td><td>▁</td></tr><tr><td>trainer/global_step</td><td>▁▆█</td></tr><tr><td>val_hit_rate@1</td><td>▁▁</td></tr><tr><td>val_hit_rate@20</td><td>▁█</td></tr><tr><td>val_hit_rate@5</td><td>▁█</td></tr><tr><td>val_loss</td><td>▁█</td></tr><tr><td>val_mces@1</td><td>█▁</td></tr></table><br/></div><div class=\"wandb-col\"><h3>Run summary:</h3><br/><table class=\"wandb\"><tr><td>epoch</td><td>2</td></tr><tr><td>test_hit_rate@1</td><td>0</td></tr><tr><td>test_hit_rate@20</td><td>0.25</td></tr><tr><td>test_hit_rate@5</td><td>0</td></tr><tr><td>test_loss</td><td>0.02373</td></tr><tr><td>test_mces@1</td><td>12.5</td></tr><tr><td>trainer/global_step</td><td>4</td></tr><tr><td>val_hit_rate@1</td><td>0</td></tr><tr><td>val_hit_rate@20</td><td>0.5</td></tr><tr><td>val_hit_rate@5</td><td>0.5</td></tr><tr><td>val_loss</td><td>0.02639</td></tr><tr><td>val_mces@1</td><td>9.75</td></tr></table><br/></div></div>"
      ]
     },
     "metadata": {},
     "output_type": "display_data"
    },
    {
     "data": {
      "text/plain": [
       "<IPython.core.display.HTML object>"
      ],
      "text/html": [
       " View run <strong style=\"color:#cdcd00\">config_skip_connection_bonus_cut_tree_3_2025-02-04_14-28-15</strong> at: <a href='https://wandb.ai/jozefov-iocb-prague/new_gnn_retrieval_cut/runs/6hw5qmd0' target=\"_blank\">https://wandb.ai/jozefov-iocb-prague/new_gnn_retrieval_cut/runs/6hw5qmd0</a><br> View project at: <a href='https://wandb.ai/jozefov-iocb-prague/new_gnn_retrieval_cut' target=\"_blank\">https://wandb.ai/jozefov-iocb-prague/new_gnn_retrieval_cut</a><br>Synced 5 W&B file(s), 0 media file(s), 0 artifact file(s) and 0 other file(s)"
      ]
     },
     "metadata": {},
     "output_type": "display_data"
    },
    {
     "data": {
      "text/plain": [
       "<IPython.core.display.HTML object>"
      ],
      "text/html": [
       "Find logs at: <code>./wandb/run-20250204_142817-6hw5qmd0/logs</code>"
      ]
     },
     "metadata": {},
     "output_type": "display_data"
    },
    {
     "name": "stdout",
     "output_type": "stream",
     "text": [
      "Configuration saved to /Users/macbook/CODE/PhantoMS/experiments_run/new_gnn_retrieval_cut/config_skip_connection_bonus_cut_tree_3_2025-02-04_14-28-15/configs/config_skip_connection_bonus.yml\n",
      "\n",
      "Extracting embeddings for /Users/macbook/CODE/PhantoMS/experiments_run/new_gnn_retrieval_cut/config_skip_connection_bonus_cut_tree_3_2025-02-04_14-28-15\n"
     ]
    },
    {
     "name": "stderr",
     "output_type": "stream",
     "text": [
      "/Users/macbook/UTILS/anaconda3/envs/phantoms_env/lib/python3.11/site-packages/torch/nn/utils/weight_norm.py:143: FutureWarning: `torch.nn.utils.weight_norm` is deprecated in favor of `torch.nn.utils.parametrizations.weight_norm`.\n",
      "  WeightNorm.apply(module, name, dim)\n"
     ]
    },
    {
     "name": "stdout",
     "output_type": "stream",
     "text": [
      "Warning: No candidates for 0 SMILES. Skipping them.\n",
      "Total valid indices: 105\n",
      "MSnRetrievalDataset length: 105\n",
      "Warning: Some identifiers in the split file are not found in the dataset. Taking intersection.\n",
      "Test dataset size: 17\n",
      "Embeddings saved to /Users/macbook/CODE/PhantoMS/experiments_run/new_gnn_retrieval_cut/config_skip_connection_bonus_cut_tree_3_2025-02-04_14-28-15/embeddings\n",
      "\n",
      "Running Experiment: config_skip_connection_dreams_cut_tree_0_2025-02-04_14-28-44\n",
      "W&B Project: new_gnn_retrieval_cut\n",
      "Cut Tree Level: 0\n",
      "\n",
      "Starting training for /Users/macbook/CODE/PhantoMS/experiments_run/new_gnn_retrieval_cut/config_skip_connection_dreams_cut_tree_0_2025-02-04_14-28-44\n",
      "Using retrieval task/model.\n",
      "Warning: No candidates for 0 SMILES. Skipping them.\n",
      "Total valid indices: 105\n",
      "MSnRetrievalDataset length: 105\n"
     ]
    },
    {
     "name": "stderr",
     "output_type": "stream",
     "text": [
      "/Users/macbook/UTILS/anaconda3/envs/phantoms_env/lib/python3.11/site-packages/torch/nn/utils/weight_norm.py:143: FutureWarning: `torch.nn.utils.weight_norm` is deprecated in favor of `torch.nn.utils.parametrizations.weight_norm`.\n",
      "  WeightNorm.apply(module, name, dim)\n",
      "GPU available: True (mps), used: False\n",
      "TPU available: False, using: 0 TPU cores\n",
      "HPU available: False, using: 0 HPUs\n",
      "/Users/macbook/UTILS/anaconda3/envs/phantoms_env/lib/python3.11/site-packages/pytorch_lightning/trainer/setup.py:177: GPU available but not used. You can set it by doing `Trainer(accelerator='gpu')`.\n"
     ]
    },
    {
     "data": {
      "text/plain": [
       "<IPython.core.display.HTML object>"
      ],
      "text/html": [
       "Tracking run with wandb version 0.19.4"
      ]
     },
     "metadata": {},
     "output_type": "display_data"
    },
    {
     "data": {
      "text/plain": [
       "<IPython.core.display.HTML object>"
      ],
      "text/html": [
       "Run data is saved locally in <code>./wandb/run-20250204_142904-joh0p8re</code>"
      ]
     },
     "metadata": {},
     "output_type": "display_data"
    },
    {
     "data": {
      "text/plain": [
       "<IPython.core.display.HTML object>"
      ],
      "text/html": [
       "Syncing run <strong><a href='https://wandb.ai/jozefov-iocb-prague/new_gnn_retrieval_cut/runs/joh0p8re' target=\"_blank\">config_skip_connection_dreams_cut_tree_0_2025-02-04_14-28-44</a></strong> to <a href='https://wandb.ai/jozefov-iocb-prague/new_gnn_retrieval_cut' target=\"_blank\">Weights & Biases</a> (<a href='https://wandb.me/developer-guide' target=\"_blank\">docs</a>)<br>"
      ]
     },
     "metadata": {},
     "output_type": "display_data"
    },
    {
     "data": {
      "text/plain": [
       "<IPython.core.display.HTML object>"
      ],
      "text/html": [
       " View project at <a href='https://wandb.ai/jozefov-iocb-prague/new_gnn_retrieval_cut' target=\"_blank\">https://wandb.ai/jozefov-iocb-prague/new_gnn_retrieval_cut</a>"
      ]
     },
     "metadata": {},
     "output_type": "display_data"
    },
    {
     "data": {
      "text/plain": [
       "<IPython.core.display.HTML object>"
      ],
      "text/html": [
       " View run at <a href='https://wandb.ai/jozefov-iocb-prague/new_gnn_retrieval_cut/runs/joh0p8re' target=\"_blank\">https://wandb.ai/jozefov-iocb-prague/new_gnn_retrieval_cut/runs/joh0p8re</a>"
      ]
     },
     "metadata": {},
     "output_type": "display_data"
    },
    {
     "name": "stderr",
     "output_type": "stream",
     "text": [
      "\n",
      "  | Name       | Type                        | Params | Mode \n",
      "-------------------------------------------------------------------\n",
      "0 | gcn_layers | ModuleList                  | 10.5 M | train\n",
      "1 | head       | SkipConnectionRetrievalHead | 37.8 M | train\n",
      "2 | loss_fn    | MSELoss                     | 0      | train\n",
      "-------------------------------------------------------------------\n",
      "48.3 M    Trainable params\n",
      "0         Non-trainable params\n",
      "48.3 M    Total params\n",
      "193.217   Total estimated model params size (MB)\n",
      "54        Modules in train mode\n",
      "0         Modules in eval mode\n"
     ]
    },
    {
     "name": "stdout",
     "output_type": "stream",
     "text": [
      "Warning: Some identifiers in the split file are not found in the dataset. Taking intersection.\n",
      "Train dataset size: 82\n",
      "Val dataset size: 6\n"
     ]
    },
    {
     "data": {
      "text/plain": [
       "Sanity Checking: |          | 0/? [00:00<?, ?it/s]"
      ],
      "application/vnd.jupyter.widget-view+json": {
       "version_major": 2,
       "version_minor": 0,
       "model_id": "8928e04a8bfd452d89c2a398a089517d"
      }
     },
     "metadata": {},
     "output_type": "display_data"
    },
    {
     "name": "stderr",
     "output_type": "stream",
     "text": [
      "/Users/macbook/UTILS/anaconda3/envs/phantoms_env/lib/python3.11/site-packages/pytorch_lightning/trainer/connectors/data_connector.py:425: The 'val_dataloader' does not have many workers which may be a bottleneck. Consider increasing the value of the `num_workers` argument` to `num_workers=9` in the `DataLoader` to improve performance.\n",
      "/Users/macbook/UTILS/anaconda3/envs/phantoms_env/lib/python3.11/site-packages/pytorch_lightning/trainer/connectors/data_connector.py:425: The 'train_dataloader' does not have many workers which may be a bottleneck. Consider increasing the value of the `num_workers` argument` to `num_workers=9` in the `DataLoader` to improve performance.\n",
      "/Users/macbook/UTILS/anaconda3/envs/phantoms_env/lib/python3.11/site-packages/pytorch_lightning/loops/fit_loop.py:310: The number of training batches (2) is smaller than the logging interval Trainer(log_every_n_steps=10). Set a lower value for log_every_n_steps if you want to see logs for the training epoch.\n"
     ]
    },
    {
     "data": {
      "text/plain": [
       "Training: |          | 0/? [00:00<?, ?it/s]"
      ],
      "application/vnd.jupyter.widget-view+json": {
       "version_major": 2,
       "version_minor": 0,
       "model_id": "3f2b2e1d5bab4f2ab95f4e321789840a"
      }
     },
     "metadata": {},
     "output_type": "display_data"
    },
    {
     "data": {
      "text/plain": [
       "Validation: |          | 0/? [00:00<?, ?it/s]"
      ],
      "application/vnd.jupyter.widget-view+json": {
       "version_major": 2,
       "version_minor": 0,
       "model_id": "500e02c714a24aaeaffd29770b5d333c"
      }
     },
     "metadata": {},
     "output_type": "display_data"
    },
    {
     "data": {
      "text/plain": [
       "Validation: |          | 0/? [00:00<?, ?it/s]"
      ],
      "application/vnd.jupyter.widget-view+json": {
       "version_major": 2,
       "version_minor": 0,
       "model_id": "713f2c20eca74f75a45627fcac882756"
      }
     },
     "metadata": {},
     "output_type": "display_data"
    },
    {
     "name": "stderr",
     "output_type": "stream",
     "text": [
      "`Trainer.fit` stopped: `max_epochs=2` reached.\n"
     ]
    },
    {
     "name": "stdout",
     "output_type": "stream",
     "text": [
      "Warning: Some identifiers in the split file are not found in the dataset. Taking intersection.\n",
      "Test dataset size: 17\n"
     ]
    },
    {
     "name": "stderr",
     "output_type": "stream",
     "text": [
      "/Users/macbook/UTILS/anaconda3/envs/phantoms_env/lib/python3.11/site-packages/pytorch_lightning/trainer/connectors/data_connector.py:425: The 'test_dataloader' does not have many workers which may be a bottleneck. Consider increasing the value of the `num_workers` argument` to `num_workers=9` in the `DataLoader` to improve performance.\n"
     ]
    },
    {
     "data": {
      "text/plain": [
       "Testing: |          | 0/? [00:00<?, ?it/s]"
      ],
      "application/vnd.jupyter.widget-view+json": {
       "version_major": 2,
       "version_minor": 0,
       "model_id": "4452afdc0ec64299961d168a4352b83d"
      }
     },
     "metadata": {},
     "output_type": "display_data"
    },
    {
     "name": "stdout",
     "output_type": "stream",
     "text": [
      "────────────────────────────────────────────────────────────────────────────────────────────────────────────────────────\n",
      "       Test metric             DataLoader 0\n",
      "────────────────────────────────────────────────────────────────────────────────────────────────────────────────────────\n",
      "     test_hit_rate@1                0.0\n",
      "    test_hit_rate@20                0.5\n",
      "     test_hit_rate@5                0.0\n",
      "        test_loss          0.026544000953435898\n",
      "       test_mces@1                 26.75\n",
      "────────────────────────────────────────────────────────────────────────────────────────────────────────────────────────\n",
      "Model saved to /Users/macbook/CODE/PhantoMS/experiments_run/new_gnn_retrieval_cut/config_skip_connection_dreams_cut_tree_0_2025-02-04_14-28-44/checkpoints/final_model.ckpt\n"
     ]
    },
    {
     "data": {
      "text/plain": [
       "<IPython.core.display.HTML object>"
      ],
      "text/html": []
     },
     "metadata": {},
     "output_type": "display_data"
    },
    {
     "data": {
      "text/plain": [
       "<IPython.core.display.HTML object>"
      ],
      "text/html": [
       "<br>    <style><br>        .wandb-row {<br>            display: flex;<br>            flex-direction: row;<br>            flex-wrap: wrap;<br>            justify-content: flex-start;<br>            width: 100%;<br>        }<br>        .wandb-col {<br>            display: flex;<br>            flex-direction: column;<br>            flex-basis: 100%;<br>            flex: 1;<br>            padding: 10px;<br>        }<br>    </style><br><div class=\"wandb-row\"><div class=\"wandb-col\"><h3>Run history:</h3><br/><table class=\"wandb\"><tr><td>epoch</td><td>▁▅█</td></tr><tr><td>test_hit_rate@1</td><td>▁</td></tr><tr><td>test_hit_rate@20</td><td>▁</td></tr><tr><td>test_hit_rate@5</td><td>▁</td></tr><tr><td>test_loss</td><td>▁</td></tr><tr><td>test_mces@1</td><td>▁</td></tr><tr><td>trainer/global_step</td><td>▁▆█</td></tr><tr><td>val_hit_rate@1</td><td>█▁</td></tr><tr><td>val_hit_rate@20</td><td>█▁</td></tr><tr><td>val_hit_rate@5</td><td>█▁</td></tr><tr><td>val_loss</td><td>▁█</td></tr><tr><td>val_mces@1</td><td>▁█</td></tr></table><br/></div><div class=\"wandb-col\"><h3>Run summary:</h3><br/><table class=\"wandb\"><tr><td>epoch</td><td>2</td></tr><tr><td>test_hit_rate@1</td><td>0</td></tr><tr><td>test_hit_rate@20</td><td>0.5</td></tr><tr><td>test_hit_rate@5</td><td>0</td></tr><tr><td>test_loss</td><td>0.02654</td></tr><tr><td>test_mces@1</td><td>26.75</td></tr><tr><td>trainer/global_step</td><td>4</td></tr><tr><td>val_hit_rate@1</td><td>0</td></tr><tr><td>val_hit_rate@20</td><td>0.5</td></tr><tr><td>val_hit_rate@5</td><td>0</td></tr><tr><td>val_loss</td><td>0.03136</td></tr><tr><td>val_mces@1</td><td>38.75</td></tr></table><br/></div></div>"
      ]
     },
     "metadata": {},
     "output_type": "display_data"
    },
    {
     "data": {
      "text/plain": [
       "<IPython.core.display.HTML object>"
      ],
      "text/html": [
       " View run <strong style=\"color:#cdcd00\">config_skip_connection_dreams_cut_tree_0_2025-02-04_14-28-44</strong> at: <a href='https://wandb.ai/jozefov-iocb-prague/new_gnn_retrieval_cut/runs/joh0p8re' target=\"_blank\">https://wandb.ai/jozefov-iocb-prague/new_gnn_retrieval_cut/runs/joh0p8re</a><br> View project at: <a href='https://wandb.ai/jozefov-iocb-prague/new_gnn_retrieval_cut' target=\"_blank\">https://wandb.ai/jozefov-iocb-prague/new_gnn_retrieval_cut</a><br>Synced 5 W&B file(s), 0 media file(s), 0 artifact file(s) and 0 other file(s)"
      ]
     },
     "metadata": {},
     "output_type": "display_data"
    },
    {
     "data": {
      "text/plain": [
       "<IPython.core.display.HTML object>"
      ],
      "text/html": [
       "Find logs at: <code>./wandb/run-20250204_142904-joh0p8re/logs</code>"
      ]
     },
     "metadata": {},
     "output_type": "display_data"
    },
    {
     "name": "stdout",
     "output_type": "stream",
     "text": [
      "Configuration saved to /Users/macbook/CODE/PhantoMS/experiments_run/new_gnn_retrieval_cut/config_skip_connection_dreams_cut_tree_0_2025-02-04_14-28-44/configs/config_skip_connection_dreams.yml\n",
      "\n",
      "Extracting embeddings for /Users/macbook/CODE/PhantoMS/experiments_run/new_gnn_retrieval_cut/config_skip_connection_dreams_cut_tree_0_2025-02-04_14-28-44\n"
     ]
    },
    {
     "name": "stderr",
     "output_type": "stream",
     "text": [
      "/Users/macbook/UTILS/anaconda3/envs/phantoms_env/lib/python3.11/site-packages/torch/nn/utils/weight_norm.py:143: FutureWarning: `torch.nn.utils.weight_norm` is deprecated in favor of `torch.nn.utils.parametrizations.weight_norm`.\n",
      "  WeightNorm.apply(module, name, dim)\n"
     ]
    },
    {
     "name": "stdout",
     "output_type": "stream",
     "text": [
      "Warning: No candidates for 0 SMILES. Skipping them.\n",
      "Total valid indices: 105\n",
      "MSnRetrievalDataset length: 105\n",
      "Warning: Some identifiers in the split file are not found in the dataset. Taking intersection.\n",
      "Test dataset size: 17\n",
      "Embeddings saved to /Users/macbook/CODE/PhantoMS/experiments_run/new_gnn_retrieval_cut/config_skip_connection_dreams_cut_tree_0_2025-02-04_14-28-44/embeddings\n",
      "\n",
      "Running Experiment: config_skip_connection_dreams_cut_tree_1_2025-02-04_14-29-36\n",
      "W&B Project: new_gnn_retrieval_cut\n",
      "Cut Tree Level: 1\n",
      "\n",
      "Starting training for /Users/macbook/CODE/PhantoMS/experiments_run/new_gnn_retrieval_cut/config_skip_connection_dreams_cut_tree_1_2025-02-04_14-29-36\n",
      "Using retrieval task/model.\n",
      "Warning: No candidates for 0 SMILES. Skipping them.\n",
      "Total valid indices: 105\n",
      "MSnRetrievalDataset length: 105\n"
     ]
    },
    {
     "name": "stderr",
     "output_type": "stream",
     "text": [
      "/Users/macbook/UTILS/anaconda3/envs/phantoms_env/lib/python3.11/site-packages/torch/nn/utils/weight_norm.py:143: FutureWarning: `torch.nn.utils.weight_norm` is deprecated in favor of `torch.nn.utils.parametrizations.weight_norm`.\n",
      "  WeightNorm.apply(module, name, dim)\n",
      "GPU available: True (mps), used: False\n",
      "TPU available: False, using: 0 TPU cores\n",
      "HPU available: False, using: 0 HPUs\n",
      "/Users/macbook/UTILS/anaconda3/envs/phantoms_env/lib/python3.11/site-packages/pytorch_lightning/trainer/setup.py:177: GPU available but not used. You can set it by doing `Trainer(accelerator='gpu')`.\n"
     ]
    },
    {
     "data": {
      "text/plain": [
       "<IPython.core.display.HTML object>"
      ],
      "text/html": [
       "Tracking run with wandb version 0.19.4"
      ]
     },
     "metadata": {},
     "output_type": "display_data"
    },
    {
     "data": {
      "text/plain": [
       "<IPython.core.display.HTML object>"
      ],
      "text/html": [
       "Run data is saved locally in <code>./wandb/run-20250204_142955-e3t25pdt</code>"
      ]
     },
     "metadata": {},
     "output_type": "display_data"
    },
    {
     "data": {
      "text/plain": [
       "<IPython.core.display.HTML object>"
      ],
      "text/html": [
       "Syncing run <strong><a href='https://wandb.ai/jozefov-iocb-prague/new_gnn_retrieval_cut/runs/e3t25pdt' target=\"_blank\">config_skip_connection_dreams_cut_tree_1_2025-02-04_14-29-36</a></strong> to <a href='https://wandb.ai/jozefov-iocb-prague/new_gnn_retrieval_cut' target=\"_blank\">Weights & Biases</a> (<a href='https://wandb.me/developer-guide' target=\"_blank\">docs</a>)<br>"
      ]
     },
     "metadata": {},
     "output_type": "display_data"
    },
    {
     "data": {
      "text/plain": [
       "<IPython.core.display.HTML object>"
      ],
      "text/html": [
       " View project at <a href='https://wandb.ai/jozefov-iocb-prague/new_gnn_retrieval_cut' target=\"_blank\">https://wandb.ai/jozefov-iocb-prague/new_gnn_retrieval_cut</a>"
      ]
     },
     "metadata": {},
     "output_type": "display_data"
    },
    {
     "data": {
      "text/plain": [
       "<IPython.core.display.HTML object>"
      ],
      "text/html": [
       " View run at <a href='https://wandb.ai/jozefov-iocb-prague/new_gnn_retrieval_cut/runs/e3t25pdt' target=\"_blank\">https://wandb.ai/jozefov-iocb-prague/new_gnn_retrieval_cut/runs/e3t25pdt</a>"
      ]
     },
     "metadata": {},
     "output_type": "display_data"
    },
    {
     "name": "stderr",
     "output_type": "stream",
     "text": [
      "\n",
      "  | Name       | Type                        | Params | Mode \n",
      "-------------------------------------------------------------------\n",
      "0 | gcn_layers | ModuleList                  | 10.5 M | train\n",
      "1 | head       | SkipConnectionRetrievalHead | 37.8 M | train\n",
      "2 | loss_fn    | MSELoss                     | 0      | train\n",
      "-------------------------------------------------------------------\n",
      "48.3 M    Trainable params\n",
      "0         Non-trainable params\n",
      "48.3 M    Total params\n",
      "193.217   Total estimated model params size (MB)\n",
      "54        Modules in train mode\n",
      "0         Modules in eval mode\n"
     ]
    },
    {
     "name": "stdout",
     "output_type": "stream",
     "text": [
      "Warning: Some identifiers in the split file are not found in the dataset. Taking intersection.\n",
      "Train dataset size: 82\n",
      "Val dataset size: 6\n"
     ]
    },
    {
     "data": {
      "text/plain": [
       "Sanity Checking: |          | 0/? [00:00<?, ?it/s]"
      ],
      "application/vnd.jupyter.widget-view+json": {
       "version_major": 2,
       "version_minor": 0,
       "model_id": "3081e5e8b80843d7820d41a8ff82e752"
      }
     },
     "metadata": {},
     "output_type": "display_data"
    },
    {
     "name": "stderr",
     "output_type": "stream",
     "text": [
      "/Users/macbook/UTILS/anaconda3/envs/phantoms_env/lib/python3.11/site-packages/pytorch_lightning/trainer/connectors/data_connector.py:425: The 'val_dataloader' does not have many workers which may be a bottleneck. Consider increasing the value of the `num_workers` argument` to `num_workers=9` in the `DataLoader` to improve performance.\n",
      "/Users/macbook/UTILS/anaconda3/envs/phantoms_env/lib/python3.11/site-packages/pytorch_lightning/trainer/connectors/data_connector.py:425: The 'train_dataloader' does not have many workers which may be a bottleneck. Consider increasing the value of the `num_workers` argument` to `num_workers=9` in the `DataLoader` to improve performance.\n",
      "/Users/macbook/UTILS/anaconda3/envs/phantoms_env/lib/python3.11/site-packages/pytorch_lightning/loops/fit_loop.py:310: The number of training batches (2) is smaller than the logging interval Trainer(log_every_n_steps=10). Set a lower value for log_every_n_steps if you want to see logs for the training epoch.\n"
     ]
    },
    {
     "data": {
      "text/plain": [
       "Training: |          | 0/? [00:00<?, ?it/s]"
      ],
      "application/vnd.jupyter.widget-view+json": {
       "version_major": 2,
       "version_minor": 0,
       "model_id": "36b2090b6e034b699967d52f4dd6d5b4"
      }
     },
     "metadata": {},
     "output_type": "display_data"
    },
    {
     "data": {
      "text/plain": [
       "Validation: |          | 0/? [00:00<?, ?it/s]"
      ],
      "application/vnd.jupyter.widget-view+json": {
       "version_major": 2,
       "version_minor": 0,
       "model_id": "b3e451df7cfd49a38ee65d9ce15c2603"
      }
     },
     "metadata": {},
     "output_type": "display_data"
    },
    {
     "data": {
      "text/plain": [
       "Validation: |          | 0/? [00:00<?, ?it/s]"
      ],
      "application/vnd.jupyter.widget-view+json": {
       "version_major": 2,
       "version_minor": 0,
       "model_id": "641d09f09bd7499a83683ff38ddb112d"
      }
     },
     "metadata": {},
     "output_type": "display_data"
    },
    {
     "name": "stderr",
     "output_type": "stream",
     "text": [
      "`Trainer.fit` stopped: `max_epochs=2` reached.\n"
     ]
    },
    {
     "name": "stdout",
     "output_type": "stream",
     "text": [
      "Warning: Some identifiers in the split file are not found in the dataset. Taking intersection.\n",
      "Test dataset size: 17\n"
     ]
    },
    {
     "name": "stderr",
     "output_type": "stream",
     "text": [
      "/Users/macbook/UTILS/anaconda3/envs/phantoms_env/lib/python3.11/site-packages/pytorch_lightning/trainer/connectors/data_connector.py:425: The 'test_dataloader' does not have many workers which may be a bottleneck. Consider increasing the value of the `num_workers` argument` to `num_workers=9` in the `DataLoader` to improve performance.\n"
     ]
    },
    {
     "data": {
      "text/plain": [
       "Testing: |          | 0/? [00:00<?, ?it/s]"
      ],
      "application/vnd.jupyter.widget-view+json": {
       "version_major": 2,
       "version_minor": 0,
       "model_id": "35bc907d4b174ffd839183fefd96bd30"
      }
     },
     "metadata": {},
     "output_type": "display_data"
    },
    {
     "name": "stdout",
     "output_type": "stream",
     "text": [
      "────────────────────────────────────────────────────────────────────────────────────────────────────────────────────────\n",
      "       Test metric             DataLoader 0\n",
      "────────────────────────────────────────────────────────────────────────────────────────────────────────────────────────\n",
      "     test_hit_rate@1                0.0\n",
      "    test_hit_rate@20               0.75\n",
      "     test_hit_rate@5               0.75\n",
      "        test_loss          0.024627193808555603\n",
      "       test_mces@1                 16.75\n",
      "────────────────────────────────────────────────────────────────────────────────────────────────────────────────────────\n",
      "Model saved to /Users/macbook/CODE/PhantoMS/experiments_run/new_gnn_retrieval_cut/config_skip_connection_dreams_cut_tree_1_2025-02-04_14-29-36/checkpoints/final_model.ckpt\n"
     ]
    },
    {
     "data": {
      "text/plain": [
       "<IPython.core.display.HTML object>"
      ],
      "text/html": []
     },
     "metadata": {},
     "output_type": "display_data"
    },
    {
     "data": {
      "text/plain": [
       "<IPython.core.display.HTML object>"
      ],
      "text/html": [
       "<br>    <style><br>        .wandb-row {<br>            display: flex;<br>            flex-direction: row;<br>            flex-wrap: wrap;<br>            justify-content: flex-start;<br>            width: 100%;<br>        }<br>        .wandb-col {<br>            display: flex;<br>            flex-direction: column;<br>            flex-basis: 100%;<br>            flex: 1;<br>            padding: 10px;<br>        }<br>    </style><br><div class=\"wandb-row\"><div class=\"wandb-col\"><h3>Run history:</h3><br/><table class=\"wandb\"><tr><td>epoch</td><td>▁▅█</td></tr><tr><td>test_hit_rate@1</td><td>▁</td></tr><tr><td>test_hit_rate@20</td><td>▁</td></tr><tr><td>test_hit_rate@5</td><td>▁</td></tr><tr><td>test_loss</td><td>▁</td></tr><tr><td>test_mces@1</td><td>▁</td></tr><tr><td>trainer/global_step</td><td>▁▆█</td></tr><tr><td>val_hit_rate@1</td><td>▁▁</td></tr><tr><td>val_hit_rate@20</td><td>▁█</td></tr><tr><td>val_hit_rate@5</td><td>▁▁</td></tr><tr><td>val_loss</td><td>▁█</td></tr><tr><td>val_mces@1</td><td>▁▁</td></tr></table><br/></div><div class=\"wandb-col\"><h3>Run summary:</h3><br/><table class=\"wandb\"><tr><td>epoch</td><td>2</td></tr><tr><td>test_hit_rate@1</td><td>0</td></tr><tr><td>test_hit_rate@20</td><td>0.75</td></tr><tr><td>test_hit_rate@5</td><td>0.75</td></tr><tr><td>test_loss</td><td>0.02463</td></tr><tr><td>test_mces@1</td><td>16.75</td></tr><tr><td>trainer/global_step</td><td>4</td></tr><tr><td>val_hit_rate@1</td><td>0.75</td></tr><tr><td>val_hit_rate@20</td><td>1</td></tr><tr><td>val_hit_rate@5</td><td>0.75</td></tr><tr><td>val_loss</td><td>0.028</td></tr><tr><td>val_mces@1</td><td>3.75</td></tr></table><br/></div></div>"
      ]
     },
     "metadata": {},
     "output_type": "display_data"
    },
    {
     "data": {
      "text/plain": [
       "<IPython.core.display.HTML object>"
      ],
      "text/html": [
       " View run <strong style=\"color:#cdcd00\">config_skip_connection_dreams_cut_tree_1_2025-02-04_14-29-36</strong> at: <a href='https://wandb.ai/jozefov-iocb-prague/new_gnn_retrieval_cut/runs/e3t25pdt' target=\"_blank\">https://wandb.ai/jozefov-iocb-prague/new_gnn_retrieval_cut/runs/e3t25pdt</a><br> View project at: <a href='https://wandb.ai/jozefov-iocb-prague/new_gnn_retrieval_cut' target=\"_blank\">https://wandb.ai/jozefov-iocb-prague/new_gnn_retrieval_cut</a><br>Synced 5 W&B file(s), 0 media file(s), 0 artifact file(s) and 0 other file(s)"
      ]
     },
     "metadata": {},
     "output_type": "display_data"
    },
    {
     "data": {
      "text/plain": [
       "<IPython.core.display.HTML object>"
      ],
      "text/html": [
       "Find logs at: <code>./wandb/run-20250204_142955-e3t25pdt/logs</code>"
      ]
     },
     "metadata": {},
     "output_type": "display_data"
    },
    {
     "name": "stdout",
     "output_type": "stream",
     "text": [
      "Configuration saved to /Users/macbook/CODE/PhantoMS/experiments_run/new_gnn_retrieval_cut/config_skip_connection_dreams_cut_tree_1_2025-02-04_14-29-36/configs/config_skip_connection_dreams.yml\n",
      "\n",
      "Extracting embeddings for /Users/macbook/CODE/PhantoMS/experiments_run/new_gnn_retrieval_cut/config_skip_connection_dreams_cut_tree_1_2025-02-04_14-29-36\n"
     ]
    },
    {
     "name": "stderr",
     "output_type": "stream",
     "text": [
      "/Users/macbook/UTILS/anaconda3/envs/phantoms_env/lib/python3.11/site-packages/torch/nn/utils/weight_norm.py:143: FutureWarning: `torch.nn.utils.weight_norm` is deprecated in favor of `torch.nn.utils.parametrizations.weight_norm`.\n",
      "  WeightNorm.apply(module, name, dim)\n"
     ]
    },
    {
     "name": "stdout",
     "output_type": "stream",
     "text": [
      "Warning: No candidates for 0 SMILES. Skipping them.\n",
      "Total valid indices: 105\n",
      "MSnRetrievalDataset length: 105\n",
      "Warning: Some identifiers in the split file are not found in the dataset. Taking intersection.\n",
      "Test dataset size: 17\n",
      "Embeddings saved to /Users/macbook/CODE/PhantoMS/experiments_run/new_gnn_retrieval_cut/config_skip_connection_dreams_cut_tree_1_2025-02-04_14-29-36/embeddings\n",
      "\n",
      "Running Experiment: config_skip_connection_dreams_cut_tree_2_2025-02-04_14-30-28\n",
      "W&B Project: new_gnn_retrieval_cut\n",
      "Cut Tree Level: 2\n",
      "\n",
      "Starting training for /Users/macbook/CODE/PhantoMS/experiments_run/new_gnn_retrieval_cut/config_skip_connection_dreams_cut_tree_2_2025-02-04_14-30-28\n",
      "Using retrieval task/model.\n",
      "Warning: No candidates for 0 SMILES. Skipping them.\n",
      "Total valid indices: 105\n",
      "MSnRetrievalDataset length: 105\n"
     ]
    },
    {
     "name": "stderr",
     "output_type": "stream",
     "text": [
      "/Users/macbook/UTILS/anaconda3/envs/phantoms_env/lib/python3.11/site-packages/torch/nn/utils/weight_norm.py:143: FutureWarning: `torch.nn.utils.weight_norm` is deprecated in favor of `torch.nn.utils.parametrizations.weight_norm`.\n",
      "  WeightNorm.apply(module, name, dim)\n",
      "GPU available: True (mps), used: False\n",
      "TPU available: False, using: 0 TPU cores\n",
      "HPU available: False, using: 0 HPUs\n",
      "/Users/macbook/UTILS/anaconda3/envs/phantoms_env/lib/python3.11/site-packages/pytorch_lightning/trainer/setup.py:177: GPU available but not used. You can set it by doing `Trainer(accelerator='gpu')`.\n"
     ]
    },
    {
     "data": {
      "text/plain": [
       "<IPython.core.display.HTML object>"
      ],
      "text/html": [
       "Tracking run with wandb version 0.19.4"
      ]
     },
     "metadata": {},
     "output_type": "display_data"
    },
    {
     "data": {
      "text/plain": [
       "<IPython.core.display.HTML object>"
      ],
      "text/html": [
       "Run data is saved locally in <code>./wandb/run-20250204_143048-cdd6lq80</code>"
      ]
     },
     "metadata": {},
     "output_type": "display_data"
    },
    {
     "data": {
      "text/plain": [
       "<IPython.core.display.HTML object>"
      ],
      "text/html": [
       "Syncing run <strong><a href='https://wandb.ai/jozefov-iocb-prague/new_gnn_retrieval_cut/runs/cdd6lq80' target=\"_blank\">config_skip_connection_dreams_cut_tree_2_2025-02-04_14-30-28</a></strong> to <a href='https://wandb.ai/jozefov-iocb-prague/new_gnn_retrieval_cut' target=\"_blank\">Weights & Biases</a> (<a href='https://wandb.me/developer-guide' target=\"_blank\">docs</a>)<br>"
      ]
     },
     "metadata": {},
     "output_type": "display_data"
    },
    {
     "data": {
      "text/plain": [
       "<IPython.core.display.HTML object>"
      ],
      "text/html": [
       " View project at <a href='https://wandb.ai/jozefov-iocb-prague/new_gnn_retrieval_cut' target=\"_blank\">https://wandb.ai/jozefov-iocb-prague/new_gnn_retrieval_cut</a>"
      ]
     },
     "metadata": {},
     "output_type": "display_data"
    },
    {
     "data": {
      "text/plain": [
       "<IPython.core.display.HTML object>"
      ],
      "text/html": [
       " View run at <a href='https://wandb.ai/jozefov-iocb-prague/new_gnn_retrieval_cut/runs/cdd6lq80' target=\"_blank\">https://wandb.ai/jozefov-iocb-prague/new_gnn_retrieval_cut/runs/cdd6lq80</a>"
      ]
     },
     "metadata": {},
     "output_type": "display_data"
    },
    {
     "name": "stderr",
     "output_type": "stream",
     "text": [
      "\n",
      "  | Name       | Type                        | Params | Mode \n",
      "-------------------------------------------------------------------\n",
      "0 | gcn_layers | ModuleList                  | 10.5 M | train\n",
      "1 | head       | SkipConnectionRetrievalHead | 37.8 M | train\n",
      "2 | loss_fn    | MSELoss                     | 0      | train\n",
      "-------------------------------------------------------------------\n",
      "48.3 M    Trainable params\n",
      "0         Non-trainable params\n",
      "48.3 M    Total params\n",
      "193.217   Total estimated model params size (MB)\n",
      "54        Modules in train mode\n",
      "0         Modules in eval mode\n"
     ]
    },
    {
     "name": "stdout",
     "output_type": "stream",
     "text": [
      "Warning: Some identifiers in the split file are not found in the dataset. Taking intersection.\n",
      "Train dataset size: 82\n",
      "Val dataset size: 6\n"
     ]
    },
    {
     "data": {
      "text/plain": [
       "Sanity Checking: |          | 0/? [00:00<?, ?it/s]"
      ],
      "application/vnd.jupyter.widget-view+json": {
       "version_major": 2,
       "version_minor": 0,
       "model_id": "7aa2a52f354e43b08518d5ab0b338b07"
      }
     },
     "metadata": {},
     "output_type": "display_data"
    },
    {
     "name": "stderr",
     "output_type": "stream",
     "text": [
      "/Users/macbook/UTILS/anaconda3/envs/phantoms_env/lib/python3.11/site-packages/pytorch_lightning/trainer/connectors/data_connector.py:425: The 'val_dataloader' does not have many workers which may be a bottleneck. Consider increasing the value of the `num_workers` argument` to `num_workers=9` in the `DataLoader` to improve performance.\n",
      "/Users/macbook/UTILS/anaconda3/envs/phantoms_env/lib/python3.11/site-packages/pytorch_lightning/trainer/connectors/data_connector.py:425: The 'train_dataloader' does not have many workers which may be a bottleneck. Consider increasing the value of the `num_workers` argument` to `num_workers=9` in the `DataLoader` to improve performance.\n",
      "/Users/macbook/UTILS/anaconda3/envs/phantoms_env/lib/python3.11/site-packages/pytorch_lightning/loops/fit_loop.py:310: The number of training batches (2) is smaller than the logging interval Trainer(log_every_n_steps=10). Set a lower value for log_every_n_steps if you want to see logs for the training epoch.\n"
     ]
    },
    {
     "data": {
      "text/plain": [
       "Training: |          | 0/? [00:00<?, ?it/s]"
      ],
      "application/vnd.jupyter.widget-view+json": {
       "version_major": 2,
       "version_minor": 0,
       "model_id": "3b275fc5bc9b441ca81dd0772a4be506"
      }
     },
     "metadata": {},
     "output_type": "display_data"
    },
    {
     "data": {
      "text/plain": [
       "Validation: |          | 0/? [00:00<?, ?it/s]"
      ],
      "application/vnd.jupyter.widget-view+json": {
       "version_major": 2,
       "version_minor": 0,
       "model_id": "7ae8bc960fc544e49b1cb0fe2321cebb"
      }
     },
     "metadata": {},
     "output_type": "display_data"
    },
    {
     "data": {
      "text/plain": [
       "Validation: |          | 0/? [00:00<?, ?it/s]"
      ],
      "application/vnd.jupyter.widget-view+json": {
       "version_major": 2,
       "version_minor": 0,
       "model_id": "6bee818161e440a5a36f840611b8d4c7"
      }
     },
     "metadata": {},
     "output_type": "display_data"
    },
    {
     "name": "stderr",
     "output_type": "stream",
     "text": [
      "`Trainer.fit` stopped: `max_epochs=2` reached.\n"
     ]
    },
    {
     "name": "stdout",
     "output_type": "stream",
     "text": [
      "Warning: Some identifiers in the split file are not found in the dataset. Taking intersection.\n",
      "Test dataset size: 17\n"
     ]
    },
    {
     "name": "stderr",
     "output_type": "stream",
     "text": [
      "/Users/macbook/UTILS/anaconda3/envs/phantoms_env/lib/python3.11/site-packages/pytorch_lightning/trainer/connectors/data_connector.py:425: The 'test_dataloader' does not have many workers which may be a bottleneck. Consider increasing the value of the `num_workers` argument` to `num_workers=9` in the `DataLoader` to improve performance.\n"
     ]
    },
    {
     "data": {
      "text/plain": [
       "Testing: |          | 0/? [00:00<?, ?it/s]"
      ],
      "application/vnd.jupyter.widget-view+json": {
       "version_major": 2,
       "version_minor": 0,
       "model_id": "6279a4c249e2403eb248696face815ef"
      }
     },
     "metadata": {},
     "output_type": "display_data"
    },
    {
     "name": "stdout",
     "output_type": "stream",
     "text": [
      "────────────────────────────────────────────────────────────────────────────────────────────────────────────────────────\n",
      "       Test metric             DataLoader 0\n",
      "────────────────────────────────────────────────────────────────────────────────────────────────────────────────────────\n",
      "     test_hit_rate@1                0.0\n",
      "    test_hit_rate@20                0.5\n",
      "     test_hit_rate@5               0.25\n",
      "        test_loss          0.029438592493534088\n",
      "       test_mces@1                 16.25\n",
      "────────────────────────────────────────────────────────────────────────────────────────────────────────────────────────\n",
      "Model saved to /Users/macbook/CODE/PhantoMS/experiments_run/new_gnn_retrieval_cut/config_skip_connection_dreams_cut_tree_2_2025-02-04_14-30-28/checkpoints/final_model.ckpt\n"
     ]
    },
    {
     "data": {
      "text/plain": [
       "<IPython.core.display.HTML object>"
      ],
      "text/html": []
     },
     "metadata": {},
     "output_type": "display_data"
    },
    {
     "data": {
      "text/plain": [
       "<IPython.core.display.HTML object>"
      ],
      "text/html": [
       "<br>    <style><br>        .wandb-row {<br>            display: flex;<br>            flex-direction: row;<br>            flex-wrap: wrap;<br>            justify-content: flex-start;<br>            width: 100%;<br>        }<br>        .wandb-col {<br>            display: flex;<br>            flex-direction: column;<br>            flex-basis: 100%;<br>            flex: 1;<br>            padding: 10px;<br>        }<br>    </style><br><div class=\"wandb-row\"><div class=\"wandb-col\"><h3>Run history:</h3><br/><table class=\"wandb\"><tr><td>epoch</td><td>▁▅█</td></tr><tr><td>test_hit_rate@1</td><td>▁</td></tr><tr><td>test_hit_rate@20</td><td>▁</td></tr><tr><td>test_hit_rate@5</td><td>▁</td></tr><tr><td>test_loss</td><td>▁</td></tr><tr><td>test_mces@1</td><td>▁</td></tr><tr><td>trainer/global_step</td><td>▁▆█</td></tr><tr><td>val_hit_rate@1</td><td>▁█</td></tr><tr><td>val_hit_rate@20</td><td>▁▁</td></tr><tr><td>val_hit_rate@5</td><td>▁█</td></tr><tr><td>val_loss</td><td>▁█</td></tr><tr><td>val_mces@1</td><td>█▁</td></tr></table><br/></div><div class=\"wandb-col\"><h3>Run summary:</h3><br/><table class=\"wandb\"><tr><td>epoch</td><td>2</td></tr><tr><td>test_hit_rate@1</td><td>0</td></tr><tr><td>test_hit_rate@20</td><td>0.5</td></tr><tr><td>test_hit_rate@5</td><td>0.25</td></tr><tr><td>test_loss</td><td>0.02944</td></tr><tr><td>test_mces@1</td><td>16.25</td></tr><tr><td>trainer/global_step</td><td>4</td></tr><tr><td>val_hit_rate@1</td><td>0.5</td></tr><tr><td>val_hit_rate@20</td><td>1</td></tr><tr><td>val_hit_rate@5</td><td>0.75</td></tr><tr><td>val_loss</td><td>0.03297</td></tr><tr><td>val_mces@1</td><td>13.5</td></tr></table><br/></div></div>"
      ]
     },
     "metadata": {},
     "output_type": "display_data"
    },
    {
     "data": {
      "text/plain": [
       "<IPython.core.display.HTML object>"
      ],
      "text/html": [
       " View run <strong style=\"color:#cdcd00\">config_skip_connection_dreams_cut_tree_2_2025-02-04_14-30-28</strong> at: <a href='https://wandb.ai/jozefov-iocb-prague/new_gnn_retrieval_cut/runs/cdd6lq80' target=\"_blank\">https://wandb.ai/jozefov-iocb-prague/new_gnn_retrieval_cut/runs/cdd6lq80</a><br> View project at: <a href='https://wandb.ai/jozefov-iocb-prague/new_gnn_retrieval_cut' target=\"_blank\">https://wandb.ai/jozefov-iocb-prague/new_gnn_retrieval_cut</a><br>Synced 5 W&B file(s), 0 media file(s), 0 artifact file(s) and 0 other file(s)"
      ]
     },
     "metadata": {},
     "output_type": "display_data"
    },
    {
     "data": {
      "text/plain": [
       "<IPython.core.display.HTML object>"
      ],
      "text/html": [
       "Find logs at: <code>./wandb/run-20250204_143048-cdd6lq80/logs</code>"
      ]
     },
     "metadata": {},
     "output_type": "display_data"
    },
    {
     "name": "stdout",
     "output_type": "stream",
     "text": [
      "Configuration saved to /Users/macbook/CODE/PhantoMS/experiments_run/new_gnn_retrieval_cut/config_skip_connection_dreams_cut_tree_2_2025-02-04_14-30-28/configs/config_skip_connection_dreams.yml\n",
      "\n",
      "Extracting embeddings for /Users/macbook/CODE/PhantoMS/experiments_run/new_gnn_retrieval_cut/config_skip_connection_dreams_cut_tree_2_2025-02-04_14-30-28\n"
     ]
    },
    {
     "name": "stderr",
     "output_type": "stream",
     "text": [
      "/Users/macbook/UTILS/anaconda3/envs/phantoms_env/lib/python3.11/site-packages/torch/nn/utils/weight_norm.py:143: FutureWarning: `torch.nn.utils.weight_norm` is deprecated in favor of `torch.nn.utils.parametrizations.weight_norm`.\n",
      "  WeightNorm.apply(module, name, dim)\n"
     ]
    },
    {
     "name": "stdout",
     "output_type": "stream",
     "text": [
      "Warning: No candidates for 0 SMILES. Skipping them.\n",
      "Total valid indices: 105\n",
      "MSnRetrievalDataset length: 105\n",
      "Warning: Some identifiers in the split file are not found in the dataset. Taking intersection.\n",
      "Test dataset size: 17\n",
      "Embeddings saved to /Users/macbook/CODE/PhantoMS/experiments_run/new_gnn_retrieval_cut/config_skip_connection_dreams_cut_tree_2_2025-02-04_14-30-28/embeddings\n",
      "\n",
      "Running Experiment: config_skip_connection_dreams_cut_tree_3_2025-02-04_14-31-22\n",
      "W&B Project: new_gnn_retrieval_cut\n",
      "Cut Tree Level: 3\n",
      "\n",
      "Starting training for /Users/macbook/CODE/PhantoMS/experiments_run/new_gnn_retrieval_cut/config_skip_connection_dreams_cut_tree_3_2025-02-04_14-31-22\n",
      "Using retrieval task/model.\n",
      "Warning: No candidates for 0 SMILES. Skipping them.\n",
      "Total valid indices: 105\n",
      "MSnRetrievalDataset length: 105\n"
     ]
    },
    {
     "name": "stderr",
     "output_type": "stream",
     "text": [
      "/Users/macbook/UTILS/anaconda3/envs/phantoms_env/lib/python3.11/site-packages/torch/nn/utils/weight_norm.py:143: FutureWarning: `torch.nn.utils.weight_norm` is deprecated in favor of `torch.nn.utils.parametrizations.weight_norm`.\n",
      "  WeightNorm.apply(module, name, dim)\n",
      "GPU available: True (mps), used: False\n",
      "TPU available: False, using: 0 TPU cores\n",
      "HPU available: False, using: 0 HPUs\n",
      "/Users/macbook/UTILS/anaconda3/envs/phantoms_env/lib/python3.11/site-packages/pytorch_lightning/trainer/setup.py:177: GPU available but not used. You can set it by doing `Trainer(accelerator='gpu')`.\n"
     ]
    },
    {
     "data": {
      "text/plain": [
       "<IPython.core.display.HTML object>"
      ],
      "text/html": [
       "Tracking run with wandb version 0.19.4"
      ]
     },
     "metadata": {},
     "output_type": "display_data"
    },
    {
     "data": {
      "text/plain": [
       "<IPython.core.display.HTML object>"
      ],
      "text/html": [
       "Run data is saved locally in <code>./wandb/run-20250204_143141-nbt9d81u</code>"
      ]
     },
     "metadata": {},
     "output_type": "display_data"
    },
    {
     "data": {
      "text/plain": [
       "<IPython.core.display.HTML object>"
      ],
      "text/html": [
       "Syncing run <strong><a href='https://wandb.ai/jozefov-iocb-prague/new_gnn_retrieval_cut/runs/nbt9d81u' target=\"_blank\">config_skip_connection_dreams_cut_tree_3_2025-02-04_14-31-22</a></strong> to <a href='https://wandb.ai/jozefov-iocb-prague/new_gnn_retrieval_cut' target=\"_blank\">Weights & Biases</a> (<a href='https://wandb.me/developer-guide' target=\"_blank\">docs</a>)<br>"
      ]
     },
     "metadata": {},
     "output_type": "display_data"
    },
    {
     "data": {
      "text/plain": [
       "<IPython.core.display.HTML object>"
      ],
      "text/html": [
       " View project at <a href='https://wandb.ai/jozefov-iocb-prague/new_gnn_retrieval_cut' target=\"_blank\">https://wandb.ai/jozefov-iocb-prague/new_gnn_retrieval_cut</a>"
      ]
     },
     "metadata": {},
     "output_type": "display_data"
    },
    {
     "data": {
      "text/plain": [
       "<IPython.core.display.HTML object>"
      ],
      "text/html": [
       " View run at <a href='https://wandb.ai/jozefov-iocb-prague/new_gnn_retrieval_cut/runs/nbt9d81u' target=\"_blank\">https://wandb.ai/jozefov-iocb-prague/new_gnn_retrieval_cut/runs/nbt9d81u</a>"
      ]
     },
     "metadata": {},
     "output_type": "display_data"
    },
    {
     "name": "stderr",
     "output_type": "stream",
     "text": [
      "\n",
      "  | Name       | Type                        | Params | Mode \n",
      "-------------------------------------------------------------------\n",
      "0 | gcn_layers | ModuleList                  | 10.5 M | train\n",
      "1 | head       | SkipConnectionRetrievalHead | 37.8 M | train\n",
      "2 | loss_fn    | MSELoss                     | 0      | train\n",
      "-------------------------------------------------------------------\n",
      "48.3 M    Trainable params\n",
      "0         Non-trainable params\n",
      "48.3 M    Total params\n",
      "193.217   Total estimated model params size (MB)\n",
      "54        Modules in train mode\n",
      "0         Modules in eval mode\n"
     ]
    },
    {
     "name": "stdout",
     "output_type": "stream",
     "text": [
      "Warning: Some identifiers in the split file are not found in the dataset. Taking intersection.\n",
      "Train dataset size: 82\n",
      "Val dataset size: 6\n"
     ]
    },
    {
     "data": {
      "text/plain": [
       "Sanity Checking: |          | 0/? [00:00<?, ?it/s]"
      ],
      "application/vnd.jupyter.widget-view+json": {
       "version_major": 2,
       "version_minor": 0,
       "model_id": "2ea0c61d8cef443d811738340a99d407"
      }
     },
     "metadata": {},
     "output_type": "display_data"
    },
    {
     "name": "stderr",
     "output_type": "stream",
     "text": [
      "/Users/macbook/UTILS/anaconda3/envs/phantoms_env/lib/python3.11/site-packages/pytorch_lightning/trainer/connectors/data_connector.py:425: The 'val_dataloader' does not have many workers which may be a bottleneck. Consider increasing the value of the `num_workers` argument` to `num_workers=9` in the `DataLoader` to improve performance.\n",
      "/Users/macbook/UTILS/anaconda3/envs/phantoms_env/lib/python3.11/site-packages/pytorch_lightning/trainer/connectors/data_connector.py:425: The 'train_dataloader' does not have many workers which may be a bottleneck. Consider increasing the value of the `num_workers` argument` to `num_workers=9` in the `DataLoader` to improve performance.\n",
      "/Users/macbook/UTILS/anaconda3/envs/phantoms_env/lib/python3.11/site-packages/pytorch_lightning/loops/fit_loop.py:310: The number of training batches (2) is smaller than the logging interval Trainer(log_every_n_steps=10). Set a lower value for log_every_n_steps if you want to see logs for the training epoch.\n"
     ]
    },
    {
     "data": {
      "text/plain": [
       "Training: |          | 0/? [00:00<?, ?it/s]"
      ],
      "application/vnd.jupyter.widget-view+json": {
       "version_major": 2,
       "version_minor": 0,
       "model_id": "d6857244de1b46ffab479529b5ef0e53"
      }
     },
     "metadata": {},
     "output_type": "display_data"
    },
    {
     "data": {
      "text/plain": [
       "Validation: |          | 0/? [00:00<?, ?it/s]"
      ],
      "application/vnd.jupyter.widget-view+json": {
       "version_major": 2,
       "version_minor": 0,
       "model_id": "a8c6404d30e34cd0b2abd21faa887302"
      }
     },
     "metadata": {},
     "output_type": "display_data"
    },
    {
     "data": {
      "text/plain": [
       "Validation: |          | 0/? [00:00<?, ?it/s]"
      ],
      "application/vnd.jupyter.widget-view+json": {
       "version_major": 2,
       "version_minor": 0,
       "model_id": "31e7d0c3bf264cfd891d270bef1bca60"
      }
     },
     "metadata": {},
     "output_type": "display_data"
    },
    {
     "name": "stderr",
     "output_type": "stream",
     "text": [
      "`Trainer.fit` stopped: `max_epochs=2` reached.\n"
     ]
    },
    {
     "name": "stdout",
     "output_type": "stream",
     "text": [
      "Warning: Some identifiers in the split file are not found in the dataset. Taking intersection.\n",
      "Test dataset size: 17\n"
     ]
    },
    {
     "name": "stderr",
     "output_type": "stream",
     "text": [
      "/Users/macbook/UTILS/anaconda3/envs/phantoms_env/lib/python3.11/site-packages/pytorch_lightning/trainer/connectors/data_connector.py:425: The 'test_dataloader' does not have many workers which may be a bottleneck. Consider increasing the value of the `num_workers` argument` to `num_workers=9` in the `DataLoader` to improve performance.\n"
     ]
    },
    {
     "data": {
      "text/plain": [
       "Testing: |          | 0/? [00:00<?, ?it/s]"
      ],
      "application/vnd.jupyter.widget-view+json": {
       "version_major": 2,
       "version_minor": 0,
       "model_id": "9f5589a5206c40f18f6593e682651267"
      }
     },
     "metadata": {},
     "output_type": "display_data"
    },
    {
     "name": "stdout",
     "output_type": "stream",
     "text": [
      "────────────────────────────────────────────────────────────────────────────────────────────────────────────────────────\n",
      "       Test metric             DataLoader 0\n",
      "────────────────────────────────────────────────────────────────────────────────────────────────────────────────────────\n",
      "     test_hit_rate@1                0.0\n",
      "    test_hit_rate@20                0.0\n",
      "     test_hit_rate@5                0.0\n",
      "        test_loss           0.02784906141459942\n",
      "       test_mces@1                 24.5\n",
      "────────────────────────────────────────────────────────────────────────────────────────────────────────────────────────\n",
      "Model saved to /Users/macbook/CODE/PhantoMS/experiments_run/new_gnn_retrieval_cut/config_skip_connection_dreams_cut_tree_3_2025-02-04_14-31-22/checkpoints/final_model.ckpt\n"
     ]
    },
    {
     "data": {
      "text/plain": [
       "<IPython.core.display.HTML object>"
      ],
      "text/html": []
     },
     "metadata": {},
     "output_type": "display_data"
    },
    {
     "data": {
      "text/plain": [
       "<IPython.core.display.HTML object>"
      ],
      "text/html": [
       "<br>    <style><br>        .wandb-row {<br>            display: flex;<br>            flex-direction: row;<br>            flex-wrap: wrap;<br>            justify-content: flex-start;<br>            width: 100%;<br>        }<br>        .wandb-col {<br>            display: flex;<br>            flex-direction: column;<br>            flex-basis: 100%;<br>            flex: 1;<br>            padding: 10px;<br>        }<br>    </style><br><div class=\"wandb-row\"><div class=\"wandb-col\"><h3>Run history:</h3><br/><table class=\"wandb\"><tr><td>epoch</td><td>▁▅█</td></tr><tr><td>test_hit_rate@1</td><td>▁</td></tr><tr><td>test_hit_rate@20</td><td>▁</td></tr><tr><td>test_hit_rate@5</td><td>▁</td></tr><tr><td>test_loss</td><td>▁</td></tr><tr><td>test_mces@1</td><td>▁</td></tr><tr><td>trainer/global_step</td><td>▁▆█</td></tr><tr><td>val_hit_rate@1</td><td>▁▁</td></tr><tr><td>val_hit_rate@20</td><td>▁▁</td></tr><tr><td>val_hit_rate@5</td><td>▁▁</td></tr><tr><td>val_loss</td><td>▁█</td></tr><tr><td>val_mces@1</td><td>█▁</td></tr></table><br/></div><div class=\"wandb-col\"><h3>Run summary:</h3><br/><table class=\"wandb\"><tr><td>epoch</td><td>2</td></tr><tr><td>test_hit_rate@1</td><td>0</td></tr><tr><td>test_hit_rate@20</td><td>0</td></tr><tr><td>test_hit_rate@5</td><td>0</td></tr><tr><td>test_loss</td><td>0.02785</td></tr><tr><td>test_mces@1</td><td>24.5</td></tr><tr><td>trainer/global_step</td><td>4</td></tr><tr><td>val_hit_rate@1</td><td>0</td></tr><tr><td>val_hit_rate@20</td><td>1</td></tr><tr><td>val_hit_rate@5</td><td>0.75</td></tr><tr><td>val_loss</td><td>0.03069</td></tr><tr><td>val_mces@1</td><td>25.125</td></tr></table><br/></div></div>"
      ]
     },
     "metadata": {},
     "output_type": "display_data"
    },
    {
     "data": {
      "text/plain": [
       "<IPython.core.display.HTML object>"
      ],
      "text/html": [
       " View run <strong style=\"color:#cdcd00\">config_skip_connection_dreams_cut_tree_3_2025-02-04_14-31-22</strong> at: <a href='https://wandb.ai/jozefov-iocb-prague/new_gnn_retrieval_cut/runs/nbt9d81u' target=\"_blank\">https://wandb.ai/jozefov-iocb-prague/new_gnn_retrieval_cut/runs/nbt9d81u</a><br> View project at: <a href='https://wandb.ai/jozefov-iocb-prague/new_gnn_retrieval_cut' target=\"_blank\">https://wandb.ai/jozefov-iocb-prague/new_gnn_retrieval_cut</a><br>Synced 5 W&B file(s), 0 media file(s), 0 artifact file(s) and 0 other file(s)"
      ]
     },
     "metadata": {},
     "output_type": "display_data"
    },
    {
     "data": {
      "text/plain": [
       "<IPython.core.display.HTML object>"
      ],
      "text/html": [
       "Find logs at: <code>./wandb/run-20250204_143141-nbt9d81u/logs</code>"
      ]
     },
     "metadata": {},
     "output_type": "display_data"
    },
    {
     "name": "stdout",
     "output_type": "stream",
     "text": [
      "Configuration saved to /Users/macbook/CODE/PhantoMS/experiments_run/new_gnn_retrieval_cut/config_skip_connection_dreams_cut_tree_3_2025-02-04_14-31-22/configs/config_skip_connection_dreams.yml\n",
      "\n",
      "Extracting embeddings for /Users/macbook/CODE/PhantoMS/experiments_run/new_gnn_retrieval_cut/config_skip_connection_dreams_cut_tree_3_2025-02-04_14-31-22\n"
     ]
    },
    {
     "name": "stderr",
     "output_type": "stream",
     "text": [
      "/Users/macbook/UTILS/anaconda3/envs/phantoms_env/lib/python3.11/site-packages/torch/nn/utils/weight_norm.py:143: FutureWarning: `torch.nn.utils.weight_norm` is deprecated in favor of `torch.nn.utils.parametrizations.weight_norm`.\n",
      "  WeightNorm.apply(module, name, dim)\n"
     ]
    },
    {
     "name": "stdout",
     "output_type": "stream",
     "text": [
      "Warning: No candidates for 0 SMILES. Skipping them.\n",
      "Total valid indices: 105\n",
      "MSnRetrievalDataset length: 105\n",
      "Warning: Some identifiers in the split file are not found in the dataset. Taking intersection.\n",
      "Test dataset size: 17\n",
      "Embeddings saved to /Users/macbook/CODE/PhantoMS/experiments_run/new_gnn_retrieval_cut/config_skip_connection_dreams_cut_tree_3_2025-02-04_14-31-22/embeddings\n",
      "\n",
      "Running Experiment: config_skip_connection_dreams_bonus_cut_tree_0_2025-02-04_14-32-12\n",
      "W&B Project: new_gnn_retrieval_cut\n",
      "Cut Tree Level: 0\n",
      "\n",
      "Starting training for /Users/macbook/CODE/PhantoMS/experiments_run/new_gnn_retrieval_cut/config_skip_connection_dreams_bonus_cut_tree_0_2025-02-04_14-32-12\n",
      "Using retrieval task/model.\n",
      "Warning: No candidates for 0 SMILES. Skipping them.\n",
      "Total valid indices: 105\n",
      "MSnRetrievalDataset length: 105\n"
     ]
    },
    {
     "name": "stderr",
     "output_type": "stream",
     "text": [
      "/Users/macbook/UTILS/anaconda3/envs/phantoms_env/lib/python3.11/site-packages/torch/nn/utils/weight_norm.py:143: FutureWarning: `torch.nn.utils.weight_norm` is deprecated in favor of `torch.nn.utils.parametrizations.weight_norm`.\n",
      "  WeightNorm.apply(module, name, dim)\n",
      "GPU available: True (mps), used: False\n",
      "TPU available: False, using: 0 TPU cores\n",
      "HPU available: False, using: 0 HPUs\n",
      "/Users/macbook/UTILS/anaconda3/envs/phantoms_env/lib/python3.11/site-packages/pytorch_lightning/trainer/setup.py:177: GPU available but not used. You can set it by doing `Trainer(accelerator='gpu')`.\n"
     ]
    },
    {
     "data": {
      "text/plain": [
       "<IPython.core.display.HTML object>"
      ],
      "text/html": [
       "Tracking run with wandb version 0.19.4"
      ]
     },
     "metadata": {},
     "output_type": "display_data"
    },
    {
     "data": {
      "text/plain": [
       "<IPython.core.display.HTML object>"
      ],
      "text/html": [
       "Run data is saved locally in <code>./wandb/run-20250204_143231-ikclnqfk</code>"
      ]
     },
     "metadata": {},
     "output_type": "display_data"
    },
    {
     "data": {
      "text/plain": [
       "<IPython.core.display.HTML object>"
      ],
      "text/html": [
       "Syncing run <strong><a href='https://wandb.ai/jozefov-iocb-prague/new_gnn_retrieval_cut/runs/ikclnqfk' target=\"_blank\">config_skip_connection_dreams_bonus_cut_tree_0_2025-02-04_14-32-12</a></strong> to <a href='https://wandb.ai/jozefov-iocb-prague/new_gnn_retrieval_cut' target=\"_blank\">Weights & Biases</a> (<a href='https://wandb.me/developer-guide' target=\"_blank\">docs</a>)<br>"
      ]
     },
     "metadata": {},
     "output_type": "display_data"
    },
    {
     "data": {
      "text/plain": [
       "<IPython.core.display.HTML object>"
      ],
      "text/html": [
       " View project at <a href='https://wandb.ai/jozefov-iocb-prague/new_gnn_retrieval_cut' target=\"_blank\">https://wandb.ai/jozefov-iocb-prague/new_gnn_retrieval_cut</a>"
      ]
     },
     "metadata": {},
     "output_type": "display_data"
    },
    {
     "data": {
      "text/plain": [
       "<IPython.core.display.HTML object>"
      ],
      "text/html": [
       " View run at <a href='https://wandb.ai/jozefov-iocb-prague/new_gnn_retrieval_cut/runs/ikclnqfk' target=\"_blank\">https://wandb.ai/jozefov-iocb-prague/new_gnn_retrieval_cut/runs/ikclnqfk</a>"
      ]
     },
     "metadata": {},
     "output_type": "display_data"
    },
    {
     "name": "stderr",
     "output_type": "stream",
     "text": [
      "\n",
      "  | Name            | Type                        | Params | Mode \n",
      "------------------------------------------------------------------------\n",
      "0 | gcn_layers      | ModuleList                  | 10.5 M | train\n",
      "1 | formula_encoder | Sequential                  | 4.9 K  | train\n",
      "2 | head            | SkipConnectionRetrievalHead | 37.9 M | train\n",
      "3 | loss_fn         | MSELoss                     | 0      | train\n",
      "------------------------------------------------------------------------\n",
      "48.4 M    Trainable params\n",
      "0         Non-trainable params\n",
      "48.4 M    Total params\n",
      "193.760   Total estimated model params size (MB)\n",
      "59        Modules in train mode\n",
      "0         Modules in eval mode\n"
     ]
    },
    {
     "name": "stdout",
     "output_type": "stream",
     "text": [
      "Warning: Some identifiers in the split file are not found in the dataset. Taking intersection.\n",
      "Train dataset size: 82\n",
      "Val dataset size: 6\n"
     ]
    },
    {
     "data": {
      "text/plain": [
       "Sanity Checking: |          | 0/? [00:00<?, ?it/s]"
      ],
      "application/vnd.jupyter.widget-view+json": {
       "version_major": 2,
       "version_minor": 0,
       "model_id": "2acdc46b033e4979b2c914de68bbaadd"
      }
     },
     "metadata": {},
     "output_type": "display_data"
    },
    {
     "name": "stderr",
     "output_type": "stream",
     "text": [
      "/Users/macbook/UTILS/anaconda3/envs/phantoms_env/lib/python3.11/site-packages/pytorch_lightning/trainer/connectors/data_connector.py:425: The 'val_dataloader' does not have many workers which may be a bottleneck. Consider increasing the value of the `num_workers` argument` to `num_workers=9` in the `DataLoader` to improve performance.\n",
      "/Users/macbook/UTILS/anaconda3/envs/phantoms_env/lib/python3.11/site-packages/pytorch_lightning/trainer/connectors/data_connector.py:425: The 'train_dataloader' does not have many workers which may be a bottleneck. Consider increasing the value of the `num_workers` argument` to `num_workers=9` in the `DataLoader` to improve performance.\n",
      "/Users/macbook/UTILS/anaconda3/envs/phantoms_env/lib/python3.11/site-packages/pytorch_lightning/loops/fit_loop.py:310: The number of training batches (2) is smaller than the logging interval Trainer(log_every_n_steps=10). Set a lower value for log_every_n_steps if you want to see logs for the training epoch.\n"
     ]
    },
    {
     "data": {
      "text/plain": [
       "Training: |          | 0/? [00:00<?, ?it/s]"
      ],
      "application/vnd.jupyter.widget-view+json": {
       "version_major": 2,
       "version_minor": 0,
       "model_id": "ff7335bb88704a12b000e7073ee069e6"
      }
     },
     "metadata": {},
     "output_type": "display_data"
    },
    {
     "data": {
      "text/plain": [
       "Validation: |          | 0/? [00:00<?, ?it/s]"
      ],
      "application/vnd.jupyter.widget-view+json": {
       "version_major": 2,
       "version_minor": 0,
       "model_id": "aaf526c733714546bf2ddfd929dd8d6b"
      }
     },
     "metadata": {},
     "output_type": "display_data"
    },
    {
     "data": {
      "text/plain": [
       "Validation: |          | 0/? [00:00<?, ?it/s]"
      ],
      "application/vnd.jupyter.widget-view+json": {
       "version_major": 2,
       "version_minor": 0,
       "model_id": "d4e5ab1afd8f4c4e845618de63333b26"
      }
     },
     "metadata": {},
     "output_type": "display_data"
    },
    {
     "name": "stderr",
     "output_type": "stream",
     "text": [
      "`Trainer.fit` stopped: `max_epochs=2` reached.\n"
     ]
    },
    {
     "name": "stdout",
     "output_type": "stream",
     "text": [
      "Warning: Some identifiers in the split file are not found in the dataset. Taking intersection.\n",
      "Test dataset size: 17\n"
     ]
    },
    {
     "name": "stderr",
     "output_type": "stream",
     "text": [
      "/Users/macbook/UTILS/anaconda3/envs/phantoms_env/lib/python3.11/site-packages/pytorch_lightning/trainer/connectors/data_connector.py:425: The 'test_dataloader' does not have many workers which may be a bottleneck. Consider increasing the value of the `num_workers` argument` to `num_workers=9` in the `DataLoader` to improve performance.\n"
     ]
    },
    {
     "data": {
      "text/plain": [
       "Testing: |          | 0/? [00:00<?, ?it/s]"
      ],
      "application/vnd.jupyter.widget-view+json": {
       "version_major": 2,
       "version_minor": 0,
       "model_id": "6df67305da7c4fd893691e2e31cf3276"
      }
     },
     "metadata": {},
     "output_type": "display_data"
    },
    {
     "name": "stdout",
     "output_type": "stream",
     "text": [
      "────────────────────────────────────────────────────────────────────────────────────────────────────────────────────────\n",
      "       Test metric             DataLoader 0\n",
      "────────────────────────────────────────────────────────────────────────────────────────────────────────────────────────\n",
      "     test_hit_rate@1                0.0\n",
      "    test_hit_rate@20                0.5\n",
      "     test_hit_rate@5                0.0\n",
      "        test_loss           0.03576027229428291\n",
      "       test_mces@1                 11.75\n",
      "────────────────────────────────────────────────────────────────────────────────────────────────────────────────────────\n",
      "Model saved to /Users/macbook/CODE/PhantoMS/experiments_run/new_gnn_retrieval_cut/config_skip_connection_dreams_bonus_cut_tree_0_2025-02-04_14-32-12/checkpoints/final_model.ckpt\n"
     ]
    },
    {
     "data": {
      "text/plain": [
       "<IPython.core.display.HTML object>"
      ],
      "text/html": []
     },
     "metadata": {},
     "output_type": "display_data"
    },
    {
     "data": {
      "text/plain": [
       "<IPython.core.display.HTML object>"
      ],
      "text/html": [
       "<br>    <style><br>        .wandb-row {<br>            display: flex;<br>            flex-direction: row;<br>            flex-wrap: wrap;<br>            justify-content: flex-start;<br>            width: 100%;<br>        }<br>        .wandb-col {<br>            display: flex;<br>            flex-direction: column;<br>            flex-basis: 100%;<br>            flex: 1;<br>            padding: 10px;<br>        }<br>    </style><br><div class=\"wandb-row\"><div class=\"wandb-col\"><h3>Run history:</h3><br/><table class=\"wandb\"><tr><td>epoch</td><td>▁▅█</td></tr><tr><td>test_hit_rate@1</td><td>▁</td></tr><tr><td>test_hit_rate@20</td><td>▁</td></tr><tr><td>test_hit_rate@5</td><td>▁</td></tr><tr><td>test_loss</td><td>▁</td></tr><tr><td>test_mces@1</td><td>▁</td></tr><tr><td>trainer/global_step</td><td>▁▆█</td></tr><tr><td>val_hit_rate@1</td><td>▁█</td></tr><tr><td>val_hit_rate@20</td><td>▁▁</td></tr><tr><td>val_hit_rate@5</td><td>▁█</td></tr><tr><td>val_loss</td><td>▁█</td></tr><tr><td>val_mces@1</td><td>█▁</td></tr></table><br/></div><div class=\"wandb-col\"><h3>Run summary:</h3><br/><table class=\"wandb\"><tr><td>epoch</td><td>2</td></tr><tr><td>test_hit_rate@1</td><td>0</td></tr><tr><td>test_hit_rate@20</td><td>0.5</td></tr><tr><td>test_hit_rate@5</td><td>0</td></tr><tr><td>test_loss</td><td>0.03576</td></tr><tr><td>test_mces@1</td><td>11.75</td></tr><tr><td>trainer/global_step</td><td>4</td></tr><tr><td>val_hit_rate@1</td><td>0.25</td></tr><tr><td>val_hit_rate@20</td><td>0.25</td></tr><tr><td>val_hit_rate@5</td><td>0.25</td></tr><tr><td>val_loss</td><td>0.03667</td></tr><tr><td>val_mces@1</td><td>7.5</td></tr></table><br/></div></div>"
      ]
     },
     "metadata": {},
     "output_type": "display_data"
    },
    {
     "data": {
      "text/plain": [
       "<IPython.core.display.HTML object>"
      ],
      "text/html": [
       " View run <strong style=\"color:#cdcd00\">config_skip_connection_dreams_bonus_cut_tree_0_2025-02-04_14-32-12</strong> at: <a href='https://wandb.ai/jozefov-iocb-prague/new_gnn_retrieval_cut/runs/ikclnqfk' target=\"_blank\">https://wandb.ai/jozefov-iocb-prague/new_gnn_retrieval_cut/runs/ikclnqfk</a><br> View project at: <a href='https://wandb.ai/jozefov-iocb-prague/new_gnn_retrieval_cut' target=\"_blank\">https://wandb.ai/jozefov-iocb-prague/new_gnn_retrieval_cut</a><br>Synced 5 W&B file(s), 0 media file(s), 0 artifact file(s) and 0 other file(s)"
      ]
     },
     "metadata": {},
     "output_type": "display_data"
    },
    {
     "data": {
      "text/plain": [
       "<IPython.core.display.HTML object>"
      ],
      "text/html": [
       "Find logs at: <code>./wandb/run-20250204_143231-ikclnqfk/logs</code>"
      ]
     },
     "metadata": {},
     "output_type": "display_data"
    },
    {
     "name": "stdout",
     "output_type": "stream",
     "text": [
      "Configuration saved to /Users/macbook/CODE/PhantoMS/experiments_run/new_gnn_retrieval_cut/config_skip_connection_dreams_bonus_cut_tree_0_2025-02-04_14-32-12/configs/config_skip_connection_dreams_bonus.yml\n",
      "\n",
      "Extracting embeddings for /Users/macbook/CODE/PhantoMS/experiments_run/new_gnn_retrieval_cut/config_skip_connection_dreams_bonus_cut_tree_0_2025-02-04_14-32-12\n"
     ]
    },
    {
     "name": "stderr",
     "output_type": "stream",
     "text": [
      "/Users/macbook/UTILS/anaconda3/envs/phantoms_env/lib/python3.11/site-packages/torch/nn/utils/weight_norm.py:143: FutureWarning: `torch.nn.utils.weight_norm` is deprecated in favor of `torch.nn.utils.parametrizations.weight_norm`.\n",
      "  WeightNorm.apply(module, name, dim)\n"
     ]
    },
    {
     "name": "stdout",
     "output_type": "stream",
     "text": [
      "Warning: No candidates for 0 SMILES. Skipping them.\n",
      "Total valid indices: 105\n",
      "MSnRetrievalDataset length: 105\n",
      "Warning: Some identifiers in the split file are not found in the dataset. Taking intersection.\n",
      "Test dataset size: 17\n",
      "Embeddings saved to /Users/macbook/CODE/PhantoMS/experiments_run/new_gnn_retrieval_cut/config_skip_connection_dreams_bonus_cut_tree_0_2025-02-04_14-32-12/embeddings\n",
      "\n",
      "Running Experiment: config_skip_connection_dreams_bonus_cut_tree_1_2025-02-04_14-33-05\n",
      "W&B Project: new_gnn_retrieval_cut\n",
      "Cut Tree Level: 1\n",
      "\n",
      "Starting training for /Users/macbook/CODE/PhantoMS/experiments_run/new_gnn_retrieval_cut/config_skip_connection_dreams_bonus_cut_tree_1_2025-02-04_14-33-05\n",
      "Using retrieval task/model.\n",
      "Warning: No candidates for 0 SMILES. Skipping them.\n",
      "Total valid indices: 105\n",
      "MSnRetrievalDataset length: 105\n"
     ]
    },
    {
     "name": "stderr",
     "output_type": "stream",
     "text": [
      "/Users/macbook/UTILS/anaconda3/envs/phantoms_env/lib/python3.11/site-packages/torch/nn/utils/weight_norm.py:143: FutureWarning: `torch.nn.utils.weight_norm` is deprecated in favor of `torch.nn.utils.parametrizations.weight_norm`.\n",
      "  WeightNorm.apply(module, name, dim)\n",
      "GPU available: True (mps), used: False\n",
      "TPU available: False, using: 0 TPU cores\n",
      "HPU available: False, using: 0 HPUs\n",
      "/Users/macbook/UTILS/anaconda3/envs/phantoms_env/lib/python3.11/site-packages/pytorch_lightning/trainer/setup.py:177: GPU available but not used. You can set it by doing `Trainer(accelerator='gpu')`.\n"
     ]
    },
    {
     "data": {
      "text/plain": [
       "<IPython.core.display.HTML object>"
      ],
      "text/html": [
       "Tracking run with wandb version 0.19.4"
      ]
     },
     "metadata": {},
     "output_type": "display_data"
    },
    {
     "data": {
      "text/plain": [
       "<IPython.core.display.HTML object>"
      ],
      "text/html": [
       "Run data is saved locally in <code>./wandb/run-20250204_143326-sl2wygeq</code>"
      ]
     },
     "metadata": {},
     "output_type": "display_data"
    },
    {
     "data": {
      "text/plain": [
       "<IPython.core.display.HTML object>"
      ],
      "text/html": [
       "Syncing run <strong><a href='https://wandb.ai/jozefov-iocb-prague/new_gnn_retrieval_cut/runs/sl2wygeq' target=\"_blank\">config_skip_connection_dreams_bonus_cut_tree_1_2025-02-04_14-33-05</a></strong> to <a href='https://wandb.ai/jozefov-iocb-prague/new_gnn_retrieval_cut' target=\"_blank\">Weights & Biases</a> (<a href='https://wandb.me/developer-guide' target=\"_blank\">docs</a>)<br>"
      ]
     },
     "metadata": {},
     "output_type": "display_data"
    },
    {
     "data": {
      "text/plain": [
       "<IPython.core.display.HTML object>"
      ],
      "text/html": [
       " View project at <a href='https://wandb.ai/jozefov-iocb-prague/new_gnn_retrieval_cut' target=\"_blank\">https://wandb.ai/jozefov-iocb-prague/new_gnn_retrieval_cut</a>"
      ]
     },
     "metadata": {},
     "output_type": "display_data"
    },
    {
     "data": {
      "text/plain": [
       "<IPython.core.display.HTML object>"
      ],
      "text/html": [
       " View run at <a href='https://wandb.ai/jozefov-iocb-prague/new_gnn_retrieval_cut/runs/sl2wygeq' target=\"_blank\">https://wandb.ai/jozefov-iocb-prague/new_gnn_retrieval_cut/runs/sl2wygeq</a>"
      ]
     },
     "metadata": {},
     "output_type": "display_data"
    },
    {
     "name": "stderr",
     "output_type": "stream",
     "text": [
      "\n",
      "  | Name            | Type                        | Params | Mode \n",
      "------------------------------------------------------------------------\n",
      "0 | gcn_layers      | ModuleList                  | 10.5 M | train\n",
      "1 | formula_encoder | Sequential                  | 4.9 K  | train\n",
      "2 | head            | SkipConnectionRetrievalHead | 37.9 M | train\n",
      "3 | loss_fn         | MSELoss                     | 0      | train\n",
      "------------------------------------------------------------------------\n",
      "48.4 M    Trainable params\n",
      "0         Non-trainable params\n",
      "48.4 M    Total params\n",
      "193.760   Total estimated model params size (MB)\n",
      "59        Modules in train mode\n",
      "0         Modules in eval mode\n"
     ]
    },
    {
     "name": "stdout",
     "output_type": "stream",
     "text": [
      "Warning: Some identifiers in the split file are not found in the dataset. Taking intersection.\n",
      "Train dataset size: 82\n",
      "Val dataset size: 6\n"
     ]
    },
    {
     "data": {
      "text/plain": [
       "Sanity Checking: |          | 0/? [00:00<?, ?it/s]"
      ],
      "application/vnd.jupyter.widget-view+json": {
       "version_major": 2,
       "version_minor": 0,
       "model_id": "bce6b8055ef742bd90a2a6ef40c86d8d"
      }
     },
     "metadata": {},
     "output_type": "display_data"
    },
    {
     "name": "stderr",
     "output_type": "stream",
     "text": [
      "/Users/macbook/UTILS/anaconda3/envs/phantoms_env/lib/python3.11/site-packages/pytorch_lightning/trainer/connectors/data_connector.py:425: The 'val_dataloader' does not have many workers which may be a bottleneck. Consider increasing the value of the `num_workers` argument` to `num_workers=9` in the `DataLoader` to improve performance.\n",
      "/Users/macbook/UTILS/anaconda3/envs/phantoms_env/lib/python3.11/site-packages/pytorch_lightning/trainer/connectors/data_connector.py:425: The 'train_dataloader' does not have many workers which may be a bottleneck. Consider increasing the value of the `num_workers` argument` to `num_workers=9` in the `DataLoader` to improve performance.\n",
      "/Users/macbook/UTILS/anaconda3/envs/phantoms_env/lib/python3.11/site-packages/pytorch_lightning/loops/fit_loop.py:310: The number of training batches (2) is smaller than the logging interval Trainer(log_every_n_steps=10). Set a lower value for log_every_n_steps if you want to see logs for the training epoch.\n"
     ]
    },
    {
     "data": {
      "text/plain": [
       "Training: |          | 0/? [00:00<?, ?it/s]"
      ],
      "application/vnd.jupyter.widget-view+json": {
       "version_major": 2,
       "version_minor": 0,
       "model_id": "1bb5203030ac4ffb9c301289e0845cb8"
      }
     },
     "metadata": {},
     "output_type": "display_data"
    },
    {
     "data": {
      "text/plain": [
       "Validation: |          | 0/? [00:00<?, ?it/s]"
      ],
      "application/vnd.jupyter.widget-view+json": {
       "version_major": 2,
       "version_minor": 0,
       "model_id": "a3afba3ff2e040078a1f80c3eed0b370"
      }
     },
     "metadata": {},
     "output_type": "display_data"
    },
    {
     "data": {
      "text/plain": [
       "Validation: |          | 0/? [00:00<?, ?it/s]"
      ],
      "application/vnd.jupyter.widget-view+json": {
       "version_major": 2,
       "version_minor": 0,
       "model_id": "9e3d694943fd487283931685ad60c1d3"
      }
     },
     "metadata": {},
     "output_type": "display_data"
    },
    {
     "name": "stderr",
     "output_type": "stream",
     "text": [
      "`Trainer.fit` stopped: `max_epochs=2` reached.\n"
     ]
    },
    {
     "name": "stdout",
     "output_type": "stream",
     "text": [
      "Warning: Some identifiers in the split file are not found in the dataset. Taking intersection.\n",
      "Test dataset size: 17\n"
     ]
    },
    {
     "name": "stderr",
     "output_type": "stream",
     "text": [
      "/Users/macbook/UTILS/anaconda3/envs/phantoms_env/lib/python3.11/site-packages/pytorch_lightning/trainer/connectors/data_connector.py:425: The 'test_dataloader' does not have many workers which may be a bottleneck. Consider increasing the value of the `num_workers` argument` to `num_workers=9` in the `DataLoader` to improve performance.\n"
     ]
    },
    {
     "data": {
      "text/plain": [
       "Testing: |          | 0/? [00:00<?, ?it/s]"
      ],
      "application/vnd.jupyter.widget-view+json": {
       "version_major": 2,
       "version_minor": 0,
       "model_id": "49a37302fe38403a91fbfee7060a64db"
      }
     },
     "metadata": {},
     "output_type": "display_data"
    },
    {
     "name": "stdout",
     "output_type": "stream",
     "text": [
      "────────────────────────────────────────────────────────────────────────────────────────────────────────────────────────\n",
      "       Test metric             DataLoader 0\n",
      "────────────────────────────────────────────────────────────────────────────────────────────────────────────────────────\n",
      "     test_hit_rate@1                0.0\n",
      "    test_hit_rate@20                1.0\n",
      "     test_hit_rate@5               0.25\n",
      "        test_loss           0.02775578759610653\n",
      "       test_mces@1                 13.75\n",
      "────────────────────────────────────────────────────────────────────────────────────────────────────────────────────────\n",
      "Model saved to /Users/macbook/CODE/PhantoMS/experiments_run/new_gnn_retrieval_cut/config_skip_connection_dreams_bonus_cut_tree_1_2025-02-04_14-33-05/checkpoints/final_model.ckpt\n"
     ]
    },
    {
     "data": {
      "text/plain": [
       "<IPython.core.display.HTML object>"
      ],
      "text/html": []
     },
     "metadata": {},
     "output_type": "display_data"
    },
    {
     "data": {
      "text/plain": [
       "<IPython.core.display.HTML object>"
      ],
      "text/html": [
       "<br>    <style><br>        .wandb-row {<br>            display: flex;<br>            flex-direction: row;<br>            flex-wrap: wrap;<br>            justify-content: flex-start;<br>            width: 100%;<br>        }<br>        .wandb-col {<br>            display: flex;<br>            flex-direction: column;<br>            flex-basis: 100%;<br>            flex: 1;<br>            padding: 10px;<br>        }<br>    </style><br><div class=\"wandb-row\"><div class=\"wandb-col\"><h3>Run history:</h3><br/><table class=\"wandb\"><tr><td>epoch</td><td>▁▅█</td></tr><tr><td>test_hit_rate@1</td><td>▁</td></tr><tr><td>test_hit_rate@20</td><td>▁</td></tr><tr><td>test_hit_rate@5</td><td>▁</td></tr><tr><td>test_loss</td><td>▁</td></tr><tr><td>test_mces@1</td><td>▁</td></tr><tr><td>trainer/global_step</td><td>▁▆█</td></tr><tr><td>val_hit_rate@1</td><td>▁▁</td></tr><tr><td>val_hit_rate@20</td><td>▁▁</td></tr><tr><td>val_hit_rate@5</td><td>█▁</td></tr><tr><td>val_loss</td><td>▁█</td></tr><tr><td>val_mces@1</td><td>▁█</td></tr></table><br/></div><div class=\"wandb-col\"><h3>Run summary:</h3><br/><table class=\"wandb\"><tr><td>epoch</td><td>2</td></tr><tr><td>test_hit_rate@1</td><td>0</td></tr><tr><td>test_hit_rate@20</td><td>1</td></tr><tr><td>test_hit_rate@5</td><td>0.25</td></tr><tr><td>test_loss</td><td>0.02776</td></tr><tr><td>test_mces@1</td><td>13.75</td></tr><tr><td>trainer/global_step</td><td>4</td></tr><tr><td>val_hit_rate@1</td><td>0</td></tr><tr><td>val_hit_rate@20</td><td>0.5</td></tr><tr><td>val_hit_rate@5</td><td>0</td></tr><tr><td>val_loss</td><td>0.03248</td></tr><tr><td>val_mces@1</td><td>14.5</td></tr></table><br/></div></div>"
      ]
     },
     "metadata": {},
     "output_type": "display_data"
    },
    {
     "data": {
      "text/plain": [
       "<IPython.core.display.HTML object>"
      ],
      "text/html": [
       " View run <strong style=\"color:#cdcd00\">config_skip_connection_dreams_bonus_cut_tree_1_2025-02-04_14-33-05</strong> at: <a href='https://wandb.ai/jozefov-iocb-prague/new_gnn_retrieval_cut/runs/sl2wygeq' target=\"_blank\">https://wandb.ai/jozefov-iocb-prague/new_gnn_retrieval_cut/runs/sl2wygeq</a><br> View project at: <a href='https://wandb.ai/jozefov-iocb-prague/new_gnn_retrieval_cut' target=\"_blank\">https://wandb.ai/jozefov-iocb-prague/new_gnn_retrieval_cut</a><br>Synced 5 W&B file(s), 0 media file(s), 0 artifact file(s) and 0 other file(s)"
      ]
     },
     "metadata": {},
     "output_type": "display_data"
    },
    {
     "data": {
      "text/plain": [
       "<IPython.core.display.HTML object>"
      ],
      "text/html": [
       "Find logs at: <code>./wandb/run-20250204_143326-sl2wygeq/logs</code>"
      ]
     },
     "metadata": {},
     "output_type": "display_data"
    },
    {
     "name": "stdout",
     "output_type": "stream",
     "text": [
      "Configuration saved to /Users/macbook/CODE/PhantoMS/experiments_run/new_gnn_retrieval_cut/config_skip_connection_dreams_bonus_cut_tree_1_2025-02-04_14-33-05/configs/config_skip_connection_dreams_bonus.yml\n",
      "\n",
      "Extracting embeddings for /Users/macbook/CODE/PhantoMS/experiments_run/new_gnn_retrieval_cut/config_skip_connection_dreams_bonus_cut_tree_1_2025-02-04_14-33-05\n"
     ]
    },
    {
     "name": "stderr",
     "output_type": "stream",
     "text": [
      "/Users/macbook/UTILS/anaconda3/envs/phantoms_env/lib/python3.11/site-packages/torch/nn/utils/weight_norm.py:143: FutureWarning: `torch.nn.utils.weight_norm` is deprecated in favor of `torch.nn.utils.parametrizations.weight_norm`.\n",
      "  WeightNorm.apply(module, name, dim)\n"
     ]
    },
    {
     "name": "stdout",
     "output_type": "stream",
     "text": [
      "Warning: No candidates for 0 SMILES. Skipping them.\n",
      "Total valid indices: 105\n",
      "MSnRetrievalDataset length: 105\n",
      "Warning: Some identifiers in the split file are not found in the dataset. Taking intersection.\n",
      "Test dataset size: 17\n",
      "Embeddings saved to /Users/macbook/CODE/PhantoMS/experiments_run/new_gnn_retrieval_cut/config_skip_connection_dreams_bonus_cut_tree_1_2025-02-04_14-33-05/embeddings\n",
      "\n",
      "Running Experiment: config_skip_connection_dreams_bonus_cut_tree_2_2025-02-04_14-34-01\n",
      "W&B Project: new_gnn_retrieval_cut\n",
      "Cut Tree Level: 2\n",
      "\n",
      "Starting training for /Users/macbook/CODE/PhantoMS/experiments_run/new_gnn_retrieval_cut/config_skip_connection_dreams_bonus_cut_tree_2_2025-02-04_14-34-01\n",
      "Using retrieval task/model.\n",
      "Warning: No candidates for 0 SMILES. Skipping them.\n",
      "Total valid indices: 105\n",
      "MSnRetrievalDataset length: 105\n"
     ]
    },
    {
     "name": "stderr",
     "output_type": "stream",
     "text": [
      "/Users/macbook/UTILS/anaconda3/envs/phantoms_env/lib/python3.11/site-packages/torch/nn/utils/weight_norm.py:143: FutureWarning: `torch.nn.utils.weight_norm` is deprecated in favor of `torch.nn.utils.parametrizations.weight_norm`.\n",
      "  WeightNorm.apply(module, name, dim)\n",
      "GPU available: True (mps), used: False\n",
      "TPU available: False, using: 0 TPU cores\n",
      "HPU available: False, using: 0 HPUs\n",
      "/Users/macbook/UTILS/anaconda3/envs/phantoms_env/lib/python3.11/site-packages/pytorch_lightning/trainer/setup.py:177: GPU available but not used. You can set it by doing `Trainer(accelerator='gpu')`.\n"
     ]
    },
    {
     "data": {
      "text/plain": [
       "<IPython.core.display.HTML object>"
      ],
      "text/html": [
       "Tracking run with wandb version 0.19.4"
      ]
     },
     "metadata": {},
     "output_type": "display_data"
    },
    {
     "data": {
      "text/plain": [
       "<IPython.core.display.HTML object>"
      ],
      "text/html": [
       "Run data is saved locally in <code>./wandb/run-20250204_143420-3r76d6on</code>"
      ]
     },
     "metadata": {},
     "output_type": "display_data"
    },
    {
     "data": {
      "text/plain": [
       "<IPython.core.display.HTML object>"
      ],
      "text/html": [
       "Syncing run <strong><a href='https://wandb.ai/jozefov-iocb-prague/new_gnn_retrieval_cut/runs/3r76d6on' target=\"_blank\">config_skip_connection_dreams_bonus_cut_tree_2_2025-02-04_14-34-01</a></strong> to <a href='https://wandb.ai/jozefov-iocb-prague/new_gnn_retrieval_cut' target=\"_blank\">Weights & Biases</a> (<a href='https://wandb.me/developer-guide' target=\"_blank\">docs</a>)<br>"
      ]
     },
     "metadata": {},
     "output_type": "display_data"
    },
    {
     "data": {
      "text/plain": [
       "<IPython.core.display.HTML object>"
      ],
      "text/html": [
       " View project at <a href='https://wandb.ai/jozefov-iocb-prague/new_gnn_retrieval_cut' target=\"_blank\">https://wandb.ai/jozefov-iocb-prague/new_gnn_retrieval_cut</a>"
      ]
     },
     "metadata": {},
     "output_type": "display_data"
    },
    {
     "data": {
      "text/plain": [
       "<IPython.core.display.HTML object>"
      ],
      "text/html": [
       " View run at <a href='https://wandb.ai/jozefov-iocb-prague/new_gnn_retrieval_cut/runs/3r76d6on' target=\"_blank\">https://wandb.ai/jozefov-iocb-prague/new_gnn_retrieval_cut/runs/3r76d6on</a>"
      ]
     },
     "metadata": {},
     "output_type": "display_data"
    },
    {
     "name": "stderr",
     "output_type": "stream",
     "text": [
      "\n",
      "  | Name            | Type                        | Params | Mode \n",
      "------------------------------------------------------------------------\n",
      "0 | gcn_layers      | ModuleList                  | 10.5 M | train\n",
      "1 | formula_encoder | Sequential                  | 4.9 K  | train\n",
      "2 | head            | SkipConnectionRetrievalHead | 37.9 M | train\n",
      "3 | loss_fn         | MSELoss                     | 0      | train\n",
      "------------------------------------------------------------------------\n",
      "48.4 M    Trainable params\n",
      "0         Non-trainable params\n",
      "48.4 M    Total params\n",
      "193.760   Total estimated model params size (MB)\n",
      "59        Modules in train mode\n",
      "0         Modules in eval mode\n"
     ]
    },
    {
     "name": "stdout",
     "output_type": "stream",
     "text": [
      "Warning: Some identifiers in the split file are not found in the dataset. Taking intersection.\n",
      "Train dataset size: 82\n",
      "Val dataset size: 6\n"
     ]
    },
    {
     "data": {
      "text/plain": [
       "Sanity Checking: |          | 0/? [00:00<?, ?it/s]"
      ],
      "application/vnd.jupyter.widget-view+json": {
       "version_major": 2,
       "version_minor": 0,
       "model_id": "f028457257d4440da64f4a5fcf86fb53"
      }
     },
     "metadata": {},
     "output_type": "display_data"
    },
    {
     "name": "stderr",
     "output_type": "stream",
     "text": [
      "/Users/macbook/UTILS/anaconda3/envs/phantoms_env/lib/python3.11/site-packages/pytorch_lightning/trainer/connectors/data_connector.py:425: The 'val_dataloader' does not have many workers which may be a bottleneck. Consider increasing the value of the `num_workers` argument` to `num_workers=9` in the `DataLoader` to improve performance.\n",
      "/Users/macbook/UTILS/anaconda3/envs/phantoms_env/lib/python3.11/site-packages/pytorch_lightning/trainer/connectors/data_connector.py:425: The 'train_dataloader' does not have many workers which may be a bottleneck. Consider increasing the value of the `num_workers` argument` to `num_workers=9` in the `DataLoader` to improve performance.\n",
      "/Users/macbook/UTILS/anaconda3/envs/phantoms_env/lib/python3.11/site-packages/pytorch_lightning/loops/fit_loop.py:310: The number of training batches (2) is smaller than the logging interval Trainer(log_every_n_steps=10). Set a lower value for log_every_n_steps if you want to see logs for the training epoch.\n"
     ]
    },
    {
     "data": {
      "text/plain": [
       "Training: |          | 0/? [00:00<?, ?it/s]"
      ],
      "application/vnd.jupyter.widget-view+json": {
       "version_major": 2,
       "version_minor": 0,
       "model_id": "8de3e03202814443875cbbbcd411f981"
      }
     },
     "metadata": {},
     "output_type": "display_data"
    },
    {
     "data": {
      "text/plain": [
       "Validation: |          | 0/? [00:00<?, ?it/s]"
      ],
      "application/vnd.jupyter.widget-view+json": {
       "version_major": 2,
       "version_minor": 0,
       "model_id": "a84480381b04424f9d9bd2425c7d22f2"
      }
     },
     "metadata": {},
     "output_type": "display_data"
    },
    {
     "data": {
      "text/plain": [
       "Validation: |          | 0/? [00:00<?, ?it/s]"
      ],
      "application/vnd.jupyter.widget-view+json": {
       "version_major": 2,
       "version_minor": 0,
       "model_id": "bfb817a73c8b4db7b3514b56468f646f"
      }
     },
     "metadata": {},
     "output_type": "display_data"
    },
    {
     "name": "stderr",
     "output_type": "stream",
     "text": [
      "`Trainer.fit` stopped: `max_epochs=2` reached.\n"
     ]
    },
    {
     "name": "stdout",
     "output_type": "stream",
     "text": [
      "Warning: Some identifiers in the split file are not found in the dataset. Taking intersection.\n",
      "Test dataset size: 17\n"
     ]
    },
    {
     "name": "stderr",
     "output_type": "stream",
     "text": [
      "/Users/macbook/UTILS/anaconda3/envs/phantoms_env/lib/python3.11/site-packages/pytorch_lightning/trainer/connectors/data_connector.py:425: The 'test_dataloader' does not have many workers which may be a bottleneck. Consider increasing the value of the `num_workers` argument` to `num_workers=9` in the `DataLoader` to improve performance.\n"
     ]
    },
    {
     "data": {
      "text/plain": [
       "Testing: |          | 0/? [00:00<?, ?it/s]"
      ],
      "application/vnd.jupyter.widget-view+json": {
       "version_major": 2,
       "version_minor": 0,
       "model_id": "156cdd3b565643dc9956fd7d675e7f89"
      }
     },
     "metadata": {},
     "output_type": "display_data"
    },
    {
     "name": "stdout",
     "output_type": "stream",
     "text": [
      "────────────────────────────────────────────────────────────────────────────────────────────────────────────────────────\n",
      "       Test metric             DataLoader 0\n",
      "────────────────────────────────────────────────────────────────────────────────────────────────────────────────────────\n",
      "     test_hit_rate@1                0.0\n",
      "    test_hit_rate@20               0.25\n",
      "     test_hit_rate@5                0.0\n",
      "        test_loss           0.02681102603673935\n",
      "       test_mces@1                 12.0\n",
      "────────────────────────────────────────────────────────────────────────────────────────────────────────────────────────\n",
      "Model saved to /Users/macbook/CODE/PhantoMS/experiments_run/new_gnn_retrieval_cut/config_skip_connection_dreams_bonus_cut_tree_2_2025-02-04_14-34-01/checkpoints/final_model.ckpt\n"
     ]
    },
    {
     "data": {
      "text/plain": [
       "<IPython.core.display.HTML object>"
      ],
      "text/html": []
     },
     "metadata": {},
     "output_type": "display_data"
    },
    {
     "data": {
      "text/plain": [
       "<IPython.core.display.HTML object>"
      ],
      "text/html": [
       "<br>    <style><br>        .wandb-row {<br>            display: flex;<br>            flex-direction: row;<br>            flex-wrap: wrap;<br>            justify-content: flex-start;<br>            width: 100%;<br>        }<br>        .wandb-col {<br>            display: flex;<br>            flex-direction: column;<br>            flex-basis: 100%;<br>            flex: 1;<br>            padding: 10px;<br>        }<br>    </style><br><div class=\"wandb-row\"><div class=\"wandb-col\"><h3>Run history:</h3><br/><table class=\"wandb\"><tr><td>epoch</td><td>▁▅█</td></tr><tr><td>test_hit_rate@1</td><td>▁</td></tr><tr><td>test_hit_rate@20</td><td>▁</td></tr><tr><td>test_hit_rate@5</td><td>▁</td></tr><tr><td>test_loss</td><td>▁</td></tr><tr><td>test_mces@1</td><td>▁</td></tr><tr><td>trainer/global_step</td><td>▁▆█</td></tr><tr><td>val_hit_rate@1</td><td>▁▁</td></tr><tr><td>val_hit_rate@20</td><td>▁▁</td></tr><tr><td>val_hit_rate@5</td><td>▁▁</td></tr><tr><td>val_loss</td><td>▁█</td></tr><tr><td>val_mces@1</td><td>▁▁</td></tr></table><br/></div><div class=\"wandb-col\"><h3>Run summary:</h3><br/><table class=\"wandb\"><tr><td>epoch</td><td>2</td></tr><tr><td>test_hit_rate@1</td><td>0</td></tr><tr><td>test_hit_rate@20</td><td>0.25</td></tr><tr><td>test_hit_rate@5</td><td>0</td></tr><tr><td>test_loss</td><td>0.02681</td></tr><tr><td>test_mces@1</td><td>12</td></tr><tr><td>trainer/global_step</td><td>4</td></tr><tr><td>val_hit_rate@1</td><td>0</td></tr><tr><td>val_hit_rate@20</td><td>0</td></tr><tr><td>val_hit_rate@5</td><td>0</td></tr><tr><td>val_loss</td><td>0.03095</td></tr><tr><td>val_mces@1</td><td>9.75</td></tr></table><br/></div></div>"
      ]
     },
     "metadata": {},
     "output_type": "display_data"
    },
    {
     "data": {
      "text/plain": [
       "<IPython.core.display.HTML object>"
      ],
      "text/html": [
       " View run <strong style=\"color:#cdcd00\">config_skip_connection_dreams_bonus_cut_tree_2_2025-02-04_14-34-01</strong> at: <a href='https://wandb.ai/jozefov-iocb-prague/new_gnn_retrieval_cut/runs/3r76d6on' target=\"_blank\">https://wandb.ai/jozefov-iocb-prague/new_gnn_retrieval_cut/runs/3r76d6on</a><br> View project at: <a href='https://wandb.ai/jozefov-iocb-prague/new_gnn_retrieval_cut' target=\"_blank\">https://wandb.ai/jozefov-iocb-prague/new_gnn_retrieval_cut</a><br>Synced 5 W&B file(s), 0 media file(s), 0 artifact file(s) and 0 other file(s)"
      ]
     },
     "metadata": {},
     "output_type": "display_data"
    },
    {
     "data": {
      "text/plain": [
       "<IPython.core.display.HTML object>"
      ],
      "text/html": [
       "Find logs at: <code>./wandb/run-20250204_143420-3r76d6on/logs</code>"
      ]
     },
     "metadata": {},
     "output_type": "display_data"
    },
    {
     "name": "stdout",
     "output_type": "stream",
     "text": [
      "Configuration saved to /Users/macbook/CODE/PhantoMS/experiments_run/new_gnn_retrieval_cut/config_skip_connection_dreams_bonus_cut_tree_2_2025-02-04_14-34-01/configs/config_skip_connection_dreams_bonus.yml\n",
      "\n",
      "Extracting embeddings for /Users/macbook/CODE/PhantoMS/experiments_run/new_gnn_retrieval_cut/config_skip_connection_dreams_bonus_cut_tree_2_2025-02-04_14-34-01\n"
     ]
    },
    {
     "name": "stderr",
     "output_type": "stream",
     "text": [
      "/Users/macbook/UTILS/anaconda3/envs/phantoms_env/lib/python3.11/site-packages/torch/nn/utils/weight_norm.py:143: FutureWarning: `torch.nn.utils.weight_norm` is deprecated in favor of `torch.nn.utils.parametrizations.weight_norm`.\n",
      "  WeightNorm.apply(module, name, dim)\n"
     ]
    },
    {
     "name": "stdout",
     "output_type": "stream",
     "text": [
      "Warning: No candidates for 0 SMILES. Skipping them.\n",
      "Total valid indices: 105\n",
      "MSnRetrievalDataset length: 105\n",
      "Warning: Some identifiers in the split file are not found in the dataset. Taking intersection.\n",
      "Test dataset size: 17\n",
      "Embeddings saved to /Users/macbook/CODE/PhantoMS/experiments_run/new_gnn_retrieval_cut/config_skip_connection_dreams_bonus_cut_tree_2_2025-02-04_14-34-01/embeddings\n",
      "\n",
      "Running Experiment: config_skip_connection_dreams_bonus_cut_tree_3_2025-02-04_14-34-56\n",
      "W&B Project: new_gnn_retrieval_cut\n",
      "Cut Tree Level: 3\n",
      "\n",
      "Starting training for /Users/macbook/CODE/PhantoMS/experiments_run/new_gnn_retrieval_cut/config_skip_connection_dreams_bonus_cut_tree_3_2025-02-04_14-34-56\n",
      "Using retrieval task/model.\n",
      "Warning: No candidates for 0 SMILES. Skipping them.\n",
      "Total valid indices: 105\n",
      "MSnRetrievalDataset length: 105\n"
     ]
    },
    {
     "name": "stderr",
     "output_type": "stream",
     "text": [
      "/Users/macbook/UTILS/anaconda3/envs/phantoms_env/lib/python3.11/site-packages/torch/nn/utils/weight_norm.py:143: FutureWarning: `torch.nn.utils.weight_norm` is deprecated in favor of `torch.nn.utils.parametrizations.weight_norm`.\n",
      "  WeightNorm.apply(module, name, dim)\n",
      "GPU available: True (mps), used: False\n",
      "TPU available: False, using: 0 TPU cores\n",
      "HPU available: False, using: 0 HPUs\n",
      "/Users/macbook/UTILS/anaconda3/envs/phantoms_env/lib/python3.11/site-packages/pytorch_lightning/trainer/setup.py:177: GPU available but not used. You can set it by doing `Trainer(accelerator='gpu')`.\n"
     ]
    },
    {
     "data": {
      "text/plain": [
       "<IPython.core.display.HTML object>"
      ],
      "text/html": [
       "Tracking run with wandb version 0.19.4"
      ]
     },
     "metadata": {},
     "output_type": "display_data"
    },
    {
     "data": {
      "text/plain": [
       "<IPython.core.display.HTML object>"
      ],
      "text/html": [
       "Run data is saved locally in <code>./wandb/run-20250204_143516-koecw3gn</code>"
      ]
     },
     "metadata": {},
     "output_type": "display_data"
    },
    {
     "data": {
      "text/plain": [
       "<IPython.core.display.HTML object>"
      ],
      "text/html": [
       "Syncing run <strong><a href='https://wandb.ai/jozefov-iocb-prague/new_gnn_retrieval_cut/runs/koecw3gn' target=\"_blank\">config_skip_connection_dreams_bonus_cut_tree_3_2025-02-04_14-34-56</a></strong> to <a href='https://wandb.ai/jozefov-iocb-prague/new_gnn_retrieval_cut' target=\"_blank\">Weights & Biases</a> (<a href='https://wandb.me/developer-guide' target=\"_blank\">docs</a>)<br>"
      ]
     },
     "metadata": {},
     "output_type": "display_data"
    },
    {
     "data": {
      "text/plain": [
       "<IPython.core.display.HTML object>"
      ],
      "text/html": [
       " View project at <a href='https://wandb.ai/jozefov-iocb-prague/new_gnn_retrieval_cut' target=\"_blank\">https://wandb.ai/jozefov-iocb-prague/new_gnn_retrieval_cut</a>"
      ]
     },
     "metadata": {},
     "output_type": "display_data"
    },
    {
     "data": {
      "text/plain": [
       "<IPython.core.display.HTML object>"
      ],
      "text/html": [
       " View run at <a href='https://wandb.ai/jozefov-iocb-prague/new_gnn_retrieval_cut/runs/koecw3gn' target=\"_blank\">https://wandb.ai/jozefov-iocb-prague/new_gnn_retrieval_cut/runs/koecw3gn</a>"
      ]
     },
     "metadata": {},
     "output_type": "display_data"
    },
    {
     "name": "stderr",
     "output_type": "stream",
     "text": [
      "\n",
      "  | Name            | Type                        | Params | Mode \n",
      "------------------------------------------------------------------------\n",
      "0 | gcn_layers      | ModuleList                  | 10.5 M | train\n",
      "1 | formula_encoder | Sequential                  | 4.9 K  | train\n",
      "2 | head            | SkipConnectionRetrievalHead | 37.9 M | train\n",
      "3 | loss_fn         | MSELoss                     | 0      | train\n",
      "------------------------------------------------------------------------\n",
      "48.4 M    Trainable params\n",
      "0         Non-trainable params\n",
      "48.4 M    Total params\n",
      "193.760   Total estimated model params size (MB)\n",
      "59        Modules in train mode\n",
      "0         Modules in eval mode\n"
     ]
    },
    {
     "name": "stdout",
     "output_type": "stream",
     "text": [
      "Warning: Some identifiers in the split file are not found in the dataset. Taking intersection.\n",
      "Train dataset size: 82\n",
      "Val dataset size: 6\n"
     ]
    },
    {
     "data": {
      "text/plain": [
       "Sanity Checking: |          | 0/? [00:00<?, ?it/s]"
      ],
      "application/vnd.jupyter.widget-view+json": {
       "version_major": 2,
       "version_minor": 0,
       "model_id": "0a9e974940274bbeaecad1d7f16201f9"
      }
     },
     "metadata": {},
     "output_type": "display_data"
    },
    {
     "name": "stderr",
     "output_type": "stream",
     "text": [
      "/Users/macbook/UTILS/anaconda3/envs/phantoms_env/lib/python3.11/site-packages/pytorch_lightning/trainer/connectors/data_connector.py:425: The 'val_dataloader' does not have many workers which may be a bottleneck. Consider increasing the value of the `num_workers` argument` to `num_workers=9` in the `DataLoader` to improve performance.\n",
      "/Users/macbook/UTILS/anaconda3/envs/phantoms_env/lib/python3.11/site-packages/pytorch_lightning/trainer/connectors/data_connector.py:425: The 'train_dataloader' does not have many workers which may be a bottleneck. Consider increasing the value of the `num_workers` argument` to `num_workers=9` in the `DataLoader` to improve performance.\n",
      "/Users/macbook/UTILS/anaconda3/envs/phantoms_env/lib/python3.11/site-packages/pytorch_lightning/loops/fit_loop.py:310: The number of training batches (2) is smaller than the logging interval Trainer(log_every_n_steps=10). Set a lower value for log_every_n_steps if you want to see logs for the training epoch.\n"
     ]
    },
    {
     "data": {
      "text/plain": [
       "Training: |          | 0/? [00:00<?, ?it/s]"
      ],
      "application/vnd.jupyter.widget-view+json": {
       "version_major": 2,
       "version_minor": 0,
       "model_id": "7cd817e69d4a43f890d0fd6340d3cc35"
      }
     },
     "metadata": {},
     "output_type": "display_data"
    },
    {
     "data": {
      "text/plain": [
       "Validation: |          | 0/? [00:00<?, ?it/s]"
      ],
      "application/vnd.jupyter.widget-view+json": {
       "version_major": 2,
       "version_minor": 0,
       "model_id": "389951be9a6d4522a599873eadca2c07"
      }
     },
     "metadata": {},
     "output_type": "display_data"
    },
    {
     "data": {
      "text/plain": [
       "Validation: |          | 0/? [00:00<?, ?it/s]"
      ],
      "application/vnd.jupyter.widget-view+json": {
       "version_major": 2,
       "version_minor": 0,
       "model_id": "076f4d2b4e004313b0a71f211abc4e58"
      }
     },
     "metadata": {},
     "output_type": "display_data"
    },
    {
     "name": "stderr",
     "output_type": "stream",
     "text": [
      "`Trainer.fit` stopped: `max_epochs=2` reached.\n"
     ]
    },
    {
     "name": "stdout",
     "output_type": "stream",
     "text": [
      "Warning: Some identifiers in the split file are not found in the dataset. Taking intersection.\n",
      "Test dataset size: 17\n"
     ]
    },
    {
     "name": "stderr",
     "output_type": "stream",
     "text": [
      "/Users/macbook/UTILS/anaconda3/envs/phantoms_env/lib/python3.11/site-packages/pytorch_lightning/trainer/connectors/data_connector.py:425: The 'test_dataloader' does not have many workers which may be a bottleneck. Consider increasing the value of the `num_workers` argument` to `num_workers=9` in the `DataLoader` to improve performance.\n"
     ]
    },
    {
     "data": {
      "text/plain": [
       "Testing: |          | 0/? [00:00<?, ?it/s]"
      ],
      "application/vnd.jupyter.widget-view+json": {
       "version_major": 2,
       "version_minor": 0,
       "model_id": "82cfa7aaba654376b8826a336956d440"
      }
     },
     "metadata": {},
     "output_type": "display_data"
    },
    {
     "name": "stdout",
     "output_type": "stream",
     "text": [
      "────────────────────────────────────────────────────────────────────────────────────────────────────────────────────────\n",
      "       Test metric             DataLoader 0\n",
      "────────────────────────────────────────────────────────────────────────────────────────────────────────────────────────\n",
      "     test_hit_rate@1                0.0\n",
      "    test_hit_rate@20               0.75\n",
      "     test_hit_rate@5               0.25\n",
      "        test_loss          0.049181342124938965\n",
      "       test_mces@1                 13.75\n",
      "────────────────────────────────────────────────────────────────────────────────────────────────────────────────────────\n",
      "Model saved to /Users/macbook/CODE/PhantoMS/experiments_run/new_gnn_retrieval_cut/config_skip_connection_dreams_bonus_cut_tree_3_2025-02-04_14-34-56/checkpoints/final_model.ckpt\n"
     ]
    },
    {
     "data": {
      "text/plain": [
       "<IPython.core.display.HTML object>"
      ],
      "text/html": []
     },
     "metadata": {},
     "output_type": "display_data"
    },
    {
     "data": {
      "text/plain": [
       "<IPython.core.display.HTML object>"
      ],
      "text/html": [
       "<br>    <style><br>        .wandb-row {<br>            display: flex;<br>            flex-direction: row;<br>            flex-wrap: wrap;<br>            justify-content: flex-start;<br>            width: 100%;<br>        }<br>        .wandb-col {<br>            display: flex;<br>            flex-direction: column;<br>            flex-basis: 100%;<br>            flex: 1;<br>            padding: 10px;<br>        }<br>    </style><br><div class=\"wandb-row\"><div class=\"wandb-col\"><h3>Run history:</h3><br/><table class=\"wandb\"><tr><td>epoch</td><td>▁▅█</td></tr><tr><td>test_hit_rate@1</td><td>▁</td></tr><tr><td>test_hit_rate@20</td><td>▁</td></tr><tr><td>test_hit_rate@5</td><td>▁</td></tr><tr><td>test_loss</td><td>▁</td></tr><tr><td>test_mces@1</td><td>▁</td></tr><tr><td>trainer/global_step</td><td>▁▆█</td></tr><tr><td>val_hit_rate@1</td><td>▁▁</td></tr><tr><td>val_hit_rate@20</td><td>█▁</td></tr><tr><td>val_hit_rate@5</td><td>█▁</td></tr><tr><td>val_loss</td><td>▁█</td></tr><tr><td>val_mces@1</td><td>▁█</td></tr></table><br/></div><div class=\"wandb-col\"><h3>Run summary:</h3><br/><table class=\"wandb\"><tr><td>epoch</td><td>2</td></tr><tr><td>test_hit_rate@1</td><td>0</td></tr><tr><td>test_hit_rate@20</td><td>0.75</td></tr><tr><td>test_hit_rate@5</td><td>0.25</td></tr><tr><td>test_loss</td><td>0.04918</td></tr><tr><td>test_mces@1</td><td>13.75</td></tr><tr><td>trainer/global_step</td><td>4</td></tr><tr><td>val_hit_rate@1</td><td>0</td></tr><tr><td>val_hit_rate@20</td><td>0</td></tr><tr><td>val_hit_rate@5</td><td>0</td></tr><tr><td>val_loss</td><td>0.0533</td></tr><tr><td>val_mces@1</td><td>18.25</td></tr></table><br/></div></div>"
      ]
     },
     "metadata": {},
     "output_type": "display_data"
    },
    {
     "data": {
      "text/plain": [
       "<IPython.core.display.HTML object>"
      ],
      "text/html": [
       " View run <strong style=\"color:#cdcd00\">config_skip_connection_dreams_bonus_cut_tree_3_2025-02-04_14-34-56</strong> at: <a href='https://wandb.ai/jozefov-iocb-prague/new_gnn_retrieval_cut/runs/koecw3gn' target=\"_blank\">https://wandb.ai/jozefov-iocb-prague/new_gnn_retrieval_cut/runs/koecw3gn</a><br> View project at: <a href='https://wandb.ai/jozefov-iocb-prague/new_gnn_retrieval_cut' target=\"_blank\">https://wandb.ai/jozefov-iocb-prague/new_gnn_retrieval_cut</a><br>Synced 5 W&B file(s), 0 media file(s), 0 artifact file(s) and 0 other file(s)"
      ]
     },
     "metadata": {},
     "output_type": "display_data"
    },
    {
     "data": {
      "text/plain": [
       "<IPython.core.display.HTML object>"
      ],
      "text/html": [
       "Find logs at: <code>./wandb/run-20250204_143516-koecw3gn/logs</code>"
      ]
     },
     "metadata": {},
     "output_type": "display_data"
    },
    {
     "name": "stdout",
     "output_type": "stream",
     "text": [
      "Configuration saved to /Users/macbook/CODE/PhantoMS/experiments_run/new_gnn_retrieval_cut/config_skip_connection_dreams_bonus_cut_tree_3_2025-02-04_14-34-56/configs/config_skip_connection_dreams_bonus.yml\n",
      "\n",
      "Extracting embeddings for /Users/macbook/CODE/PhantoMS/experiments_run/new_gnn_retrieval_cut/config_skip_connection_dreams_bonus_cut_tree_3_2025-02-04_14-34-56\n"
     ]
    },
    {
     "name": "stderr",
     "output_type": "stream",
     "text": [
      "/Users/macbook/UTILS/anaconda3/envs/phantoms_env/lib/python3.11/site-packages/torch/nn/utils/weight_norm.py:143: FutureWarning: `torch.nn.utils.weight_norm` is deprecated in favor of `torch.nn.utils.parametrizations.weight_norm`.\n",
      "  WeightNorm.apply(module, name, dim)\n"
     ]
    },
    {
     "name": "stdout",
     "output_type": "stream",
     "text": [
      "Warning: No candidates for 0 SMILES. Skipping them.\n",
      "Total valid indices: 105\n",
      "MSnRetrievalDataset length: 105\n",
      "Warning: Some identifiers in the split file are not found in the dataset. Taking intersection.\n",
      "Test dataset size: 17\n",
      "Embeddings saved to /Users/macbook/CODE/PhantoMS/experiments_run/new_gnn_retrieval_cut/config_skip_connection_dreams_bonus_cut_tree_3_2025-02-04_14-34-56/embeddings\n",
      "\n",
      "All experiments completed successfully.\n"
     ]
    }
   ],
   "execution_count": 10
  },
  {
   "metadata": {},
   "cell_type": "code",
   "outputs": [],
   "execution_count": null,
   "source": "",
   "id": "22b4a2a24cab0222"
  },
  {
   "metadata": {},
   "cell_type": "code",
   "outputs": [],
   "execution_count": null,
   "source": "",
   "id": "e3548ad1a668c0d8"
  },
  {
   "metadata": {},
   "cell_type": "code",
   "outputs": [],
   "execution_count": null,
   "source": "",
   "id": "2582b42e667404dd"
  },
  {
   "metadata": {},
   "cell_type": "code",
   "outputs": [],
   "execution_count": null,
   "source": "",
   "id": "2b6677ee79f371b2"
  },
  {
   "metadata": {},
   "cell_type": "code",
   "outputs": [],
   "execution_count": null,
   "source": "",
   "id": "ad879db5d8f5c3de"
  },
  {
   "metadata": {},
   "cell_type": "code",
   "outputs": [],
   "execution_count": null,
   "source": "",
   "id": "44c53a6a1a4c5fa8"
  }
 ],
 "metadata": {
  "kernelspec": {
   "display_name": "Python 3",
   "language": "python",
   "name": "python3"
  },
  "language_info": {
   "codemirror_mode": {
    "name": "ipython",
    "version": 2
   },
   "file_extension": ".py",
   "mimetype": "text/x-python",
   "name": "python",
   "nbconvert_exporter": "python",
   "pygments_lexer": "ipython2",
   "version": "2.7.6"
  }
 },
 "nbformat": 4,
 "nbformat_minor": 5
}
