{
 "cells": [
  {
   "cell_type": "code",
   "id": "initial_id",
   "metadata": {
    "collapsed": true,
    "ExecuteTime": {
     "end_time": "2025-02-07T08:56:52.668298Z",
     "start_time": "2025-02-07T08:56:38.157646Z"
    }
   },
   "source": [
    "import pytorch_lightning as pl\n",
    "from phantoms.models.retrieval.gnn_retrieval_model import GNNRetrievalModel  # Existing small model\n",
    "from phantoms.models.retrieval.gnn_retrieval_model_skip_connection import GNNRetrievalSkipConnections  # New large model\n",
    "from massspecgym.data.data_module import MassSpecDataModule\n",
    "from massspecgym.data.transforms import MolFingerprinter\n",
    "from massspecgym.featurize import SpectrumFeaturizer\n",
    "from pytorch_lightning.loggers import TensorBoardLogger, WandbLogger\n",
    "import wandb\n",
    "from massspecgym.data.datasets import MSnRetrievalDataset, MSnDataset\n",
    "import yaml\n",
    "import argparse\n",
    "import shutil\n",
    "import os\n",
    "import numpy as np\n",
    "import random\n",
    "import torch\n",
    "from datetime import datetime\n",
    "from phantoms.utils.data import save_embeddings\n",
    "from phantoms.optimizations.training import set_global_seeds\n",
    "from phantoms.utils.parser import validate_config, train_model, extract_and_save_embeddings"
   ],
   "outputs": [],
   "execution_count": 1
  },
  {
   "metadata": {},
   "cell_type": "markdown",
   "source": "# Run one experiment",
   "id": "1a1127fe7ea9c8f4"
  },
  {
   "metadata": {
    "ExecuteTime": {
     "end_time": "2025-02-07T08:56:56.743450Z",
     "start_time": "2025-02-07T08:56:56.733404Z"
    }
   },
   "cell_type": "code",
   "source": [
    "set_global_seeds(42)\n",
    "\n",
    "config_path = \"/Users/macbook/CODE/PhantoMS/phantoms/models/retrieval/configs/config_skip_connection_dreams_GAT.yml\"\n",
    "# Load configuration\n",
    "with open(config_path, 'r') as f:\n",
    "    config = yaml.safe_load(f)\n",
    "\n",
    "validate_config(config)\n",
    "\n",
    "experiment_folder = '/Users/macbook/CODE/PhantoMS/experiments_run'\n",
    "\n",
    "timestamp = datetime.now().strftime(\"%Y-%m-%d_%H-%M-%S\")\n",
    "\n",
    "experiment_folder = os.path.join(experiment_folder, f'{timestamp}_{config[\"experiment_base_name\"]}')"
   ],
   "id": "c5c5773b77f7307f",
   "outputs": [],
   "execution_count": 2
  },
  {
   "metadata": {
    "jupyter": {
     "is_executing": true
    },
    "ExecuteTime": {
     "start_time": "2025-02-07T08:57:00.592783Z"
    }
   },
   "cell_type": "code",
   "source": [
    "# Define different cut_tree_at_level values\n",
    "cut_tree_level = None\n",
    "\n",
    "\n",
    "# Train the model (this will also initialize the data module, loggers, callbacks, etc.)\n",
    "train_model(config, experiment_folder, config_path, cut_tree_level)"
   ],
   "id": "5ee6e5a313fdc5ee",
   "outputs": [
    {
     "name": "stdout",
     "output_type": "stream",
     "text": [
      "\n",
      "Starting training for /Users/macbook/CODE/PhantoMS/experiments_run/2025-02-07_09-56-56_local_full_test_GAT\n",
      "Using retrieval task/model.\n"
     ]
    }
   ],
   "execution_count": null
  },
  {
   "metadata": {
    "ExecuteTime": {
     "end_time": "2025-02-05T09:55:44.986251Z",
     "start_time": "2025-02-05T09:55:21.639170Z"
    }
   },
   "cell_type": "code",
   "source": "extract_and_save_embeddings(config, cut_tree_level, experiment_folder)",
   "id": "bff97b1c55e641e4",
   "outputs": [
    {
     "name": "stdout",
     "output_type": "stream",
     "text": [
      "\n",
      "Extracting embeddings for /Users/macbook/CODE/PhantoMS/experiments_run/2025-02-05_10-54-53_name_test_GAT\n"
     ]
    },
    {
     "name": "stderr",
     "output_type": "stream",
     "text": [
      "/Users/macbook/UTILS/anaconda3/envs/phantoms_env/lib/python3.11/site-packages/torch/nn/utils/weight_norm.py:143: FutureWarning: `torch.nn.utils.weight_norm` is deprecated in favor of `torch.nn.utils.parametrizations.weight_norm`.\n",
      "  WeightNorm.apply(module, name, dim)\n"
     ]
    },
    {
     "name": "stdout",
     "output_type": "stream",
     "text": [
      "Warning: No candidates for 0 SMILES. Skipping them.\n",
      "Total valid indices: 105\n",
      "MSnRetrievalDataset length: 105\n",
      "Warning: Some identifiers in the split file are not found in the dataset. Taking intersection.\n",
      "Test dataset size: 17\n",
      "Embeddings saved to /Users/macbook/CODE/PhantoMS/experiments_run/2025-02-05_10-54-53_name_test_GAT/embeddings\n"
     ]
    }
   ],
   "execution_count": 11
  },
  {
   "metadata": {},
   "cell_type": "markdown",
   "source": "# Train all",
   "id": "a3f50fc6def7130b"
  },
  {
   "metadata": {
    "ExecuteTime": {
     "end_time": "2025-02-05T10:36:46.932444Z",
     "start_time": "2025-02-05T10:36:46.925646Z"
    }
   },
   "cell_type": "code",
   "source": [
    "import wandb\n",
    "import yaml\n",
    "import os\n",
    "from datetime import datetime\n",
    "import time\n",
    "from typing import List, Optional\n",
    "\n",
    "from phantoms.utils.parser import validate_config, train_model, extract_and_save_embeddings\n",
    "from phantoms.optimizations.training import set_global_seeds\n",
    "\n",
    "def run_all_experiments(config_dir: str,\n",
    "                        experiment_parent_dir: str,\n",
    "                        config_files: List[str],\n",
    "                        cut_tree_levels: Optional[List[int]],\n",
    "                        wandb_project_name: str):\n",
    "    \"\"\"\n",
    "    Iterate over all configuration files and tree levels to run experiments.\n",
    "\n",
    "    Args:\n",
    "        config_dir (str): Directory containing configuration YAML files.\n",
    "        experiment_parent_dir (str): Parent directory to store all experiments.\n",
    "        config_files (List[str]): List of configuration YAML filenames.\n",
    "        cut_tree_levels (Optional[List[int]]): List of cut_tree_at_level values.\n",
    "        wandb_project_name (str): Name of the wandb project.\n",
    "    \"\"\"\n",
    "    # Set global seeds for reproducibility\n",
    "    set_global_seeds(42)\n",
    "\n",
    "    # Create the parent experiment directory if it doesn't exist\n",
    "    os.makedirs(experiment_parent_dir, exist_ok=True)\n",
    "\n",
    "    # Iterate over each configuration file\n",
    "    for config_file in config_files:\n",
    "        config_path = os.path.join(config_dir, config_file)\n",
    "\n",
    "        if not os.path.exists(config_path):\n",
    "            print(f\"Configuration file {config_path} does not exist. Skipping.\")\n",
    "            continue\n",
    "\n",
    "        # Load the configuration\n",
    "        with open(config_path, 'r') as f:\n",
    "            config = yaml.safe_load(f)\n",
    "\n",
    "        # Validate the configuration\n",
    "        try:\n",
    "            validate_config(config)\n",
    "        except ValueError as ve:\n",
    "            print(f\"Configuration validation error in {config_file}: {ve}\")\n",
    "            continue\n",
    "\n",
    "        # Iterate over each tree level\n",
    "        for level in cut_tree_levels:\n",
    "            timestamp = datetime.now().strftime(\"%Y-%m-%d_%H-%M-%S\")\n",
    "            # Adding a slight sleep to ensure different timestamps\n",
    "            time.sleep(1.0)\n",
    "\n",
    "            # Define a unique experiment folder name\n",
    "            config_name = os.path.splitext(os.path.basename(config_file))[0]\n",
    "            experiment_folder_name = f\"{config_name}_cut_tree_{level}_{timestamp}\"\n",
    "            experiment_folder = os.path.join(experiment_parent_dir, experiment_folder_name)\n",
    "\n",
    "            # Print experiment details for debugging\n",
    "            print(f\"\\nRunning Experiment: {experiment_folder_name}\")\n",
    "            print(f\"W&B Project: {wandb_project_name}\")\n",
    "            print(f\"Cut Tree Level: {level}\")\n",
    "\n",
    "            # Create the experiment folder\n",
    "            os.makedirs(experiment_folder, exist_ok=True)\n",
    "\n",
    "            # Modify the config dict's 'trainer.checkpoint_dir' to point to experiment_folder subdirectories\n",
    "            config['trainer']['checkpoint_dir'] = os.path.join(experiment_folder, 'checkpoints')\n",
    "\n",
    "            # Optionally, modify 'experiment_base_name' to include the experiment_folder name or set to a unified value\n",
    "            config['experiment_base_name'] = 'experiment_trial'  # Or any desired base name\n",
    "\n",
    "            # Update W&B project name\n",
    "            config['wandb']['project'] = wandb_project_name\n",
    "\n",
    "            # Train the model\n",
    "            train_model(config, experiment_folder, config_path, level)\n",
    "\n",
    "            # Extract and save embeddings\n",
    "            extract_and_save_embeddings(config, level, experiment_folder)\n",
    "\n",
    "            # Finish the W&B run to ensure it's properly logged\n",
    "            wandb.finish()\n",
    "\n",
    "    print(\"\\nAll experiments completed successfully.\")"
   ],
   "id": "467501a94334c925",
   "outputs": [],
   "execution_count": 13
  },
  {
   "metadata": {
    "ExecuteTime": {
     "end_time": "2025-02-05T10:36:49.565729Z",
     "start_time": "2025-02-05T10:36:49.563366Z"
    }
   },
   "cell_type": "code",
   "source": [
    "# Define parameters\n",
    "config_directory = '/Users/macbook/CODE/PhantoMS/phantoms/models/retrieval/configs' \n",
    "experiment_parent_directory = '/Users/macbook/CODE/PhantoMS/experiments_run/new_gnn_retrieval_cut'  \n",
    "\n",
    "configuration_files = [\n",
    "    'config_skip_connection.yml',\n",
    "    'config_skip_connection_bonus.yml',\n",
    "    'config_skip_connection_dreams.yml',\n",
    "    'config_skip_connection_dreams_bonus.yml'\n",
    "]\n",
    "tree_levels = [0, 1, 2, 3]\n",
    "\n",
    "wandb_project_name = 'new_gnn_retrieval_cut'"
   ],
   "id": "a867e732cf387aa9",
   "outputs": [],
   "execution_count": 14
  },
  {
   "metadata": {
    "ExecuteTime": {
     "end_time": "2025-02-05T10:48:12.485805Z",
     "start_time": "2025-02-05T10:36:50.062479Z"
    }
   },
   "cell_type": "code",
   "source": [
    "run_all_experiments(config_dir=config_directory,\n",
    "                    experiment_parent_dir=experiment_parent_directory,\n",
    "                    config_files=configuration_files,\n",
    "                    cut_tree_levels=tree_levels,\n",
    "                    wandb_project_name=wandb_project_name)"
   ],
   "id": "2d13d5b45253d1bc",
   "outputs": [
    {
     "name": "stdout",
     "output_type": "stream",
     "text": [
      "\n",
      "Running Experiment: config_skip_connection_cut_tree_0_2025-02-05_11-36-50\n",
      "W&B Project: new_gnn_retrieval_cut\n",
      "Cut Tree Level: 0\n",
      "\n",
      "Starting training for /Users/macbook/CODE/PhantoMS/experiments_run/new_gnn_retrieval_cut/config_skip_connection_cut_tree_0_2025-02-05_11-36-50\n",
      "Using retrieval task/model.\n",
      "Warning: No candidates for 0 SMILES. Skipping them.\n",
      "Total valid indices: 105\n",
      "MSnRetrievalDataset length: 105\n"
     ]
    },
    {
     "name": "stderr",
     "output_type": "stream",
     "text": [
      "/Users/macbook/UTILS/anaconda3/envs/phantoms_env/lib/python3.11/site-packages/torch/nn/utils/weight_norm.py:143: FutureWarning: `torch.nn.utils.weight_norm` is deprecated in favor of `torch.nn.utils.parametrizations.weight_norm`.\n",
      "  WeightNorm.apply(module, name, dim)\n",
      "GPU available: True (mps), used: False\n",
      "TPU available: False, using: 0 TPU cores\n",
      "HPU available: False, using: 0 HPUs\n",
      "/Users/macbook/UTILS/anaconda3/envs/phantoms_env/lib/python3.11/site-packages/pytorch_lightning/trainer/setup.py:177: GPU available but not used. You can set it by doing `Trainer(accelerator='gpu')`.\n"
     ]
    },
    {
     "data": {
      "text/plain": [
       "<IPython.core.display.HTML object>"
      ],
      "text/html": [
       "Tracking run with wandb version 0.19.4"
      ]
     },
     "metadata": {},
     "output_type": "display_data"
    },
    {
     "data": {
      "text/plain": [
       "<IPython.core.display.HTML object>"
      ],
      "text/html": [
       "Run data is saved locally in <code>./wandb/run-20250205_113652-dzpbxl9r</code>"
      ]
     },
     "metadata": {},
     "output_type": "display_data"
    },
    {
     "data": {
      "text/plain": [
       "<IPython.core.display.HTML object>"
      ],
      "text/html": [
       "Syncing run <strong><a href='https://wandb.ai/jozefov-iocb-prague/new_gnn_retrieval_cut/runs/dzpbxl9r' target=\"_blank\">config_skip_connection_cut_tree_0_2025-02-05_11-36-50</a></strong> to <a href='https://wandb.ai/jozefov-iocb-prague/new_gnn_retrieval_cut' target=\"_blank\">Weights & Biases</a> (<a href='https://wandb.me/developer-guide' target=\"_blank\">docs</a>)<br>"
      ]
     },
     "metadata": {},
     "output_type": "display_data"
    },
    {
     "data": {
      "text/plain": [
       "<IPython.core.display.HTML object>"
      ],
      "text/html": [
       " View project at <a href='https://wandb.ai/jozefov-iocb-prague/new_gnn_retrieval_cut' target=\"_blank\">https://wandb.ai/jozefov-iocb-prague/new_gnn_retrieval_cut</a>"
      ]
     },
     "metadata": {},
     "output_type": "display_data"
    },
    {
     "data": {
      "text/plain": [
       "<IPython.core.display.HTML object>"
      ],
      "text/html": [
       " View run at <a href='https://wandb.ai/jozefov-iocb-prague/new_gnn_retrieval_cut/runs/dzpbxl9r' target=\"_blank\">https://wandb.ai/jozefov-iocb-prague/new_gnn_retrieval_cut/runs/dzpbxl9r</a>"
      ]
     },
     "metadata": {},
     "output_type": "display_data"
    },
    {
     "name": "stderr",
     "output_type": "stream",
     "text": [
      "\n",
      "  | Name       | Type                        | Params | Mode \n",
      "-------------------------------------------------------------------\n",
      "0 | gcn_layers | ModuleList                  | 16.6 M | train\n",
      "1 | head       | SkipConnectionRetrievalHead | 37.8 M | train\n",
      "2 | loss_fn    | MSELoss                     | 0      | train\n",
      "-------------------------------------------------------------------\n",
      "54.4 M    Trainable params\n",
      "0         Non-trainable params\n",
      "54.4 M    Total params\n",
      "217.596   Total estimated model params size (MB)\n",
      "54        Modules in train mode\n",
      "0         Modules in eval mode\n"
     ]
    },
    {
     "name": "stdout",
     "output_type": "stream",
     "text": [
      "Warning: Some identifiers in the split file are not found in the dataset. Taking intersection.\n",
      "Train dataset size: 82\n",
      "Val dataset size: 6\n"
     ]
    },
    {
     "data": {
      "text/plain": [
       "Sanity Checking: |          | 0/? [00:00<?, ?it/s]"
      ],
      "application/vnd.jupyter.widget-view+json": {
       "version_major": 2,
       "version_minor": 0,
       "model_id": "2d46b58735824221a7d431d9fc1d6a77"
      }
     },
     "metadata": {},
     "output_type": "display_data"
    },
    {
     "name": "stderr",
     "output_type": "stream",
     "text": [
      "/Users/macbook/UTILS/anaconda3/envs/phantoms_env/lib/python3.11/site-packages/pytorch_lightning/trainer/connectors/data_connector.py:425: The 'val_dataloader' does not have many workers which may be a bottleneck. Consider increasing the value of the `num_workers` argument` to `num_workers=9` in the `DataLoader` to improve performance.\n",
      "/Users/macbook/UTILS/anaconda3/envs/phantoms_env/lib/python3.11/site-packages/pytorch_lightning/trainer/connectors/data_connector.py:425: The 'train_dataloader' does not have many workers which may be a bottleneck. Consider increasing the value of the `num_workers` argument` to `num_workers=9` in the `DataLoader` to improve performance.\n",
      "/Users/macbook/UTILS/anaconda3/envs/phantoms_env/lib/python3.11/site-packages/pytorch_lightning/loops/fit_loop.py:310: The number of training batches (2) is smaller than the logging interval Trainer(log_every_n_steps=10). Set a lower value for log_every_n_steps if you want to see logs for the training epoch.\n"
     ]
    },
    {
     "data": {
      "text/plain": [
       "Training: |          | 0/? [00:00<?, ?it/s]"
      ],
      "application/vnd.jupyter.widget-view+json": {
       "version_major": 2,
       "version_minor": 0,
       "model_id": "b96d8a59b8f04ce084ffcda59488093a"
      }
     },
     "metadata": {},
     "output_type": "display_data"
    },
    {
     "data": {
      "text/plain": [
       "Validation: |          | 0/? [00:00<?, ?it/s]"
      ],
      "application/vnd.jupyter.widget-view+json": {
       "version_major": 2,
       "version_minor": 0,
       "model_id": "badc38d3bcf44a61a111faf96aaac5e8"
      }
     },
     "metadata": {},
     "output_type": "display_data"
    },
    {
     "data": {
      "text/plain": [
       "Validation: |          | 0/? [00:00<?, ?it/s]"
      ],
      "application/vnd.jupyter.widget-view+json": {
       "version_major": 2,
       "version_minor": 0,
       "model_id": "cdb56775a2cd43a4b54414ed115dd760"
      }
     },
     "metadata": {},
     "output_type": "display_data"
    },
    {
     "name": "stderr",
     "output_type": "stream",
     "text": [
      "`Trainer.fit` stopped: `max_epochs=2` reached.\n"
     ]
    },
    {
     "name": "stdout",
     "output_type": "stream",
     "text": [
      "Warning: Some identifiers in the split file are not found in the dataset. Taking intersection.\n",
      "Test dataset size: 17\n"
     ]
    },
    {
     "name": "stderr",
     "output_type": "stream",
     "text": [
      "/Users/macbook/UTILS/anaconda3/envs/phantoms_env/lib/python3.11/site-packages/pytorch_lightning/trainer/connectors/data_connector.py:425: The 'test_dataloader' does not have many workers which may be a bottleneck. Consider increasing the value of the `num_workers` argument` to `num_workers=9` in the `DataLoader` to improve performance.\n"
     ]
    },
    {
     "data": {
      "text/plain": [
       "Testing: |          | 0/? [00:00<?, ?it/s]"
      ],
      "application/vnd.jupyter.widget-view+json": {
       "version_major": 2,
       "version_minor": 0,
       "model_id": "9a3211aae82b4d168514bf711e1b296a"
      }
     },
     "metadata": {},
     "output_type": "display_data"
    },
    {
     "name": "stdout",
     "output_type": "stream",
     "text": [
      "────────────────────────────────────────────────────────────────────────────────────────────────────────────────────────\n",
      "       Test metric             DataLoader 0\n",
      "────────────────────────────────────────────────────────────────────────────────────────────────────────────────────────\n",
      "     test_hit_rate@1               0.25\n",
      "    test_hit_rate@20                0.5\n",
      "     test_hit_rate@5                0.5\n",
      "        test_loss           0.02303762547671795\n",
      "       test_mces@1                 17.0\n",
      "────────────────────────────────────────────────────────────────────────────────────────────────────────────────────────\n",
      "Model saved to /Users/macbook/CODE/PhantoMS/experiments_run/new_gnn_retrieval_cut/config_skip_connection_cut_tree_0_2025-02-05_11-36-50/checkpoints/final_model.ckpt\n"
     ]
    },
    {
     "data": {
      "text/plain": [
       "<IPython.core.display.HTML object>"
      ],
      "text/html": []
     },
     "metadata": {},
     "output_type": "display_data"
    },
    {
     "data": {
      "text/plain": [
       "<IPython.core.display.HTML object>"
      ],
      "text/html": [
       "<br>    <style><br>        .wandb-row {<br>            display: flex;<br>            flex-direction: row;<br>            flex-wrap: wrap;<br>            justify-content: flex-start;<br>            width: 100%;<br>        }<br>        .wandb-col {<br>            display: flex;<br>            flex-direction: column;<br>            flex-basis: 100%;<br>            flex: 1;<br>            padding: 10px;<br>        }<br>    </style><br><div class=\"wandb-row\"><div class=\"wandb-col\"><h3>Run history:</h3><br/><table class=\"wandb\"><tr><td>epoch</td><td>▁▅█</td></tr><tr><td>test_hit_rate@1</td><td>▁</td></tr><tr><td>test_hit_rate@20</td><td>▁</td></tr><tr><td>test_hit_rate@5</td><td>▁</td></tr><tr><td>test_loss</td><td>▁</td></tr><tr><td>test_mces@1</td><td>▁</td></tr><tr><td>trainer/global_step</td><td>▁▆█</td></tr><tr><td>val_hit_rate@1</td><td>█▁</td></tr><tr><td>val_hit_rate@20</td><td>█▁</td></tr><tr><td>val_hit_rate@5</td><td>█▁</td></tr><tr><td>val_loss</td><td>▁█</td></tr><tr><td>val_mces@1</td><td>▁█</td></tr></table><br/></div><div class=\"wandb-col\"><h3>Run summary:</h3><br/><table class=\"wandb\"><tr><td>epoch</td><td>2</td></tr><tr><td>test_hit_rate@1</td><td>0.25</td></tr><tr><td>test_hit_rate@20</td><td>0.5</td></tr><tr><td>test_hit_rate@5</td><td>0.5</td></tr><tr><td>test_loss</td><td>0.02304</td></tr><tr><td>test_mces@1</td><td>17</td></tr><tr><td>trainer/global_step</td><td>4</td></tr><tr><td>val_hit_rate@1</td><td>0</td></tr><tr><td>val_hit_rate@20</td><td>0.25</td></tr><tr><td>val_hit_rate@5</td><td>0</td></tr><tr><td>val_loss</td><td>0.02629</td></tr><tr><td>val_mces@1</td><td>32.375</td></tr></table><br/></div></div>"
      ]
     },
     "metadata": {},
     "output_type": "display_data"
    },
    {
     "data": {
      "text/plain": [
       "<IPython.core.display.HTML object>"
      ],
      "text/html": [
       " View run <strong style=\"color:#cdcd00\">config_skip_connection_cut_tree_0_2025-02-05_11-36-50</strong> at: <a href='https://wandb.ai/jozefov-iocb-prague/new_gnn_retrieval_cut/runs/dzpbxl9r' target=\"_blank\">https://wandb.ai/jozefov-iocb-prague/new_gnn_retrieval_cut/runs/dzpbxl9r</a><br> View project at: <a href='https://wandb.ai/jozefov-iocb-prague/new_gnn_retrieval_cut' target=\"_blank\">https://wandb.ai/jozefov-iocb-prague/new_gnn_retrieval_cut</a><br>Synced 5 W&B file(s), 0 media file(s), 0 artifact file(s) and 0 other file(s)"
      ]
     },
     "metadata": {},
     "output_type": "display_data"
    },
    {
     "data": {
      "text/plain": [
       "<IPython.core.display.HTML object>"
      ],
      "text/html": [
       "Find logs at: <code>./wandb/run-20250205_113652-dzpbxl9r/logs</code>"
      ]
     },
     "metadata": {},
     "output_type": "display_data"
    },
    {
     "name": "stdout",
     "output_type": "stream",
     "text": [
      "Configuration saved to /Users/macbook/CODE/PhantoMS/experiments_run/new_gnn_retrieval_cut/config_skip_connection_cut_tree_0_2025-02-05_11-36-50/configs/config_skip_connection.yml\n",
      "\n",
      "Extracting embeddings for /Users/macbook/CODE/PhantoMS/experiments_run/new_gnn_retrieval_cut/config_skip_connection_cut_tree_0_2025-02-05_11-36-50\n"
     ]
    },
    {
     "name": "stderr",
     "output_type": "stream",
     "text": [
      "/Users/macbook/UTILS/anaconda3/envs/phantoms_env/lib/python3.11/site-packages/torch/nn/utils/weight_norm.py:143: FutureWarning: `torch.nn.utils.weight_norm` is deprecated in favor of `torch.nn.utils.parametrizations.weight_norm`.\n",
      "  WeightNorm.apply(module, name, dim)\n"
     ]
    },
    {
     "name": "stdout",
     "output_type": "stream",
     "text": [
      "Warning: No candidates for 0 SMILES. Skipping them.\n",
      "Total valid indices: 105\n",
      "MSnRetrievalDataset length: 105\n",
      "Warning: Some identifiers in the split file are not found in the dataset. Taking intersection.\n",
      "Test dataset size: 17\n",
      "Embeddings saved to /Users/macbook/CODE/PhantoMS/experiments_run/new_gnn_retrieval_cut/config_skip_connection_cut_tree_0_2025-02-05_11-36-50/embeddings\n",
      "\n",
      "Running Experiment: config_skip_connection_cut_tree_1_2025-02-05_11-37-07\n",
      "W&B Project: new_gnn_retrieval_cut\n",
      "Cut Tree Level: 1\n",
      "\n",
      "Starting training for /Users/macbook/CODE/PhantoMS/experiments_run/new_gnn_retrieval_cut/config_skip_connection_cut_tree_1_2025-02-05_11-37-07\n",
      "Using retrieval task/model.\n",
      "Warning: No candidates for 0 SMILES. Skipping them.\n",
      "Total valid indices: 105\n",
      "MSnRetrievalDataset length: 105\n"
     ]
    },
    {
     "name": "stderr",
     "output_type": "stream",
     "text": [
      "/Users/macbook/UTILS/anaconda3/envs/phantoms_env/lib/python3.11/site-packages/torch/nn/utils/weight_norm.py:143: FutureWarning: `torch.nn.utils.weight_norm` is deprecated in favor of `torch.nn.utils.parametrizations.weight_norm`.\n",
      "  WeightNorm.apply(module, name, dim)\n",
      "GPU available: True (mps), used: False\n",
      "TPU available: False, using: 0 TPU cores\n",
      "HPU available: False, using: 0 HPUs\n",
      "/Users/macbook/UTILS/anaconda3/envs/phantoms_env/lib/python3.11/site-packages/pytorch_lightning/trainer/setup.py:177: GPU available but not used. You can set it by doing `Trainer(accelerator='gpu')`.\n"
     ]
    },
    {
     "data": {
      "text/plain": [
       "<IPython.core.display.HTML object>"
      ],
      "text/html": [
       "Tracking run with wandb version 0.19.4"
      ]
     },
     "metadata": {},
     "output_type": "display_data"
    },
    {
     "data": {
      "text/plain": [
       "<IPython.core.display.HTML object>"
      ],
      "text/html": [
       "Run data is saved locally in <code>./wandb/run-20250205_113709-mdupsqfk</code>"
      ]
     },
     "metadata": {},
     "output_type": "display_data"
    },
    {
     "data": {
      "text/plain": [
       "<IPython.core.display.HTML object>"
      ],
      "text/html": [
       "Syncing run <strong><a href='https://wandb.ai/jozefov-iocb-prague/new_gnn_retrieval_cut/runs/mdupsqfk' target=\"_blank\">config_skip_connection_cut_tree_1_2025-02-05_11-37-07</a></strong> to <a href='https://wandb.ai/jozefov-iocb-prague/new_gnn_retrieval_cut' target=\"_blank\">Weights & Biases</a> (<a href='https://wandb.me/developer-guide' target=\"_blank\">docs</a>)<br>"
      ]
     },
     "metadata": {},
     "output_type": "display_data"
    },
    {
     "data": {
      "text/plain": [
       "<IPython.core.display.HTML object>"
      ],
      "text/html": [
       " View project at <a href='https://wandb.ai/jozefov-iocb-prague/new_gnn_retrieval_cut' target=\"_blank\">https://wandb.ai/jozefov-iocb-prague/new_gnn_retrieval_cut</a>"
      ]
     },
     "metadata": {},
     "output_type": "display_data"
    },
    {
     "data": {
      "text/plain": [
       "<IPython.core.display.HTML object>"
      ],
      "text/html": [
       " View run at <a href='https://wandb.ai/jozefov-iocb-prague/new_gnn_retrieval_cut/runs/mdupsqfk' target=\"_blank\">https://wandb.ai/jozefov-iocb-prague/new_gnn_retrieval_cut/runs/mdupsqfk</a>"
      ]
     },
     "metadata": {},
     "output_type": "display_data"
    },
    {
     "name": "stderr",
     "output_type": "stream",
     "text": [
      "\n",
      "  | Name       | Type                        | Params | Mode \n",
      "-------------------------------------------------------------------\n",
      "0 | gcn_layers | ModuleList                  | 16.6 M | train\n",
      "1 | head       | SkipConnectionRetrievalHead | 37.8 M | train\n",
      "2 | loss_fn    | MSELoss                     | 0      | train\n",
      "-------------------------------------------------------------------\n",
      "54.4 M    Trainable params\n",
      "0         Non-trainable params\n",
      "54.4 M    Total params\n",
      "217.596   Total estimated model params size (MB)\n",
      "54        Modules in train mode\n",
      "0         Modules in eval mode\n"
     ]
    },
    {
     "name": "stdout",
     "output_type": "stream",
     "text": [
      "Warning: Some identifiers in the split file are not found in the dataset. Taking intersection.\n",
      "Train dataset size: 82\n",
      "Val dataset size: 6\n"
     ]
    },
    {
     "data": {
      "text/plain": [
       "Sanity Checking: |          | 0/? [00:00<?, ?it/s]"
      ],
      "application/vnd.jupyter.widget-view+json": {
       "version_major": 2,
       "version_minor": 0,
       "model_id": "ee9f5a625d534987b62aced3802eeb3a"
      }
     },
     "metadata": {},
     "output_type": "display_data"
    },
    {
     "name": "stderr",
     "output_type": "stream",
     "text": [
      "/Users/macbook/UTILS/anaconda3/envs/phantoms_env/lib/python3.11/site-packages/pytorch_lightning/trainer/connectors/data_connector.py:425: The 'val_dataloader' does not have many workers which may be a bottleneck. Consider increasing the value of the `num_workers` argument` to `num_workers=9` in the `DataLoader` to improve performance.\n",
      "/Users/macbook/UTILS/anaconda3/envs/phantoms_env/lib/python3.11/site-packages/pytorch_lightning/trainer/connectors/data_connector.py:425: The 'train_dataloader' does not have many workers which may be a bottleneck. Consider increasing the value of the `num_workers` argument` to `num_workers=9` in the `DataLoader` to improve performance.\n",
      "/Users/macbook/UTILS/anaconda3/envs/phantoms_env/lib/python3.11/site-packages/pytorch_lightning/loops/fit_loop.py:310: The number of training batches (2) is smaller than the logging interval Trainer(log_every_n_steps=10). Set a lower value for log_every_n_steps if you want to see logs for the training epoch.\n"
     ]
    },
    {
     "data": {
      "text/plain": [
       "Training: |          | 0/? [00:00<?, ?it/s]"
      ],
      "application/vnd.jupyter.widget-view+json": {
       "version_major": 2,
       "version_minor": 0,
       "model_id": "f192f8b0e4cc4d7089ebf377fcdf55db"
      }
     },
     "metadata": {},
     "output_type": "display_data"
    },
    {
     "data": {
      "text/plain": [
       "Validation: |          | 0/? [00:00<?, ?it/s]"
      ],
      "application/vnd.jupyter.widget-view+json": {
       "version_major": 2,
       "version_minor": 0,
       "model_id": "01385ab9de5849388b50383861101690"
      }
     },
     "metadata": {},
     "output_type": "display_data"
    },
    {
     "data": {
      "text/plain": [
       "Validation: |          | 0/? [00:00<?, ?it/s]"
      ],
      "application/vnd.jupyter.widget-view+json": {
       "version_major": 2,
       "version_minor": 0,
       "model_id": "49019cfecdb04105a70c28beff525ec6"
      }
     },
     "metadata": {},
     "output_type": "display_data"
    },
    {
     "name": "stderr",
     "output_type": "stream",
     "text": [
      "`Trainer.fit` stopped: `max_epochs=2` reached.\n"
     ]
    },
    {
     "name": "stdout",
     "output_type": "stream",
     "text": [
      "Warning: Some identifiers in the split file are not found in the dataset. Taking intersection.\n",
      "Test dataset size: 17\n"
     ]
    },
    {
     "name": "stderr",
     "output_type": "stream",
     "text": [
      "/Users/macbook/UTILS/anaconda3/envs/phantoms_env/lib/python3.11/site-packages/pytorch_lightning/trainer/connectors/data_connector.py:425: The 'test_dataloader' does not have many workers which may be a bottleneck. Consider increasing the value of the `num_workers` argument` to `num_workers=9` in the `DataLoader` to improve performance.\n"
     ]
    },
    {
     "data": {
      "text/plain": [
       "Testing: |          | 0/? [00:00<?, ?it/s]"
      ],
      "application/vnd.jupyter.widget-view+json": {
       "version_major": 2,
       "version_minor": 0,
       "model_id": "712f7ce398974c18bcf3a38ebe695e71"
      }
     },
     "metadata": {},
     "output_type": "display_data"
    },
    {
     "name": "stdout",
     "output_type": "stream",
     "text": [
      "────────────────────────────────────────────────────────────────────────────────────────────────────────────────────────\n",
      "       Test metric             DataLoader 0\n",
      "────────────────────────────────────────────────────────────────────────────────────────────────────────────────────────\n",
      "     test_hit_rate@1                0.0\n",
      "    test_hit_rate@20                0.5\n",
      "     test_hit_rate@5                0.5\n",
      "        test_loss          0.022988861426711082\n",
      "       test_mces@1                25.875\n",
      "────────────────────────────────────────────────────────────────────────────────────────────────────────────────────────\n",
      "Model saved to /Users/macbook/CODE/PhantoMS/experiments_run/new_gnn_retrieval_cut/config_skip_connection_cut_tree_1_2025-02-05_11-37-07/checkpoints/final_model.ckpt\n"
     ]
    },
    {
     "data": {
      "text/plain": [
       "<IPython.core.display.HTML object>"
      ],
      "text/html": []
     },
     "metadata": {},
     "output_type": "display_data"
    },
    {
     "data": {
      "text/plain": [
       "<IPython.core.display.HTML object>"
      ],
      "text/html": [
       "<br>    <style><br>        .wandb-row {<br>            display: flex;<br>            flex-direction: row;<br>            flex-wrap: wrap;<br>            justify-content: flex-start;<br>            width: 100%;<br>        }<br>        .wandb-col {<br>            display: flex;<br>            flex-direction: column;<br>            flex-basis: 100%;<br>            flex: 1;<br>            padding: 10px;<br>        }<br>    </style><br><div class=\"wandb-row\"><div class=\"wandb-col\"><h3>Run history:</h3><br/><table class=\"wandb\"><tr><td>epoch</td><td>▁▅█</td></tr><tr><td>test_hit_rate@1</td><td>▁</td></tr><tr><td>test_hit_rate@20</td><td>▁</td></tr><tr><td>test_hit_rate@5</td><td>▁</td></tr><tr><td>test_loss</td><td>▁</td></tr><tr><td>test_mces@1</td><td>▁</td></tr><tr><td>trainer/global_step</td><td>▁▆█</td></tr><tr><td>val_hit_rate@1</td><td>▁▁</td></tr><tr><td>val_hit_rate@20</td><td>█▁</td></tr><tr><td>val_hit_rate@5</td><td>▁▁</td></tr><tr><td>val_loss</td><td>▁█</td></tr><tr><td>val_mces@1</td><td>█▁</td></tr></table><br/></div><div class=\"wandb-col\"><h3>Run summary:</h3><br/><table class=\"wandb\"><tr><td>epoch</td><td>2</td></tr><tr><td>test_hit_rate@1</td><td>0</td></tr><tr><td>test_hit_rate@20</td><td>0.5</td></tr><tr><td>test_hit_rate@5</td><td>0.5</td></tr><tr><td>test_loss</td><td>0.02299</td></tr><tr><td>test_mces@1</td><td>25.875</td></tr><tr><td>trainer/global_step</td><td>4</td></tr><tr><td>val_hit_rate@1</td><td>0</td></tr><tr><td>val_hit_rate@20</td><td>0.25</td></tr><tr><td>val_hit_rate@5</td><td>0.25</td></tr><tr><td>val_loss</td><td>0.02641</td></tr><tr><td>val_mces@1</td><td>19.75</td></tr></table><br/></div></div>"
      ]
     },
     "metadata": {},
     "output_type": "display_data"
    },
    {
     "data": {
      "text/plain": [
       "<IPython.core.display.HTML object>"
      ],
      "text/html": [
       " View run <strong style=\"color:#cdcd00\">config_skip_connection_cut_tree_1_2025-02-05_11-37-07</strong> at: <a href='https://wandb.ai/jozefov-iocb-prague/new_gnn_retrieval_cut/runs/mdupsqfk' target=\"_blank\">https://wandb.ai/jozefov-iocb-prague/new_gnn_retrieval_cut/runs/mdupsqfk</a><br> View project at: <a href='https://wandb.ai/jozefov-iocb-prague/new_gnn_retrieval_cut' target=\"_blank\">https://wandb.ai/jozefov-iocb-prague/new_gnn_retrieval_cut</a><br>Synced 5 W&B file(s), 0 media file(s), 0 artifact file(s) and 0 other file(s)"
      ]
     },
     "metadata": {},
     "output_type": "display_data"
    },
    {
     "data": {
      "text/plain": [
       "<IPython.core.display.HTML object>"
      ],
      "text/html": [
       "Find logs at: <code>./wandb/run-20250205_113709-mdupsqfk/logs</code>"
      ]
     },
     "metadata": {},
     "output_type": "display_data"
    },
    {
     "name": "stdout",
     "output_type": "stream",
     "text": [
      "Configuration saved to /Users/macbook/CODE/PhantoMS/experiments_run/new_gnn_retrieval_cut/config_skip_connection_cut_tree_1_2025-02-05_11-37-07/configs/config_skip_connection.yml\n",
      "\n",
      "Extracting embeddings for /Users/macbook/CODE/PhantoMS/experiments_run/new_gnn_retrieval_cut/config_skip_connection_cut_tree_1_2025-02-05_11-37-07\n"
     ]
    },
    {
     "name": "stderr",
     "output_type": "stream",
     "text": [
      "/Users/macbook/UTILS/anaconda3/envs/phantoms_env/lib/python3.11/site-packages/torch/nn/utils/weight_norm.py:143: FutureWarning: `torch.nn.utils.weight_norm` is deprecated in favor of `torch.nn.utils.parametrizations.weight_norm`.\n",
      "  WeightNorm.apply(module, name, dim)\n"
     ]
    },
    {
     "name": "stdout",
     "output_type": "stream",
     "text": [
      "Warning: No candidates for 0 SMILES. Skipping them.\n",
      "Total valid indices: 105\n",
      "MSnRetrievalDataset length: 105\n",
      "Warning: Some identifiers in the split file are not found in the dataset. Taking intersection.\n",
      "Test dataset size: 17\n",
      "Embeddings saved to /Users/macbook/CODE/PhantoMS/experiments_run/new_gnn_retrieval_cut/config_skip_connection_cut_tree_1_2025-02-05_11-37-07/embeddings\n",
      "\n",
      "Running Experiment: config_skip_connection_cut_tree_2_2025-02-05_11-37-22\n",
      "W&B Project: new_gnn_retrieval_cut\n",
      "Cut Tree Level: 2\n",
      "\n",
      "Starting training for /Users/macbook/CODE/PhantoMS/experiments_run/new_gnn_retrieval_cut/config_skip_connection_cut_tree_2_2025-02-05_11-37-22\n",
      "Using retrieval task/model.\n",
      "Warning: No candidates for 0 SMILES. Skipping them.\n",
      "Total valid indices: 105\n",
      "MSnRetrievalDataset length: 105\n"
     ]
    },
    {
     "name": "stderr",
     "output_type": "stream",
     "text": [
      "/Users/macbook/UTILS/anaconda3/envs/phantoms_env/lib/python3.11/site-packages/torch/nn/utils/weight_norm.py:143: FutureWarning: `torch.nn.utils.weight_norm` is deprecated in favor of `torch.nn.utils.parametrizations.weight_norm`.\n",
      "  WeightNorm.apply(module, name, dim)\n",
      "GPU available: True (mps), used: False\n",
      "TPU available: False, using: 0 TPU cores\n",
      "HPU available: False, using: 0 HPUs\n",
      "/Users/macbook/UTILS/anaconda3/envs/phantoms_env/lib/python3.11/site-packages/pytorch_lightning/trainer/setup.py:177: GPU available but not used. You can set it by doing `Trainer(accelerator='gpu')`.\n"
     ]
    },
    {
     "data": {
      "text/plain": [
       "<IPython.core.display.HTML object>"
      ],
      "text/html": [
       "Tracking run with wandb version 0.19.4"
      ]
     },
     "metadata": {},
     "output_type": "display_data"
    },
    {
     "data": {
      "text/plain": [
       "<IPython.core.display.HTML object>"
      ],
      "text/html": [
       "Run data is saved locally in <code>./wandb/run-20250205_113725-x7ogx48y</code>"
      ]
     },
     "metadata": {},
     "output_type": "display_data"
    },
    {
     "data": {
      "text/plain": [
       "<IPython.core.display.HTML object>"
      ],
      "text/html": [
       "Syncing run <strong><a href='https://wandb.ai/jozefov-iocb-prague/new_gnn_retrieval_cut/runs/x7ogx48y' target=\"_blank\">config_skip_connection_cut_tree_2_2025-02-05_11-37-22</a></strong> to <a href='https://wandb.ai/jozefov-iocb-prague/new_gnn_retrieval_cut' target=\"_blank\">Weights & Biases</a> (<a href='https://wandb.me/developer-guide' target=\"_blank\">docs</a>)<br>"
      ]
     },
     "metadata": {},
     "output_type": "display_data"
    },
    {
     "data": {
      "text/plain": [
       "<IPython.core.display.HTML object>"
      ],
      "text/html": [
       " View project at <a href='https://wandb.ai/jozefov-iocb-prague/new_gnn_retrieval_cut' target=\"_blank\">https://wandb.ai/jozefov-iocb-prague/new_gnn_retrieval_cut</a>"
      ]
     },
     "metadata": {},
     "output_type": "display_data"
    },
    {
     "data": {
      "text/plain": [
       "<IPython.core.display.HTML object>"
      ],
      "text/html": [
       " View run at <a href='https://wandb.ai/jozefov-iocb-prague/new_gnn_retrieval_cut/runs/x7ogx48y' target=\"_blank\">https://wandb.ai/jozefov-iocb-prague/new_gnn_retrieval_cut/runs/x7ogx48y</a>"
      ]
     },
     "metadata": {},
     "output_type": "display_data"
    },
    {
     "name": "stderr",
     "output_type": "stream",
     "text": [
      "\n",
      "  | Name       | Type                        | Params | Mode \n",
      "-------------------------------------------------------------------\n",
      "0 | gcn_layers | ModuleList                  | 16.6 M | train\n",
      "1 | head       | SkipConnectionRetrievalHead | 37.8 M | train\n",
      "2 | loss_fn    | MSELoss                     | 0      | train\n",
      "-------------------------------------------------------------------\n",
      "54.4 M    Trainable params\n",
      "0         Non-trainable params\n",
      "54.4 M    Total params\n",
      "217.596   Total estimated model params size (MB)\n",
      "54        Modules in train mode\n",
      "0         Modules in eval mode\n"
     ]
    },
    {
     "name": "stdout",
     "output_type": "stream",
     "text": [
      "Warning: Some identifiers in the split file are not found in the dataset. Taking intersection.\n",
      "Train dataset size: 82\n",
      "Val dataset size: 6\n"
     ]
    },
    {
     "data": {
      "text/plain": [
       "Sanity Checking: |          | 0/? [00:00<?, ?it/s]"
      ],
      "application/vnd.jupyter.widget-view+json": {
       "version_major": 2,
       "version_minor": 0,
       "model_id": "c08bd87fc8b04b80b4930da70e2d2de5"
      }
     },
     "metadata": {},
     "output_type": "display_data"
    },
    {
     "name": "stderr",
     "output_type": "stream",
     "text": [
      "/Users/macbook/UTILS/anaconda3/envs/phantoms_env/lib/python3.11/site-packages/pytorch_lightning/trainer/connectors/data_connector.py:425: The 'val_dataloader' does not have many workers which may be a bottleneck. Consider increasing the value of the `num_workers` argument` to `num_workers=9` in the `DataLoader` to improve performance.\n",
      "/Users/macbook/UTILS/anaconda3/envs/phantoms_env/lib/python3.11/site-packages/pytorch_lightning/trainer/connectors/data_connector.py:425: The 'train_dataloader' does not have many workers which may be a bottleneck. Consider increasing the value of the `num_workers` argument` to `num_workers=9` in the `DataLoader` to improve performance.\n",
      "/Users/macbook/UTILS/anaconda3/envs/phantoms_env/lib/python3.11/site-packages/pytorch_lightning/loops/fit_loop.py:310: The number of training batches (2) is smaller than the logging interval Trainer(log_every_n_steps=10). Set a lower value for log_every_n_steps if you want to see logs for the training epoch.\n"
     ]
    },
    {
     "data": {
      "text/plain": [
       "Training: |          | 0/? [00:00<?, ?it/s]"
      ],
      "application/vnd.jupyter.widget-view+json": {
       "version_major": 2,
       "version_minor": 0,
       "model_id": "3c2ed42da2c14c23a3a380199b99e014"
      }
     },
     "metadata": {},
     "output_type": "display_data"
    },
    {
     "data": {
      "text/plain": [
       "Validation: |          | 0/? [00:00<?, ?it/s]"
      ],
      "application/vnd.jupyter.widget-view+json": {
       "version_major": 2,
       "version_minor": 0,
       "model_id": "898749a0fb25436493a1cdd8f5d8519b"
      }
     },
     "metadata": {},
     "output_type": "display_data"
    },
    {
     "data": {
      "text/plain": [
       "Validation: |          | 0/? [00:00<?, ?it/s]"
      ],
      "application/vnd.jupyter.widget-view+json": {
       "version_major": 2,
       "version_minor": 0,
       "model_id": "f3e0795ef4f443cfb6a8983057dab767"
      }
     },
     "metadata": {},
     "output_type": "display_data"
    },
    {
     "name": "stderr",
     "output_type": "stream",
     "text": [
      "`Trainer.fit` stopped: `max_epochs=2` reached.\n"
     ]
    },
    {
     "name": "stdout",
     "output_type": "stream",
     "text": [
      "Warning: Some identifiers in the split file are not found in the dataset. Taking intersection.\n",
      "Test dataset size: 17\n"
     ]
    },
    {
     "name": "stderr",
     "output_type": "stream",
     "text": [
      "/Users/macbook/UTILS/anaconda3/envs/phantoms_env/lib/python3.11/site-packages/pytorch_lightning/trainer/connectors/data_connector.py:425: The 'test_dataloader' does not have many workers which may be a bottleneck. Consider increasing the value of the `num_workers` argument` to `num_workers=9` in the `DataLoader` to improve performance.\n"
     ]
    },
    {
     "data": {
      "text/plain": [
       "Testing: |          | 0/? [00:00<?, ?it/s]"
      ],
      "application/vnd.jupyter.widget-view+json": {
       "version_major": 2,
       "version_minor": 0,
       "model_id": "94890181f79a450ca9313f618ce9dd97"
      }
     },
     "metadata": {},
     "output_type": "display_data"
    },
    {
     "name": "stdout",
     "output_type": "stream",
     "text": [
      "────────────────────────────────────────────────────────────────────────────────────────────────────────────────────────\n",
      "       Test metric             DataLoader 0\n",
      "────────────────────────────────────────────────────────────────────────────────────────────────────────────────────────\n",
      "     test_hit_rate@1               0.25\n",
      "    test_hit_rate@20                0.5\n",
      "     test_hit_rate@5                0.5\n",
      "        test_loss          0.022955333814024925\n",
      "       test_mces@1                22.625\n",
      "────────────────────────────────────────────────────────────────────────────────────────────────────────────────────────\n",
      "Model saved to /Users/macbook/CODE/PhantoMS/experiments_run/new_gnn_retrieval_cut/config_skip_connection_cut_tree_2_2025-02-05_11-37-22/checkpoints/final_model.ckpt\n"
     ]
    },
    {
     "data": {
      "text/plain": [
       "<IPython.core.display.HTML object>"
      ],
      "text/html": []
     },
     "metadata": {},
     "output_type": "display_data"
    },
    {
     "data": {
      "text/plain": [
       "<IPython.core.display.HTML object>"
      ],
      "text/html": [
       "<br>    <style><br>        .wandb-row {<br>            display: flex;<br>            flex-direction: row;<br>            flex-wrap: wrap;<br>            justify-content: flex-start;<br>            width: 100%;<br>        }<br>        .wandb-col {<br>            display: flex;<br>            flex-direction: column;<br>            flex-basis: 100%;<br>            flex: 1;<br>            padding: 10px;<br>        }<br>    </style><br><div class=\"wandb-row\"><div class=\"wandb-col\"><h3>Run history:</h3><br/><table class=\"wandb\"><tr><td>epoch</td><td>▁▅█</td></tr><tr><td>test_hit_rate@1</td><td>▁</td></tr><tr><td>test_hit_rate@20</td><td>▁</td></tr><tr><td>test_hit_rate@5</td><td>▁</td></tr><tr><td>test_loss</td><td>▁</td></tr><tr><td>test_mces@1</td><td>▁</td></tr><tr><td>trainer/global_step</td><td>▁▆█</td></tr><tr><td>val_hit_rate@1</td><td>▁▁</td></tr><tr><td>val_hit_rate@20</td><td>█▁</td></tr><tr><td>val_hit_rate@5</td><td>█▁</td></tr><tr><td>val_loss</td><td>▁█</td></tr><tr><td>val_mces@1</td><td>█▁</td></tr></table><br/></div><div class=\"wandb-col\"><h3>Run summary:</h3><br/><table class=\"wandb\"><tr><td>epoch</td><td>2</td></tr><tr><td>test_hit_rate@1</td><td>0.25</td></tr><tr><td>test_hit_rate@20</td><td>0.5</td></tr><tr><td>test_hit_rate@5</td><td>0.5</td></tr><tr><td>test_loss</td><td>0.02296</td></tr><tr><td>test_mces@1</td><td>22.625</td></tr><tr><td>trainer/global_step</td><td>4</td></tr><tr><td>val_hit_rate@1</td><td>0</td></tr><tr><td>val_hit_rate@20</td><td>0.5</td></tr><tr><td>val_hit_rate@5</td><td>0.25</td></tr><tr><td>val_loss</td><td>0.0263</td></tr><tr><td>val_mces@1</td><td>26.375</td></tr></table><br/></div></div>"
      ]
     },
     "metadata": {},
     "output_type": "display_data"
    },
    {
     "data": {
      "text/plain": [
       "<IPython.core.display.HTML object>"
      ],
      "text/html": [
       " View run <strong style=\"color:#cdcd00\">config_skip_connection_cut_tree_2_2025-02-05_11-37-22</strong> at: <a href='https://wandb.ai/jozefov-iocb-prague/new_gnn_retrieval_cut/runs/x7ogx48y' target=\"_blank\">https://wandb.ai/jozefov-iocb-prague/new_gnn_retrieval_cut/runs/x7ogx48y</a><br> View project at: <a href='https://wandb.ai/jozefov-iocb-prague/new_gnn_retrieval_cut' target=\"_blank\">https://wandb.ai/jozefov-iocb-prague/new_gnn_retrieval_cut</a><br>Synced 5 W&B file(s), 0 media file(s), 0 artifact file(s) and 0 other file(s)"
      ]
     },
     "metadata": {},
     "output_type": "display_data"
    },
    {
     "data": {
      "text/plain": [
       "<IPython.core.display.HTML object>"
      ],
      "text/html": [
       "Find logs at: <code>./wandb/run-20250205_113725-x7ogx48y/logs</code>"
      ]
     },
     "metadata": {},
     "output_type": "display_data"
    },
    {
     "name": "stdout",
     "output_type": "stream",
     "text": [
      "Configuration saved to /Users/macbook/CODE/PhantoMS/experiments_run/new_gnn_retrieval_cut/config_skip_connection_cut_tree_2_2025-02-05_11-37-22/configs/config_skip_connection.yml\n",
      "\n",
      "Extracting embeddings for /Users/macbook/CODE/PhantoMS/experiments_run/new_gnn_retrieval_cut/config_skip_connection_cut_tree_2_2025-02-05_11-37-22\n"
     ]
    },
    {
     "name": "stderr",
     "output_type": "stream",
     "text": [
      "/Users/macbook/UTILS/anaconda3/envs/phantoms_env/lib/python3.11/site-packages/torch/nn/utils/weight_norm.py:143: FutureWarning: `torch.nn.utils.weight_norm` is deprecated in favor of `torch.nn.utils.parametrizations.weight_norm`.\n",
      "  WeightNorm.apply(module, name, dim)\n"
     ]
    },
    {
     "name": "stdout",
     "output_type": "stream",
     "text": [
      "Warning: No candidates for 0 SMILES. Skipping them.\n",
      "Total valid indices: 105\n",
      "MSnRetrievalDataset length: 105\n",
      "Warning: Some identifiers in the split file are not found in the dataset. Taking intersection.\n",
      "Test dataset size: 17\n",
      "Embeddings saved to /Users/macbook/CODE/PhantoMS/experiments_run/new_gnn_retrieval_cut/config_skip_connection_cut_tree_2_2025-02-05_11-37-22/embeddings\n",
      "\n",
      "Running Experiment: config_skip_connection_cut_tree_3_2025-02-05_11-37-38\n",
      "W&B Project: new_gnn_retrieval_cut\n",
      "Cut Tree Level: 3\n",
      "\n",
      "Starting training for /Users/macbook/CODE/PhantoMS/experiments_run/new_gnn_retrieval_cut/config_skip_connection_cut_tree_3_2025-02-05_11-37-38\n",
      "Using retrieval task/model.\n",
      "Warning: No candidates for 0 SMILES. Skipping them.\n",
      "Total valid indices: 105\n",
      "MSnRetrievalDataset length: 105\n"
     ]
    },
    {
     "name": "stderr",
     "output_type": "stream",
     "text": [
      "/Users/macbook/UTILS/anaconda3/envs/phantoms_env/lib/python3.11/site-packages/torch/nn/utils/weight_norm.py:143: FutureWarning: `torch.nn.utils.weight_norm` is deprecated in favor of `torch.nn.utils.parametrizations.weight_norm`.\n",
      "  WeightNorm.apply(module, name, dim)\n",
      "GPU available: True (mps), used: False\n",
      "TPU available: False, using: 0 TPU cores\n",
      "HPU available: False, using: 0 HPUs\n",
      "/Users/macbook/UTILS/anaconda3/envs/phantoms_env/lib/python3.11/site-packages/pytorch_lightning/trainer/setup.py:177: GPU available but not used. You can set it by doing `Trainer(accelerator='gpu')`.\n"
     ]
    },
    {
     "data": {
      "text/plain": [
       "<IPython.core.display.HTML object>"
      ],
      "text/html": [
       "Tracking run with wandb version 0.19.4"
      ]
     },
     "metadata": {},
     "output_type": "display_data"
    },
    {
     "data": {
      "text/plain": [
       "<IPython.core.display.HTML object>"
      ],
      "text/html": [
       "Run data is saved locally in <code>./wandb/run-20250205_113740-1db1yikv</code>"
      ]
     },
     "metadata": {},
     "output_type": "display_data"
    },
    {
     "data": {
      "text/plain": [
       "<IPython.core.display.HTML object>"
      ],
      "text/html": [
       "Syncing run <strong><a href='https://wandb.ai/jozefov-iocb-prague/new_gnn_retrieval_cut/runs/1db1yikv' target=\"_blank\">config_skip_connection_cut_tree_3_2025-02-05_11-37-38</a></strong> to <a href='https://wandb.ai/jozefov-iocb-prague/new_gnn_retrieval_cut' target=\"_blank\">Weights & Biases</a> (<a href='https://wandb.me/developer-guide' target=\"_blank\">docs</a>)<br>"
      ]
     },
     "metadata": {},
     "output_type": "display_data"
    },
    {
     "data": {
      "text/plain": [
       "<IPython.core.display.HTML object>"
      ],
      "text/html": [
       " View project at <a href='https://wandb.ai/jozefov-iocb-prague/new_gnn_retrieval_cut' target=\"_blank\">https://wandb.ai/jozefov-iocb-prague/new_gnn_retrieval_cut</a>"
      ]
     },
     "metadata": {},
     "output_type": "display_data"
    },
    {
     "data": {
      "text/plain": [
       "<IPython.core.display.HTML object>"
      ],
      "text/html": [
       " View run at <a href='https://wandb.ai/jozefov-iocb-prague/new_gnn_retrieval_cut/runs/1db1yikv' target=\"_blank\">https://wandb.ai/jozefov-iocb-prague/new_gnn_retrieval_cut/runs/1db1yikv</a>"
      ]
     },
     "metadata": {},
     "output_type": "display_data"
    },
    {
     "name": "stderr",
     "output_type": "stream",
     "text": [
      "\n",
      "  | Name       | Type                        | Params | Mode \n",
      "-------------------------------------------------------------------\n",
      "0 | gcn_layers | ModuleList                  | 16.6 M | train\n",
      "1 | head       | SkipConnectionRetrievalHead | 37.8 M | train\n",
      "2 | loss_fn    | MSELoss                     | 0      | train\n",
      "-------------------------------------------------------------------\n",
      "54.4 M    Trainable params\n",
      "0         Non-trainable params\n",
      "54.4 M    Total params\n",
      "217.596   Total estimated model params size (MB)\n",
      "54        Modules in train mode\n",
      "0         Modules in eval mode\n"
     ]
    },
    {
     "name": "stdout",
     "output_type": "stream",
     "text": [
      "Warning: Some identifiers in the split file are not found in the dataset. Taking intersection.\n",
      "Train dataset size: 82\n",
      "Val dataset size: 6\n"
     ]
    },
    {
     "data": {
      "text/plain": [
       "Sanity Checking: |          | 0/? [00:00<?, ?it/s]"
      ],
      "application/vnd.jupyter.widget-view+json": {
       "version_major": 2,
       "version_minor": 0,
       "model_id": "5e12a505bdc84f2387b22e99e8afa43b"
      }
     },
     "metadata": {},
     "output_type": "display_data"
    },
    {
     "name": "stderr",
     "output_type": "stream",
     "text": [
      "/Users/macbook/UTILS/anaconda3/envs/phantoms_env/lib/python3.11/site-packages/pytorch_lightning/trainer/connectors/data_connector.py:425: The 'val_dataloader' does not have many workers which may be a bottleneck. Consider increasing the value of the `num_workers` argument` to `num_workers=9` in the `DataLoader` to improve performance.\n",
      "/Users/macbook/UTILS/anaconda3/envs/phantoms_env/lib/python3.11/site-packages/pytorch_lightning/trainer/connectors/data_connector.py:425: The 'train_dataloader' does not have many workers which may be a bottleneck. Consider increasing the value of the `num_workers` argument` to `num_workers=9` in the `DataLoader` to improve performance.\n",
      "/Users/macbook/UTILS/anaconda3/envs/phantoms_env/lib/python3.11/site-packages/pytorch_lightning/loops/fit_loop.py:310: The number of training batches (2) is smaller than the logging interval Trainer(log_every_n_steps=10). Set a lower value for log_every_n_steps if you want to see logs for the training epoch.\n"
     ]
    },
    {
     "data": {
      "text/plain": [
       "Training: |          | 0/? [00:00<?, ?it/s]"
      ],
      "application/vnd.jupyter.widget-view+json": {
       "version_major": 2,
       "version_minor": 0,
       "model_id": "e4cf8840bc9e49dc9a5efbc6ef20929b"
      }
     },
     "metadata": {},
     "output_type": "display_data"
    },
    {
     "data": {
      "text/plain": [
       "Validation: |          | 0/? [00:00<?, ?it/s]"
      ],
      "application/vnd.jupyter.widget-view+json": {
       "version_major": 2,
       "version_minor": 0,
       "model_id": "944b236a2aa3443aa48fd83ec5b54ce8"
      }
     },
     "metadata": {},
     "output_type": "display_data"
    },
    {
     "data": {
      "text/plain": [
       "Validation: |          | 0/? [00:00<?, ?it/s]"
      ],
      "application/vnd.jupyter.widget-view+json": {
       "version_major": 2,
       "version_minor": 0,
       "model_id": "b5c91e84e3124a4bb54b70a64d8eb87a"
      }
     },
     "metadata": {},
     "output_type": "display_data"
    },
    {
     "name": "stderr",
     "output_type": "stream",
     "text": [
      "`Trainer.fit` stopped: `max_epochs=2` reached.\n"
     ]
    },
    {
     "name": "stdout",
     "output_type": "stream",
     "text": [
      "Warning: Some identifiers in the split file are not found in the dataset. Taking intersection.\n",
      "Test dataset size: 17\n"
     ]
    },
    {
     "name": "stderr",
     "output_type": "stream",
     "text": [
      "/Users/macbook/UTILS/anaconda3/envs/phantoms_env/lib/python3.11/site-packages/pytorch_lightning/trainer/connectors/data_connector.py:425: The 'test_dataloader' does not have many workers which may be a bottleneck. Consider increasing the value of the `num_workers` argument` to `num_workers=9` in the `DataLoader` to improve performance.\n"
     ]
    },
    {
     "data": {
      "text/plain": [
       "Testing: |          | 0/? [00:00<?, ?it/s]"
      ],
      "application/vnd.jupyter.widget-view+json": {
       "version_major": 2,
       "version_minor": 0,
       "model_id": "cdc23c418ca24cba8bafb46b3976d1d2"
      }
     },
     "metadata": {},
     "output_type": "display_data"
    },
    {
     "name": "stdout",
     "output_type": "stream",
     "text": [
      "────────────────────────────────────────────────────────────────────────────────────────────────────────────────────────\n",
      "       Test metric             DataLoader 0\n",
      "────────────────────────────────────────────────────────────────────────────────────────────────────────────────────────\n",
      "     test_hit_rate@1                0.5\n",
      "    test_hit_rate@20               0.75\n",
      "     test_hit_rate@5                0.5\n",
      "        test_loss           0.02292540669441223\n",
      "       test_mces@1                 21.0\n",
      "────────────────────────────────────────────────────────────────────────────────────────────────────────────────────────\n",
      "Model saved to /Users/macbook/CODE/PhantoMS/experiments_run/new_gnn_retrieval_cut/config_skip_connection_cut_tree_3_2025-02-05_11-37-38/checkpoints/final_model.ckpt\n"
     ]
    },
    {
     "data": {
      "text/plain": [
       "<IPython.core.display.HTML object>"
      ],
      "text/html": []
     },
     "metadata": {},
     "output_type": "display_data"
    },
    {
     "data": {
      "text/plain": [
       "<IPython.core.display.HTML object>"
      ],
      "text/html": [
       "<br>    <style><br>        .wandb-row {<br>            display: flex;<br>            flex-direction: row;<br>            flex-wrap: wrap;<br>            justify-content: flex-start;<br>            width: 100%;<br>        }<br>        .wandb-col {<br>            display: flex;<br>            flex-direction: column;<br>            flex-basis: 100%;<br>            flex: 1;<br>            padding: 10px;<br>        }<br>    </style><br><div class=\"wandb-row\"><div class=\"wandb-col\"><h3>Run history:</h3><br/><table class=\"wandb\"><tr><td>epoch</td><td>▁▅█</td></tr><tr><td>test_hit_rate@1</td><td>▁</td></tr><tr><td>test_hit_rate@20</td><td>▁</td></tr><tr><td>test_hit_rate@5</td><td>▁</td></tr><tr><td>test_loss</td><td>▁</td></tr><tr><td>test_mces@1</td><td>▁</td></tr><tr><td>trainer/global_step</td><td>▁▆█</td></tr><tr><td>val_hit_rate@1</td><td>▁▁</td></tr><tr><td>val_hit_rate@20</td><td>█▁</td></tr><tr><td>val_hit_rate@5</td><td>█▁</td></tr><tr><td>val_loss</td><td>▁█</td></tr><tr><td>val_mces@1</td><td>▁█</td></tr></table><br/></div><div class=\"wandb-col\"><h3>Run summary:</h3><br/><table class=\"wandb\"><tr><td>epoch</td><td>2</td></tr><tr><td>test_hit_rate@1</td><td>0.5</td></tr><tr><td>test_hit_rate@20</td><td>0.75</td></tr><tr><td>test_hit_rate@5</td><td>0.5</td></tr><tr><td>test_loss</td><td>0.02293</td></tr><tr><td>test_mces@1</td><td>21</td></tr><tr><td>trainer/global_step</td><td>4</td></tr><tr><td>val_hit_rate@1</td><td>0</td></tr><tr><td>val_hit_rate@20</td><td>0.75</td></tr><tr><td>val_hit_rate@5</td><td>0</td></tr><tr><td>val_loss</td><td>0.02615</td></tr><tr><td>val_mces@1</td><td>29.875</td></tr></table><br/></div></div>"
      ]
     },
     "metadata": {},
     "output_type": "display_data"
    },
    {
     "data": {
      "text/plain": [
       "<IPython.core.display.HTML object>"
      ],
      "text/html": [
       " View run <strong style=\"color:#cdcd00\">config_skip_connection_cut_tree_3_2025-02-05_11-37-38</strong> at: <a href='https://wandb.ai/jozefov-iocb-prague/new_gnn_retrieval_cut/runs/1db1yikv' target=\"_blank\">https://wandb.ai/jozefov-iocb-prague/new_gnn_retrieval_cut/runs/1db1yikv</a><br> View project at: <a href='https://wandb.ai/jozefov-iocb-prague/new_gnn_retrieval_cut' target=\"_blank\">https://wandb.ai/jozefov-iocb-prague/new_gnn_retrieval_cut</a><br>Synced 5 W&B file(s), 0 media file(s), 0 artifact file(s) and 0 other file(s)"
      ]
     },
     "metadata": {},
     "output_type": "display_data"
    },
    {
     "data": {
      "text/plain": [
       "<IPython.core.display.HTML object>"
      ],
      "text/html": [
       "Find logs at: <code>./wandb/run-20250205_113740-1db1yikv/logs</code>"
      ]
     },
     "metadata": {},
     "output_type": "display_data"
    },
    {
     "name": "stdout",
     "output_type": "stream",
     "text": [
      "Configuration saved to /Users/macbook/CODE/PhantoMS/experiments_run/new_gnn_retrieval_cut/config_skip_connection_cut_tree_3_2025-02-05_11-37-38/configs/config_skip_connection.yml\n",
      "\n",
      "Extracting embeddings for /Users/macbook/CODE/PhantoMS/experiments_run/new_gnn_retrieval_cut/config_skip_connection_cut_tree_3_2025-02-05_11-37-38\n"
     ]
    },
    {
     "name": "stderr",
     "output_type": "stream",
     "text": [
      "/Users/macbook/UTILS/anaconda3/envs/phantoms_env/lib/python3.11/site-packages/torch/nn/utils/weight_norm.py:143: FutureWarning: `torch.nn.utils.weight_norm` is deprecated in favor of `torch.nn.utils.parametrizations.weight_norm`.\n",
      "  WeightNorm.apply(module, name, dim)\n"
     ]
    },
    {
     "name": "stdout",
     "output_type": "stream",
     "text": [
      "Warning: No candidates for 0 SMILES. Skipping them.\n",
      "Total valid indices: 105\n",
      "MSnRetrievalDataset length: 105\n",
      "Warning: Some identifiers in the split file are not found in the dataset. Taking intersection.\n",
      "Test dataset size: 17\n",
      "Embeddings saved to /Users/macbook/CODE/PhantoMS/experiments_run/new_gnn_retrieval_cut/config_skip_connection_cut_tree_3_2025-02-05_11-37-38/embeddings\n",
      "\n",
      "Running Experiment: config_skip_connection_bonus_cut_tree_0_2025-02-05_11-38-55\n",
      "W&B Project: new_gnn_retrieval_cut\n",
      "Cut Tree Level: 0\n",
      "\n",
      "Starting training for /Users/macbook/CODE/PhantoMS/experiments_run/new_gnn_retrieval_cut/config_skip_connection_bonus_cut_tree_0_2025-02-05_11-38-55\n",
      "Using retrieval task/model.\n",
      "Warning: No candidates for 0 SMILES. Skipping them.\n",
      "Total valid indices: 105\n",
      "MSnRetrievalDataset length: 105\n"
     ]
    },
    {
     "name": "stderr",
     "output_type": "stream",
     "text": [
      "/Users/macbook/UTILS/anaconda3/envs/phantoms_env/lib/python3.11/site-packages/torch/nn/utils/weight_norm.py:143: FutureWarning: `torch.nn.utils.weight_norm` is deprecated in favor of `torch.nn.utils.parametrizations.weight_norm`.\n",
      "  WeightNorm.apply(module, name, dim)\n",
      "GPU available: True (mps), used: False\n",
      "TPU available: False, using: 0 TPU cores\n",
      "HPU available: False, using: 0 HPUs\n",
      "/Users/macbook/UTILS/anaconda3/envs/phantoms_env/lib/python3.11/site-packages/pytorch_lightning/trainer/setup.py:177: GPU available but not used. You can set it by doing `Trainer(accelerator='gpu')`.\n"
     ]
    },
    {
     "data": {
      "text/plain": [
       "<IPython.core.display.HTML object>"
      ],
      "text/html": [
       "Tracking run with wandb version 0.19.4"
      ]
     },
     "metadata": {},
     "output_type": "display_data"
    },
    {
     "data": {
      "text/plain": [
       "<IPython.core.display.HTML object>"
      ],
      "text/html": [
       "Run data is saved locally in <code>./wandb/run-20250205_113857-5svbtxaj</code>"
      ]
     },
     "metadata": {},
     "output_type": "display_data"
    },
    {
     "data": {
      "text/plain": [
       "<IPython.core.display.HTML object>"
      ],
      "text/html": [
       "Syncing run <strong><a href='https://wandb.ai/jozefov-iocb-prague/new_gnn_retrieval_cut/runs/5svbtxaj' target=\"_blank\">config_skip_connection_bonus_cut_tree_0_2025-02-05_11-38-55</a></strong> to <a href='https://wandb.ai/jozefov-iocb-prague/new_gnn_retrieval_cut' target=\"_blank\">Weights & Biases</a> (<a href='https://wandb.me/developer-guide' target=\"_blank\">docs</a>)<br>"
      ]
     },
     "metadata": {},
     "output_type": "display_data"
    },
    {
     "data": {
      "text/plain": [
       "<IPython.core.display.HTML object>"
      ],
      "text/html": [
       " View project at <a href='https://wandb.ai/jozefov-iocb-prague/new_gnn_retrieval_cut' target=\"_blank\">https://wandb.ai/jozefov-iocb-prague/new_gnn_retrieval_cut</a>"
      ]
     },
     "metadata": {},
     "output_type": "display_data"
    },
    {
     "data": {
      "text/plain": [
       "<IPython.core.display.HTML object>"
      ],
      "text/html": [
       " View run at <a href='https://wandb.ai/jozefov-iocb-prague/new_gnn_retrieval_cut/runs/5svbtxaj' target=\"_blank\">https://wandb.ai/jozefov-iocb-prague/new_gnn_retrieval_cut/runs/5svbtxaj</a>"
      ]
     },
     "metadata": {},
     "output_type": "display_data"
    },
    {
     "name": "stderr",
     "output_type": "stream",
     "text": [
      "\n",
      "  | Name            | Type                        | Params | Mode \n",
      "------------------------------------------------------------------------\n",
      "0 | gcn_layers      | ModuleList                  | 16.6 M | train\n",
      "1 | formula_encoder | Sequential                  | 4.9 K  | train\n",
      "2 | head            | SkipConnectionRetrievalHead | 37.9 M | train\n",
      "3 | loss_fn         | MSELoss                     | 0      | train\n",
      "------------------------------------------------------------------------\n",
      "54.5 M    Trainable params\n",
      "0         Non-trainable params\n",
      "54.5 M    Total params\n",
      "218.140   Total estimated model params size (MB)\n",
      "59        Modules in train mode\n",
      "0         Modules in eval mode\n"
     ]
    },
    {
     "name": "stdout",
     "output_type": "stream",
     "text": [
      "Warning: Some identifiers in the split file are not found in the dataset. Taking intersection.\n",
      "Train dataset size: 82\n",
      "Val dataset size: 6\n"
     ]
    },
    {
     "data": {
      "text/plain": [
       "Sanity Checking: |          | 0/? [00:00<?, ?it/s]"
      ],
      "application/vnd.jupyter.widget-view+json": {
       "version_major": 2,
       "version_minor": 0,
       "model_id": "bb30a4205c6148cf8c1a5ca4a2b2fd65"
      }
     },
     "metadata": {},
     "output_type": "display_data"
    },
    {
     "name": "stderr",
     "output_type": "stream",
     "text": [
      "/Users/macbook/UTILS/anaconda3/envs/phantoms_env/lib/python3.11/site-packages/pytorch_lightning/trainer/connectors/data_connector.py:425: The 'val_dataloader' does not have many workers which may be a bottleneck. Consider increasing the value of the `num_workers` argument` to `num_workers=9` in the `DataLoader` to improve performance.\n",
      "/Users/macbook/UTILS/anaconda3/envs/phantoms_env/lib/python3.11/site-packages/pytorch_lightning/trainer/connectors/data_connector.py:425: The 'train_dataloader' does not have many workers which may be a bottleneck. Consider increasing the value of the `num_workers` argument` to `num_workers=9` in the `DataLoader` to improve performance.\n",
      "/Users/macbook/UTILS/anaconda3/envs/phantoms_env/lib/python3.11/site-packages/pytorch_lightning/loops/fit_loop.py:310: The number of training batches (2) is smaller than the logging interval Trainer(log_every_n_steps=10). Set a lower value for log_every_n_steps if you want to see logs for the training epoch.\n"
     ]
    },
    {
     "data": {
      "text/plain": [
       "Training: |          | 0/? [00:00<?, ?it/s]"
      ],
      "application/vnd.jupyter.widget-view+json": {
       "version_major": 2,
       "version_minor": 0,
       "model_id": "f310871eb331414a94b6bc572200a093"
      }
     },
     "metadata": {},
     "output_type": "display_data"
    },
    {
     "data": {
      "text/plain": [
       "Validation: |          | 0/? [00:00<?, ?it/s]"
      ],
      "application/vnd.jupyter.widget-view+json": {
       "version_major": 2,
       "version_minor": 0,
       "model_id": "78f58cdb423c4f3eb355d795e95baa97"
      }
     },
     "metadata": {},
     "output_type": "display_data"
    },
    {
     "data": {
      "text/plain": [
       "Validation: |          | 0/? [00:00<?, ?it/s]"
      ],
      "application/vnd.jupyter.widget-view+json": {
       "version_major": 2,
       "version_minor": 0,
       "model_id": "7b1cbc2fc7ef48d98a5df9cc37d467e7"
      }
     },
     "metadata": {},
     "output_type": "display_data"
    },
    {
     "name": "stderr",
     "output_type": "stream",
     "text": [
      "`Trainer.fit` stopped: `max_epochs=2` reached.\n"
     ]
    },
    {
     "name": "stdout",
     "output_type": "stream",
     "text": [
      "Warning: Some identifiers in the split file are not found in the dataset. Taking intersection.\n",
      "Test dataset size: 17\n"
     ]
    },
    {
     "name": "stderr",
     "output_type": "stream",
     "text": [
      "/Users/macbook/UTILS/anaconda3/envs/phantoms_env/lib/python3.11/site-packages/pytorch_lightning/trainer/connectors/data_connector.py:425: The 'test_dataloader' does not have many workers which may be a bottleneck. Consider increasing the value of the `num_workers` argument` to `num_workers=9` in the `DataLoader` to improve performance.\n"
     ]
    },
    {
     "data": {
      "text/plain": [
       "Testing: |          | 0/? [00:00<?, ?it/s]"
      ],
      "application/vnd.jupyter.widget-view+json": {
       "version_major": 2,
       "version_minor": 0,
       "model_id": "e652f731fb9e4e1190cf7b289deb41e6"
      }
     },
     "metadata": {},
     "output_type": "display_data"
    },
    {
     "name": "stdout",
     "output_type": "stream",
     "text": [
      "────────────────────────────────────────────────────────────────────────────────────────────────────────────────────────\n",
      "       Test metric             DataLoader 0\n",
      "────────────────────────────────────────────────────────────────────────────────────────────────────────────────────────\n",
      "     test_hit_rate@1                0.0\n",
      "    test_hit_rate@20               0.25\n",
      "     test_hit_rate@5               0.25\n",
      "        test_loss          0.023733556270599365\n",
      "       test_mces@1                 13.25\n",
      "────────────────────────────────────────────────────────────────────────────────────────────────────────────────────────\n",
      "Model saved to /Users/macbook/CODE/PhantoMS/experiments_run/new_gnn_retrieval_cut/config_skip_connection_bonus_cut_tree_0_2025-02-05_11-38-55/checkpoints/final_model.ckpt\n"
     ]
    },
    {
     "data": {
      "text/plain": [
       "<IPython.core.display.HTML object>"
      ],
      "text/html": []
     },
     "metadata": {},
     "output_type": "display_data"
    },
    {
     "data": {
      "text/plain": [
       "<IPython.core.display.HTML object>"
      ],
      "text/html": [
       "<br>    <style><br>        .wandb-row {<br>            display: flex;<br>            flex-direction: row;<br>            flex-wrap: wrap;<br>            justify-content: flex-start;<br>            width: 100%;<br>        }<br>        .wandb-col {<br>            display: flex;<br>            flex-direction: column;<br>            flex-basis: 100%;<br>            flex: 1;<br>            padding: 10px;<br>        }<br>    </style><br><div class=\"wandb-row\"><div class=\"wandb-col\"><h3>Run history:</h3><br/><table class=\"wandb\"><tr><td>epoch</td><td>▁▅█</td></tr><tr><td>test_hit_rate@1</td><td>▁</td></tr><tr><td>test_hit_rate@20</td><td>▁</td></tr><tr><td>test_hit_rate@5</td><td>▁</td></tr><tr><td>test_loss</td><td>▁</td></tr><tr><td>test_mces@1</td><td>▁</td></tr><tr><td>trainer/global_step</td><td>▁▆█</td></tr><tr><td>val_hit_rate@1</td><td>▁▁</td></tr><tr><td>val_hit_rate@20</td><td>▁▁</td></tr><tr><td>val_hit_rate@5</td><td>▁▁</td></tr><tr><td>val_loss</td><td>▁█</td></tr><tr><td>val_mces@1</td><td>█▁</td></tr></table><br/></div><div class=\"wandb-col\"><h3>Run summary:</h3><br/><table class=\"wandb\"><tr><td>epoch</td><td>2</td></tr><tr><td>test_hit_rate@1</td><td>0</td></tr><tr><td>test_hit_rate@20</td><td>0.25</td></tr><tr><td>test_hit_rate@5</td><td>0.25</td></tr><tr><td>test_loss</td><td>0.02373</td></tr><tr><td>test_mces@1</td><td>13.25</td></tr><tr><td>trainer/global_step</td><td>4</td></tr><tr><td>val_hit_rate@1</td><td>0</td></tr><tr><td>val_hit_rate@20</td><td>0.5</td></tr><tr><td>val_hit_rate@5</td><td>0</td></tr><tr><td>val_loss</td><td>0.02717</td></tr><tr><td>val_mces@1</td><td>10.25</td></tr></table><br/></div></div>"
      ]
     },
     "metadata": {},
     "output_type": "display_data"
    },
    {
     "data": {
      "text/plain": [
       "<IPython.core.display.HTML object>"
      ],
      "text/html": [
       " View run <strong style=\"color:#cdcd00\">config_skip_connection_bonus_cut_tree_0_2025-02-05_11-38-55</strong> at: <a href='https://wandb.ai/jozefov-iocb-prague/new_gnn_retrieval_cut/runs/5svbtxaj' target=\"_blank\">https://wandb.ai/jozefov-iocb-prague/new_gnn_retrieval_cut/runs/5svbtxaj</a><br> View project at: <a href='https://wandb.ai/jozefov-iocb-prague/new_gnn_retrieval_cut' target=\"_blank\">https://wandb.ai/jozefov-iocb-prague/new_gnn_retrieval_cut</a><br>Synced 5 W&B file(s), 0 media file(s), 0 artifact file(s) and 0 other file(s)"
      ]
     },
     "metadata": {},
     "output_type": "display_data"
    },
    {
     "data": {
      "text/plain": [
       "<IPython.core.display.HTML object>"
      ],
      "text/html": [
       "Find logs at: <code>./wandb/run-20250205_113857-5svbtxaj/logs</code>"
      ]
     },
     "metadata": {},
     "output_type": "display_data"
    },
    {
     "name": "stdout",
     "output_type": "stream",
     "text": [
      "Configuration saved to /Users/macbook/CODE/PhantoMS/experiments_run/new_gnn_retrieval_cut/config_skip_connection_bonus_cut_tree_0_2025-02-05_11-38-55/configs/config_skip_connection_bonus.yml\n",
      "\n",
      "Extracting embeddings for /Users/macbook/CODE/PhantoMS/experiments_run/new_gnn_retrieval_cut/config_skip_connection_bonus_cut_tree_0_2025-02-05_11-38-55\n"
     ]
    },
    {
     "name": "stderr",
     "output_type": "stream",
     "text": [
      "/Users/macbook/UTILS/anaconda3/envs/phantoms_env/lib/python3.11/site-packages/torch/nn/utils/weight_norm.py:143: FutureWarning: `torch.nn.utils.weight_norm` is deprecated in favor of `torch.nn.utils.parametrizations.weight_norm`.\n",
      "  WeightNorm.apply(module, name, dim)\n"
     ]
    },
    {
     "name": "stdout",
     "output_type": "stream",
     "text": [
      "Warning: No candidates for 0 SMILES. Skipping them.\n",
      "Total valid indices: 105\n",
      "MSnRetrievalDataset length: 105\n",
      "Warning: Some identifiers in the split file are not found in the dataset. Taking intersection.\n",
      "Test dataset size: 17\n",
      "Embeddings saved to /Users/macbook/CODE/PhantoMS/experiments_run/new_gnn_retrieval_cut/config_skip_connection_bonus_cut_tree_0_2025-02-05_11-38-55/embeddings\n",
      "\n",
      "Running Experiment: config_skip_connection_bonus_cut_tree_1_2025-02-05_11-39-30\n",
      "W&B Project: new_gnn_retrieval_cut\n",
      "Cut Tree Level: 1\n",
      "\n",
      "Starting training for /Users/macbook/CODE/PhantoMS/experiments_run/new_gnn_retrieval_cut/config_skip_connection_bonus_cut_tree_1_2025-02-05_11-39-30\n",
      "Using retrieval task/model.\n",
      "Warning: No candidates for 0 SMILES. Skipping them.\n",
      "Total valid indices: 105\n",
      "MSnRetrievalDataset length: 105\n"
     ]
    },
    {
     "name": "stderr",
     "output_type": "stream",
     "text": [
      "/Users/macbook/UTILS/anaconda3/envs/phantoms_env/lib/python3.11/site-packages/torch/nn/utils/weight_norm.py:143: FutureWarning: `torch.nn.utils.weight_norm` is deprecated in favor of `torch.nn.utils.parametrizations.weight_norm`.\n",
      "  WeightNorm.apply(module, name, dim)\n",
      "GPU available: True (mps), used: False\n",
      "TPU available: False, using: 0 TPU cores\n",
      "HPU available: False, using: 0 HPUs\n",
      "/Users/macbook/UTILS/anaconda3/envs/phantoms_env/lib/python3.11/site-packages/pytorch_lightning/trainer/setup.py:177: GPU available but not used. You can set it by doing `Trainer(accelerator='gpu')`.\n"
     ]
    },
    {
     "data": {
      "text/plain": [
       "<IPython.core.display.HTML object>"
      ],
      "text/html": [
       "Tracking run with wandb version 0.19.4"
      ]
     },
     "metadata": {},
     "output_type": "display_data"
    },
    {
     "data": {
      "text/plain": [
       "<IPython.core.display.HTML object>"
      ],
      "text/html": [
       "Run data is saved locally in <code>./wandb/run-20250205_113932-qdk6epgb</code>"
      ]
     },
     "metadata": {},
     "output_type": "display_data"
    },
    {
     "data": {
      "text/plain": [
       "<IPython.core.display.HTML object>"
      ],
      "text/html": [
       "Syncing run <strong><a href='https://wandb.ai/jozefov-iocb-prague/new_gnn_retrieval_cut/runs/qdk6epgb' target=\"_blank\">config_skip_connection_bonus_cut_tree_1_2025-02-05_11-39-30</a></strong> to <a href='https://wandb.ai/jozefov-iocb-prague/new_gnn_retrieval_cut' target=\"_blank\">Weights & Biases</a> (<a href='https://wandb.me/developer-guide' target=\"_blank\">docs</a>)<br>"
      ]
     },
     "metadata": {},
     "output_type": "display_data"
    },
    {
     "data": {
      "text/plain": [
       "<IPython.core.display.HTML object>"
      ],
      "text/html": [
       " View project at <a href='https://wandb.ai/jozefov-iocb-prague/new_gnn_retrieval_cut' target=\"_blank\">https://wandb.ai/jozefov-iocb-prague/new_gnn_retrieval_cut</a>"
      ]
     },
     "metadata": {},
     "output_type": "display_data"
    },
    {
     "data": {
      "text/plain": [
       "<IPython.core.display.HTML object>"
      ],
      "text/html": [
       " View run at <a href='https://wandb.ai/jozefov-iocb-prague/new_gnn_retrieval_cut/runs/qdk6epgb' target=\"_blank\">https://wandb.ai/jozefov-iocb-prague/new_gnn_retrieval_cut/runs/qdk6epgb</a>"
      ]
     },
     "metadata": {},
     "output_type": "display_data"
    },
    {
     "name": "stderr",
     "output_type": "stream",
     "text": [
      "\n",
      "  | Name            | Type                        | Params | Mode \n",
      "------------------------------------------------------------------------\n",
      "0 | gcn_layers      | ModuleList                  | 16.6 M | train\n",
      "1 | formula_encoder | Sequential                  | 4.9 K  | train\n",
      "2 | head            | SkipConnectionRetrievalHead | 37.9 M | train\n",
      "3 | loss_fn         | MSELoss                     | 0      | train\n",
      "------------------------------------------------------------------------\n",
      "54.5 M    Trainable params\n",
      "0         Non-trainable params\n",
      "54.5 M    Total params\n",
      "218.140   Total estimated model params size (MB)\n",
      "59        Modules in train mode\n",
      "0         Modules in eval mode\n"
     ]
    },
    {
     "name": "stdout",
     "output_type": "stream",
     "text": [
      "Warning: Some identifiers in the split file are not found in the dataset. Taking intersection.\n",
      "Train dataset size: 82\n",
      "Val dataset size: 6\n"
     ]
    },
    {
     "data": {
      "text/plain": [
       "Sanity Checking: |          | 0/? [00:00<?, ?it/s]"
      ],
      "application/vnd.jupyter.widget-view+json": {
       "version_major": 2,
       "version_minor": 0,
       "model_id": "5f31496c9dfa4da7a2faae022b6e9818"
      }
     },
     "metadata": {},
     "output_type": "display_data"
    },
    {
     "name": "stderr",
     "output_type": "stream",
     "text": [
      "/Users/macbook/UTILS/anaconda3/envs/phantoms_env/lib/python3.11/site-packages/pytorch_lightning/trainer/connectors/data_connector.py:425: The 'val_dataloader' does not have many workers which may be a bottleneck. Consider increasing the value of the `num_workers` argument` to `num_workers=9` in the `DataLoader` to improve performance.\n",
      "/Users/macbook/UTILS/anaconda3/envs/phantoms_env/lib/python3.11/site-packages/pytorch_lightning/trainer/connectors/data_connector.py:425: The 'train_dataloader' does not have many workers which may be a bottleneck. Consider increasing the value of the `num_workers` argument` to `num_workers=9` in the `DataLoader` to improve performance.\n",
      "/Users/macbook/UTILS/anaconda3/envs/phantoms_env/lib/python3.11/site-packages/pytorch_lightning/loops/fit_loop.py:310: The number of training batches (2) is smaller than the logging interval Trainer(log_every_n_steps=10). Set a lower value for log_every_n_steps if you want to see logs for the training epoch.\n"
     ]
    },
    {
     "data": {
      "text/plain": [
       "Training: |          | 0/? [00:00<?, ?it/s]"
      ],
      "application/vnd.jupyter.widget-view+json": {
       "version_major": 2,
       "version_minor": 0,
       "model_id": "4446ff0b7c114e54a0da09452bb33398"
      }
     },
     "metadata": {},
     "output_type": "display_data"
    },
    {
     "data": {
      "text/plain": [
       "Validation: |          | 0/? [00:00<?, ?it/s]"
      ],
      "application/vnd.jupyter.widget-view+json": {
       "version_major": 2,
       "version_minor": 0,
       "model_id": "2449de21b24549d685bee33131e4ee40"
      }
     },
     "metadata": {},
     "output_type": "display_data"
    },
    {
     "data": {
      "text/plain": [
       "Validation: |          | 0/? [00:00<?, ?it/s]"
      ],
      "application/vnd.jupyter.widget-view+json": {
       "version_major": 2,
       "version_minor": 0,
       "model_id": "a3820876f8ff4584a00bfcca96f042e6"
      }
     },
     "metadata": {},
     "output_type": "display_data"
    },
    {
     "name": "stderr",
     "output_type": "stream",
     "text": [
      "`Trainer.fit` stopped: `max_epochs=2` reached.\n"
     ]
    },
    {
     "name": "stdout",
     "output_type": "stream",
     "text": [
      "Warning: Some identifiers in the split file are not found in the dataset. Taking intersection.\n",
      "Test dataset size: 17\n"
     ]
    },
    {
     "name": "stderr",
     "output_type": "stream",
     "text": [
      "/Users/macbook/UTILS/anaconda3/envs/phantoms_env/lib/python3.11/site-packages/pytorch_lightning/trainer/connectors/data_connector.py:425: The 'test_dataloader' does not have many workers which may be a bottleneck. Consider increasing the value of the `num_workers` argument` to `num_workers=9` in the `DataLoader` to improve performance.\n"
     ]
    },
    {
     "data": {
      "text/plain": [
       "Testing: |          | 0/? [00:00<?, ?it/s]"
      ],
      "application/vnd.jupyter.widget-view+json": {
       "version_major": 2,
       "version_minor": 0,
       "model_id": "191a5326876b4488946eb0c70c139604"
      }
     },
     "metadata": {},
     "output_type": "display_data"
    },
    {
     "name": "stdout",
     "output_type": "stream",
     "text": [
      "────────────────────────────────────────────────────────────────────────────────────────────────────────────────────────\n",
      "       Test metric             DataLoader 0\n",
      "────────────────────────────────────────────────────────────────────────────────────────────────────────────────────────\n",
      "     test_hit_rate@1                0.0\n",
      "    test_hit_rate@20               0.25\n",
      "     test_hit_rate@5                0.0\n",
      "        test_loss           0.0238944161683321\n",
      "       test_mces@1                 10.5\n",
      "────────────────────────────────────────────────────────────────────────────────────────────────────────────────────────\n",
      "Model saved to /Users/macbook/CODE/PhantoMS/experiments_run/new_gnn_retrieval_cut/config_skip_connection_bonus_cut_tree_1_2025-02-05_11-39-30/checkpoints/final_model.ckpt\n"
     ]
    },
    {
     "data": {
      "text/plain": [
       "<IPython.core.display.HTML object>"
      ],
      "text/html": []
     },
     "metadata": {},
     "output_type": "display_data"
    },
    {
     "data": {
      "text/plain": [
       "<IPython.core.display.HTML object>"
      ],
      "text/html": [
       "<br>    <style><br>        .wandb-row {<br>            display: flex;<br>            flex-direction: row;<br>            flex-wrap: wrap;<br>            justify-content: flex-start;<br>            width: 100%;<br>        }<br>        .wandb-col {<br>            display: flex;<br>            flex-direction: column;<br>            flex-basis: 100%;<br>            flex: 1;<br>            padding: 10px;<br>        }<br>    </style><br><div class=\"wandb-row\"><div class=\"wandb-col\"><h3>Run history:</h3><br/><table class=\"wandb\"><tr><td>epoch</td><td>▁▅█</td></tr><tr><td>test_hit_rate@1</td><td>▁</td></tr><tr><td>test_hit_rate@20</td><td>▁</td></tr><tr><td>test_hit_rate@5</td><td>▁</td></tr><tr><td>test_loss</td><td>▁</td></tr><tr><td>test_mces@1</td><td>▁</td></tr><tr><td>trainer/global_step</td><td>▁▆█</td></tr><tr><td>val_hit_rate@1</td><td>▁▁</td></tr><tr><td>val_hit_rate@20</td><td>▁█</td></tr><tr><td>val_hit_rate@5</td><td>▁▁</td></tr><tr><td>val_loss</td><td>▁█</td></tr><tr><td>val_mces@1</td><td>▁█</td></tr></table><br/></div><div class=\"wandb-col\"><h3>Run summary:</h3><br/><table class=\"wandb\"><tr><td>epoch</td><td>2</td></tr><tr><td>test_hit_rate@1</td><td>0</td></tr><tr><td>test_hit_rate@20</td><td>0.25</td></tr><tr><td>test_hit_rate@5</td><td>0</td></tr><tr><td>test_loss</td><td>0.02389</td></tr><tr><td>test_mces@1</td><td>10.5</td></tr><tr><td>trainer/global_step</td><td>4</td></tr><tr><td>val_hit_rate@1</td><td>0</td></tr><tr><td>val_hit_rate@20</td><td>0.5</td></tr><tr><td>val_hit_rate@5</td><td>0</td></tr><tr><td>val_loss</td><td>0.02681</td></tr><tr><td>val_mces@1</td><td>12.75</td></tr></table><br/></div></div>"
      ]
     },
     "metadata": {},
     "output_type": "display_data"
    },
    {
     "data": {
      "text/plain": [
       "<IPython.core.display.HTML object>"
      ],
      "text/html": [
       " View run <strong style=\"color:#cdcd00\">config_skip_connection_bonus_cut_tree_1_2025-02-05_11-39-30</strong> at: <a href='https://wandb.ai/jozefov-iocb-prague/new_gnn_retrieval_cut/runs/qdk6epgb' target=\"_blank\">https://wandb.ai/jozefov-iocb-prague/new_gnn_retrieval_cut/runs/qdk6epgb</a><br> View project at: <a href='https://wandb.ai/jozefov-iocb-prague/new_gnn_retrieval_cut' target=\"_blank\">https://wandb.ai/jozefov-iocb-prague/new_gnn_retrieval_cut</a><br>Synced 5 W&B file(s), 0 media file(s), 0 artifact file(s) and 0 other file(s)"
      ]
     },
     "metadata": {},
     "output_type": "display_data"
    },
    {
     "data": {
      "text/plain": [
       "<IPython.core.display.HTML object>"
      ],
      "text/html": [
       "Find logs at: <code>./wandb/run-20250205_113932-qdk6epgb/logs</code>"
      ]
     },
     "metadata": {},
     "output_type": "display_data"
    },
    {
     "name": "stdout",
     "output_type": "stream",
     "text": [
      "Configuration saved to /Users/macbook/CODE/PhantoMS/experiments_run/new_gnn_retrieval_cut/config_skip_connection_bonus_cut_tree_1_2025-02-05_11-39-30/configs/config_skip_connection_bonus.yml\n",
      "\n",
      "Extracting embeddings for /Users/macbook/CODE/PhantoMS/experiments_run/new_gnn_retrieval_cut/config_skip_connection_bonus_cut_tree_1_2025-02-05_11-39-30\n"
     ]
    },
    {
     "name": "stderr",
     "output_type": "stream",
     "text": [
      "/Users/macbook/UTILS/anaconda3/envs/phantoms_env/lib/python3.11/site-packages/torch/nn/utils/weight_norm.py:143: FutureWarning: `torch.nn.utils.weight_norm` is deprecated in favor of `torch.nn.utils.parametrizations.weight_norm`.\n",
      "  WeightNorm.apply(module, name, dim)\n"
     ]
    },
    {
     "name": "stdout",
     "output_type": "stream",
     "text": [
      "Warning: No candidates for 0 SMILES. Skipping them.\n",
      "Total valid indices: 105\n",
      "MSnRetrievalDataset length: 105\n",
      "Warning: Some identifiers in the split file are not found in the dataset. Taking intersection.\n",
      "Test dataset size: 17\n",
      "Embeddings saved to /Users/macbook/CODE/PhantoMS/experiments_run/new_gnn_retrieval_cut/config_skip_connection_bonus_cut_tree_1_2025-02-05_11-39-30/embeddings\n",
      "\n",
      "Running Experiment: config_skip_connection_bonus_cut_tree_2_2025-02-05_11-40-09\n",
      "W&B Project: new_gnn_retrieval_cut\n",
      "Cut Tree Level: 2\n",
      "\n",
      "Starting training for /Users/macbook/CODE/PhantoMS/experiments_run/new_gnn_retrieval_cut/config_skip_connection_bonus_cut_tree_2_2025-02-05_11-40-09\n",
      "Using retrieval task/model.\n",
      "Warning: No candidates for 0 SMILES. Skipping them.\n",
      "Total valid indices: 105\n",
      "MSnRetrievalDataset length: 105\n"
     ]
    },
    {
     "name": "stderr",
     "output_type": "stream",
     "text": [
      "/Users/macbook/UTILS/anaconda3/envs/phantoms_env/lib/python3.11/site-packages/torch/nn/utils/weight_norm.py:143: FutureWarning: `torch.nn.utils.weight_norm` is deprecated in favor of `torch.nn.utils.parametrizations.weight_norm`.\n",
      "  WeightNorm.apply(module, name, dim)\n",
      "GPU available: True (mps), used: False\n",
      "TPU available: False, using: 0 TPU cores\n",
      "HPU available: False, using: 0 HPUs\n",
      "/Users/macbook/UTILS/anaconda3/envs/phantoms_env/lib/python3.11/site-packages/pytorch_lightning/trainer/setup.py:177: GPU available but not used. You can set it by doing `Trainer(accelerator='gpu')`.\n"
     ]
    },
    {
     "data": {
      "text/plain": [
       "<IPython.core.display.HTML object>"
      ],
      "text/html": [
       "Tracking run with wandb version 0.19.4"
      ]
     },
     "metadata": {},
     "output_type": "display_data"
    },
    {
     "data": {
      "text/plain": [
       "<IPython.core.display.HTML object>"
      ],
      "text/html": [
       "Run data is saved locally in <code>./wandb/run-20250205_114011-xt4ea3fh</code>"
      ]
     },
     "metadata": {},
     "output_type": "display_data"
    },
    {
     "data": {
      "text/plain": [
       "<IPython.core.display.HTML object>"
      ],
      "text/html": [
       "Syncing run <strong><a href='https://wandb.ai/jozefov-iocb-prague/new_gnn_retrieval_cut/runs/xt4ea3fh' target=\"_blank\">config_skip_connection_bonus_cut_tree_2_2025-02-05_11-40-09</a></strong> to <a href='https://wandb.ai/jozefov-iocb-prague/new_gnn_retrieval_cut' target=\"_blank\">Weights & Biases</a> (<a href='https://wandb.me/developer-guide' target=\"_blank\">docs</a>)<br>"
      ]
     },
     "metadata": {},
     "output_type": "display_data"
    },
    {
     "data": {
      "text/plain": [
       "<IPython.core.display.HTML object>"
      ],
      "text/html": [
       " View project at <a href='https://wandb.ai/jozefov-iocb-prague/new_gnn_retrieval_cut' target=\"_blank\">https://wandb.ai/jozefov-iocb-prague/new_gnn_retrieval_cut</a>"
      ]
     },
     "metadata": {},
     "output_type": "display_data"
    },
    {
     "data": {
      "text/plain": [
       "<IPython.core.display.HTML object>"
      ],
      "text/html": [
       " View run at <a href='https://wandb.ai/jozefov-iocb-prague/new_gnn_retrieval_cut/runs/xt4ea3fh' target=\"_blank\">https://wandb.ai/jozefov-iocb-prague/new_gnn_retrieval_cut/runs/xt4ea3fh</a>"
      ]
     },
     "metadata": {},
     "output_type": "display_data"
    },
    {
     "name": "stderr",
     "output_type": "stream",
     "text": [
      "\n",
      "  | Name            | Type                        | Params | Mode \n",
      "------------------------------------------------------------------------\n",
      "0 | gcn_layers      | ModuleList                  | 16.6 M | train\n",
      "1 | formula_encoder | Sequential                  | 4.9 K  | train\n",
      "2 | head            | SkipConnectionRetrievalHead | 37.9 M | train\n",
      "3 | loss_fn         | MSELoss                     | 0      | train\n",
      "------------------------------------------------------------------------\n",
      "54.5 M    Trainable params\n",
      "0         Non-trainable params\n",
      "54.5 M    Total params\n",
      "218.140   Total estimated model params size (MB)\n",
      "59        Modules in train mode\n",
      "0         Modules in eval mode\n"
     ]
    },
    {
     "name": "stdout",
     "output_type": "stream",
     "text": [
      "Warning: Some identifiers in the split file are not found in the dataset. Taking intersection.\n",
      "Train dataset size: 82\n",
      "Val dataset size: 6\n"
     ]
    },
    {
     "data": {
      "text/plain": [
       "Sanity Checking: |          | 0/? [00:00<?, ?it/s]"
      ],
      "application/vnd.jupyter.widget-view+json": {
       "version_major": 2,
       "version_minor": 0,
       "model_id": "a8cfc8a37c094084922339890a898dda"
      }
     },
     "metadata": {},
     "output_type": "display_data"
    },
    {
     "name": "stderr",
     "output_type": "stream",
     "text": [
      "/Users/macbook/UTILS/anaconda3/envs/phantoms_env/lib/python3.11/site-packages/pytorch_lightning/trainer/connectors/data_connector.py:425: The 'val_dataloader' does not have many workers which may be a bottleneck. Consider increasing the value of the `num_workers` argument` to `num_workers=9` in the `DataLoader` to improve performance.\n",
      "/Users/macbook/UTILS/anaconda3/envs/phantoms_env/lib/python3.11/site-packages/pytorch_lightning/trainer/connectors/data_connector.py:425: The 'train_dataloader' does not have many workers which may be a bottleneck. Consider increasing the value of the `num_workers` argument` to `num_workers=9` in the `DataLoader` to improve performance.\n",
      "/Users/macbook/UTILS/anaconda3/envs/phantoms_env/lib/python3.11/site-packages/pytorch_lightning/loops/fit_loop.py:310: The number of training batches (2) is smaller than the logging interval Trainer(log_every_n_steps=10). Set a lower value for log_every_n_steps if you want to see logs for the training epoch.\n"
     ]
    },
    {
     "data": {
      "text/plain": [
       "Training: |          | 0/? [00:00<?, ?it/s]"
      ],
      "application/vnd.jupyter.widget-view+json": {
       "version_major": 2,
       "version_minor": 0,
       "model_id": "c978bcdfb2894e48841b53515fc19079"
      }
     },
     "metadata": {},
     "output_type": "display_data"
    },
    {
     "data": {
      "text/plain": [
       "Validation: |          | 0/? [00:00<?, ?it/s]"
      ],
      "application/vnd.jupyter.widget-view+json": {
       "version_major": 2,
       "version_minor": 0,
       "model_id": "649ae0e860f249e38276b6eccee3b6f7"
      }
     },
     "metadata": {},
     "output_type": "display_data"
    },
    {
     "data": {
      "text/plain": [
       "Validation: |          | 0/? [00:00<?, ?it/s]"
      ],
      "application/vnd.jupyter.widget-view+json": {
       "version_major": 2,
       "version_minor": 0,
       "model_id": "b11e3254be9e4e908b91fceec25f4897"
      }
     },
     "metadata": {},
     "output_type": "display_data"
    },
    {
     "name": "stderr",
     "output_type": "stream",
     "text": [
      "`Trainer.fit` stopped: `max_epochs=2` reached.\n"
     ]
    },
    {
     "name": "stdout",
     "output_type": "stream",
     "text": [
      "Warning: Some identifiers in the split file are not found in the dataset. Taking intersection.\n",
      "Test dataset size: 17\n"
     ]
    },
    {
     "name": "stderr",
     "output_type": "stream",
     "text": [
      "/Users/macbook/UTILS/anaconda3/envs/phantoms_env/lib/python3.11/site-packages/pytorch_lightning/trainer/connectors/data_connector.py:425: The 'test_dataloader' does not have many workers which may be a bottleneck. Consider increasing the value of the `num_workers` argument` to `num_workers=9` in the `DataLoader` to improve performance.\n"
     ]
    },
    {
     "data": {
      "text/plain": [
       "Testing: |          | 0/? [00:00<?, ?it/s]"
      ],
      "application/vnd.jupyter.widget-view+json": {
       "version_major": 2,
       "version_minor": 0,
       "model_id": "0334b98e0c18417da35ac34eab47f0c0"
      }
     },
     "metadata": {},
     "output_type": "display_data"
    },
    {
     "name": "stdout",
     "output_type": "stream",
     "text": [
      "────────────────────────────────────────────────────────────────────────────────────────────────────────────────────────\n",
      "       Test metric             DataLoader 0\n",
      "────────────────────────────────────────────────────────────────────────────────────────────────────────────────────────\n",
      "     test_hit_rate@1                0.0\n",
      "    test_hit_rate@20               0.25\n",
      "     test_hit_rate@5                0.0\n",
      "        test_loss          0.023616963997483253\n",
      "       test_mces@1                  9.5\n",
      "────────────────────────────────────────────────────────────────────────────────────────────────────────────────────────\n",
      "Model saved to /Users/macbook/CODE/PhantoMS/experiments_run/new_gnn_retrieval_cut/config_skip_connection_bonus_cut_tree_2_2025-02-05_11-40-09/checkpoints/final_model.ckpt\n"
     ]
    },
    {
     "data": {
      "text/plain": [
       "<IPython.core.display.HTML object>"
      ],
      "text/html": []
     },
     "metadata": {},
     "output_type": "display_data"
    },
    {
     "data": {
      "text/plain": [
       "<IPython.core.display.HTML object>"
      ],
      "text/html": [
       "<br>    <style><br>        .wandb-row {<br>            display: flex;<br>            flex-direction: row;<br>            flex-wrap: wrap;<br>            justify-content: flex-start;<br>            width: 100%;<br>        }<br>        .wandb-col {<br>            display: flex;<br>            flex-direction: column;<br>            flex-basis: 100%;<br>            flex: 1;<br>            padding: 10px;<br>        }<br>    </style><br><div class=\"wandb-row\"><div class=\"wandb-col\"><h3>Run history:</h3><br/><table class=\"wandb\"><tr><td>epoch</td><td>▁▅█</td></tr><tr><td>test_hit_rate@1</td><td>▁</td></tr><tr><td>test_hit_rate@20</td><td>▁</td></tr><tr><td>test_hit_rate@5</td><td>▁</td></tr><tr><td>test_loss</td><td>▁</td></tr><tr><td>test_mces@1</td><td>▁</td></tr><tr><td>trainer/global_step</td><td>▁▆█</td></tr><tr><td>val_hit_rate@1</td><td>▁▁</td></tr><tr><td>val_hit_rate@20</td><td>▁█</td></tr><tr><td>val_hit_rate@5</td><td>▁█</td></tr><tr><td>val_loss</td><td>▁█</td></tr><tr><td>val_mces@1</td><td>▁█</td></tr></table><br/></div><div class=\"wandb-col\"><h3>Run summary:</h3><br/><table class=\"wandb\"><tr><td>epoch</td><td>2</td></tr><tr><td>test_hit_rate@1</td><td>0</td></tr><tr><td>test_hit_rate@20</td><td>0.25</td></tr><tr><td>test_hit_rate@5</td><td>0</td></tr><tr><td>test_loss</td><td>0.02362</td></tr><tr><td>test_mces@1</td><td>9.5</td></tr><tr><td>trainer/global_step</td><td>4</td></tr><tr><td>val_hit_rate@1</td><td>0</td></tr><tr><td>val_hit_rate@20</td><td>0.5</td></tr><tr><td>val_hit_rate@5</td><td>0.5</td></tr><tr><td>val_loss</td><td>0.02666</td></tr><tr><td>val_mces@1</td><td>13.75</td></tr></table><br/></div></div>"
      ]
     },
     "metadata": {},
     "output_type": "display_data"
    },
    {
     "data": {
      "text/plain": [
       "<IPython.core.display.HTML object>"
      ],
      "text/html": [
       " View run <strong style=\"color:#cdcd00\">config_skip_connection_bonus_cut_tree_2_2025-02-05_11-40-09</strong> at: <a href='https://wandb.ai/jozefov-iocb-prague/new_gnn_retrieval_cut/runs/xt4ea3fh' target=\"_blank\">https://wandb.ai/jozefov-iocb-prague/new_gnn_retrieval_cut/runs/xt4ea3fh</a><br> View project at: <a href='https://wandb.ai/jozefov-iocb-prague/new_gnn_retrieval_cut' target=\"_blank\">https://wandb.ai/jozefov-iocb-prague/new_gnn_retrieval_cut</a><br>Synced 5 W&B file(s), 0 media file(s), 0 artifact file(s) and 0 other file(s)"
      ]
     },
     "metadata": {},
     "output_type": "display_data"
    },
    {
     "data": {
      "text/plain": [
       "<IPython.core.display.HTML object>"
      ],
      "text/html": [
       "Find logs at: <code>./wandb/run-20250205_114011-xt4ea3fh/logs</code>"
      ]
     },
     "metadata": {},
     "output_type": "display_data"
    },
    {
     "name": "stdout",
     "output_type": "stream",
     "text": [
      "Configuration saved to /Users/macbook/CODE/PhantoMS/experiments_run/new_gnn_retrieval_cut/config_skip_connection_bonus_cut_tree_2_2025-02-05_11-40-09/configs/config_skip_connection_bonus.yml\n",
      "\n",
      "Extracting embeddings for /Users/macbook/CODE/PhantoMS/experiments_run/new_gnn_retrieval_cut/config_skip_connection_bonus_cut_tree_2_2025-02-05_11-40-09\n"
     ]
    },
    {
     "name": "stderr",
     "output_type": "stream",
     "text": [
      "/Users/macbook/UTILS/anaconda3/envs/phantoms_env/lib/python3.11/site-packages/torch/nn/utils/weight_norm.py:143: FutureWarning: `torch.nn.utils.weight_norm` is deprecated in favor of `torch.nn.utils.parametrizations.weight_norm`.\n",
      "  WeightNorm.apply(module, name, dim)\n"
     ]
    },
    {
     "name": "stdout",
     "output_type": "stream",
     "text": [
      "Warning: No candidates for 0 SMILES. Skipping them.\n",
      "Total valid indices: 105\n",
      "MSnRetrievalDataset length: 105\n",
      "Warning: Some identifiers in the split file are not found in the dataset. Taking intersection.\n",
      "Test dataset size: 17\n",
      "Embeddings saved to /Users/macbook/CODE/PhantoMS/experiments_run/new_gnn_retrieval_cut/config_skip_connection_bonus_cut_tree_2_2025-02-05_11-40-09/embeddings\n",
      "\n",
      "Running Experiment: config_skip_connection_bonus_cut_tree_3_2025-02-05_11-40-40\n",
      "W&B Project: new_gnn_retrieval_cut\n",
      "Cut Tree Level: 3\n",
      "\n",
      "Starting training for /Users/macbook/CODE/PhantoMS/experiments_run/new_gnn_retrieval_cut/config_skip_connection_bonus_cut_tree_3_2025-02-05_11-40-40\n",
      "Using retrieval task/model.\n",
      "Warning: No candidates for 0 SMILES. Skipping them.\n",
      "Total valid indices: 105\n",
      "MSnRetrievalDataset length: 105\n"
     ]
    },
    {
     "name": "stderr",
     "output_type": "stream",
     "text": [
      "/Users/macbook/UTILS/anaconda3/envs/phantoms_env/lib/python3.11/site-packages/torch/nn/utils/weight_norm.py:143: FutureWarning: `torch.nn.utils.weight_norm` is deprecated in favor of `torch.nn.utils.parametrizations.weight_norm`.\n",
      "  WeightNorm.apply(module, name, dim)\n",
      "GPU available: True (mps), used: False\n",
      "TPU available: False, using: 0 TPU cores\n",
      "HPU available: False, using: 0 HPUs\n",
      "/Users/macbook/UTILS/anaconda3/envs/phantoms_env/lib/python3.11/site-packages/pytorch_lightning/trainer/setup.py:177: GPU available but not used. You can set it by doing `Trainer(accelerator='gpu')`.\n"
     ]
    },
    {
     "data": {
      "text/plain": [
       "<IPython.core.display.HTML object>"
      ],
      "text/html": [
       "Tracking run with wandb version 0.19.4"
      ]
     },
     "metadata": {},
     "output_type": "display_data"
    },
    {
     "data": {
      "text/plain": [
       "<IPython.core.display.HTML object>"
      ],
      "text/html": [
       "Run data is saved locally in <code>./wandb/run-20250205_114042-22d4hory</code>"
      ]
     },
     "metadata": {},
     "output_type": "display_data"
    },
    {
     "data": {
      "text/plain": [
       "<IPython.core.display.HTML object>"
      ],
      "text/html": [
       "Syncing run <strong><a href='https://wandb.ai/jozefov-iocb-prague/new_gnn_retrieval_cut/runs/22d4hory' target=\"_blank\">config_skip_connection_bonus_cut_tree_3_2025-02-05_11-40-40</a></strong> to <a href='https://wandb.ai/jozefov-iocb-prague/new_gnn_retrieval_cut' target=\"_blank\">Weights & Biases</a> (<a href='https://wandb.me/developer-guide' target=\"_blank\">docs</a>)<br>"
      ]
     },
     "metadata": {},
     "output_type": "display_data"
    },
    {
     "data": {
      "text/plain": [
       "<IPython.core.display.HTML object>"
      ],
      "text/html": [
       " View project at <a href='https://wandb.ai/jozefov-iocb-prague/new_gnn_retrieval_cut' target=\"_blank\">https://wandb.ai/jozefov-iocb-prague/new_gnn_retrieval_cut</a>"
      ]
     },
     "metadata": {},
     "output_type": "display_data"
    },
    {
     "data": {
      "text/plain": [
       "<IPython.core.display.HTML object>"
      ],
      "text/html": [
       " View run at <a href='https://wandb.ai/jozefov-iocb-prague/new_gnn_retrieval_cut/runs/22d4hory' target=\"_blank\">https://wandb.ai/jozefov-iocb-prague/new_gnn_retrieval_cut/runs/22d4hory</a>"
      ]
     },
     "metadata": {},
     "output_type": "display_data"
    },
    {
     "name": "stderr",
     "output_type": "stream",
     "text": [
      "\n",
      "  | Name            | Type                        | Params | Mode \n",
      "------------------------------------------------------------------------\n",
      "0 | gcn_layers      | ModuleList                  | 16.6 M | train\n",
      "1 | formula_encoder | Sequential                  | 4.9 K  | train\n",
      "2 | head            | SkipConnectionRetrievalHead | 37.9 M | train\n",
      "3 | loss_fn         | MSELoss                     | 0      | train\n",
      "------------------------------------------------------------------------\n",
      "54.5 M    Trainable params\n",
      "0         Non-trainable params\n",
      "54.5 M    Total params\n",
      "218.140   Total estimated model params size (MB)\n",
      "59        Modules in train mode\n",
      "0         Modules in eval mode\n"
     ]
    },
    {
     "name": "stdout",
     "output_type": "stream",
     "text": [
      "Warning: Some identifiers in the split file are not found in the dataset. Taking intersection.\n",
      "Train dataset size: 82\n",
      "Val dataset size: 6\n"
     ]
    },
    {
     "data": {
      "text/plain": [
       "Sanity Checking: |          | 0/? [00:00<?, ?it/s]"
      ],
      "application/vnd.jupyter.widget-view+json": {
       "version_major": 2,
       "version_minor": 0,
       "model_id": "f09853845aee4749a9269719453ae069"
      }
     },
     "metadata": {},
     "output_type": "display_data"
    },
    {
     "name": "stderr",
     "output_type": "stream",
     "text": [
      "/Users/macbook/UTILS/anaconda3/envs/phantoms_env/lib/python3.11/site-packages/pytorch_lightning/trainer/connectors/data_connector.py:425: The 'val_dataloader' does not have many workers which may be a bottleneck. Consider increasing the value of the `num_workers` argument` to `num_workers=9` in the `DataLoader` to improve performance.\n",
      "/Users/macbook/UTILS/anaconda3/envs/phantoms_env/lib/python3.11/site-packages/pytorch_lightning/trainer/connectors/data_connector.py:425: The 'train_dataloader' does not have many workers which may be a bottleneck. Consider increasing the value of the `num_workers` argument` to `num_workers=9` in the `DataLoader` to improve performance.\n",
      "/Users/macbook/UTILS/anaconda3/envs/phantoms_env/lib/python3.11/site-packages/pytorch_lightning/loops/fit_loop.py:310: The number of training batches (2) is smaller than the logging interval Trainer(log_every_n_steps=10). Set a lower value for log_every_n_steps if you want to see logs for the training epoch.\n"
     ]
    },
    {
     "data": {
      "text/plain": [
       "Training: |          | 0/? [00:00<?, ?it/s]"
      ],
      "application/vnd.jupyter.widget-view+json": {
       "version_major": 2,
       "version_minor": 0,
       "model_id": "acda09f911db490790c1d6077df914da"
      }
     },
     "metadata": {},
     "output_type": "display_data"
    },
    {
     "data": {
      "text/plain": [
       "Validation: |          | 0/? [00:00<?, ?it/s]"
      ],
      "application/vnd.jupyter.widget-view+json": {
       "version_major": 2,
       "version_minor": 0,
       "model_id": "e06f332319074833b233426886f332bb"
      }
     },
     "metadata": {},
     "output_type": "display_data"
    },
    {
     "data": {
      "text/plain": [
       "Validation: |          | 0/? [00:00<?, ?it/s]"
      ],
      "application/vnd.jupyter.widget-view+json": {
       "version_major": 2,
       "version_minor": 0,
       "model_id": "8c418819d58b4419b0964d9ecb844918"
      }
     },
     "metadata": {},
     "output_type": "display_data"
    },
    {
     "name": "stderr",
     "output_type": "stream",
     "text": [
      "`Trainer.fit` stopped: `max_epochs=2` reached.\n"
     ]
    },
    {
     "name": "stdout",
     "output_type": "stream",
     "text": [
      "Warning: Some identifiers in the split file are not found in the dataset. Taking intersection.\n",
      "Test dataset size: 17\n"
     ]
    },
    {
     "name": "stderr",
     "output_type": "stream",
     "text": [
      "/Users/macbook/UTILS/anaconda3/envs/phantoms_env/lib/python3.11/site-packages/pytorch_lightning/trainer/connectors/data_connector.py:425: The 'test_dataloader' does not have many workers which may be a bottleneck. Consider increasing the value of the `num_workers` argument` to `num_workers=9` in the `DataLoader` to improve performance.\n"
     ]
    },
    {
     "data": {
      "text/plain": [
       "Testing: |          | 0/? [00:00<?, ?it/s]"
      ],
      "application/vnd.jupyter.widget-view+json": {
       "version_major": 2,
       "version_minor": 0,
       "model_id": "4efe3bb5485d4a1e81b9fbd4f2769183"
      }
     },
     "metadata": {},
     "output_type": "display_data"
    },
    {
     "name": "stdout",
     "output_type": "stream",
     "text": [
      "────────────────────────────────────────────────────────────────────────────────────────────────────────────────────────\n",
      "       Test metric             DataLoader 0\n",
      "────────────────────────────────────────────────────────────────────────────────────────────────────────────────────────\n",
      "     test_hit_rate@1                0.0\n",
      "    test_hit_rate@20               0.25\n",
      "     test_hit_rate@5                0.0\n",
      "        test_loss          0.023725509643554688\n",
      "       test_mces@1                 12.5\n",
      "────────────────────────────────────────────────────────────────────────────────────────────────────────────────────────\n",
      "Model saved to /Users/macbook/CODE/PhantoMS/experiments_run/new_gnn_retrieval_cut/config_skip_connection_bonus_cut_tree_3_2025-02-05_11-40-40/checkpoints/final_model.ckpt\n"
     ]
    },
    {
     "data": {
      "text/plain": [
       "<IPython.core.display.HTML object>"
      ],
      "text/html": []
     },
     "metadata": {},
     "output_type": "display_data"
    },
    {
     "data": {
      "text/plain": [
       "<IPython.core.display.HTML object>"
      ],
      "text/html": [
       "<br>    <style><br>        .wandb-row {<br>            display: flex;<br>            flex-direction: row;<br>            flex-wrap: wrap;<br>            justify-content: flex-start;<br>            width: 100%;<br>        }<br>        .wandb-col {<br>            display: flex;<br>            flex-direction: column;<br>            flex-basis: 100%;<br>            flex: 1;<br>            padding: 10px;<br>        }<br>    </style><br><div class=\"wandb-row\"><div class=\"wandb-col\"><h3>Run history:</h3><br/><table class=\"wandb\"><tr><td>epoch</td><td>▁▅█</td></tr><tr><td>test_hit_rate@1</td><td>▁</td></tr><tr><td>test_hit_rate@20</td><td>▁</td></tr><tr><td>test_hit_rate@5</td><td>▁</td></tr><tr><td>test_loss</td><td>▁</td></tr><tr><td>test_mces@1</td><td>▁</td></tr><tr><td>trainer/global_step</td><td>▁▆█</td></tr><tr><td>val_hit_rate@1</td><td>▁▁</td></tr><tr><td>val_hit_rate@20</td><td>▁█</td></tr><tr><td>val_hit_rate@5</td><td>▁█</td></tr><tr><td>val_loss</td><td>▁█</td></tr><tr><td>val_mces@1</td><td>█▁</td></tr></table><br/></div><div class=\"wandb-col\"><h3>Run summary:</h3><br/><table class=\"wandb\"><tr><td>epoch</td><td>2</td></tr><tr><td>test_hit_rate@1</td><td>0</td></tr><tr><td>test_hit_rate@20</td><td>0.25</td></tr><tr><td>test_hit_rate@5</td><td>0</td></tr><tr><td>test_loss</td><td>0.02373</td></tr><tr><td>test_mces@1</td><td>12.5</td></tr><tr><td>trainer/global_step</td><td>4</td></tr><tr><td>val_hit_rate@1</td><td>0</td></tr><tr><td>val_hit_rate@20</td><td>0.5</td></tr><tr><td>val_hit_rate@5</td><td>0.5</td></tr><tr><td>val_loss</td><td>0.02639</td></tr><tr><td>val_mces@1</td><td>9.75</td></tr></table><br/></div></div>"
      ]
     },
     "metadata": {},
     "output_type": "display_data"
    },
    {
     "data": {
      "text/plain": [
       "<IPython.core.display.HTML object>"
      ],
      "text/html": [
       " View run <strong style=\"color:#cdcd00\">config_skip_connection_bonus_cut_tree_3_2025-02-05_11-40-40</strong> at: <a href='https://wandb.ai/jozefov-iocb-prague/new_gnn_retrieval_cut/runs/22d4hory' target=\"_blank\">https://wandb.ai/jozefov-iocb-prague/new_gnn_retrieval_cut/runs/22d4hory</a><br> View project at: <a href='https://wandb.ai/jozefov-iocb-prague/new_gnn_retrieval_cut' target=\"_blank\">https://wandb.ai/jozefov-iocb-prague/new_gnn_retrieval_cut</a><br>Synced 5 W&B file(s), 0 media file(s), 0 artifact file(s) and 0 other file(s)"
      ]
     },
     "metadata": {},
     "output_type": "display_data"
    },
    {
     "data": {
      "text/plain": [
       "<IPython.core.display.HTML object>"
      ],
      "text/html": [
       "Find logs at: <code>./wandb/run-20250205_114042-22d4hory/logs</code>"
      ]
     },
     "metadata": {},
     "output_type": "display_data"
    },
    {
     "name": "stdout",
     "output_type": "stream",
     "text": [
      "Configuration saved to /Users/macbook/CODE/PhantoMS/experiments_run/new_gnn_retrieval_cut/config_skip_connection_bonus_cut_tree_3_2025-02-05_11-40-40/configs/config_skip_connection_bonus.yml\n",
      "\n",
      "Extracting embeddings for /Users/macbook/CODE/PhantoMS/experiments_run/new_gnn_retrieval_cut/config_skip_connection_bonus_cut_tree_3_2025-02-05_11-40-40\n"
     ]
    },
    {
     "name": "stderr",
     "output_type": "stream",
     "text": [
      "/Users/macbook/UTILS/anaconda3/envs/phantoms_env/lib/python3.11/site-packages/torch/nn/utils/weight_norm.py:143: FutureWarning: `torch.nn.utils.weight_norm` is deprecated in favor of `torch.nn.utils.parametrizations.weight_norm`.\n",
      "  WeightNorm.apply(module, name, dim)\n"
     ]
    },
    {
     "name": "stdout",
     "output_type": "stream",
     "text": [
      "Warning: No candidates for 0 SMILES. Skipping them.\n",
      "Total valid indices: 105\n",
      "MSnRetrievalDataset length: 105\n",
      "Warning: Some identifiers in the split file are not found in the dataset. Taking intersection.\n",
      "Test dataset size: 17\n",
      "Embeddings saved to /Users/macbook/CODE/PhantoMS/experiments_run/new_gnn_retrieval_cut/config_skip_connection_bonus_cut_tree_3_2025-02-05_11-40-40/embeddings\n",
      "\n",
      "Running Experiment: config_skip_connection_dreams_cut_tree_0_2025-02-05_11-41-10\n",
      "W&B Project: new_gnn_retrieval_cut\n",
      "Cut Tree Level: 0\n",
      "\n",
      "Starting training for /Users/macbook/CODE/PhantoMS/experiments_run/new_gnn_retrieval_cut/config_skip_connection_dreams_cut_tree_0_2025-02-05_11-41-10\n",
      "Using retrieval task/model.\n",
      "Warning: No candidates for 0 SMILES. Skipping them.\n",
      "Total valid indices: 105\n",
      "MSnRetrievalDataset length: 105\n"
     ]
    },
    {
     "name": "stderr",
     "output_type": "stream",
     "text": [
      "/Users/macbook/UTILS/anaconda3/envs/phantoms_env/lib/python3.11/site-packages/torch/nn/utils/weight_norm.py:143: FutureWarning: `torch.nn.utils.weight_norm` is deprecated in favor of `torch.nn.utils.parametrizations.weight_norm`.\n",
      "  WeightNorm.apply(module, name, dim)\n",
      "GPU available: True (mps), used: False\n",
      "TPU available: False, using: 0 TPU cores\n",
      "HPU available: False, using: 0 HPUs\n",
      "/Users/macbook/UTILS/anaconda3/envs/phantoms_env/lib/python3.11/site-packages/pytorch_lightning/trainer/setup.py:177: GPU available but not used. You can set it by doing `Trainer(accelerator='gpu')`.\n"
     ]
    },
    {
     "data": {
      "text/plain": [
       "<IPython.core.display.HTML object>"
      ],
      "text/html": [
       "Tracking run with wandb version 0.19.4"
      ]
     },
     "metadata": {},
     "output_type": "display_data"
    },
    {
     "data": {
      "text/plain": [
       "<IPython.core.display.HTML object>"
      ],
      "text/html": [
       "Run data is saved locally in <code>./wandb/run-20250205_114130-0th3d8a1</code>"
      ]
     },
     "metadata": {},
     "output_type": "display_data"
    },
    {
     "data": {
      "text/plain": [
       "<IPython.core.display.HTML object>"
      ],
      "text/html": [
       "Syncing run <strong><a href='https://wandb.ai/jozefov-iocb-prague/new_gnn_retrieval_cut/runs/0th3d8a1' target=\"_blank\">config_skip_connection_dreams_cut_tree_0_2025-02-05_11-41-10</a></strong> to <a href='https://wandb.ai/jozefov-iocb-prague/new_gnn_retrieval_cut' target=\"_blank\">Weights & Biases</a> (<a href='https://wandb.me/developer-guide' target=\"_blank\">docs</a>)<br>"
      ]
     },
     "metadata": {},
     "output_type": "display_data"
    },
    {
     "data": {
      "text/plain": [
       "<IPython.core.display.HTML object>"
      ],
      "text/html": [
       " View project at <a href='https://wandb.ai/jozefov-iocb-prague/new_gnn_retrieval_cut' target=\"_blank\">https://wandb.ai/jozefov-iocb-prague/new_gnn_retrieval_cut</a>"
      ]
     },
     "metadata": {},
     "output_type": "display_data"
    },
    {
     "data": {
      "text/plain": [
       "<IPython.core.display.HTML object>"
      ],
      "text/html": [
       " View run at <a href='https://wandb.ai/jozefov-iocb-prague/new_gnn_retrieval_cut/runs/0th3d8a1' target=\"_blank\">https://wandb.ai/jozefov-iocb-prague/new_gnn_retrieval_cut/runs/0th3d8a1</a>"
      ]
     },
     "metadata": {},
     "output_type": "display_data"
    },
    {
     "name": "stderr",
     "output_type": "stream",
     "text": [
      "\n",
      "  | Name       | Type                        | Params | Mode \n",
      "-------------------------------------------------------------------\n",
      "0 | gcn_layers | ModuleList                  | 10.5 M | train\n",
      "1 | head       | SkipConnectionRetrievalHead | 37.8 M | train\n",
      "2 | loss_fn    | MSELoss                     | 0      | train\n",
      "-------------------------------------------------------------------\n",
      "48.3 M    Trainable params\n",
      "0         Non-trainable params\n",
      "48.3 M    Total params\n",
      "193.217   Total estimated model params size (MB)\n",
      "54        Modules in train mode\n",
      "0         Modules in eval mode\n"
     ]
    },
    {
     "name": "stdout",
     "output_type": "stream",
     "text": [
      "Warning: Some identifiers in the split file are not found in the dataset. Taking intersection.\n",
      "Train dataset size: 82\n",
      "Val dataset size: 6\n"
     ]
    },
    {
     "data": {
      "text/plain": [
       "Sanity Checking: |          | 0/? [00:00<?, ?it/s]"
      ],
      "application/vnd.jupyter.widget-view+json": {
       "version_major": 2,
       "version_minor": 0,
       "model_id": "0682b926c84945028b695c6c80b3ced8"
      }
     },
     "metadata": {},
     "output_type": "display_data"
    },
    {
     "name": "stderr",
     "output_type": "stream",
     "text": [
      "/Users/macbook/UTILS/anaconda3/envs/phantoms_env/lib/python3.11/site-packages/pytorch_lightning/trainer/connectors/data_connector.py:425: The 'val_dataloader' does not have many workers which may be a bottleneck. Consider increasing the value of the `num_workers` argument` to `num_workers=9` in the `DataLoader` to improve performance.\n",
      "/Users/macbook/UTILS/anaconda3/envs/phantoms_env/lib/python3.11/site-packages/pytorch_lightning/trainer/connectors/data_connector.py:425: The 'train_dataloader' does not have many workers which may be a bottleneck. Consider increasing the value of the `num_workers` argument` to `num_workers=9` in the `DataLoader` to improve performance.\n",
      "/Users/macbook/UTILS/anaconda3/envs/phantoms_env/lib/python3.11/site-packages/pytorch_lightning/loops/fit_loop.py:310: The number of training batches (2) is smaller than the logging interval Trainer(log_every_n_steps=10). Set a lower value for log_every_n_steps if you want to see logs for the training epoch.\n"
     ]
    },
    {
     "data": {
      "text/plain": [
       "Training: |          | 0/? [00:00<?, ?it/s]"
      ],
      "application/vnd.jupyter.widget-view+json": {
       "version_major": 2,
       "version_minor": 0,
       "model_id": "a100c6234b7644abb1c805ad8af16862"
      }
     },
     "metadata": {},
     "output_type": "display_data"
    },
    {
     "data": {
      "text/plain": [
       "Validation: |          | 0/? [00:00<?, ?it/s]"
      ],
      "application/vnd.jupyter.widget-view+json": {
       "version_major": 2,
       "version_minor": 0,
       "model_id": "655ff77b57494357925ffc14718a22e0"
      }
     },
     "metadata": {},
     "output_type": "display_data"
    },
    {
     "data": {
      "text/plain": [
       "Validation: |          | 0/? [00:00<?, ?it/s]"
      ],
      "application/vnd.jupyter.widget-view+json": {
       "version_major": 2,
       "version_minor": 0,
       "model_id": "da4579fe3c014ec596afa28d19383a43"
      }
     },
     "metadata": {},
     "output_type": "display_data"
    },
    {
     "name": "stderr",
     "output_type": "stream",
     "text": [
      "`Trainer.fit` stopped: `max_epochs=2` reached.\n"
     ]
    },
    {
     "name": "stdout",
     "output_type": "stream",
     "text": [
      "Warning: Some identifiers in the split file are not found in the dataset. Taking intersection.\n",
      "Test dataset size: 17\n"
     ]
    },
    {
     "name": "stderr",
     "output_type": "stream",
     "text": [
      "/Users/macbook/UTILS/anaconda3/envs/phantoms_env/lib/python3.11/site-packages/pytorch_lightning/trainer/connectors/data_connector.py:425: The 'test_dataloader' does not have many workers which may be a bottleneck. Consider increasing the value of the `num_workers` argument` to `num_workers=9` in the `DataLoader` to improve performance.\n"
     ]
    },
    {
     "data": {
      "text/plain": [
       "Testing: |          | 0/? [00:00<?, ?it/s]"
      ],
      "application/vnd.jupyter.widget-view+json": {
       "version_major": 2,
       "version_minor": 0,
       "model_id": "dd96d5e3436f45c986cdb50a3989d3e5"
      }
     },
     "metadata": {},
     "output_type": "display_data"
    },
    {
     "name": "stdout",
     "output_type": "stream",
     "text": [
      "────────────────────────────────────────────────────────────────────────────────────────────────────────────────────────\n",
      "       Test metric             DataLoader 0\n",
      "────────────────────────────────────────────────────────────────────────────────────────────────────────────────────────\n",
      "     test_hit_rate@1                0.0\n",
      "    test_hit_rate@20                0.5\n",
      "     test_hit_rate@5                0.0\n",
      "        test_loss          0.026544000953435898\n",
      "       test_mces@1                 26.75\n",
      "────────────────────────────────────────────────────────────────────────────────────────────────────────────────────────\n",
      "Model saved to /Users/macbook/CODE/PhantoMS/experiments_run/new_gnn_retrieval_cut/config_skip_connection_dreams_cut_tree_0_2025-02-05_11-41-10/checkpoints/final_model.ckpt\n"
     ]
    },
    {
     "data": {
      "text/plain": [
       "<IPython.core.display.HTML object>"
      ],
      "text/html": []
     },
     "metadata": {},
     "output_type": "display_data"
    },
    {
     "data": {
      "text/plain": [
       "<IPython.core.display.HTML object>"
      ],
      "text/html": [
       "<br>    <style><br>        .wandb-row {<br>            display: flex;<br>            flex-direction: row;<br>            flex-wrap: wrap;<br>            justify-content: flex-start;<br>            width: 100%;<br>        }<br>        .wandb-col {<br>            display: flex;<br>            flex-direction: column;<br>            flex-basis: 100%;<br>            flex: 1;<br>            padding: 10px;<br>        }<br>    </style><br><div class=\"wandb-row\"><div class=\"wandb-col\"><h3>Run history:</h3><br/><table class=\"wandb\"><tr><td>epoch</td><td>▁▅█</td></tr><tr><td>test_hit_rate@1</td><td>▁</td></tr><tr><td>test_hit_rate@20</td><td>▁</td></tr><tr><td>test_hit_rate@5</td><td>▁</td></tr><tr><td>test_loss</td><td>▁</td></tr><tr><td>test_mces@1</td><td>▁</td></tr><tr><td>trainer/global_step</td><td>▁▆█</td></tr><tr><td>val_hit_rate@1</td><td>█▁</td></tr><tr><td>val_hit_rate@20</td><td>█▁</td></tr><tr><td>val_hit_rate@5</td><td>█▁</td></tr><tr><td>val_loss</td><td>▁█</td></tr><tr><td>val_mces@1</td><td>▁█</td></tr></table><br/></div><div class=\"wandb-col\"><h3>Run summary:</h3><br/><table class=\"wandb\"><tr><td>epoch</td><td>2</td></tr><tr><td>test_hit_rate@1</td><td>0</td></tr><tr><td>test_hit_rate@20</td><td>0.5</td></tr><tr><td>test_hit_rate@5</td><td>0</td></tr><tr><td>test_loss</td><td>0.02654</td></tr><tr><td>test_mces@1</td><td>26.75</td></tr><tr><td>trainer/global_step</td><td>4</td></tr><tr><td>val_hit_rate@1</td><td>0</td></tr><tr><td>val_hit_rate@20</td><td>0.5</td></tr><tr><td>val_hit_rate@5</td><td>0</td></tr><tr><td>val_loss</td><td>0.03136</td></tr><tr><td>val_mces@1</td><td>38.75</td></tr></table><br/></div></div>"
      ]
     },
     "metadata": {},
     "output_type": "display_data"
    },
    {
     "data": {
      "text/plain": [
       "<IPython.core.display.HTML object>"
      ],
      "text/html": [
       " View run <strong style=\"color:#cdcd00\">config_skip_connection_dreams_cut_tree_0_2025-02-05_11-41-10</strong> at: <a href='https://wandb.ai/jozefov-iocb-prague/new_gnn_retrieval_cut/runs/0th3d8a1' target=\"_blank\">https://wandb.ai/jozefov-iocb-prague/new_gnn_retrieval_cut/runs/0th3d8a1</a><br> View project at: <a href='https://wandb.ai/jozefov-iocb-prague/new_gnn_retrieval_cut' target=\"_blank\">https://wandb.ai/jozefov-iocb-prague/new_gnn_retrieval_cut</a><br>Synced 5 W&B file(s), 0 media file(s), 0 artifact file(s) and 0 other file(s)"
      ]
     },
     "metadata": {},
     "output_type": "display_data"
    },
    {
     "data": {
      "text/plain": [
       "<IPython.core.display.HTML object>"
      ],
      "text/html": [
       "Find logs at: <code>./wandb/run-20250205_114130-0th3d8a1/logs</code>"
      ]
     },
     "metadata": {},
     "output_type": "display_data"
    },
    {
     "name": "stdout",
     "output_type": "stream",
     "text": [
      "Configuration saved to /Users/macbook/CODE/PhantoMS/experiments_run/new_gnn_retrieval_cut/config_skip_connection_dreams_cut_tree_0_2025-02-05_11-41-10/configs/config_skip_connection_dreams.yml\n",
      "\n",
      "Extracting embeddings for /Users/macbook/CODE/PhantoMS/experiments_run/new_gnn_retrieval_cut/config_skip_connection_dreams_cut_tree_0_2025-02-05_11-41-10\n"
     ]
    },
    {
     "name": "stderr",
     "output_type": "stream",
     "text": [
      "/Users/macbook/UTILS/anaconda3/envs/phantoms_env/lib/python3.11/site-packages/torch/nn/utils/weight_norm.py:143: FutureWarning: `torch.nn.utils.weight_norm` is deprecated in favor of `torch.nn.utils.parametrizations.weight_norm`.\n",
      "  WeightNorm.apply(module, name, dim)\n"
     ]
    },
    {
     "name": "stdout",
     "output_type": "stream",
     "text": [
      "Warning: No candidates for 0 SMILES. Skipping them.\n",
      "Total valid indices: 105\n",
      "MSnRetrievalDataset length: 105\n",
      "Warning: Some identifiers in the split file are not found in the dataset. Taking intersection.\n",
      "Test dataset size: 17\n",
      "Embeddings saved to /Users/macbook/CODE/PhantoMS/experiments_run/new_gnn_retrieval_cut/config_skip_connection_dreams_cut_tree_0_2025-02-05_11-41-10/embeddings\n",
      "\n",
      "Running Experiment: config_skip_connection_dreams_cut_tree_1_2025-02-05_11-42-01\n",
      "W&B Project: new_gnn_retrieval_cut\n",
      "Cut Tree Level: 1\n",
      "\n",
      "Starting training for /Users/macbook/CODE/PhantoMS/experiments_run/new_gnn_retrieval_cut/config_skip_connection_dreams_cut_tree_1_2025-02-05_11-42-01\n",
      "Using retrieval task/model.\n",
      "Warning: No candidates for 0 SMILES. Skipping them.\n",
      "Total valid indices: 105\n",
      "MSnRetrievalDataset length: 105\n"
     ]
    },
    {
     "name": "stderr",
     "output_type": "stream",
     "text": [
      "/Users/macbook/UTILS/anaconda3/envs/phantoms_env/lib/python3.11/site-packages/torch/nn/utils/weight_norm.py:143: FutureWarning: `torch.nn.utils.weight_norm` is deprecated in favor of `torch.nn.utils.parametrizations.weight_norm`.\n",
      "  WeightNorm.apply(module, name, dim)\n",
      "GPU available: True (mps), used: False\n",
      "TPU available: False, using: 0 TPU cores\n",
      "HPU available: False, using: 0 HPUs\n",
      "/Users/macbook/UTILS/anaconda3/envs/phantoms_env/lib/python3.11/site-packages/pytorch_lightning/trainer/setup.py:177: GPU available but not used. You can set it by doing `Trainer(accelerator='gpu')`.\n"
     ]
    },
    {
     "data": {
      "text/plain": [
       "<IPython.core.display.HTML object>"
      ],
      "text/html": [
       "Tracking run with wandb version 0.19.4"
      ]
     },
     "metadata": {},
     "output_type": "display_data"
    },
    {
     "data": {
      "text/plain": [
       "<IPython.core.display.HTML object>"
      ],
      "text/html": [
       "Run data is saved locally in <code>./wandb/run-20250205_114221-ejmq0ugp</code>"
      ]
     },
     "metadata": {},
     "output_type": "display_data"
    },
    {
     "data": {
      "text/plain": [
       "<IPython.core.display.HTML object>"
      ],
      "text/html": [
       "Syncing run <strong><a href='https://wandb.ai/jozefov-iocb-prague/new_gnn_retrieval_cut/runs/ejmq0ugp' target=\"_blank\">config_skip_connection_dreams_cut_tree_1_2025-02-05_11-42-01</a></strong> to <a href='https://wandb.ai/jozefov-iocb-prague/new_gnn_retrieval_cut' target=\"_blank\">Weights & Biases</a> (<a href='https://wandb.me/developer-guide' target=\"_blank\">docs</a>)<br>"
      ]
     },
     "metadata": {},
     "output_type": "display_data"
    },
    {
     "data": {
      "text/plain": [
       "<IPython.core.display.HTML object>"
      ],
      "text/html": [
       " View project at <a href='https://wandb.ai/jozefov-iocb-prague/new_gnn_retrieval_cut' target=\"_blank\">https://wandb.ai/jozefov-iocb-prague/new_gnn_retrieval_cut</a>"
      ]
     },
     "metadata": {},
     "output_type": "display_data"
    },
    {
     "data": {
      "text/plain": [
       "<IPython.core.display.HTML object>"
      ],
      "text/html": [
       " View run at <a href='https://wandb.ai/jozefov-iocb-prague/new_gnn_retrieval_cut/runs/ejmq0ugp' target=\"_blank\">https://wandb.ai/jozefov-iocb-prague/new_gnn_retrieval_cut/runs/ejmq0ugp</a>"
      ]
     },
     "metadata": {},
     "output_type": "display_data"
    },
    {
     "name": "stderr",
     "output_type": "stream",
     "text": [
      "\n",
      "  | Name       | Type                        | Params | Mode \n",
      "-------------------------------------------------------------------\n",
      "0 | gcn_layers | ModuleList                  | 10.5 M | train\n",
      "1 | head       | SkipConnectionRetrievalHead | 37.8 M | train\n",
      "2 | loss_fn    | MSELoss                     | 0      | train\n",
      "-------------------------------------------------------------------\n",
      "48.3 M    Trainable params\n",
      "0         Non-trainable params\n",
      "48.3 M    Total params\n",
      "193.217   Total estimated model params size (MB)\n",
      "54        Modules in train mode\n",
      "0         Modules in eval mode\n"
     ]
    },
    {
     "name": "stdout",
     "output_type": "stream",
     "text": [
      "Warning: Some identifiers in the split file are not found in the dataset. Taking intersection.\n",
      "Train dataset size: 82\n",
      "Val dataset size: 6\n"
     ]
    },
    {
     "data": {
      "text/plain": [
       "Sanity Checking: |          | 0/? [00:00<?, ?it/s]"
      ],
      "application/vnd.jupyter.widget-view+json": {
       "version_major": 2,
       "version_minor": 0,
       "model_id": "9f84b6ed630a484da78fc653f1ed2ca4"
      }
     },
     "metadata": {},
     "output_type": "display_data"
    },
    {
     "name": "stderr",
     "output_type": "stream",
     "text": [
      "/Users/macbook/UTILS/anaconda3/envs/phantoms_env/lib/python3.11/site-packages/pytorch_lightning/trainer/connectors/data_connector.py:425: The 'val_dataloader' does not have many workers which may be a bottleneck. Consider increasing the value of the `num_workers` argument` to `num_workers=9` in the `DataLoader` to improve performance.\n",
      "/Users/macbook/UTILS/anaconda3/envs/phantoms_env/lib/python3.11/site-packages/pytorch_lightning/trainer/connectors/data_connector.py:425: The 'train_dataloader' does not have many workers which may be a bottleneck. Consider increasing the value of the `num_workers` argument` to `num_workers=9` in the `DataLoader` to improve performance.\n",
      "/Users/macbook/UTILS/anaconda3/envs/phantoms_env/lib/python3.11/site-packages/pytorch_lightning/loops/fit_loop.py:310: The number of training batches (2) is smaller than the logging interval Trainer(log_every_n_steps=10). Set a lower value for log_every_n_steps if you want to see logs for the training epoch.\n"
     ]
    },
    {
     "data": {
      "text/plain": [
       "Training: |          | 0/? [00:00<?, ?it/s]"
      ],
      "application/vnd.jupyter.widget-view+json": {
       "version_major": 2,
       "version_minor": 0,
       "model_id": "0e835fb4c6904e698608b690beeadce6"
      }
     },
     "metadata": {},
     "output_type": "display_data"
    },
    {
     "data": {
      "text/plain": [
       "Validation: |          | 0/? [00:00<?, ?it/s]"
      ],
      "application/vnd.jupyter.widget-view+json": {
       "version_major": 2,
       "version_minor": 0,
       "model_id": "a814d279767c4cb190c1dd351ff7f245"
      }
     },
     "metadata": {},
     "output_type": "display_data"
    },
    {
     "data": {
      "text/plain": [
       "Validation: |          | 0/? [00:00<?, ?it/s]"
      ],
      "application/vnd.jupyter.widget-view+json": {
       "version_major": 2,
       "version_minor": 0,
       "model_id": "5340bcbb023f4db593f5a97520665678"
      }
     },
     "metadata": {},
     "output_type": "display_data"
    },
    {
     "name": "stderr",
     "output_type": "stream",
     "text": [
      "`Trainer.fit` stopped: `max_epochs=2` reached.\n"
     ]
    },
    {
     "name": "stdout",
     "output_type": "stream",
     "text": [
      "Warning: Some identifiers in the split file are not found in the dataset. Taking intersection.\n",
      "Test dataset size: 17\n"
     ]
    },
    {
     "name": "stderr",
     "output_type": "stream",
     "text": [
      "/Users/macbook/UTILS/anaconda3/envs/phantoms_env/lib/python3.11/site-packages/pytorch_lightning/trainer/connectors/data_connector.py:425: The 'test_dataloader' does not have many workers which may be a bottleneck. Consider increasing the value of the `num_workers` argument` to `num_workers=9` in the `DataLoader` to improve performance.\n"
     ]
    },
    {
     "data": {
      "text/plain": [
       "Testing: |          | 0/? [00:00<?, ?it/s]"
      ],
      "application/vnd.jupyter.widget-view+json": {
       "version_major": 2,
       "version_minor": 0,
       "model_id": "9f95e258004d4053ab7dcf78912474c1"
      }
     },
     "metadata": {},
     "output_type": "display_data"
    },
    {
     "name": "stdout",
     "output_type": "stream",
     "text": [
      "────────────────────────────────────────────────────────────────────────────────────────────────────────────────────────\n",
      "       Test metric             DataLoader 0\n",
      "────────────────────────────────────────────────────────────────────────────────────────────────────────────────────────\n",
      "     test_hit_rate@1                0.0\n",
      "    test_hit_rate@20               0.75\n",
      "     test_hit_rate@5               0.75\n",
      "        test_loss          0.024627193808555603\n",
      "       test_mces@1                 16.75\n",
      "────────────────────────────────────────────────────────────────────────────────────────────────────────────────────────\n",
      "Model saved to /Users/macbook/CODE/PhantoMS/experiments_run/new_gnn_retrieval_cut/config_skip_connection_dreams_cut_tree_1_2025-02-05_11-42-01/checkpoints/final_model.ckpt\n"
     ]
    },
    {
     "data": {
      "text/plain": [
       "<IPython.core.display.HTML object>"
      ],
      "text/html": []
     },
     "metadata": {},
     "output_type": "display_data"
    },
    {
     "data": {
      "text/plain": [
       "<IPython.core.display.HTML object>"
      ],
      "text/html": [
       "<br>    <style><br>        .wandb-row {<br>            display: flex;<br>            flex-direction: row;<br>            flex-wrap: wrap;<br>            justify-content: flex-start;<br>            width: 100%;<br>        }<br>        .wandb-col {<br>            display: flex;<br>            flex-direction: column;<br>            flex-basis: 100%;<br>            flex: 1;<br>            padding: 10px;<br>        }<br>    </style><br><div class=\"wandb-row\"><div class=\"wandb-col\"><h3>Run history:</h3><br/><table class=\"wandb\"><tr><td>epoch</td><td>▁▅█</td></tr><tr><td>test_hit_rate@1</td><td>▁</td></tr><tr><td>test_hit_rate@20</td><td>▁</td></tr><tr><td>test_hit_rate@5</td><td>▁</td></tr><tr><td>test_loss</td><td>▁</td></tr><tr><td>test_mces@1</td><td>▁</td></tr><tr><td>trainer/global_step</td><td>▁▆█</td></tr><tr><td>val_hit_rate@1</td><td>▁▁</td></tr><tr><td>val_hit_rate@20</td><td>▁█</td></tr><tr><td>val_hit_rate@5</td><td>▁▁</td></tr><tr><td>val_loss</td><td>▁█</td></tr><tr><td>val_mces@1</td><td>▁▁</td></tr></table><br/></div><div class=\"wandb-col\"><h3>Run summary:</h3><br/><table class=\"wandb\"><tr><td>epoch</td><td>2</td></tr><tr><td>test_hit_rate@1</td><td>0</td></tr><tr><td>test_hit_rate@20</td><td>0.75</td></tr><tr><td>test_hit_rate@5</td><td>0.75</td></tr><tr><td>test_loss</td><td>0.02463</td></tr><tr><td>test_mces@1</td><td>16.75</td></tr><tr><td>trainer/global_step</td><td>4</td></tr><tr><td>val_hit_rate@1</td><td>0.75</td></tr><tr><td>val_hit_rate@20</td><td>1</td></tr><tr><td>val_hit_rate@5</td><td>0.75</td></tr><tr><td>val_loss</td><td>0.028</td></tr><tr><td>val_mces@1</td><td>3.75</td></tr></table><br/></div></div>"
      ]
     },
     "metadata": {},
     "output_type": "display_data"
    },
    {
     "data": {
      "text/plain": [
       "<IPython.core.display.HTML object>"
      ],
      "text/html": [
       " View run <strong style=\"color:#cdcd00\">config_skip_connection_dreams_cut_tree_1_2025-02-05_11-42-01</strong> at: <a href='https://wandb.ai/jozefov-iocb-prague/new_gnn_retrieval_cut/runs/ejmq0ugp' target=\"_blank\">https://wandb.ai/jozefov-iocb-prague/new_gnn_retrieval_cut/runs/ejmq0ugp</a><br> View project at: <a href='https://wandb.ai/jozefov-iocb-prague/new_gnn_retrieval_cut' target=\"_blank\">https://wandb.ai/jozefov-iocb-prague/new_gnn_retrieval_cut</a><br>Synced 5 W&B file(s), 0 media file(s), 0 artifact file(s) and 0 other file(s)"
      ]
     },
     "metadata": {},
     "output_type": "display_data"
    },
    {
     "data": {
      "text/plain": [
       "<IPython.core.display.HTML object>"
      ],
      "text/html": [
       "Find logs at: <code>./wandb/run-20250205_114221-ejmq0ugp/logs</code>"
      ]
     },
     "metadata": {},
     "output_type": "display_data"
    },
    {
     "name": "stdout",
     "output_type": "stream",
     "text": [
      "Configuration saved to /Users/macbook/CODE/PhantoMS/experiments_run/new_gnn_retrieval_cut/config_skip_connection_dreams_cut_tree_1_2025-02-05_11-42-01/configs/config_skip_connection_dreams.yml\n",
      "\n",
      "Extracting embeddings for /Users/macbook/CODE/PhantoMS/experiments_run/new_gnn_retrieval_cut/config_skip_connection_dreams_cut_tree_1_2025-02-05_11-42-01\n"
     ]
    },
    {
     "name": "stderr",
     "output_type": "stream",
     "text": [
      "/Users/macbook/UTILS/anaconda3/envs/phantoms_env/lib/python3.11/site-packages/torch/nn/utils/weight_norm.py:143: FutureWarning: `torch.nn.utils.weight_norm` is deprecated in favor of `torch.nn.utils.parametrizations.weight_norm`.\n",
      "  WeightNorm.apply(module, name, dim)\n"
     ]
    },
    {
     "name": "stdout",
     "output_type": "stream",
     "text": [
      "Warning: No candidates for 0 SMILES. Skipping them.\n",
      "Total valid indices: 105\n",
      "MSnRetrievalDataset length: 105\n",
      "Warning: Some identifiers in the split file are not found in the dataset. Taking intersection.\n",
      "Test dataset size: 17\n",
      "Embeddings saved to /Users/macbook/CODE/PhantoMS/experiments_run/new_gnn_retrieval_cut/config_skip_connection_dreams_cut_tree_1_2025-02-05_11-42-01/embeddings\n",
      "\n",
      "Running Experiment: config_skip_connection_dreams_cut_tree_2_2025-02-05_11-42-54\n",
      "W&B Project: new_gnn_retrieval_cut\n",
      "Cut Tree Level: 2\n",
      "\n",
      "Starting training for /Users/macbook/CODE/PhantoMS/experiments_run/new_gnn_retrieval_cut/config_skip_connection_dreams_cut_tree_2_2025-02-05_11-42-54\n",
      "Using retrieval task/model.\n",
      "Warning: No candidates for 0 SMILES. Skipping them.\n",
      "Total valid indices: 105\n",
      "MSnRetrievalDataset length: 105\n"
     ]
    },
    {
     "name": "stderr",
     "output_type": "stream",
     "text": [
      "/Users/macbook/UTILS/anaconda3/envs/phantoms_env/lib/python3.11/site-packages/torch/nn/utils/weight_norm.py:143: FutureWarning: `torch.nn.utils.weight_norm` is deprecated in favor of `torch.nn.utils.parametrizations.weight_norm`.\n",
      "  WeightNorm.apply(module, name, dim)\n",
      "GPU available: True (mps), used: False\n",
      "TPU available: False, using: 0 TPU cores\n",
      "HPU available: False, using: 0 HPUs\n",
      "/Users/macbook/UTILS/anaconda3/envs/phantoms_env/lib/python3.11/site-packages/pytorch_lightning/trainer/setup.py:177: GPU available but not used. You can set it by doing `Trainer(accelerator='gpu')`.\n"
     ]
    },
    {
     "data": {
      "text/plain": [
       "<IPython.core.display.HTML object>"
      ],
      "text/html": [
       "Tracking run with wandb version 0.19.4"
      ]
     },
     "metadata": {},
     "output_type": "display_data"
    },
    {
     "data": {
      "text/plain": [
       "<IPython.core.display.HTML object>"
      ],
      "text/html": [
       "Run data is saved locally in <code>./wandb/run-20250205_114314-uyjl01te</code>"
      ]
     },
     "metadata": {},
     "output_type": "display_data"
    },
    {
     "data": {
      "text/plain": [
       "<IPython.core.display.HTML object>"
      ],
      "text/html": [
       "Syncing run <strong><a href='https://wandb.ai/jozefov-iocb-prague/new_gnn_retrieval_cut/runs/uyjl01te' target=\"_blank\">config_skip_connection_dreams_cut_tree_2_2025-02-05_11-42-54</a></strong> to <a href='https://wandb.ai/jozefov-iocb-prague/new_gnn_retrieval_cut' target=\"_blank\">Weights & Biases</a> (<a href='https://wandb.me/developer-guide' target=\"_blank\">docs</a>)<br>"
      ]
     },
     "metadata": {},
     "output_type": "display_data"
    },
    {
     "data": {
      "text/plain": [
       "<IPython.core.display.HTML object>"
      ],
      "text/html": [
       " View project at <a href='https://wandb.ai/jozefov-iocb-prague/new_gnn_retrieval_cut' target=\"_blank\">https://wandb.ai/jozefov-iocb-prague/new_gnn_retrieval_cut</a>"
      ]
     },
     "metadata": {},
     "output_type": "display_data"
    },
    {
     "data": {
      "text/plain": [
       "<IPython.core.display.HTML object>"
      ],
      "text/html": [
       " View run at <a href='https://wandb.ai/jozefov-iocb-prague/new_gnn_retrieval_cut/runs/uyjl01te' target=\"_blank\">https://wandb.ai/jozefov-iocb-prague/new_gnn_retrieval_cut/runs/uyjl01te</a>"
      ]
     },
     "metadata": {},
     "output_type": "display_data"
    },
    {
     "name": "stderr",
     "output_type": "stream",
     "text": [
      "\n",
      "  | Name       | Type                        | Params | Mode \n",
      "-------------------------------------------------------------------\n",
      "0 | gcn_layers | ModuleList                  | 10.5 M | train\n",
      "1 | head       | SkipConnectionRetrievalHead | 37.8 M | train\n",
      "2 | loss_fn    | MSELoss                     | 0      | train\n",
      "-------------------------------------------------------------------\n",
      "48.3 M    Trainable params\n",
      "0         Non-trainable params\n",
      "48.3 M    Total params\n",
      "193.217   Total estimated model params size (MB)\n",
      "54        Modules in train mode\n",
      "0         Modules in eval mode\n"
     ]
    },
    {
     "name": "stdout",
     "output_type": "stream",
     "text": [
      "Warning: Some identifiers in the split file are not found in the dataset. Taking intersection.\n",
      "Train dataset size: 82\n",
      "Val dataset size: 6\n"
     ]
    },
    {
     "data": {
      "text/plain": [
       "Sanity Checking: |          | 0/? [00:00<?, ?it/s]"
      ],
      "application/vnd.jupyter.widget-view+json": {
       "version_major": 2,
       "version_minor": 0,
       "model_id": "4139a5a8a96d437f8dd7c86eb56bfd34"
      }
     },
     "metadata": {},
     "output_type": "display_data"
    },
    {
     "name": "stderr",
     "output_type": "stream",
     "text": [
      "/Users/macbook/UTILS/anaconda3/envs/phantoms_env/lib/python3.11/site-packages/pytorch_lightning/trainer/connectors/data_connector.py:425: The 'val_dataloader' does not have many workers which may be a bottleneck. Consider increasing the value of the `num_workers` argument` to `num_workers=9` in the `DataLoader` to improve performance.\n",
      "/Users/macbook/UTILS/anaconda3/envs/phantoms_env/lib/python3.11/site-packages/pytorch_lightning/trainer/connectors/data_connector.py:425: The 'train_dataloader' does not have many workers which may be a bottleneck. Consider increasing the value of the `num_workers` argument` to `num_workers=9` in the `DataLoader` to improve performance.\n",
      "/Users/macbook/UTILS/anaconda3/envs/phantoms_env/lib/python3.11/site-packages/pytorch_lightning/loops/fit_loop.py:310: The number of training batches (2) is smaller than the logging interval Trainer(log_every_n_steps=10). Set a lower value for log_every_n_steps if you want to see logs for the training epoch.\n"
     ]
    },
    {
     "data": {
      "text/plain": [
       "Training: |          | 0/? [00:00<?, ?it/s]"
      ],
      "application/vnd.jupyter.widget-view+json": {
       "version_major": 2,
       "version_minor": 0,
       "model_id": "161cb221b1dc4cbe874c519b8fa9e7a5"
      }
     },
     "metadata": {},
     "output_type": "display_data"
    },
    {
     "data": {
      "text/plain": [
       "Validation: |          | 0/? [00:00<?, ?it/s]"
      ],
      "application/vnd.jupyter.widget-view+json": {
       "version_major": 2,
       "version_minor": 0,
       "model_id": "35b2fd63bcc34f9a97c838041ba66a47"
      }
     },
     "metadata": {},
     "output_type": "display_data"
    },
    {
     "data": {
      "text/plain": [
       "Validation: |          | 0/? [00:00<?, ?it/s]"
      ],
      "application/vnd.jupyter.widget-view+json": {
       "version_major": 2,
       "version_minor": 0,
       "model_id": "34683dc60d294cfbbd3489ff8dda9a0b"
      }
     },
     "metadata": {},
     "output_type": "display_data"
    },
    {
     "name": "stderr",
     "output_type": "stream",
     "text": [
      "`Trainer.fit` stopped: `max_epochs=2` reached.\n"
     ]
    },
    {
     "name": "stdout",
     "output_type": "stream",
     "text": [
      "Warning: Some identifiers in the split file are not found in the dataset. Taking intersection.\n",
      "Test dataset size: 17\n"
     ]
    },
    {
     "name": "stderr",
     "output_type": "stream",
     "text": [
      "/Users/macbook/UTILS/anaconda3/envs/phantoms_env/lib/python3.11/site-packages/pytorch_lightning/trainer/connectors/data_connector.py:425: The 'test_dataloader' does not have many workers which may be a bottleneck. Consider increasing the value of the `num_workers` argument` to `num_workers=9` in the `DataLoader` to improve performance.\n"
     ]
    },
    {
     "data": {
      "text/plain": [
       "Testing: |          | 0/? [00:00<?, ?it/s]"
      ],
      "application/vnd.jupyter.widget-view+json": {
       "version_major": 2,
       "version_minor": 0,
       "model_id": "a60a218d16404bf69ec6199578c83425"
      }
     },
     "metadata": {},
     "output_type": "display_data"
    },
    {
     "name": "stdout",
     "output_type": "stream",
     "text": [
      "────────────────────────────────────────────────────────────────────────────────────────────────────────────────────────\n",
      "       Test metric             DataLoader 0\n",
      "────────────────────────────────────────────────────────────────────────────────────────────────────────────────────────\n",
      "     test_hit_rate@1                0.0\n",
      "    test_hit_rate@20                0.5\n",
      "     test_hit_rate@5               0.25\n",
      "        test_loss          0.029438592493534088\n",
      "       test_mces@1                 16.25\n",
      "────────────────────────────────────────────────────────────────────────────────────────────────────────────────────────\n",
      "Model saved to /Users/macbook/CODE/PhantoMS/experiments_run/new_gnn_retrieval_cut/config_skip_connection_dreams_cut_tree_2_2025-02-05_11-42-54/checkpoints/final_model.ckpt\n"
     ]
    },
    {
     "data": {
      "text/plain": [
       "<IPython.core.display.HTML object>"
      ],
      "text/html": []
     },
     "metadata": {},
     "output_type": "display_data"
    },
    {
     "data": {
      "text/plain": [
       "<IPython.core.display.HTML object>"
      ],
      "text/html": [
       "<br>    <style><br>        .wandb-row {<br>            display: flex;<br>            flex-direction: row;<br>            flex-wrap: wrap;<br>            justify-content: flex-start;<br>            width: 100%;<br>        }<br>        .wandb-col {<br>            display: flex;<br>            flex-direction: column;<br>            flex-basis: 100%;<br>            flex: 1;<br>            padding: 10px;<br>        }<br>    </style><br><div class=\"wandb-row\"><div class=\"wandb-col\"><h3>Run history:</h3><br/><table class=\"wandb\"><tr><td>epoch</td><td>▁▅█</td></tr><tr><td>test_hit_rate@1</td><td>▁</td></tr><tr><td>test_hit_rate@20</td><td>▁</td></tr><tr><td>test_hit_rate@5</td><td>▁</td></tr><tr><td>test_loss</td><td>▁</td></tr><tr><td>test_mces@1</td><td>▁</td></tr><tr><td>trainer/global_step</td><td>▁▆█</td></tr><tr><td>val_hit_rate@1</td><td>▁█</td></tr><tr><td>val_hit_rate@20</td><td>▁▁</td></tr><tr><td>val_hit_rate@5</td><td>▁█</td></tr><tr><td>val_loss</td><td>▁█</td></tr><tr><td>val_mces@1</td><td>█▁</td></tr></table><br/></div><div class=\"wandb-col\"><h3>Run summary:</h3><br/><table class=\"wandb\"><tr><td>epoch</td><td>2</td></tr><tr><td>test_hit_rate@1</td><td>0</td></tr><tr><td>test_hit_rate@20</td><td>0.5</td></tr><tr><td>test_hit_rate@5</td><td>0.25</td></tr><tr><td>test_loss</td><td>0.02944</td></tr><tr><td>test_mces@1</td><td>16.25</td></tr><tr><td>trainer/global_step</td><td>4</td></tr><tr><td>val_hit_rate@1</td><td>0.5</td></tr><tr><td>val_hit_rate@20</td><td>1</td></tr><tr><td>val_hit_rate@5</td><td>0.75</td></tr><tr><td>val_loss</td><td>0.03297</td></tr><tr><td>val_mces@1</td><td>13.5</td></tr></table><br/></div></div>"
      ]
     },
     "metadata": {},
     "output_type": "display_data"
    },
    {
     "data": {
      "text/plain": [
       "<IPython.core.display.HTML object>"
      ],
      "text/html": [
       " View run <strong style=\"color:#cdcd00\">config_skip_connection_dreams_cut_tree_2_2025-02-05_11-42-54</strong> at: <a href='https://wandb.ai/jozefov-iocb-prague/new_gnn_retrieval_cut/runs/uyjl01te' target=\"_blank\">https://wandb.ai/jozefov-iocb-prague/new_gnn_retrieval_cut/runs/uyjl01te</a><br> View project at: <a href='https://wandb.ai/jozefov-iocb-prague/new_gnn_retrieval_cut' target=\"_blank\">https://wandb.ai/jozefov-iocb-prague/new_gnn_retrieval_cut</a><br>Synced 5 W&B file(s), 0 media file(s), 0 artifact file(s) and 0 other file(s)"
      ]
     },
     "metadata": {},
     "output_type": "display_data"
    },
    {
     "data": {
      "text/plain": [
       "<IPython.core.display.HTML object>"
      ],
      "text/html": [
       "Find logs at: <code>./wandb/run-20250205_114314-uyjl01te/logs</code>"
      ]
     },
     "metadata": {},
     "output_type": "display_data"
    },
    {
     "name": "stdout",
     "output_type": "stream",
     "text": [
      "Configuration saved to /Users/macbook/CODE/PhantoMS/experiments_run/new_gnn_retrieval_cut/config_skip_connection_dreams_cut_tree_2_2025-02-05_11-42-54/configs/config_skip_connection_dreams.yml\n",
      "\n",
      "Extracting embeddings for /Users/macbook/CODE/PhantoMS/experiments_run/new_gnn_retrieval_cut/config_skip_connection_dreams_cut_tree_2_2025-02-05_11-42-54\n"
     ]
    },
    {
     "name": "stderr",
     "output_type": "stream",
     "text": [
      "/Users/macbook/UTILS/anaconda3/envs/phantoms_env/lib/python3.11/site-packages/torch/nn/utils/weight_norm.py:143: FutureWarning: `torch.nn.utils.weight_norm` is deprecated in favor of `torch.nn.utils.parametrizations.weight_norm`.\n",
      "  WeightNorm.apply(module, name, dim)\n"
     ]
    },
    {
     "name": "stdout",
     "output_type": "stream",
     "text": [
      "Warning: No candidates for 0 SMILES. Skipping them.\n",
      "Total valid indices: 105\n",
      "MSnRetrievalDataset length: 105\n",
      "Warning: Some identifiers in the split file are not found in the dataset. Taking intersection.\n",
      "Test dataset size: 17\n",
      "Embeddings saved to /Users/macbook/CODE/PhantoMS/experiments_run/new_gnn_retrieval_cut/config_skip_connection_dreams_cut_tree_2_2025-02-05_11-42-54/embeddings\n",
      "\n",
      "Running Experiment: config_skip_connection_dreams_cut_tree_3_2025-02-05_11-43-47\n",
      "W&B Project: new_gnn_retrieval_cut\n",
      "Cut Tree Level: 3\n",
      "\n",
      "Starting training for /Users/macbook/CODE/PhantoMS/experiments_run/new_gnn_retrieval_cut/config_skip_connection_dreams_cut_tree_3_2025-02-05_11-43-47\n",
      "Using retrieval task/model.\n",
      "Warning: No candidates for 0 SMILES. Skipping them.\n",
      "Total valid indices: 105\n",
      "MSnRetrievalDataset length: 105\n"
     ]
    },
    {
     "name": "stderr",
     "output_type": "stream",
     "text": [
      "/Users/macbook/UTILS/anaconda3/envs/phantoms_env/lib/python3.11/site-packages/torch/nn/utils/weight_norm.py:143: FutureWarning: `torch.nn.utils.weight_norm` is deprecated in favor of `torch.nn.utils.parametrizations.weight_norm`.\n",
      "  WeightNorm.apply(module, name, dim)\n",
      "GPU available: True (mps), used: False\n",
      "TPU available: False, using: 0 TPU cores\n",
      "HPU available: False, using: 0 HPUs\n",
      "/Users/macbook/UTILS/anaconda3/envs/phantoms_env/lib/python3.11/site-packages/pytorch_lightning/trainer/setup.py:177: GPU available but not used. You can set it by doing `Trainer(accelerator='gpu')`.\n"
     ]
    },
    {
     "data": {
      "text/plain": [
       "<IPython.core.display.HTML object>"
      ],
      "text/html": [
       "Tracking run with wandb version 0.19.4"
      ]
     },
     "metadata": {},
     "output_type": "display_data"
    },
    {
     "data": {
      "text/plain": [
       "<IPython.core.display.HTML object>"
      ],
      "text/html": [
       "Run data is saved locally in <code>./wandb/run-20250205_114407-02wjr9f7</code>"
      ]
     },
     "metadata": {},
     "output_type": "display_data"
    },
    {
     "data": {
      "text/plain": [
       "<IPython.core.display.HTML object>"
      ],
      "text/html": [
       "Syncing run <strong><a href='https://wandb.ai/jozefov-iocb-prague/new_gnn_retrieval_cut/runs/02wjr9f7' target=\"_blank\">config_skip_connection_dreams_cut_tree_3_2025-02-05_11-43-47</a></strong> to <a href='https://wandb.ai/jozefov-iocb-prague/new_gnn_retrieval_cut' target=\"_blank\">Weights & Biases</a> (<a href='https://wandb.me/developer-guide' target=\"_blank\">docs</a>)<br>"
      ]
     },
     "metadata": {},
     "output_type": "display_data"
    },
    {
     "data": {
      "text/plain": [
       "<IPython.core.display.HTML object>"
      ],
      "text/html": [
       " View project at <a href='https://wandb.ai/jozefov-iocb-prague/new_gnn_retrieval_cut' target=\"_blank\">https://wandb.ai/jozefov-iocb-prague/new_gnn_retrieval_cut</a>"
      ]
     },
     "metadata": {},
     "output_type": "display_data"
    },
    {
     "data": {
      "text/plain": [
       "<IPython.core.display.HTML object>"
      ],
      "text/html": [
       " View run at <a href='https://wandb.ai/jozefov-iocb-prague/new_gnn_retrieval_cut/runs/02wjr9f7' target=\"_blank\">https://wandb.ai/jozefov-iocb-prague/new_gnn_retrieval_cut/runs/02wjr9f7</a>"
      ]
     },
     "metadata": {},
     "output_type": "display_data"
    },
    {
     "name": "stderr",
     "output_type": "stream",
     "text": [
      "\n",
      "  | Name       | Type                        | Params | Mode \n",
      "-------------------------------------------------------------------\n",
      "0 | gcn_layers | ModuleList                  | 10.5 M | train\n",
      "1 | head       | SkipConnectionRetrievalHead | 37.8 M | train\n",
      "2 | loss_fn    | MSELoss                     | 0      | train\n",
      "-------------------------------------------------------------------\n",
      "48.3 M    Trainable params\n",
      "0         Non-trainable params\n",
      "48.3 M    Total params\n",
      "193.217   Total estimated model params size (MB)\n",
      "54        Modules in train mode\n",
      "0         Modules in eval mode\n"
     ]
    },
    {
     "name": "stdout",
     "output_type": "stream",
     "text": [
      "Warning: Some identifiers in the split file are not found in the dataset. Taking intersection.\n",
      "Train dataset size: 82\n",
      "Val dataset size: 6\n"
     ]
    },
    {
     "data": {
      "text/plain": [
       "Sanity Checking: |          | 0/? [00:00<?, ?it/s]"
      ],
      "application/vnd.jupyter.widget-view+json": {
       "version_major": 2,
       "version_minor": 0,
       "model_id": "bd7bb8df4a6244fa810e28b38637a798"
      }
     },
     "metadata": {},
     "output_type": "display_data"
    },
    {
     "name": "stderr",
     "output_type": "stream",
     "text": [
      "/Users/macbook/UTILS/anaconda3/envs/phantoms_env/lib/python3.11/site-packages/pytorch_lightning/trainer/connectors/data_connector.py:425: The 'val_dataloader' does not have many workers which may be a bottleneck. Consider increasing the value of the `num_workers` argument` to `num_workers=9` in the `DataLoader` to improve performance.\n",
      "/Users/macbook/UTILS/anaconda3/envs/phantoms_env/lib/python3.11/site-packages/pytorch_lightning/trainer/connectors/data_connector.py:425: The 'train_dataloader' does not have many workers which may be a bottleneck. Consider increasing the value of the `num_workers` argument` to `num_workers=9` in the `DataLoader` to improve performance.\n",
      "/Users/macbook/UTILS/anaconda3/envs/phantoms_env/lib/python3.11/site-packages/pytorch_lightning/loops/fit_loop.py:310: The number of training batches (2) is smaller than the logging interval Trainer(log_every_n_steps=10). Set a lower value for log_every_n_steps if you want to see logs for the training epoch.\n"
     ]
    },
    {
     "data": {
      "text/plain": [
       "Training: |          | 0/? [00:00<?, ?it/s]"
      ],
      "application/vnd.jupyter.widget-view+json": {
       "version_major": 2,
       "version_minor": 0,
       "model_id": "b123e162bab6476ba331e417ff5c2c91"
      }
     },
     "metadata": {},
     "output_type": "display_data"
    },
    {
     "data": {
      "text/plain": [
       "Validation: |          | 0/? [00:00<?, ?it/s]"
      ],
      "application/vnd.jupyter.widget-view+json": {
       "version_major": 2,
       "version_minor": 0,
       "model_id": "eb2e2c86b0d34632a60a6ed158f7370c"
      }
     },
     "metadata": {},
     "output_type": "display_data"
    },
    {
     "data": {
      "text/plain": [
       "Validation: |          | 0/? [00:00<?, ?it/s]"
      ],
      "application/vnd.jupyter.widget-view+json": {
       "version_major": 2,
       "version_minor": 0,
       "model_id": "5fdc32d7817a41098e369cc494adbb26"
      }
     },
     "metadata": {},
     "output_type": "display_data"
    },
    {
     "name": "stderr",
     "output_type": "stream",
     "text": [
      "`Trainer.fit` stopped: `max_epochs=2` reached.\n"
     ]
    },
    {
     "name": "stdout",
     "output_type": "stream",
     "text": [
      "Warning: Some identifiers in the split file are not found in the dataset. Taking intersection.\n",
      "Test dataset size: 17\n"
     ]
    },
    {
     "name": "stderr",
     "output_type": "stream",
     "text": [
      "/Users/macbook/UTILS/anaconda3/envs/phantoms_env/lib/python3.11/site-packages/pytorch_lightning/trainer/connectors/data_connector.py:425: The 'test_dataloader' does not have many workers which may be a bottleneck. Consider increasing the value of the `num_workers` argument` to `num_workers=9` in the `DataLoader` to improve performance.\n"
     ]
    },
    {
     "data": {
      "text/plain": [
       "Testing: |          | 0/? [00:00<?, ?it/s]"
      ],
      "application/vnd.jupyter.widget-view+json": {
       "version_major": 2,
       "version_minor": 0,
       "model_id": "e19c9d4e310448368dee0f265daa26fd"
      }
     },
     "metadata": {},
     "output_type": "display_data"
    },
    {
     "name": "stdout",
     "output_type": "stream",
     "text": [
      "────────────────────────────────────────────────────────────────────────────────────────────────────────────────────────\n",
      "       Test metric             DataLoader 0\n",
      "────────────────────────────────────────────────────────────────────────────────────────────────────────────────────────\n",
      "     test_hit_rate@1                0.0\n",
      "    test_hit_rate@20                0.0\n",
      "     test_hit_rate@5                0.0\n",
      "        test_loss           0.02784906141459942\n",
      "       test_mces@1                 24.5\n",
      "────────────────────────────────────────────────────────────────────────────────────────────────────────────────────────\n",
      "Model saved to /Users/macbook/CODE/PhantoMS/experiments_run/new_gnn_retrieval_cut/config_skip_connection_dreams_cut_tree_3_2025-02-05_11-43-47/checkpoints/final_model.ckpt\n"
     ]
    },
    {
     "data": {
      "text/plain": [
       "<IPython.core.display.HTML object>"
      ],
      "text/html": []
     },
     "metadata": {},
     "output_type": "display_data"
    },
    {
     "data": {
      "text/plain": [
       "<IPython.core.display.HTML object>"
      ],
      "text/html": [
       "<br>    <style><br>        .wandb-row {<br>            display: flex;<br>            flex-direction: row;<br>            flex-wrap: wrap;<br>            justify-content: flex-start;<br>            width: 100%;<br>        }<br>        .wandb-col {<br>            display: flex;<br>            flex-direction: column;<br>            flex-basis: 100%;<br>            flex: 1;<br>            padding: 10px;<br>        }<br>    </style><br><div class=\"wandb-row\"><div class=\"wandb-col\"><h3>Run history:</h3><br/><table class=\"wandb\"><tr><td>epoch</td><td>▁▅█</td></tr><tr><td>test_hit_rate@1</td><td>▁</td></tr><tr><td>test_hit_rate@20</td><td>▁</td></tr><tr><td>test_hit_rate@5</td><td>▁</td></tr><tr><td>test_loss</td><td>▁</td></tr><tr><td>test_mces@1</td><td>▁</td></tr><tr><td>trainer/global_step</td><td>▁▆█</td></tr><tr><td>val_hit_rate@1</td><td>▁▁</td></tr><tr><td>val_hit_rate@20</td><td>▁▁</td></tr><tr><td>val_hit_rate@5</td><td>▁▁</td></tr><tr><td>val_loss</td><td>▁█</td></tr><tr><td>val_mces@1</td><td>█▁</td></tr></table><br/></div><div class=\"wandb-col\"><h3>Run summary:</h3><br/><table class=\"wandb\"><tr><td>epoch</td><td>2</td></tr><tr><td>test_hit_rate@1</td><td>0</td></tr><tr><td>test_hit_rate@20</td><td>0</td></tr><tr><td>test_hit_rate@5</td><td>0</td></tr><tr><td>test_loss</td><td>0.02785</td></tr><tr><td>test_mces@1</td><td>24.5</td></tr><tr><td>trainer/global_step</td><td>4</td></tr><tr><td>val_hit_rate@1</td><td>0</td></tr><tr><td>val_hit_rate@20</td><td>1</td></tr><tr><td>val_hit_rate@5</td><td>0.75</td></tr><tr><td>val_loss</td><td>0.03069</td></tr><tr><td>val_mces@1</td><td>25.125</td></tr></table><br/></div></div>"
      ]
     },
     "metadata": {},
     "output_type": "display_data"
    },
    {
     "data": {
      "text/plain": [
       "<IPython.core.display.HTML object>"
      ],
      "text/html": [
       " View run <strong style=\"color:#cdcd00\">config_skip_connection_dreams_cut_tree_3_2025-02-05_11-43-47</strong> at: <a href='https://wandb.ai/jozefov-iocb-prague/new_gnn_retrieval_cut/runs/02wjr9f7' target=\"_blank\">https://wandb.ai/jozefov-iocb-prague/new_gnn_retrieval_cut/runs/02wjr9f7</a><br> View project at: <a href='https://wandb.ai/jozefov-iocb-prague/new_gnn_retrieval_cut' target=\"_blank\">https://wandb.ai/jozefov-iocb-prague/new_gnn_retrieval_cut</a><br>Synced 5 W&B file(s), 0 media file(s), 0 artifact file(s) and 0 other file(s)"
      ]
     },
     "metadata": {},
     "output_type": "display_data"
    },
    {
     "data": {
      "text/plain": [
       "<IPython.core.display.HTML object>"
      ],
      "text/html": [
       "Find logs at: <code>./wandb/run-20250205_114407-02wjr9f7/logs</code>"
      ]
     },
     "metadata": {},
     "output_type": "display_data"
    },
    {
     "name": "stdout",
     "output_type": "stream",
     "text": [
      "Configuration saved to /Users/macbook/CODE/PhantoMS/experiments_run/new_gnn_retrieval_cut/config_skip_connection_dreams_cut_tree_3_2025-02-05_11-43-47/configs/config_skip_connection_dreams.yml\n",
      "\n",
      "Extracting embeddings for /Users/macbook/CODE/PhantoMS/experiments_run/new_gnn_retrieval_cut/config_skip_connection_dreams_cut_tree_3_2025-02-05_11-43-47\n"
     ]
    },
    {
     "name": "stderr",
     "output_type": "stream",
     "text": [
      "/Users/macbook/UTILS/anaconda3/envs/phantoms_env/lib/python3.11/site-packages/torch/nn/utils/weight_norm.py:143: FutureWarning: `torch.nn.utils.weight_norm` is deprecated in favor of `torch.nn.utils.parametrizations.weight_norm`.\n",
      "  WeightNorm.apply(module, name, dim)\n"
     ]
    },
    {
     "name": "stdout",
     "output_type": "stream",
     "text": [
      "Warning: No candidates for 0 SMILES. Skipping them.\n",
      "Total valid indices: 105\n",
      "MSnRetrievalDataset length: 105\n",
      "Warning: Some identifiers in the split file are not found in the dataset. Taking intersection.\n",
      "Test dataset size: 17\n",
      "Embeddings saved to /Users/macbook/CODE/PhantoMS/experiments_run/new_gnn_retrieval_cut/config_skip_connection_dreams_cut_tree_3_2025-02-05_11-43-47/embeddings\n",
      "\n",
      "Running Experiment: config_skip_connection_dreams_bonus_cut_tree_0_2025-02-05_11-44-38\n",
      "W&B Project: new_gnn_retrieval_cut\n",
      "Cut Tree Level: 0\n",
      "\n",
      "Starting training for /Users/macbook/CODE/PhantoMS/experiments_run/new_gnn_retrieval_cut/config_skip_connection_dreams_bonus_cut_tree_0_2025-02-05_11-44-38\n",
      "Using retrieval task/model.\n",
      "Warning: No candidates for 0 SMILES. Skipping them.\n",
      "Total valid indices: 105\n",
      "MSnRetrievalDataset length: 105\n"
     ]
    },
    {
     "name": "stderr",
     "output_type": "stream",
     "text": [
      "/Users/macbook/UTILS/anaconda3/envs/phantoms_env/lib/python3.11/site-packages/torch/nn/utils/weight_norm.py:143: FutureWarning: `torch.nn.utils.weight_norm` is deprecated in favor of `torch.nn.utils.parametrizations.weight_norm`.\n",
      "  WeightNorm.apply(module, name, dim)\n",
      "GPU available: True (mps), used: False\n",
      "TPU available: False, using: 0 TPU cores\n",
      "HPU available: False, using: 0 HPUs\n",
      "/Users/macbook/UTILS/anaconda3/envs/phantoms_env/lib/python3.11/site-packages/pytorch_lightning/trainer/setup.py:177: GPU available but not used. You can set it by doing `Trainer(accelerator='gpu')`.\n"
     ]
    },
    {
     "data": {
      "text/plain": [
       "<IPython.core.display.HTML object>"
      ],
      "text/html": [
       "Tracking run with wandb version 0.19.4"
      ]
     },
     "metadata": {},
     "output_type": "display_data"
    },
    {
     "data": {
      "text/plain": [
       "<IPython.core.display.HTML object>"
      ],
      "text/html": [
       "Run data is saved locally in <code>./wandb/run-20250205_114457-k3x383qv</code>"
      ]
     },
     "metadata": {},
     "output_type": "display_data"
    },
    {
     "data": {
      "text/plain": [
       "<IPython.core.display.HTML object>"
      ],
      "text/html": [
       "Syncing run <strong><a href='https://wandb.ai/jozefov-iocb-prague/new_gnn_retrieval_cut/runs/k3x383qv' target=\"_blank\">config_skip_connection_dreams_bonus_cut_tree_0_2025-02-05_11-44-38</a></strong> to <a href='https://wandb.ai/jozefov-iocb-prague/new_gnn_retrieval_cut' target=\"_blank\">Weights & Biases</a> (<a href='https://wandb.me/developer-guide' target=\"_blank\">docs</a>)<br>"
      ]
     },
     "metadata": {},
     "output_type": "display_data"
    },
    {
     "data": {
      "text/plain": [
       "<IPython.core.display.HTML object>"
      ],
      "text/html": [
       " View project at <a href='https://wandb.ai/jozefov-iocb-prague/new_gnn_retrieval_cut' target=\"_blank\">https://wandb.ai/jozefov-iocb-prague/new_gnn_retrieval_cut</a>"
      ]
     },
     "metadata": {},
     "output_type": "display_data"
    },
    {
     "data": {
      "text/plain": [
       "<IPython.core.display.HTML object>"
      ],
      "text/html": [
       " View run at <a href='https://wandb.ai/jozefov-iocb-prague/new_gnn_retrieval_cut/runs/k3x383qv' target=\"_blank\">https://wandb.ai/jozefov-iocb-prague/new_gnn_retrieval_cut/runs/k3x383qv</a>"
      ]
     },
     "metadata": {},
     "output_type": "display_data"
    },
    {
     "name": "stderr",
     "output_type": "stream",
     "text": [
      "\n",
      "  | Name            | Type                        | Params | Mode \n",
      "------------------------------------------------------------------------\n",
      "0 | gcn_layers      | ModuleList                  | 10.5 M | train\n",
      "1 | formula_encoder | Sequential                  | 4.9 K  | train\n",
      "2 | head            | SkipConnectionRetrievalHead | 37.9 M | train\n",
      "3 | loss_fn         | MSELoss                     | 0      | train\n",
      "------------------------------------------------------------------------\n",
      "48.4 M    Trainable params\n",
      "0         Non-trainable params\n",
      "48.4 M    Total params\n",
      "193.760   Total estimated model params size (MB)\n",
      "59        Modules in train mode\n",
      "0         Modules in eval mode\n"
     ]
    },
    {
     "name": "stdout",
     "output_type": "stream",
     "text": [
      "Warning: Some identifiers in the split file are not found in the dataset. Taking intersection.\n",
      "Train dataset size: 82\n",
      "Val dataset size: 6\n"
     ]
    },
    {
     "data": {
      "text/plain": [
       "Sanity Checking: |          | 0/? [00:00<?, ?it/s]"
      ],
      "application/vnd.jupyter.widget-view+json": {
       "version_major": 2,
       "version_minor": 0,
       "model_id": "b364c87a334a4002b5fc42e0ad44c0cd"
      }
     },
     "metadata": {},
     "output_type": "display_data"
    },
    {
     "name": "stderr",
     "output_type": "stream",
     "text": [
      "/Users/macbook/UTILS/anaconda3/envs/phantoms_env/lib/python3.11/site-packages/pytorch_lightning/trainer/connectors/data_connector.py:425: The 'val_dataloader' does not have many workers which may be a bottleneck. Consider increasing the value of the `num_workers` argument` to `num_workers=9` in the `DataLoader` to improve performance.\n",
      "/Users/macbook/UTILS/anaconda3/envs/phantoms_env/lib/python3.11/site-packages/pytorch_lightning/trainer/connectors/data_connector.py:425: The 'train_dataloader' does not have many workers which may be a bottleneck. Consider increasing the value of the `num_workers` argument` to `num_workers=9` in the `DataLoader` to improve performance.\n",
      "/Users/macbook/UTILS/anaconda3/envs/phantoms_env/lib/python3.11/site-packages/pytorch_lightning/loops/fit_loop.py:310: The number of training batches (2) is smaller than the logging interval Trainer(log_every_n_steps=10). Set a lower value for log_every_n_steps if you want to see logs for the training epoch.\n"
     ]
    },
    {
     "data": {
      "text/plain": [
       "Training: |          | 0/? [00:00<?, ?it/s]"
      ],
      "application/vnd.jupyter.widget-view+json": {
       "version_major": 2,
       "version_minor": 0,
       "model_id": "f38fc85db26e4caf9a1cbd7d4eacb3fc"
      }
     },
     "metadata": {},
     "output_type": "display_data"
    },
    {
     "data": {
      "text/plain": [
       "Validation: |          | 0/? [00:00<?, ?it/s]"
      ],
      "application/vnd.jupyter.widget-view+json": {
       "version_major": 2,
       "version_minor": 0,
       "model_id": "5db7648b60cd4ba6ae967be29f453238"
      }
     },
     "metadata": {},
     "output_type": "display_data"
    },
    {
     "data": {
      "text/plain": [
       "Validation: |          | 0/? [00:00<?, ?it/s]"
      ],
      "application/vnd.jupyter.widget-view+json": {
       "version_major": 2,
       "version_minor": 0,
       "model_id": "91bb0aa59b434e339ac81166c8c19bc1"
      }
     },
     "metadata": {},
     "output_type": "display_data"
    },
    {
     "name": "stderr",
     "output_type": "stream",
     "text": [
      "`Trainer.fit` stopped: `max_epochs=2` reached.\n"
     ]
    },
    {
     "name": "stdout",
     "output_type": "stream",
     "text": [
      "Warning: Some identifiers in the split file are not found in the dataset. Taking intersection.\n",
      "Test dataset size: 17\n"
     ]
    },
    {
     "name": "stderr",
     "output_type": "stream",
     "text": [
      "/Users/macbook/UTILS/anaconda3/envs/phantoms_env/lib/python3.11/site-packages/pytorch_lightning/trainer/connectors/data_connector.py:425: The 'test_dataloader' does not have many workers which may be a bottleneck. Consider increasing the value of the `num_workers` argument` to `num_workers=9` in the `DataLoader` to improve performance.\n"
     ]
    },
    {
     "data": {
      "text/plain": [
       "Testing: |          | 0/? [00:00<?, ?it/s]"
      ],
      "application/vnd.jupyter.widget-view+json": {
       "version_major": 2,
       "version_minor": 0,
       "model_id": "3499e27becff4d62946b4567e6e4158d"
      }
     },
     "metadata": {},
     "output_type": "display_data"
    },
    {
     "name": "stdout",
     "output_type": "stream",
     "text": [
      "────────────────────────────────────────────────────────────────────────────────────────────────────────────────────────\n",
      "       Test metric             DataLoader 0\n",
      "────────────────────────────────────────────────────────────────────────────────────────────────────────────────────────\n",
      "     test_hit_rate@1                0.0\n",
      "    test_hit_rate@20                0.5\n",
      "     test_hit_rate@5                0.0\n",
      "        test_loss           0.03576027229428291\n",
      "       test_mces@1                 11.75\n",
      "────────────────────────────────────────────────────────────────────────────────────────────────────────────────────────\n",
      "Model saved to /Users/macbook/CODE/PhantoMS/experiments_run/new_gnn_retrieval_cut/config_skip_connection_dreams_bonus_cut_tree_0_2025-02-05_11-44-38/checkpoints/final_model.ckpt\n"
     ]
    },
    {
     "data": {
      "text/plain": [
       "<IPython.core.display.HTML object>"
      ],
      "text/html": []
     },
     "metadata": {},
     "output_type": "display_data"
    },
    {
     "data": {
      "text/plain": [
       "<IPython.core.display.HTML object>"
      ],
      "text/html": [
       "<br>    <style><br>        .wandb-row {<br>            display: flex;<br>            flex-direction: row;<br>            flex-wrap: wrap;<br>            justify-content: flex-start;<br>            width: 100%;<br>        }<br>        .wandb-col {<br>            display: flex;<br>            flex-direction: column;<br>            flex-basis: 100%;<br>            flex: 1;<br>            padding: 10px;<br>        }<br>    </style><br><div class=\"wandb-row\"><div class=\"wandb-col\"><h3>Run history:</h3><br/><table class=\"wandb\"><tr><td>epoch</td><td>▁▅█</td></tr><tr><td>test_hit_rate@1</td><td>▁</td></tr><tr><td>test_hit_rate@20</td><td>▁</td></tr><tr><td>test_hit_rate@5</td><td>▁</td></tr><tr><td>test_loss</td><td>▁</td></tr><tr><td>test_mces@1</td><td>▁</td></tr><tr><td>trainer/global_step</td><td>▁▆█</td></tr><tr><td>val_hit_rate@1</td><td>▁█</td></tr><tr><td>val_hit_rate@20</td><td>▁▁</td></tr><tr><td>val_hit_rate@5</td><td>▁█</td></tr><tr><td>val_loss</td><td>▁█</td></tr><tr><td>val_mces@1</td><td>█▁</td></tr></table><br/></div><div class=\"wandb-col\"><h3>Run summary:</h3><br/><table class=\"wandb\"><tr><td>epoch</td><td>2</td></tr><tr><td>test_hit_rate@1</td><td>0</td></tr><tr><td>test_hit_rate@20</td><td>0.5</td></tr><tr><td>test_hit_rate@5</td><td>0</td></tr><tr><td>test_loss</td><td>0.03576</td></tr><tr><td>test_mces@1</td><td>11.75</td></tr><tr><td>trainer/global_step</td><td>4</td></tr><tr><td>val_hit_rate@1</td><td>0.25</td></tr><tr><td>val_hit_rate@20</td><td>0.25</td></tr><tr><td>val_hit_rate@5</td><td>0.25</td></tr><tr><td>val_loss</td><td>0.03667</td></tr><tr><td>val_mces@1</td><td>7.5</td></tr></table><br/></div></div>"
      ]
     },
     "metadata": {},
     "output_type": "display_data"
    },
    {
     "data": {
      "text/plain": [
       "<IPython.core.display.HTML object>"
      ],
      "text/html": [
       " View run <strong style=\"color:#cdcd00\">config_skip_connection_dreams_bonus_cut_tree_0_2025-02-05_11-44-38</strong> at: <a href='https://wandb.ai/jozefov-iocb-prague/new_gnn_retrieval_cut/runs/k3x383qv' target=\"_blank\">https://wandb.ai/jozefov-iocb-prague/new_gnn_retrieval_cut/runs/k3x383qv</a><br> View project at: <a href='https://wandb.ai/jozefov-iocb-prague/new_gnn_retrieval_cut' target=\"_blank\">https://wandb.ai/jozefov-iocb-prague/new_gnn_retrieval_cut</a><br>Synced 5 W&B file(s), 0 media file(s), 0 artifact file(s) and 0 other file(s)"
      ]
     },
     "metadata": {},
     "output_type": "display_data"
    },
    {
     "data": {
      "text/plain": [
       "<IPython.core.display.HTML object>"
      ],
      "text/html": [
       "Find logs at: <code>./wandb/run-20250205_114457-k3x383qv/logs</code>"
      ]
     },
     "metadata": {},
     "output_type": "display_data"
    },
    {
     "name": "stdout",
     "output_type": "stream",
     "text": [
      "Configuration saved to /Users/macbook/CODE/PhantoMS/experiments_run/new_gnn_retrieval_cut/config_skip_connection_dreams_bonus_cut_tree_0_2025-02-05_11-44-38/configs/config_skip_connection_dreams_bonus.yml\n",
      "\n",
      "Extracting embeddings for /Users/macbook/CODE/PhantoMS/experiments_run/new_gnn_retrieval_cut/config_skip_connection_dreams_bonus_cut_tree_0_2025-02-05_11-44-38\n"
     ]
    },
    {
     "name": "stderr",
     "output_type": "stream",
     "text": [
      "/Users/macbook/UTILS/anaconda3/envs/phantoms_env/lib/python3.11/site-packages/torch/nn/utils/weight_norm.py:143: FutureWarning: `torch.nn.utils.weight_norm` is deprecated in favor of `torch.nn.utils.parametrizations.weight_norm`.\n",
      "  WeightNorm.apply(module, name, dim)\n"
     ]
    },
    {
     "name": "stdout",
     "output_type": "stream",
     "text": [
      "Warning: No candidates for 0 SMILES. Skipping them.\n",
      "Total valid indices: 105\n",
      "MSnRetrievalDataset length: 105\n",
      "Warning: Some identifiers in the split file are not found in the dataset. Taking intersection.\n",
      "Test dataset size: 17\n",
      "Embeddings saved to /Users/macbook/CODE/PhantoMS/experiments_run/new_gnn_retrieval_cut/config_skip_connection_dreams_bonus_cut_tree_0_2025-02-05_11-44-38/embeddings\n",
      "\n",
      "Running Experiment: config_skip_connection_dreams_bonus_cut_tree_1_2025-02-05_11-45-30\n",
      "W&B Project: new_gnn_retrieval_cut\n",
      "Cut Tree Level: 1\n",
      "\n",
      "Starting training for /Users/macbook/CODE/PhantoMS/experiments_run/new_gnn_retrieval_cut/config_skip_connection_dreams_bonus_cut_tree_1_2025-02-05_11-45-30\n",
      "Using retrieval task/model.\n",
      "Warning: No candidates for 0 SMILES. Skipping them.\n",
      "Total valid indices: 105\n",
      "MSnRetrievalDataset length: 105\n"
     ]
    },
    {
     "name": "stderr",
     "output_type": "stream",
     "text": [
      "/Users/macbook/UTILS/anaconda3/envs/phantoms_env/lib/python3.11/site-packages/torch/nn/utils/weight_norm.py:143: FutureWarning: `torch.nn.utils.weight_norm` is deprecated in favor of `torch.nn.utils.parametrizations.weight_norm`.\n",
      "  WeightNorm.apply(module, name, dim)\n",
      "GPU available: True (mps), used: False\n",
      "TPU available: False, using: 0 TPU cores\n",
      "HPU available: False, using: 0 HPUs\n",
      "/Users/macbook/UTILS/anaconda3/envs/phantoms_env/lib/python3.11/site-packages/pytorch_lightning/trainer/setup.py:177: GPU available but not used. You can set it by doing `Trainer(accelerator='gpu')`.\n"
     ]
    },
    {
     "data": {
      "text/plain": [
       "<IPython.core.display.HTML object>"
      ],
      "text/html": [
       "Tracking run with wandb version 0.19.4"
      ]
     },
     "metadata": {},
     "output_type": "display_data"
    },
    {
     "data": {
      "text/plain": [
       "<IPython.core.display.HTML object>"
      ],
      "text/html": [
       "Run data is saved locally in <code>./wandb/run-20250205_114549-scoetc4a</code>"
      ]
     },
     "metadata": {},
     "output_type": "display_data"
    },
    {
     "data": {
      "text/plain": [
       "<IPython.core.display.HTML object>"
      ],
      "text/html": [
       "Syncing run <strong><a href='https://wandb.ai/jozefov-iocb-prague/new_gnn_retrieval_cut/runs/scoetc4a' target=\"_blank\">config_skip_connection_dreams_bonus_cut_tree_1_2025-02-05_11-45-30</a></strong> to <a href='https://wandb.ai/jozefov-iocb-prague/new_gnn_retrieval_cut' target=\"_blank\">Weights & Biases</a> (<a href='https://wandb.me/developer-guide' target=\"_blank\">docs</a>)<br>"
      ]
     },
     "metadata": {},
     "output_type": "display_data"
    },
    {
     "data": {
      "text/plain": [
       "<IPython.core.display.HTML object>"
      ],
      "text/html": [
       " View project at <a href='https://wandb.ai/jozefov-iocb-prague/new_gnn_retrieval_cut' target=\"_blank\">https://wandb.ai/jozefov-iocb-prague/new_gnn_retrieval_cut</a>"
      ]
     },
     "metadata": {},
     "output_type": "display_data"
    },
    {
     "data": {
      "text/plain": [
       "<IPython.core.display.HTML object>"
      ],
      "text/html": [
       " View run at <a href='https://wandb.ai/jozefov-iocb-prague/new_gnn_retrieval_cut/runs/scoetc4a' target=\"_blank\">https://wandb.ai/jozefov-iocb-prague/new_gnn_retrieval_cut/runs/scoetc4a</a>"
      ]
     },
     "metadata": {},
     "output_type": "display_data"
    },
    {
     "name": "stderr",
     "output_type": "stream",
     "text": [
      "\n",
      "  | Name            | Type                        | Params | Mode \n",
      "------------------------------------------------------------------------\n",
      "0 | gcn_layers      | ModuleList                  | 10.5 M | train\n",
      "1 | formula_encoder | Sequential                  | 4.9 K  | train\n",
      "2 | head            | SkipConnectionRetrievalHead | 37.9 M | train\n",
      "3 | loss_fn         | MSELoss                     | 0      | train\n",
      "------------------------------------------------------------------------\n",
      "48.4 M    Trainable params\n",
      "0         Non-trainable params\n",
      "48.4 M    Total params\n",
      "193.760   Total estimated model params size (MB)\n",
      "59        Modules in train mode\n",
      "0         Modules in eval mode\n"
     ]
    },
    {
     "name": "stdout",
     "output_type": "stream",
     "text": [
      "Warning: Some identifiers in the split file are not found in the dataset. Taking intersection.\n",
      "Train dataset size: 82\n",
      "Val dataset size: 6\n"
     ]
    },
    {
     "data": {
      "text/plain": [
       "Sanity Checking: |          | 0/? [00:00<?, ?it/s]"
      ],
      "application/vnd.jupyter.widget-view+json": {
       "version_major": 2,
       "version_minor": 0,
       "model_id": "f7b37a5c3db74282baec85bb7bc3f0ec"
      }
     },
     "metadata": {},
     "output_type": "display_data"
    },
    {
     "name": "stderr",
     "output_type": "stream",
     "text": [
      "/Users/macbook/UTILS/anaconda3/envs/phantoms_env/lib/python3.11/site-packages/pytorch_lightning/trainer/connectors/data_connector.py:425: The 'val_dataloader' does not have many workers which may be a bottleneck. Consider increasing the value of the `num_workers` argument` to `num_workers=9` in the `DataLoader` to improve performance.\n",
      "/Users/macbook/UTILS/anaconda3/envs/phantoms_env/lib/python3.11/site-packages/pytorch_lightning/trainer/connectors/data_connector.py:425: The 'train_dataloader' does not have many workers which may be a bottleneck. Consider increasing the value of the `num_workers` argument` to `num_workers=9` in the `DataLoader` to improve performance.\n",
      "/Users/macbook/UTILS/anaconda3/envs/phantoms_env/lib/python3.11/site-packages/pytorch_lightning/loops/fit_loop.py:310: The number of training batches (2) is smaller than the logging interval Trainer(log_every_n_steps=10). Set a lower value for log_every_n_steps if you want to see logs for the training epoch.\n"
     ]
    },
    {
     "data": {
      "text/plain": [
       "Training: |          | 0/? [00:00<?, ?it/s]"
      ],
      "application/vnd.jupyter.widget-view+json": {
       "version_major": 2,
       "version_minor": 0,
       "model_id": "de1ef4dc450b45989536ddffc7a63edd"
      }
     },
     "metadata": {},
     "output_type": "display_data"
    },
    {
     "data": {
      "text/plain": [
       "Validation: |          | 0/? [00:00<?, ?it/s]"
      ],
      "application/vnd.jupyter.widget-view+json": {
       "version_major": 2,
       "version_minor": 0,
       "model_id": "9271be3b40734e44a3499b592044ed59"
      }
     },
     "metadata": {},
     "output_type": "display_data"
    },
    {
     "data": {
      "text/plain": [
       "Validation: |          | 0/? [00:00<?, ?it/s]"
      ],
      "application/vnd.jupyter.widget-view+json": {
       "version_major": 2,
       "version_minor": 0,
       "model_id": "40ecc9cfc02e400f90125124a995025c"
      }
     },
     "metadata": {},
     "output_type": "display_data"
    },
    {
     "name": "stderr",
     "output_type": "stream",
     "text": [
      "`Trainer.fit` stopped: `max_epochs=2` reached.\n"
     ]
    },
    {
     "name": "stdout",
     "output_type": "stream",
     "text": [
      "Warning: Some identifiers in the split file are not found in the dataset. Taking intersection.\n",
      "Test dataset size: 17\n"
     ]
    },
    {
     "name": "stderr",
     "output_type": "stream",
     "text": [
      "/Users/macbook/UTILS/anaconda3/envs/phantoms_env/lib/python3.11/site-packages/pytorch_lightning/trainer/connectors/data_connector.py:425: The 'test_dataloader' does not have many workers which may be a bottleneck. Consider increasing the value of the `num_workers` argument` to `num_workers=9` in the `DataLoader` to improve performance.\n"
     ]
    },
    {
     "data": {
      "text/plain": [
       "Testing: |          | 0/? [00:00<?, ?it/s]"
      ],
      "application/vnd.jupyter.widget-view+json": {
       "version_major": 2,
       "version_minor": 0,
       "model_id": "2d3df756283b4fb68f06ee7b4d58acac"
      }
     },
     "metadata": {},
     "output_type": "display_data"
    },
    {
     "name": "stdout",
     "output_type": "stream",
     "text": [
      "────────────────────────────────────────────────────────────────────────────────────────────────────────────────────────\n",
      "       Test metric             DataLoader 0\n",
      "────────────────────────────────────────────────────────────────────────────────────────────────────────────────────────\n",
      "     test_hit_rate@1                0.0\n",
      "    test_hit_rate@20                1.0\n",
      "     test_hit_rate@5               0.25\n",
      "        test_loss           0.02775578759610653\n",
      "       test_mces@1                 13.75\n",
      "────────────────────────────────────────────────────────────────────────────────────────────────────────────────────────\n",
      "Model saved to /Users/macbook/CODE/PhantoMS/experiments_run/new_gnn_retrieval_cut/config_skip_connection_dreams_bonus_cut_tree_1_2025-02-05_11-45-30/checkpoints/final_model.ckpt\n"
     ]
    },
    {
     "data": {
      "text/plain": [
       "<IPython.core.display.HTML object>"
      ],
      "text/html": []
     },
     "metadata": {},
     "output_type": "display_data"
    },
    {
     "data": {
      "text/plain": [
       "<IPython.core.display.HTML object>"
      ],
      "text/html": [
       "<br>    <style><br>        .wandb-row {<br>            display: flex;<br>            flex-direction: row;<br>            flex-wrap: wrap;<br>            justify-content: flex-start;<br>            width: 100%;<br>        }<br>        .wandb-col {<br>            display: flex;<br>            flex-direction: column;<br>            flex-basis: 100%;<br>            flex: 1;<br>            padding: 10px;<br>        }<br>    </style><br><div class=\"wandb-row\"><div class=\"wandb-col\"><h3>Run history:</h3><br/><table class=\"wandb\"><tr><td>epoch</td><td>▁▅█</td></tr><tr><td>test_hit_rate@1</td><td>▁</td></tr><tr><td>test_hit_rate@20</td><td>▁</td></tr><tr><td>test_hit_rate@5</td><td>▁</td></tr><tr><td>test_loss</td><td>▁</td></tr><tr><td>test_mces@1</td><td>▁</td></tr><tr><td>trainer/global_step</td><td>▁▆█</td></tr><tr><td>val_hit_rate@1</td><td>▁▁</td></tr><tr><td>val_hit_rate@20</td><td>▁▁</td></tr><tr><td>val_hit_rate@5</td><td>█▁</td></tr><tr><td>val_loss</td><td>▁█</td></tr><tr><td>val_mces@1</td><td>▁█</td></tr></table><br/></div><div class=\"wandb-col\"><h3>Run summary:</h3><br/><table class=\"wandb\"><tr><td>epoch</td><td>2</td></tr><tr><td>test_hit_rate@1</td><td>0</td></tr><tr><td>test_hit_rate@20</td><td>1</td></tr><tr><td>test_hit_rate@5</td><td>0.25</td></tr><tr><td>test_loss</td><td>0.02776</td></tr><tr><td>test_mces@1</td><td>13.75</td></tr><tr><td>trainer/global_step</td><td>4</td></tr><tr><td>val_hit_rate@1</td><td>0</td></tr><tr><td>val_hit_rate@20</td><td>0.5</td></tr><tr><td>val_hit_rate@5</td><td>0</td></tr><tr><td>val_loss</td><td>0.03248</td></tr><tr><td>val_mces@1</td><td>14.5</td></tr></table><br/></div></div>"
      ]
     },
     "metadata": {},
     "output_type": "display_data"
    },
    {
     "data": {
      "text/plain": [
       "<IPython.core.display.HTML object>"
      ],
      "text/html": [
       " View run <strong style=\"color:#cdcd00\">config_skip_connection_dreams_bonus_cut_tree_1_2025-02-05_11-45-30</strong> at: <a href='https://wandb.ai/jozefov-iocb-prague/new_gnn_retrieval_cut/runs/scoetc4a' target=\"_blank\">https://wandb.ai/jozefov-iocb-prague/new_gnn_retrieval_cut/runs/scoetc4a</a><br> View project at: <a href='https://wandb.ai/jozefov-iocb-prague/new_gnn_retrieval_cut' target=\"_blank\">https://wandb.ai/jozefov-iocb-prague/new_gnn_retrieval_cut</a><br>Synced 5 W&B file(s), 0 media file(s), 0 artifact file(s) and 0 other file(s)"
      ]
     },
     "metadata": {},
     "output_type": "display_data"
    },
    {
     "data": {
      "text/plain": [
       "<IPython.core.display.HTML object>"
      ],
      "text/html": [
       "Find logs at: <code>./wandb/run-20250205_114549-scoetc4a/logs</code>"
      ]
     },
     "metadata": {},
     "output_type": "display_data"
    },
    {
     "name": "stdout",
     "output_type": "stream",
     "text": [
      "Configuration saved to /Users/macbook/CODE/PhantoMS/experiments_run/new_gnn_retrieval_cut/config_skip_connection_dreams_bonus_cut_tree_1_2025-02-05_11-45-30/configs/config_skip_connection_dreams_bonus.yml\n",
      "\n",
      "Extracting embeddings for /Users/macbook/CODE/PhantoMS/experiments_run/new_gnn_retrieval_cut/config_skip_connection_dreams_bonus_cut_tree_1_2025-02-05_11-45-30\n"
     ]
    },
    {
     "name": "stderr",
     "output_type": "stream",
     "text": [
      "/Users/macbook/UTILS/anaconda3/envs/phantoms_env/lib/python3.11/site-packages/torch/nn/utils/weight_norm.py:143: FutureWarning: `torch.nn.utils.weight_norm` is deprecated in favor of `torch.nn.utils.parametrizations.weight_norm`.\n",
      "  WeightNorm.apply(module, name, dim)\n"
     ]
    },
    {
     "name": "stdout",
     "output_type": "stream",
     "text": [
      "Warning: No candidates for 0 SMILES. Skipping them.\n",
      "Total valid indices: 105\n",
      "MSnRetrievalDataset length: 105\n",
      "Warning: Some identifiers in the split file are not found in the dataset. Taking intersection.\n",
      "Test dataset size: 17\n",
      "Embeddings saved to /Users/macbook/CODE/PhantoMS/experiments_run/new_gnn_retrieval_cut/config_skip_connection_dreams_bonus_cut_tree_1_2025-02-05_11-45-30/embeddings\n",
      "\n",
      "Running Experiment: config_skip_connection_dreams_bonus_cut_tree_2_2025-02-05_11-46-26\n",
      "W&B Project: new_gnn_retrieval_cut\n",
      "Cut Tree Level: 2\n",
      "\n",
      "Starting training for /Users/macbook/CODE/PhantoMS/experiments_run/new_gnn_retrieval_cut/config_skip_connection_dreams_bonus_cut_tree_2_2025-02-05_11-46-26\n",
      "Using retrieval task/model.\n",
      "Warning: No candidates for 0 SMILES. Skipping them.\n",
      "Total valid indices: 105\n",
      "MSnRetrievalDataset length: 105\n"
     ]
    },
    {
     "name": "stderr",
     "output_type": "stream",
     "text": [
      "/Users/macbook/UTILS/anaconda3/envs/phantoms_env/lib/python3.11/site-packages/torch/nn/utils/weight_norm.py:143: FutureWarning: `torch.nn.utils.weight_norm` is deprecated in favor of `torch.nn.utils.parametrizations.weight_norm`.\n",
      "  WeightNorm.apply(module, name, dim)\n",
      "GPU available: True (mps), used: False\n",
      "TPU available: False, using: 0 TPU cores\n",
      "HPU available: False, using: 0 HPUs\n",
      "/Users/macbook/UTILS/anaconda3/envs/phantoms_env/lib/python3.11/site-packages/pytorch_lightning/trainer/setup.py:177: GPU available but not used. You can set it by doing `Trainer(accelerator='gpu')`.\n"
     ]
    },
    {
     "data": {
      "text/plain": [
       "<IPython.core.display.HTML object>"
      ],
      "text/html": [
       "Tracking run with wandb version 0.19.4"
      ]
     },
     "metadata": {},
     "output_type": "display_data"
    },
    {
     "data": {
      "text/plain": [
       "<IPython.core.display.HTML object>"
      ],
      "text/html": [
       "Run data is saved locally in <code>./wandb/run-20250205_114645-do7w4mer</code>"
      ]
     },
     "metadata": {},
     "output_type": "display_data"
    },
    {
     "data": {
      "text/plain": [
       "<IPython.core.display.HTML object>"
      ],
      "text/html": [
       "Syncing run <strong><a href='https://wandb.ai/jozefov-iocb-prague/new_gnn_retrieval_cut/runs/do7w4mer' target=\"_blank\">config_skip_connection_dreams_bonus_cut_tree_2_2025-02-05_11-46-26</a></strong> to <a href='https://wandb.ai/jozefov-iocb-prague/new_gnn_retrieval_cut' target=\"_blank\">Weights & Biases</a> (<a href='https://wandb.me/developer-guide' target=\"_blank\">docs</a>)<br>"
      ]
     },
     "metadata": {},
     "output_type": "display_data"
    },
    {
     "data": {
      "text/plain": [
       "<IPython.core.display.HTML object>"
      ],
      "text/html": [
       " View project at <a href='https://wandb.ai/jozefov-iocb-prague/new_gnn_retrieval_cut' target=\"_blank\">https://wandb.ai/jozefov-iocb-prague/new_gnn_retrieval_cut</a>"
      ]
     },
     "metadata": {},
     "output_type": "display_data"
    },
    {
     "data": {
      "text/plain": [
       "<IPython.core.display.HTML object>"
      ],
      "text/html": [
       " View run at <a href='https://wandb.ai/jozefov-iocb-prague/new_gnn_retrieval_cut/runs/do7w4mer' target=\"_blank\">https://wandb.ai/jozefov-iocb-prague/new_gnn_retrieval_cut/runs/do7w4mer</a>"
      ]
     },
     "metadata": {},
     "output_type": "display_data"
    },
    {
     "name": "stderr",
     "output_type": "stream",
     "text": [
      "\n",
      "  | Name            | Type                        | Params | Mode \n",
      "------------------------------------------------------------------------\n",
      "0 | gcn_layers      | ModuleList                  | 10.5 M | train\n",
      "1 | formula_encoder | Sequential                  | 4.9 K  | train\n",
      "2 | head            | SkipConnectionRetrievalHead | 37.9 M | train\n",
      "3 | loss_fn         | MSELoss                     | 0      | train\n",
      "------------------------------------------------------------------------\n",
      "48.4 M    Trainable params\n",
      "0         Non-trainable params\n",
      "48.4 M    Total params\n",
      "193.760   Total estimated model params size (MB)\n",
      "59        Modules in train mode\n",
      "0         Modules in eval mode\n"
     ]
    },
    {
     "name": "stdout",
     "output_type": "stream",
     "text": [
      "Warning: Some identifiers in the split file are not found in the dataset. Taking intersection.\n",
      "Train dataset size: 82\n",
      "Val dataset size: 6\n"
     ]
    },
    {
     "data": {
      "text/plain": [
       "Sanity Checking: |          | 0/? [00:00<?, ?it/s]"
      ],
      "application/vnd.jupyter.widget-view+json": {
       "version_major": 2,
       "version_minor": 0,
       "model_id": "e7ad79c25ab34043ade2866de4989d7e"
      }
     },
     "metadata": {},
     "output_type": "display_data"
    },
    {
     "name": "stderr",
     "output_type": "stream",
     "text": [
      "/Users/macbook/UTILS/anaconda3/envs/phantoms_env/lib/python3.11/site-packages/pytorch_lightning/trainer/connectors/data_connector.py:425: The 'val_dataloader' does not have many workers which may be a bottleneck. Consider increasing the value of the `num_workers` argument` to `num_workers=9` in the `DataLoader` to improve performance.\n",
      "/Users/macbook/UTILS/anaconda3/envs/phantoms_env/lib/python3.11/site-packages/pytorch_lightning/trainer/connectors/data_connector.py:425: The 'train_dataloader' does not have many workers which may be a bottleneck. Consider increasing the value of the `num_workers` argument` to `num_workers=9` in the `DataLoader` to improve performance.\n",
      "/Users/macbook/UTILS/anaconda3/envs/phantoms_env/lib/python3.11/site-packages/pytorch_lightning/loops/fit_loop.py:310: The number of training batches (2) is smaller than the logging interval Trainer(log_every_n_steps=10). Set a lower value for log_every_n_steps if you want to see logs for the training epoch.\n"
     ]
    },
    {
     "data": {
      "text/plain": [
       "Training: |          | 0/? [00:00<?, ?it/s]"
      ],
      "application/vnd.jupyter.widget-view+json": {
       "version_major": 2,
       "version_minor": 0,
       "model_id": "476c21fb685a4e158c6b41b9a289c939"
      }
     },
     "metadata": {},
     "output_type": "display_data"
    },
    {
     "data": {
      "text/plain": [
       "Validation: |          | 0/? [00:00<?, ?it/s]"
      ],
      "application/vnd.jupyter.widget-view+json": {
       "version_major": 2,
       "version_minor": 0,
       "model_id": "193fb51105cd4516b7570107560997a5"
      }
     },
     "metadata": {},
     "output_type": "display_data"
    },
    {
     "data": {
      "text/plain": [
       "Validation: |          | 0/? [00:00<?, ?it/s]"
      ],
      "application/vnd.jupyter.widget-view+json": {
       "version_major": 2,
       "version_minor": 0,
       "model_id": "978bcd546b2946299e20f751bca4c359"
      }
     },
     "metadata": {},
     "output_type": "display_data"
    },
    {
     "name": "stderr",
     "output_type": "stream",
     "text": [
      "`Trainer.fit` stopped: `max_epochs=2` reached.\n"
     ]
    },
    {
     "name": "stdout",
     "output_type": "stream",
     "text": [
      "Warning: Some identifiers in the split file are not found in the dataset. Taking intersection.\n",
      "Test dataset size: 17\n"
     ]
    },
    {
     "name": "stderr",
     "output_type": "stream",
     "text": [
      "/Users/macbook/UTILS/anaconda3/envs/phantoms_env/lib/python3.11/site-packages/pytorch_lightning/trainer/connectors/data_connector.py:425: The 'test_dataloader' does not have many workers which may be a bottleneck. Consider increasing the value of the `num_workers` argument` to `num_workers=9` in the `DataLoader` to improve performance.\n"
     ]
    },
    {
     "data": {
      "text/plain": [
       "Testing: |          | 0/? [00:00<?, ?it/s]"
      ],
      "application/vnd.jupyter.widget-view+json": {
       "version_major": 2,
       "version_minor": 0,
       "model_id": "6dd658585dac41a7853d6c6bc7ab6b38"
      }
     },
     "metadata": {},
     "output_type": "display_data"
    },
    {
     "name": "stdout",
     "output_type": "stream",
     "text": [
      "────────────────────────────────────────────────────────────────────────────────────────────────────────────────────────\n",
      "       Test metric             DataLoader 0\n",
      "────────────────────────────────────────────────────────────────────────────────────────────────────────────────────────\n",
      "     test_hit_rate@1                0.0\n",
      "    test_hit_rate@20               0.25\n",
      "     test_hit_rate@5                0.0\n",
      "        test_loss           0.02681102603673935\n",
      "       test_mces@1                 12.0\n",
      "────────────────────────────────────────────────────────────────────────────────────────────────────────────────────────\n",
      "Model saved to /Users/macbook/CODE/PhantoMS/experiments_run/new_gnn_retrieval_cut/config_skip_connection_dreams_bonus_cut_tree_2_2025-02-05_11-46-26/checkpoints/final_model.ckpt\n"
     ]
    },
    {
     "data": {
      "text/plain": [
       "<IPython.core.display.HTML object>"
      ],
      "text/html": []
     },
     "metadata": {},
     "output_type": "display_data"
    },
    {
     "data": {
      "text/plain": [
       "<IPython.core.display.HTML object>"
      ],
      "text/html": [
       "<br>    <style><br>        .wandb-row {<br>            display: flex;<br>            flex-direction: row;<br>            flex-wrap: wrap;<br>            justify-content: flex-start;<br>            width: 100%;<br>        }<br>        .wandb-col {<br>            display: flex;<br>            flex-direction: column;<br>            flex-basis: 100%;<br>            flex: 1;<br>            padding: 10px;<br>        }<br>    </style><br><div class=\"wandb-row\"><div class=\"wandb-col\"><h3>Run history:</h3><br/><table class=\"wandb\"><tr><td>epoch</td><td>▁▅█</td></tr><tr><td>test_hit_rate@1</td><td>▁</td></tr><tr><td>test_hit_rate@20</td><td>▁</td></tr><tr><td>test_hit_rate@5</td><td>▁</td></tr><tr><td>test_loss</td><td>▁</td></tr><tr><td>test_mces@1</td><td>▁</td></tr><tr><td>trainer/global_step</td><td>▁▆█</td></tr><tr><td>val_hit_rate@1</td><td>▁▁</td></tr><tr><td>val_hit_rate@20</td><td>▁▁</td></tr><tr><td>val_hit_rate@5</td><td>▁▁</td></tr><tr><td>val_loss</td><td>▁█</td></tr><tr><td>val_mces@1</td><td>▁▁</td></tr></table><br/></div><div class=\"wandb-col\"><h3>Run summary:</h3><br/><table class=\"wandb\"><tr><td>epoch</td><td>2</td></tr><tr><td>test_hit_rate@1</td><td>0</td></tr><tr><td>test_hit_rate@20</td><td>0.25</td></tr><tr><td>test_hit_rate@5</td><td>0</td></tr><tr><td>test_loss</td><td>0.02681</td></tr><tr><td>test_mces@1</td><td>12</td></tr><tr><td>trainer/global_step</td><td>4</td></tr><tr><td>val_hit_rate@1</td><td>0</td></tr><tr><td>val_hit_rate@20</td><td>0</td></tr><tr><td>val_hit_rate@5</td><td>0</td></tr><tr><td>val_loss</td><td>0.03095</td></tr><tr><td>val_mces@1</td><td>9.75</td></tr></table><br/></div></div>"
      ]
     },
     "metadata": {},
     "output_type": "display_data"
    },
    {
     "data": {
      "text/plain": [
       "<IPython.core.display.HTML object>"
      ],
      "text/html": [
       " View run <strong style=\"color:#cdcd00\">config_skip_connection_dreams_bonus_cut_tree_2_2025-02-05_11-46-26</strong> at: <a href='https://wandb.ai/jozefov-iocb-prague/new_gnn_retrieval_cut/runs/do7w4mer' target=\"_blank\">https://wandb.ai/jozefov-iocb-prague/new_gnn_retrieval_cut/runs/do7w4mer</a><br> View project at: <a href='https://wandb.ai/jozefov-iocb-prague/new_gnn_retrieval_cut' target=\"_blank\">https://wandb.ai/jozefov-iocb-prague/new_gnn_retrieval_cut</a><br>Synced 5 W&B file(s), 0 media file(s), 0 artifact file(s) and 0 other file(s)"
      ]
     },
     "metadata": {},
     "output_type": "display_data"
    },
    {
     "data": {
      "text/plain": [
       "<IPython.core.display.HTML object>"
      ],
      "text/html": [
       "Find logs at: <code>./wandb/run-20250205_114645-do7w4mer/logs</code>"
      ]
     },
     "metadata": {},
     "output_type": "display_data"
    },
    {
     "name": "stdout",
     "output_type": "stream",
     "text": [
      "Configuration saved to /Users/macbook/CODE/PhantoMS/experiments_run/new_gnn_retrieval_cut/config_skip_connection_dreams_bonus_cut_tree_2_2025-02-05_11-46-26/configs/config_skip_connection_dreams_bonus.yml\n",
      "\n",
      "Extracting embeddings for /Users/macbook/CODE/PhantoMS/experiments_run/new_gnn_retrieval_cut/config_skip_connection_dreams_bonus_cut_tree_2_2025-02-05_11-46-26\n"
     ]
    },
    {
     "name": "stderr",
     "output_type": "stream",
     "text": [
      "/Users/macbook/UTILS/anaconda3/envs/phantoms_env/lib/python3.11/site-packages/torch/nn/utils/weight_norm.py:143: FutureWarning: `torch.nn.utils.weight_norm` is deprecated in favor of `torch.nn.utils.parametrizations.weight_norm`.\n",
      "  WeightNorm.apply(module, name, dim)\n"
     ]
    },
    {
     "name": "stdout",
     "output_type": "stream",
     "text": [
      "Warning: No candidates for 0 SMILES. Skipping them.\n",
      "Total valid indices: 105\n",
      "MSnRetrievalDataset length: 105\n",
      "Warning: Some identifiers in the split file are not found in the dataset. Taking intersection.\n",
      "Test dataset size: 17\n",
      "Embeddings saved to /Users/macbook/CODE/PhantoMS/experiments_run/new_gnn_retrieval_cut/config_skip_connection_dreams_bonus_cut_tree_2_2025-02-05_11-46-26/embeddings\n",
      "\n",
      "Running Experiment: config_skip_connection_dreams_bonus_cut_tree_3_2025-02-05_11-47-21\n",
      "W&B Project: new_gnn_retrieval_cut\n",
      "Cut Tree Level: 3\n",
      "\n",
      "Starting training for /Users/macbook/CODE/PhantoMS/experiments_run/new_gnn_retrieval_cut/config_skip_connection_dreams_bonus_cut_tree_3_2025-02-05_11-47-21\n",
      "Using retrieval task/model.\n",
      "Warning: No candidates for 0 SMILES. Skipping them.\n",
      "Total valid indices: 105\n",
      "MSnRetrievalDataset length: 105\n"
     ]
    },
    {
     "name": "stderr",
     "output_type": "stream",
     "text": [
      "/Users/macbook/UTILS/anaconda3/envs/phantoms_env/lib/python3.11/site-packages/torch/nn/utils/weight_norm.py:143: FutureWarning: `torch.nn.utils.weight_norm` is deprecated in favor of `torch.nn.utils.parametrizations.weight_norm`.\n",
      "  WeightNorm.apply(module, name, dim)\n",
      "GPU available: True (mps), used: False\n",
      "TPU available: False, using: 0 TPU cores\n",
      "HPU available: False, using: 0 HPUs\n",
      "/Users/macbook/UTILS/anaconda3/envs/phantoms_env/lib/python3.11/site-packages/pytorch_lightning/trainer/setup.py:177: GPU available but not used. You can set it by doing `Trainer(accelerator='gpu')`.\n"
     ]
    },
    {
     "data": {
      "text/plain": [
       "<IPython.core.display.HTML object>"
      ],
      "text/html": [
       "Tracking run with wandb version 0.19.4"
      ]
     },
     "metadata": {},
     "output_type": "display_data"
    },
    {
     "data": {
      "text/plain": [
       "<IPython.core.display.HTML object>"
      ],
      "text/html": [
       "Run data is saved locally in <code>./wandb/run-20250205_114741-vuv0inx7</code>"
      ]
     },
     "metadata": {},
     "output_type": "display_data"
    },
    {
     "data": {
      "text/plain": [
       "<IPython.core.display.HTML object>"
      ],
      "text/html": [
       "Syncing run <strong><a href='https://wandb.ai/jozefov-iocb-prague/new_gnn_retrieval_cut/runs/vuv0inx7' target=\"_blank\">config_skip_connection_dreams_bonus_cut_tree_3_2025-02-05_11-47-21</a></strong> to <a href='https://wandb.ai/jozefov-iocb-prague/new_gnn_retrieval_cut' target=\"_blank\">Weights & Biases</a> (<a href='https://wandb.me/developer-guide' target=\"_blank\">docs</a>)<br>"
      ]
     },
     "metadata": {},
     "output_type": "display_data"
    },
    {
     "data": {
      "text/plain": [
       "<IPython.core.display.HTML object>"
      ],
      "text/html": [
       " View project at <a href='https://wandb.ai/jozefov-iocb-prague/new_gnn_retrieval_cut' target=\"_blank\">https://wandb.ai/jozefov-iocb-prague/new_gnn_retrieval_cut</a>"
      ]
     },
     "metadata": {},
     "output_type": "display_data"
    },
    {
     "data": {
      "text/plain": [
       "<IPython.core.display.HTML object>"
      ],
      "text/html": [
       " View run at <a href='https://wandb.ai/jozefov-iocb-prague/new_gnn_retrieval_cut/runs/vuv0inx7' target=\"_blank\">https://wandb.ai/jozefov-iocb-prague/new_gnn_retrieval_cut/runs/vuv0inx7</a>"
      ]
     },
     "metadata": {},
     "output_type": "display_data"
    },
    {
     "name": "stderr",
     "output_type": "stream",
     "text": [
      "\n",
      "  | Name            | Type                        | Params | Mode \n",
      "------------------------------------------------------------------------\n",
      "0 | gcn_layers      | ModuleList                  | 10.5 M | train\n",
      "1 | formula_encoder | Sequential                  | 4.9 K  | train\n",
      "2 | head            | SkipConnectionRetrievalHead | 37.9 M | train\n",
      "3 | loss_fn         | MSELoss                     | 0      | train\n",
      "------------------------------------------------------------------------\n",
      "48.4 M    Trainable params\n",
      "0         Non-trainable params\n",
      "48.4 M    Total params\n",
      "193.760   Total estimated model params size (MB)\n",
      "59        Modules in train mode\n",
      "0         Modules in eval mode\n"
     ]
    },
    {
     "name": "stdout",
     "output_type": "stream",
     "text": [
      "Warning: Some identifiers in the split file are not found in the dataset. Taking intersection.\n",
      "Train dataset size: 82\n",
      "Val dataset size: 6\n"
     ]
    },
    {
     "data": {
      "text/plain": [
       "Sanity Checking: |          | 0/? [00:00<?, ?it/s]"
      ],
      "application/vnd.jupyter.widget-view+json": {
       "version_major": 2,
       "version_minor": 0,
       "model_id": "86357fcd3cfe4636b02aedd70230b8f3"
      }
     },
     "metadata": {},
     "output_type": "display_data"
    },
    {
     "name": "stderr",
     "output_type": "stream",
     "text": [
      "/Users/macbook/UTILS/anaconda3/envs/phantoms_env/lib/python3.11/site-packages/pytorch_lightning/trainer/connectors/data_connector.py:425: The 'val_dataloader' does not have many workers which may be a bottleneck. Consider increasing the value of the `num_workers` argument` to `num_workers=9` in the `DataLoader` to improve performance.\n",
      "/Users/macbook/UTILS/anaconda3/envs/phantoms_env/lib/python3.11/site-packages/pytorch_lightning/trainer/connectors/data_connector.py:425: The 'train_dataloader' does not have many workers which may be a bottleneck. Consider increasing the value of the `num_workers` argument` to `num_workers=9` in the `DataLoader` to improve performance.\n",
      "/Users/macbook/UTILS/anaconda3/envs/phantoms_env/lib/python3.11/site-packages/pytorch_lightning/loops/fit_loop.py:310: The number of training batches (2) is smaller than the logging interval Trainer(log_every_n_steps=10). Set a lower value for log_every_n_steps if you want to see logs for the training epoch.\n"
     ]
    },
    {
     "data": {
      "text/plain": [
       "Training: |          | 0/? [00:00<?, ?it/s]"
      ],
      "application/vnd.jupyter.widget-view+json": {
       "version_major": 2,
       "version_minor": 0,
       "model_id": "a82c852ee3124f6e9ae995ed36d6cc26"
      }
     },
     "metadata": {},
     "output_type": "display_data"
    },
    {
     "data": {
      "text/plain": [
       "Validation: |          | 0/? [00:00<?, ?it/s]"
      ],
      "application/vnd.jupyter.widget-view+json": {
       "version_major": 2,
       "version_minor": 0,
       "model_id": "aeea3c25f4a841949a66f52e694d5adb"
      }
     },
     "metadata": {},
     "output_type": "display_data"
    },
    {
     "data": {
      "text/plain": [
       "Validation: |          | 0/? [00:00<?, ?it/s]"
      ],
      "application/vnd.jupyter.widget-view+json": {
       "version_major": 2,
       "version_minor": 0,
       "model_id": "1d0fa4f652b94ffcac1c4d279926a540"
      }
     },
     "metadata": {},
     "output_type": "display_data"
    },
    {
     "name": "stderr",
     "output_type": "stream",
     "text": [
      "`Trainer.fit` stopped: `max_epochs=2` reached.\n"
     ]
    },
    {
     "name": "stdout",
     "output_type": "stream",
     "text": [
      "Warning: Some identifiers in the split file are not found in the dataset. Taking intersection.\n",
      "Test dataset size: 17\n"
     ]
    },
    {
     "name": "stderr",
     "output_type": "stream",
     "text": [
      "/Users/macbook/UTILS/anaconda3/envs/phantoms_env/lib/python3.11/site-packages/pytorch_lightning/trainer/connectors/data_connector.py:425: The 'test_dataloader' does not have many workers which may be a bottleneck. Consider increasing the value of the `num_workers` argument` to `num_workers=9` in the `DataLoader` to improve performance.\n"
     ]
    },
    {
     "data": {
      "text/plain": [
       "Testing: |          | 0/? [00:00<?, ?it/s]"
      ],
      "application/vnd.jupyter.widget-view+json": {
       "version_major": 2,
       "version_minor": 0,
       "model_id": "9b66de7da3d642e89f97e553a667e957"
      }
     },
     "metadata": {},
     "output_type": "display_data"
    },
    {
     "name": "stdout",
     "output_type": "stream",
     "text": [
      "────────────────────────────────────────────────────────────────────────────────────────────────────────────────────────\n",
      "       Test metric             DataLoader 0\n",
      "────────────────────────────────────────────────────────────────────────────────────────────────────────────────────────\n",
      "     test_hit_rate@1                0.0\n",
      "    test_hit_rate@20               0.75\n",
      "     test_hit_rate@5               0.25\n",
      "        test_loss          0.049181342124938965\n",
      "       test_mces@1                 13.75\n",
      "────────────────────────────────────────────────────────────────────────────────────────────────────────────────────────\n",
      "Model saved to /Users/macbook/CODE/PhantoMS/experiments_run/new_gnn_retrieval_cut/config_skip_connection_dreams_bonus_cut_tree_3_2025-02-05_11-47-21/checkpoints/final_model.ckpt\n"
     ]
    },
    {
     "data": {
      "text/plain": [
       "<IPython.core.display.HTML object>"
      ],
      "text/html": []
     },
     "metadata": {},
     "output_type": "display_data"
    },
    {
     "data": {
      "text/plain": [
       "<IPython.core.display.HTML object>"
      ],
      "text/html": [
       "<br>    <style><br>        .wandb-row {<br>            display: flex;<br>            flex-direction: row;<br>            flex-wrap: wrap;<br>            justify-content: flex-start;<br>            width: 100%;<br>        }<br>        .wandb-col {<br>            display: flex;<br>            flex-direction: column;<br>            flex-basis: 100%;<br>            flex: 1;<br>            padding: 10px;<br>        }<br>    </style><br><div class=\"wandb-row\"><div class=\"wandb-col\"><h3>Run history:</h3><br/><table class=\"wandb\"><tr><td>epoch</td><td>▁▅█</td></tr><tr><td>test_hit_rate@1</td><td>▁</td></tr><tr><td>test_hit_rate@20</td><td>▁</td></tr><tr><td>test_hit_rate@5</td><td>▁</td></tr><tr><td>test_loss</td><td>▁</td></tr><tr><td>test_mces@1</td><td>▁</td></tr><tr><td>trainer/global_step</td><td>▁▆█</td></tr><tr><td>val_hit_rate@1</td><td>▁▁</td></tr><tr><td>val_hit_rate@20</td><td>█▁</td></tr><tr><td>val_hit_rate@5</td><td>█▁</td></tr><tr><td>val_loss</td><td>▁█</td></tr><tr><td>val_mces@1</td><td>▁█</td></tr></table><br/></div><div class=\"wandb-col\"><h3>Run summary:</h3><br/><table class=\"wandb\"><tr><td>epoch</td><td>2</td></tr><tr><td>test_hit_rate@1</td><td>0</td></tr><tr><td>test_hit_rate@20</td><td>0.75</td></tr><tr><td>test_hit_rate@5</td><td>0.25</td></tr><tr><td>test_loss</td><td>0.04918</td></tr><tr><td>test_mces@1</td><td>13.75</td></tr><tr><td>trainer/global_step</td><td>4</td></tr><tr><td>val_hit_rate@1</td><td>0</td></tr><tr><td>val_hit_rate@20</td><td>0</td></tr><tr><td>val_hit_rate@5</td><td>0</td></tr><tr><td>val_loss</td><td>0.0533</td></tr><tr><td>val_mces@1</td><td>18.25</td></tr></table><br/></div></div>"
      ]
     },
     "metadata": {},
     "output_type": "display_data"
    },
    {
     "data": {
      "text/plain": [
       "<IPython.core.display.HTML object>"
      ],
      "text/html": [
       " View run <strong style=\"color:#cdcd00\">config_skip_connection_dreams_bonus_cut_tree_3_2025-02-05_11-47-21</strong> at: <a href='https://wandb.ai/jozefov-iocb-prague/new_gnn_retrieval_cut/runs/vuv0inx7' target=\"_blank\">https://wandb.ai/jozefov-iocb-prague/new_gnn_retrieval_cut/runs/vuv0inx7</a><br> View project at: <a href='https://wandb.ai/jozefov-iocb-prague/new_gnn_retrieval_cut' target=\"_blank\">https://wandb.ai/jozefov-iocb-prague/new_gnn_retrieval_cut</a><br>Synced 5 W&B file(s), 0 media file(s), 0 artifact file(s) and 0 other file(s)"
      ]
     },
     "metadata": {},
     "output_type": "display_data"
    },
    {
     "data": {
      "text/plain": [
       "<IPython.core.display.HTML object>"
      ],
      "text/html": [
       "Find logs at: <code>./wandb/run-20250205_114741-vuv0inx7/logs</code>"
      ]
     },
     "metadata": {},
     "output_type": "display_data"
    },
    {
     "name": "stdout",
     "output_type": "stream",
     "text": [
      "Configuration saved to /Users/macbook/CODE/PhantoMS/experiments_run/new_gnn_retrieval_cut/config_skip_connection_dreams_bonus_cut_tree_3_2025-02-05_11-47-21/configs/config_skip_connection_dreams_bonus.yml\n",
      "\n",
      "Extracting embeddings for /Users/macbook/CODE/PhantoMS/experiments_run/new_gnn_retrieval_cut/config_skip_connection_dreams_bonus_cut_tree_3_2025-02-05_11-47-21\n"
     ]
    },
    {
     "name": "stderr",
     "output_type": "stream",
     "text": [
      "/Users/macbook/UTILS/anaconda3/envs/phantoms_env/lib/python3.11/site-packages/torch/nn/utils/weight_norm.py:143: FutureWarning: `torch.nn.utils.weight_norm` is deprecated in favor of `torch.nn.utils.parametrizations.weight_norm`.\n",
      "  WeightNorm.apply(module, name, dim)\n"
     ]
    },
    {
     "name": "stdout",
     "output_type": "stream",
     "text": [
      "Warning: No candidates for 0 SMILES. Skipping them.\n",
      "Total valid indices: 105\n",
      "MSnRetrievalDataset length: 105\n",
      "Warning: Some identifiers in the split file are not found in the dataset. Taking intersection.\n",
      "Test dataset size: 17\n",
      "Embeddings saved to /Users/macbook/CODE/PhantoMS/experiments_run/new_gnn_retrieval_cut/config_skip_connection_dreams_bonus_cut_tree_3_2025-02-05_11-47-21/embeddings\n",
      "\n",
      "All experiments completed successfully.\n"
     ]
    }
   ],
   "execution_count": 15
  },
  {
   "metadata": {},
   "cell_type": "code",
   "outputs": [],
   "execution_count": null,
   "source": "",
   "id": "22b4a2a24cab0222"
  },
  {
   "metadata": {},
   "cell_type": "code",
   "outputs": [],
   "execution_count": null,
   "source": "",
   "id": "e3548ad1a668c0d8"
  },
  {
   "metadata": {},
   "cell_type": "code",
   "outputs": [],
   "execution_count": null,
   "source": "",
   "id": "2582b42e667404dd"
  },
  {
   "metadata": {},
   "cell_type": "code",
   "outputs": [],
   "execution_count": null,
   "source": "",
   "id": "2b6677ee79f371b2"
  },
  {
   "metadata": {},
   "cell_type": "code",
   "outputs": [],
   "execution_count": null,
   "source": "",
   "id": "ad879db5d8f5c3de"
  },
  {
   "metadata": {},
   "cell_type": "code",
   "outputs": [],
   "execution_count": null,
   "source": "",
   "id": "44c53a6a1a4c5fa8"
  }
 ],
 "metadata": {
  "kernelspec": {
   "display_name": "Python 3",
   "language": "python",
   "name": "python3"
  },
  "language_info": {
   "codemirror_mode": {
    "name": "ipython",
    "version": 2
   },
   "file_extension": ".py",
   "mimetype": "text/x-python",
   "name": "python",
   "nbconvert_exporter": "python",
   "pygments_lexer": "ipython2",
   "version": "2.7.6"
  }
 },
 "nbformat": 4,
 "nbformat_minor": 5
}
