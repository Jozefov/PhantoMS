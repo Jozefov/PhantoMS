{
 "cells": [
  {
   "metadata": {
    "ExecuteTime": {
     "end_time": "2025-02-01T17:05:57.029363Z",
     "start_time": "2025-02-01T17:05:57.027363Z"
    }
   },
   "cell_type": "code",
   "source": [
    "import pandas as pd\n",
    "from tqdm import tqdm\n",
    "from rdkit import Chem\n",
    "\n",
    "from massspecgym.tools.murcko_hist import murcko_hist, are_sub_hists\n",
    "from massspecgym.data.transforms import MolFingerprinter\n",
    "from massspecgym.data.datasets import MSnDataset\n",
    "from massspecgym.tools.plots import evaluate_split"
   ],
   "id": "97f8a38ecd81b089",
   "outputs": [],
   "execution_count": 3
  },
  {
   "metadata": {
    "ExecuteTime": {
     "end_time": "2025-02-01T17:20:42.363160Z",
     "start_time": "2025-02-01T17:20:42.360234Z"
    }
   },
   "cell_type": "code",
   "source": [
    "# We want to keep only those candidate molecules that do NOT have a Murcko histogram that is “similar” \n",
    "def is_similar_to_test_val(candidate_hist, test_val_histograms, k=3, d=4):\n",
    "    \"\"\"Return True if candidate_hist is similar to any histogram in test_val_histograms.\"\"\"\n",
    "    for tv_hist in test_val_histograms:\n",
    "        if are_sub_hists(candidate_hist, tv_hist, k=k, d=d):\n",
    "            return True\n",
    "    return False\n",
    "\n",
    "def safe_murcko_hist(smiles):\n",
    "    \"\"\"\n",
    "    Computes the Murcko histogram for the given SMILES string.\n",
    "    If an error occurs, returns None.\n",
    "    \"\"\"\n",
    "    try:\n",
    "        mol = Chem.MolFromSmiles(smiles)\n",
    "        if mol is None:\n",
    "            return None\n",
    "        return murcko_hist(mol)\n",
    "    except Exception as e:\n",
    "        return None"
   ],
   "id": "f45a213e125c85c1",
   "outputs": [],
   "execution_count": 14
  },
  {
   "metadata": {
    "ExecuteTime": {
     "end_time": "2025-02-01T17:05:42.074917Z",
     "start_time": "2025-02-01T17:02:01.521148Z"
    }
   },
   "cell_type": "code",
   "outputs": [
    {
     "name": "stdout",
     "output_type": "stream",
     "text": [
      "16476\n"
     ]
    }
   ],
   "execution_count": 2,
   "source": [
    "mol_transform = MolFingerprinter(fp_size=2048)\n",
    "msn_dataset = MSnDataset(pth=\"/Users/macbook/CODE/Majer:MassSpecGym/data/MSn/20241211_msn_library_pos_all_lib_MSn.mgf\",\n",
    "                         mol_transform=mol_transform,\n",
    "                         max_allowed_deviation=0.005)\n",
    "print(len(msn_dataset))"
   ],
   "id": "7cff00076178d263"
  },
  {
   "metadata": {
    "ExecuteTime": {
     "end_time": "2025-02-01T15:39:19.369608Z",
     "start_time": "2025-02-01T15:39:19.367469Z"
    }
   },
   "cell_type": "code",
   "outputs": [],
   "execution_count": 3,
   "source": "df = msn_dataset.metadata ",
   "id": "a99e927f6dd2aa03"
  },
  {
   "metadata": {
    "ExecuteTime": {
     "end_time": "2025-02-01T15:41:14.544334Z",
     "start_time": "2025-02-01T15:41:14.541135Z"
    }
   },
   "cell_type": "code",
   "outputs": [
    {
     "data": {
      "text/plain": [
       "Index(['charge', 'description', 'formula', 'inchi', 'smiles', 'feature_id',\n",
       "       'adduct', 'spectype', 'fragmentation_method', 'isolation_window',\n",
       "       'acquisition', 'instrument_type', 'ims_type', 'ion_source', 'ionmode',\n",
       "       'dataset_id', 'usi', 'scans', 'precursor_purity', 'quality_chimeric',\n",
       "       'quality_explained_intensity', 'quality_explained_signals',\n",
       "       'collision_energy', 'num_peaks', 'compound_name', 'parent_mass',\n",
       "       'inchi_aux', 'ms_level', 'retention_time', 'principal_investigator',\n",
       "       'data_collector', 'precursor_mz', 'identifier', 'fold',\n",
       "       'msn_collision_energies', 'msn_precursor_mzs',\n",
       "       'msn_fragmentation_methods', 'msn_isolation_windows',\n",
       "       'other_matched_compounds', 'other_matched_compounds_names', 'comment',\n",
       "       'inchi_key', 'mol_freq'],\n",
       "      dtype='object')"
      ]
     },
     "execution_count": 9,
     "metadata": {},
     "output_type": "execute_result"
    }
   ],
   "execution_count": 9,
   "source": "df.columns",
   "id": "3c2bc4569caae512"
  },
  {
   "metadata": {},
   "cell_type": "code",
   "outputs": [],
   "execution_count": null,
   "source": "",
   "id": "cd1a2f95ab1b74b9"
  },
  {
   "metadata": {
    "ExecuteTime": {
     "end_time": "2025-02-01T15:57:19.021992Z",
     "start_time": "2025-02-01T15:57:18.995828Z"
    }
   },
   "cell_type": "code",
   "outputs": [
    {
     "name": "stdout",
     "output_type": "stream",
     "text": [
      "Original dataset shape: (183365, 43)\n",
      "Unique folds: ['test' 'train' 'val']\n"
     ]
    }
   ],
   "execution_count": 14,
   "source": [
    "print(\"Original dataset shape:\", df.shape)\n",
    "print(\"Unique folds:\", df['fold'].unique())"
   ],
   "id": "5e7b3dfec86bdbf4"
  },
  {
   "metadata": {
    "ExecuteTime": {
     "end_time": "2025-02-01T15:57:33.956110Z",
     "start_time": "2025-02-01T15:57:33.893644Z"
    }
   },
   "cell_type": "code",
   "outputs": [],
   "execution_count": 15,
   "source": "df_orig_us = df.drop_duplicates(subset=['smiles']).copy()",
   "id": "75daac091806ef08"
  },
  {
   "metadata": {
    "ExecuteTime": {
     "end_time": "2025-02-01T15:57:54.924969Z",
     "start_time": "2025-02-01T15:57:50.498286Z"
    }
   },
   "cell_type": "code",
   "outputs": [
    {
     "name": "stderr",
     "output_type": "stream",
     "text": [
      "Original molecules: 100%|██████████| 13996/13996 [00:04<00:00, 3251.29it/s]\n"
     ]
    }
   ],
   "execution_count": 16,
   "source": [
    "tqdm.pandas(desc=\"Original molecules\")\n",
    "df_orig_us['MurckoHist'] = df_orig_us['smiles'].progress_apply(\n",
    "    lambda s: murcko_hist(Chem.MolFromSmiles(s))\n",
    ")"
   ],
   "id": "ecca06499074bd58"
  },
  {
   "metadata": {
    "ExecuteTime": {
     "end_time": "2025-02-01T15:58:14.417838Z",
     "start_time": "2025-02-01T15:58:14.357975Z"
    }
   },
   "cell_type": "code",
   "outputs": [],
   "execution_count": 17,
   "source": [
    "# Select only the molecules belonging to the test and validation folds;\n",
    "# these are the ones you do NOT want your new candidates to “invade.”\n",
    "df_test_val = df_orig_us[df_orig_us['fold'].isin(['test', 'val'])].copy()\n",
    "# Get their Murcko histogram objects\n",
    "test_val_hists = df_test_val['MurckoHist'].tolist()"
   ],
   "id": "3f489b70a356d420"
  },
  {
   "metadata": {},
   "cell_type": "markdown",
   "source": "# 1M dataset",
   "id": "82fc0202f7bacbe2"
  },
  {
   "metadata": {
    "ExecuteTime": {
     "end_time": "2025-02-01T15:59:26.354948Z",
     "start_time": "2025-02-01T15:59:23.116301Z"
    }
   },
   "cell_type": "code",
   "outputs": [
    {
     "name": "stdout",
     "output_type": "stream",
     "text": [
      "Candidate dataset shape: (1032456, 5)\n",
      "Candidate dataset columns: Index(['smiles', 'inchi_key_2D', 'inchi', 'formula', 'weight'], dtype='object')\n"
     ]
    }
   ],
   "execution_count": 19,
   "source": [
    "df_1M = pd.read_csv('/Users/macbook/CODE/Majer:MassSpecGym/data/candidates_generation/MassSpecGym_retrieval_molecules_1M.tsv', \n",
    "                    sep='\\t')\n",
    "print(\"Candidate dataset shape:\", df_1M.shape)\n",
    "print(\"Candidate dataset columns:\", df_1M.columns)"
   ],
   "id": "3df691ca0491b35b"
  },
  {
   "metadata": {
    "ExecuteTime": {
     "end_time": "2025-02-01T16:06:32.782367Z",
     "start_time": "2025-02-01T15:59:28.469833Z"
    }
   },
   "cell_type": "code",
   "outputs": [
    {
     "name": "stderr",
     "output_type": "stream",
     "text": [
      "Candidates: 100%|██████████| 1032456/1032456 [07:03<00:00, 2435.41it/s]\n"
     ]
    }
   ],
   "execution_count": 20,
   "source": [
    "# Compute Murcko Histograms for the Candidates\n",
    "tqdm.pandas(desc=\"Candidates\")\n",
    "df_1M['MurckoHist'] = df_1M['smiles'].progress_apply(\n",
    "    lambda s: murcko_hist(Chem.MolFromSmiles(s))\n",
    ")\n",
    "df_1M['MurckoHistStr'] = df_1M['MurckoHist'].astype(str)"
   ],
   "id": "3c1063d523694665"
  },
  {
   "metadata": {
    "ExecuteTime": {
     "end_time": "2025-02-01T16:25:00.379506Z",
     "start_time": "2025-02-01T16:06:35.695703Z"
    }
   },
   "cell_type": "code",
   "source": [
    "# Apply the filter: keep candidate rows that are not similar to any test/val histogram.\n",
    "tqdm.pandas(desc=\"Filtering candidates\")\n",
    "mask = ~df_1M['MurckoHist'].progress_apply(lambda h: is_similar_to_test_val(h, test_val_hists, k=3, d=4))\n",
    "df_1M_train = df_1M[mask].copy()\n",
    "\n",
    "print(\"Number of candidate molecules kept for train fold:\", len(df_1M_train))\n",
    "\n",
    "# For these candidates, assign fold 'train'\n",
    "df_1M_train['fold'] = 'train'"
   ],
   "id": "694839aff52b0547",
   "outputs": [
    {
     "name": "stderr",
     "output_type": "stream",
     "text": [
      "Filtering candidates: 100%|██████████| 1032456/1032456 [18:24<00:00, 934.76it/s] \n"
     ]
    },
    {
     "name": "stdout",
     "output_type": "stream",
     "text": [
      "Number of candidate molecules kept for train fold: 622548\n"
     ]
    }
   ],
   "execution_count": 22
  },
  {
   "metadata": {
    "ExecuteTime": {
     "end_time": "2025-02-01T16:25:00.847058Z",
     "start_time": "2025-02-01T16:25:00.446481Z"
    }
   },
   "cell_type": "code",
   "source": [
    "df_orig_small = df[['smiles', 'fold']].copy()\n",
    "df_candidates_small = df_1M_train[['smiles', 'fold']].copy()\n",
    "\n",
    "df_combined = pd.concat([df_orig_small, df_candidates_small], ignore_index=True)\n",
    "print(\"Combined dataset shape:\", df_combined.shape)"
   ],
   "id": "35464833e6a7e7a0",
   "outputs": [
    {
     "name": "stdout",
     "output_type": "stream",
     "text": [
      "Combined dataset shape: (805913, 2)\n"
     ]
    }
   ],
   "execution_count": 23
  },
  {
   "metadata": {
    "ExecuteTime": {
     "end_time": "2025-02-01T16:29:46.552766Z",
     "start_time": "2025-02-01T16:25:00.916957Z"
    }
   },
   "cell_type": "code",
   "source": [
    "max_tanimoto_train_test = evaluate_split(\n",
    "    df_split=df_combined,\n",
    "    train_fold='train',\n",
    "    val_fold='test',\n",
    "    smiles_col='smiles',\n",
    "    radius=2,\n",
    "    n_bits=2048\n",
    ")"
   ],
   "id": "41209f394ac0116a",
   "outputs": [
    {
     "name": "stdout",
     "output_type": "stream",
     "text": [
      "Computing Morgan fingerprints for training set...\n",
      "Computing Morgan fingerprints for validation set...\n",
      "Computing maximum Tanimoto similarities for validation set...\n",
      "Plotting histogram of maximum Tanimoto similarities...\n"
     ]
    },
    {
     "data": {
      "text/plain": [
       "<Figure size 600x400 with 1 Axes>"
      ],
      "image/png": "[encoded data removed]"
     },
     "metadata": {},
     "output_type": "display_data"
    }
   ],
   "execution_count": 24
  },
  {
   "metadata": {
    "ExecuteTime": {
     "end_time": "2025-02-01T16:34:34.090337Z",
     "start_time": "2025-02-01T16:29:46.583772Z"
    }
   },
   "cell_type": "code",
   "source": [
    "max_tanimoto_train_val = evaluate_split(\n",
    "    df_split=df_combined,\n",
    "    train_fold='train',\n",
    "    val_fold='val',\n",
    "    smiles_col='smiles',\n",
    "    radius=2,\n",
    "    n_bits=2048\n",
    ")"
   ],
   "id": "9ad8646ad3e5df21",
   "outputs": [
    {
     "name": "stdout",
     "output_type": "stream",
     "text": [
      "Computing Morgan fingerprints for training set...\n",
      "Computing Morgan fingerprints for validation set...\n",
      "Computing maximum Tanimoto similarities for validation set...\n",
      "Plotting histogram of maximum Tanimoto similarities...\n"
     ]
    },
    {
     "data": {
      "text/plain": [
       "<Figure size 600x400 with 1 Axes>"
      ],
      "image/png": "[encoded data removed]"
     },
     "metadata": {},
     "output_type": "display_data"
    }
   ],
   "execution_count": 25
  },
  {
   "metadata": {
    "ExecuteTime": {
     "end_time": "2025-02-01T16:42:39.750998Z",
     "start_time": "2025-02-01T16:42:39.390015Z"
    }
   },
   "cell_type": "code",
   "source": [
    "df_orig_train = df_orig_us[df_orig_us['fold'] == 'train'].copy()\n",
    "df_orig_train = df_orig_train[['smiles', 'fold', 'MurckoHist']]"
   ],
   "id": "398917d799ab361f",
   "outputs": [],
   "execution_count": 26
  },
  {
   "metadata": {
    "ExecuteTime": {
     "end_time": "2025-02-01T16:43:14.970548Z",
     "start_time": "2025-02-01T16:43:14.751717Z"
    }
   },
   "cell_type": "code",
   "source": "df_combined_train = pd.concat([df_1M_train, df_orig_train], ignore_index=True)",
   "id": "5c9ea347950680fe",
   "outputs": [],
   "execution_count": 28
  },
  {
   "metadata": {},
   "cell_type": "markdown",
   "source": "",
   "id": "53cee5defa3f585a"
  },
  {
   "metadata": {
    "ExecuteTime": {
     "end_time": "2025-02-01T16:43:48.014925Z",
     "start_time": "2025-02-01T16:43:48.012937Z"
    }
   },
   "cell_type": "code",
   "source": "print(\"Combined training dataset shape:\", df_combined_train.shape)",
   "id": "1bc7724b8512a0df",
   "outputs": [
    {
     "name": "stdout",
     "output_type": "stream",
     "text": [
      "Combined training dataset shape: (633087, 8)\n"
     ]
    }
   ],
   "execution_count": 30
  },
  {
   "metadata": {
    "ExecuteTime": {
     "end_time": "2025-02-01T16:44:59.418697Z",
     "start_time": "2025-02-01T16:44:56.103345Z"
    }
   },
   "cell_type": "code",
   "source": [
    "output_filename = \"/Users/macbook/CODE/Majer:MassSpecGym/data/MSn/20241211_1M_murcko_train_smiles.tsv\"\n",
    "# df_combined_train.to_csv(output_filename, sep=\"\\t\", index=False)\n",
    "print(f\"Saved combined train smiles to {output_filename}\")"
   ],
   "id": "405a5ccee379724c",
   "outputs": [
    {
     "name": "stdout",
     "output_type": "stream",
     "text": [
      "Saved combined train smiles to /Users/macbook/CODE/Majer:MassSpecGym/data/MSn/20241211_1M_murcko_train_smiles.tsv\n"
     ]
    }
   ],
   "execution_count": 31
  },
  {
   "metadata": {},
   "cell_type": "markdown",
   "source": "# 4M Dataset",
   "id": "4a5002725d69a423"
  },
  {
   "metadata": {
    "ExecuteTime": {
     "end_time": "2025-02-01T17:20:47.725276Z",
     "start_time": "2025-02-01T17:20:47.581228Z"
    }
   },
   "cell_type": "code",
   "source": [
    "df = msn_dataset.metadata\n",
    "df_orig_us = df.drop_duplicates(subset=['smiles']).copy()"
   ],
   "id": "9c6d82b9ec8b307d",
   "outputs": [],
   "execution_count": 15
  },
  {
   "metadata": {
    "ExecuteTime": {
     "end_time": "2025-02-01T17:22:48.958052Z",
     "start_time": "2025-02-01T17:20:47.938648Z"
    }
   },
   "cell_type": "code",
   "source": [
    "tqdm.pandas(desc=\"Original molecules\")\n",
    "df_orig_us['MurckoHist'] = df_orig_us['smiles'].progress_apply(\n",
    "    lambda s: murcko_hist(Chem.MolFromSmiles(s))\n",
    ")\n",
    "\n",
    "df_test_val = df_orig_us[df_orig_us['fold'].isin(['test', 'val'])].copy()\n",
    "# Get their Murcko histogram objects \n",
    "test_val_hists = df_test_val['MurckoHist'].tolist()"
   ],
   "id": "8977beef69812e20",
   "outputs": [
    {
     "name": "stderr",
     "output_type": "stream",
     "text": [
      "Original molecules: 100%|██████████| 13996/13996 [02:01<00:00, 115.66it/s]\n"
     ]
    }
   ],
   "execution_count": 16
  },
  {
   "metadata": {
    "ExecuteTime": {
     "end_time": "2025-02-01T17:27:35.377925Z",
     "start_time": "2025-02-01T17:27:35.375875Z"
    }
   },
   "cell_type": "code",
   "source": [
    "from pandarallel import pandarallel\n",
    "pandarallel.initialize(progress_bar=True, nb_workers=8)"
   ],
   "id": "11f09028303b7483",
   "outputs": [
    {
     "name": "stdout",
     "output_type": "stream",
     "text": [
      "INFO: Pandarallel will run on 8 workers.\n",
      "INFO: Pandarallel will use standard multiprocessing data transfer (pipe) to transfer data between the main process and workers.\n"
     ]
    }
   ],
   "execution_count": 21
  },
  {
   "metadata": {
    "ExecuteTime": {
     "end_time": "2025-02-01T17:27:53.830361Z",
     "start_time": "2025-02-01T17:27:49.418015Z"
    }
   },
   "cell_type": "code",
   "source": [
    "df_4M = pd.read_csv('/Users/macbook/CODE/Majer:MassSpecGym/data/candidates_generation/MassSpecGym_retrieval_molecules_4M.tsv', \n",
    "                    sep='\\t')\n",
    "print(\"Candidate dataset shape:\", df_4M.shape)\n",
    "print(\"Candidate dataset columns:\", df_4M.columns)"
   ],
   "id": "61e2984388f35e85",
   "outputs": [
    {
     "name": "stdout",
     "output_type": "stream",
     "text": [
      "Candidate dataset shape: (4175091, 4)\n",
      "Candidate dataset columns: Index(['smiles', 'inchikey', 'formula', 'weight'], dtype='object')\n"
     ]
    }
   ],
   "execution_count": 22
  },
  {
   "metadata": {
    "ExecuteTime": {
     "end_time": "2025-02-01T17:28:21.457531Z",
     "start_time": "2025-02-01T17:28:21.227446Z"
    }
   },
   "cell_type": "code",
   "source": [
    "df_4M = df_4M.dropna(subset=['smiles'])\n",
    "\n",
    "print(\"Candidate dataset shape:\", df_4M.shape)"
   ],
   "id": "f996129e2f40f759",
   "outputs": [
    {
     "name": "stdout",
     "output_type": "stream",
     "text": [
      "Candidate dataset shape: (4172988, 4)\n"
     ]
    }
   ],
   "execution_count": 24
  },
  {
   "metadata": {
    "ExecuteTime": {
     "end_time": "2025-02-01T18:37:53.421772Z",
     "start_time": "2025-02-01T17:28:38.114513Z"
    }
   },
   "cell_type": "code",
   "source": [
    "# Compute Murcko Histograms for the Candidates\n",
    "df_4M['MurckoHist'] = df_4M['smiles'].parallel_apply(safe_murcko_hist)"
   ],
   "id": "50a9d2cb1849a01a",
   "outputs": [
    {
     "data": {
      "text/plain": [
       "VBox(children=(HBox(children=(IntProgress(value=0, description='0.00%', max=521624), Label(value='0 / 521624')…"
      ],
      "application/vnd.jupyter.widget-view+json": {
       "version_major": 2,
       "version_minor": 0,
       "model_id": "3a186c5492c44b10b1d67fc7abbb987c"
      }
     },
     "metadata": {},
     "output_type": "display_data"
    },
    {
     "name": "stderr",
     "output_type": "stream",
     "text": [
      "[18:28:39] Explicit valence for atom # 21 Cl, 3, is greater than permitted\n",
      "[18:28:44] Explicit valence for atom # 7 Cl, 3, is greater than permitted\n",
      "[18:28:51] Explicit valence for atom # 9 Cl, 3, is greater than permitted\n",
      "[18:29:25] Explicit valence for atom # 8 Cl, 5, is greater than permitted\n",
      "[18:29:32] Explicit valence for atom # 16 Br, 3, is greater than permitted\n",
      "[18:29:57] Explicit valence for atom # 28 Br, 3, is greater than permitted\n",
      "[18:29:59] Explicit valence for atom # 11 Cl, 5, is greater than permitted\n",
      "[18:30:26] Explicit valence for atom # 10 Cl, 5, is greater than permitted\n",
      "[18:31:23] Explicit valence for atom # 35 Cl, 3, is greater than permitted\n",
      "[18:31:56] Explicit valence for atom # 17 Cl, 5, is greater than permitted\n",
      "[18:32:11] Explicit valence for atom # 28 Br, 3, is greater than permitted\n",
      "[18:32:37] Explicit valence for atom # 8 Br, 3, is greater than permitted\n",
      "[18:33:20] Explicit valence for atom # 22 Cl, 3, is greater than permitted\n",
      "[18:33:45] Explicit valence for atom # 7 Cl, 3, is greater than permitted\n",
      "[18:35:37] Explicit valence for atom # 13 Cl, 5, is greater than permitted\n",
      "[18:35:42] Explicit valence for atom # 13 Cl, 3, is greater than permitted\n",
      "[18:36:07] Explicit valence for atom # 27 Cl, 3, is greater than permitted\n",
      "[18:36:23] Explicit valence for atom # 2 Br, 3, is greater than permitted\n",
      "[18:37:02] Explicit valence for atom # 0 B, 5, is greater than permitted\n",
      "[18:37:02] Explicit valence for atom # 7 Cl, 5, is greater than permitted\n",
      "[18:37:05] Explicit valence for atom # 25 Cl, 5, is greater than permitted\n",
      "[18:37:12] Explicit valence for atom # 27 Cl, 5, is greater than permitted\n",
      "[18:37:43] Explicit valence for atom # 6 Cl, 3, is greater than permitted\n",
      "[18:38:05] Explicit valence for atom # 22 Cl, 3, is greater than permitted\n",
      "[18:38:10] Explicit valence for atom # 28 Br, 3, is greater than permitted\n",
      "[18:39:02] Explicit valence for atom # 7 Cl, 5, is greater than permitted\n",
      "[18:39:04] Explicit valence for atom # 10 Cl, 5, is greater than permitted\n",
      "[18:39:05] Explicit valence for atom # 6 Cl, 3, is greater than permitted\n",
      "[18:39:53] Explicit valence for atom # 26 Cl, 3, is greater than permitted\n",
      "[18:40:14] Explicit valence for atom # 0 B, 5, is greater than permitted\n",
      "[18:41:10] Explicit valence for atom # 16 Br, 3, is greater than permitted\n",
      "[18:41:23] Explicit valence for atom # 7 Cl, 5, is greater than permitted\n",
      "[18:41:29] Explicit valence for atom # 1 Cl, 3, is greater than permitted\n",
      "[18:41:54] Explicit valence for atom # 12 Cl, 5, is greater than permitted\n",
      "[18:42:12] Explicit valence for atom # 8 Cl, 3, is greater than permitted\n",
      "[18:42:17] Explicit valence for atom # 7 Cl, 5, is greater than permitted\n",
      "[18:42:25] Explicit valence for atom # 17 Br, 3, is greater than permitted\n",
      "[18:43:04] Explicit valence for atom # 0 B, 5, is greater than permitted\n",
      "[18:43:24] Explicit valence for atom # 5 Cl, 5, is greater than permitted\n",
      "[18:45:17] Explicit valence for atom # 43 Cl, 3, is greater than permitted\n",
      "[18:45:21] Explicit valence for atom # 1 Cl, 3, is greater than permitted\n",
      "[18:45:53] Explicit valence for atom # 7 Cl, 5, is greater than permitted\n",
      "[18:46:00] Explicit valence for atom # 5 Cl, 5, is greater than permitted\n",
      "[18:46:05] Explicit valence for atom # 1 Br, 3, is greater than permitted\n",
      "[18:46:23] Explicit valence for atom # 10 Cl, 3, is greater than permitted\n",
      "[18:46:42] Explicit valence for atom # 19 Cl, 3, is greater than permitted\n",
      "[18:47:05] Explicit valence for atom # 16 Cl, 3, is greater than permitted\n",
      "[18:48:43] Explicit valence for atom # 17 Cl, 5, is greater than permitted\n",
      "[18:48:46] Explicit valence for atom # 3 Cl, 3, is greater than permitted\n",
      "[18:49:07] Explicit valence for atom # 25 Br, 3, is greater than permitted\n",
      "[18:49:12] Explicit valence for atom # 18 Cl, 3, is greater than permitted\n",
      "[18:49:37] Explicit valence for atom # 32 Cl, 3, is greater than permitted\n",
      "[18:49:55] Explicit valence for atom # 10 Cl, 7, is greater than permitted\n",
      "[18:50:02] Explicit valence for atom # 9 Cl, 5, is greater than permitted\n",
      "[18:50:19] Explicit valence for atom # 0 B, 5, is greater than permitted\n",
      "[18:50:28] Explicit valence for atom # 9 Br, 3, is greater than permitted\n",
      "[18:50:34] Explicit valence for atom # 4 Cl, 3, is greater than permitted\n",
      "[18:50:43] Explicit valence for atom # 31 Cl, 5, is greater than permitted\n",
      "[18:50:50] Explicit valence for atom # 7 Cl, 5, is greater than permitted\n",
      "[18:50:56] Explicit valence for atom # 15 Cl, 3, is greater than permitted\n",
      "[18:50:57] Explicit valence for atom # 24 Cl, 5, is greater than permitted\n",
      "[18:51:00] Explicit valence for atom # 7 Cl, 5, is greater than permitted\n",
      "[18:51:23] Explicit valence for atom # 4 Cl, 3, is greater than permitted\n",
      "[18:51:28] Explicit valence for atom # 0 B, 5, is greater than permitted\n",
      "[18:51:40] Explicit valence for atom # 4 Cl, 3, is greater than permitted\n",
      "[18:51:43] Explicit valence for atom # 7 Cl, 5, is greater than permitted\n",
      "[18:52:11] Explicit valence for atom # 2 Cl, 3, is greater than permitted\n",
      "[18:52:28] Explicit valence for atom # 4 Cl, 3, is greater than permitted\n",
      "[18:53:01] Explicit valence for atom # 14 Cl, 3, is greater than permitted\n",
      "[18:53:12] Explicit valence for atom # 5 Cl, 3, is greater than permitted\n",
      "[18:53:46] Explicit valence for atom # 5 Cl, 3, is greater than permitted\n",
      "[18:53:46] Explicit valence for atom # 0 B, 5, is greater than permitted\n",
      "[18:54:47] Explicit valence for atom # 7 Cl, 3, is greater than permitted\n",
      "[18:55:03] Explicit valence for atom # 14 Cl, 3, is greater than permitted\n",
      "[18:55:14] Explicit valence for atom # 11 Cl, 7, is greater than permitted\n",
      "[18:55:16] Explicit valence for atom # 0 B, 5, is greater than permitted\n",
      "[18:55:24] Explicit valence for atom # 37 Cl, 3, is greater than permitted\n",
      "[18:55:38] Explicit valence for atom # 2 Cl, 3, is greater than permitted\n",
      "[18:56:12] Explicit valence for atom # 1 Cl, 3, is greater than permitted\n",
      "[18:56:23] Explicit valence for atom # 2 Br, 3, is greater than permitted\n",
      "[18:56:48] Explicit valence for atom # 7 Br, 3, is greater than permitted\n",
      "[18:57:08] Explicit valence for atom # 1 Br, 3, is greater than permitted\n",
      "[18:57:35] Explicit valence for atom # 23 Cl, 3, is greater than permitted\n",
      "[18:57:36] Explicit valence for atom # 5 Cl, 5, is greater than permitted\n",
      "[18:57:37] Explicit valence for atom # 10 Cl, 5, is greater than permitted\n",
      "[18:57:54] Explicit valence for atom # 21 Cl, 3, is greater than permitted\n",
      "[18:57:56] Explicit valence for atom # 14 Cl, 3, is greater than permitted\n",
      "[18:58:14] Explicit valence for atom # 13 Cl, 3, is greater than permitted\n",
      "[18:58:54] Explicit valence for atom # 14 Cl, 5, is greater than permitted\n",
      "[18:59:49] Explicit valence for atom # 0 B, 5, is greater than permitted\n",
      "[19:00:00] Explicit valence for atom # 23 Cl, 5, is greater than permitted\n",
      "[19:00:01] Explicit valence for atom # 0 B, 5, is greater than permitted\n",
      "[19:00:05] Explicit valence for atom # 31 Cl, 5, is greater than permitted\n",
      "[19:00:32] Explicit valence for atom # 11 Cl, 5, is greater than permitted\n",
      "[19:01:08] Explicit valence for atom # 15 Cl, 5, is greater than permitted\n",
      "[19:01:31] Explicit valence for atom # 41 Cl, 3, is greater than permitted\n",
      "[19:01:33] Explicit valence for atom # 11 Cl, 5, is greater than permitted\n",
      "[19:01:36] Explicit valence for atom # 16 Cl, 3, is greater than permitted\n",
      "[19:02:00] Explicit valence for atom # 15 Cl, 3, is greater than permitted\n",
      "[19:02:19] Explicit valence for atom # 21 Br, 3, is greater than permitted\n",
      "[19:02:27] Explicit valence for atom # 14 Cl, 3, is greater than permitted\n",
      "[19:02:30] Explicit valence for atom # 21 Cl, 3, is greater than permitted\n",
      "[19:02:45] Explicit valence for atom # 1 Cl, 3, is greater than permitted\n",
      "[19:03:03] Explicit valence for atom # 5 Cl, 3, is greater than permitted\n",
      "[19:03:14] Explicit valence for atom # 2 Cl, 3, is greater than permitted\n",
      "[19:03:15] Explicit valence for atom # 3 Cl, 3, is greater than permitted\n",
      "[19:03:46] Explicit valence for atom # 1 Cl, 3, is greater than permitted\n",
      "[19:04:04] Explicit valence for atom # 13 Cl, 3, is greater than permitted\n",
      "[19:04:22] Explicit valence for atom # 11 Cl, 5, is greater than permitted\n",
      "[19:04:26] Explicit valence for atom # 15 Cl, 5, is greater than permitted\n",
      "[19:04:31] Explicit valence for atom # 0 B, 5, is greater than permitted\n",
      "[19:04:42] Explicit valence for atom # 8 Cl, 5, is greater than permitted\n",
      "[19:04:47] Explicit valence for atom # 5 Cl, 3, is greater than permitted\n",
      "[19:05:02] Explicit valence for atom # 22 Br, 3, is greater than permitted\n",
      "[19:05:09] Explicit valence for atom # 9 Cl, 5, is greater than permitted\n",
      "[19:05:41] Explicit valence for atom # 30 Br, 5, is greater than permitted\n",
      "[19:06:58] Explicit valence for atom # 6 Cl, 3, is greater than permitted\n",
      "[19:07:16] Explicit valence for atom # 12 Cl, 3, is greater than permitted\n",
      "[19:07:21] Explicit valence for atom # 14 Cl, 5, is greater than permitted\n",
      "[19:07:36] Explicit valence for atom # 25 Cl, 5, is greater than permitted\n",
      "[19:07:37] Explicit valence for atom # 1 Br, 3, is greater than permitted\n",
      "[19:07:55] Explicit valence for atom # 15 Cl, 5, is greater than permitted\n",
      "[19:09:20] Explicit valence for atom # 0 B, 5, is greater than permitted\n",
      "[19:09:32] Explicit valence for atom # 10 Cl, 3, is greater than permitted\n",
      "[19:09:47] Explicit valence for atom # 19 Cl, 3, is greater than permitted\n",
      "[19:10:12] Explicit valence for atom # 10 Cl, 2, is greater than permitted\n",
      "[19:10:15] Explicit valence for atom # 11 Cl, 3, is greater than permitted\n",
      "[19:10:21] Explicit valence for atom # 14 Cl, 3, is greater than permitted\n",
      "[19:10:27] Explicit valence for atom # 7 Br, 3, is greater than permitted\n",
      "[19:10:36] Explicit valence for atom # 22 Cl, 3, is greater than permitted\n",
      "[19:11:24] Explicit valence for atom # 1 Cl, 3, is greater than permitted\n",
      "[19:11:30] Explicit valence for atom # 24 Cl, 3, is greater than permitted\n",
      "[19:12:13] Explicit valence for atom # 8 Cl, 3, is greater than permitted\n",
      "[19:12:19] Explicit valence for atom # 1 Cl, 3, is greater than permitted\n",
      "[19:12:40] Explicit valence for atom # 5 Br, 3, is greater than permitted\n",
      "[19:12:52] Explicit valence for atom # 1 Cl, 3, is greater than permitted\n",
      "[19:12:53] Explicit valence for atom # 0 B, 5, is greater than permitted\n",
      "[19:14:10] Explicit valence for atom # 22 Cl, 3, is greater than permitted\n",
      "[19:14:11] Explicit valence for atom # 18 Cl, 3, is greater than permitted\n",
      "[19:14:48] Explicit valence for atom # 10 Cl, 3, is greater than permitted\n",
      "[19:15:01] Explicit valence for atom # 5 Cl, 3, is greater than permitted\n",
      "[19:15:42] Explicit valence for atom # 9 Cl, 3, is greater than permitted\n",
      "[19:16:01] Explicit valence for atom # 13 Cl, 3, is greater than permitted\n",
      "[19:16:11] Explicit valence for atom # 20 Cl, 5, is greater than permitted\n",
      "[19:16:41] Explicit valence for atom # 1 Cl, 3, is greater than permitted\n",
      "[19:17:20] Explicit valence for atom # 6 Cl, 3, is greater than permitted\n",
      "[19:17:21] Explicit valence for atom # 71 Cl, 3, is greater than permitted\n",
      "[19:17:34] Explicit valence for atom # 15 Cl, 5, is greater than permitted\n",
      "[19:17:41] Explicit valence for atom # 0 B, 5, is greater than permitted\n",
      "[19:18:18] Explicit valence for atom # 1 Br, 3, is greater than permitted\n",
      "[19:18:21] Explicit valence for atom # 12 Br, 5, is greater than permitted\n",
      "[19:19:01] Explicit valence for atom # 11 Cl, 3, is greater than permitted\n",
      "[19:19:18] Explicit valence for atom # 0 B, 5, is greater than permitted\n",
      "[19:19:20] Explicit valence for atom # 13 Cl, 5, is greater than permitted\n",
      "[19:19:33] Explicit valence for atom # 1 Cl, 3, is greater than permitted\n",
      "[19:20:31] Explicit valence for atom # 16 Cl, 3, is greater than permitted\n",
      "[19:20:32] Explicit valence for atom # 7 Cl, 5, is greater than permitted\n",
      "[19:20:56] Explicit valence for atom # 17 Cl, 7, is greater than permitted\n",
      "[19:21:17] Explicit valence for atom # 6 Cl, 5, is greater than permitted\n",
      "[19:21:21] Explicit valence for atom # 53 Br, 5, is greater than permitted\n",
      "[19:21:23] Explicit valence for atom # 4 Cl, 3, is greater than permitted\n",
      "[19:21:39] Explicit valence for atom # 7 Cl, 5, is greater than permitted\n",
      "[19:22:18] Explicit valence for atom # 6 Cl, 3, is greater than permitted\n",
      "[19:22:20] Explicit valence for atom # 17 Cl, 3, is greater than permitted\n",
      "[19:22:25] Explicit valence for atom # 2 Cl, 3, is greater than permitted\n",
      "[19:22:41] Explicit valence for atom # 11 Cl, 7, is greater than permitted\n",
      "[19:23:06] Explicit valence for atom # 0 B, 5, is greater than permitted\n",
      "[19:23:28] Explicit valence for atom # 7 Cl, 3, is greater than permitted\n",
      "[19:23:56] Explicit valence for atom # 78 Cl, 3, is greater than permitted\n",
      "[19:24:08] Explicit valence for atom # 13 Br, 3, is greater than permitted\n",
      "[19:24:15] Explicit valence for atom # 10 Cl, 3, is greater than permitted\n",
      "[19:24:26] Explicit valence for atom # 1 Cl, 3, is greater than permitted\n",
      "[19:24:47] Explicit valence for atom # 7 Cl, 3, is greater than permitted\n",
      "[19:25:21] Explicit valence for atom # 18 Cl, 5, is greater than permitted\n",
      "[19:26:03] Explicit valence for atom # 18 Cl, 5, is greater than permitted\n",
      "[19:26:13] Explicit valence for atom # 29 Br, 3, is greater than permitted\n",
      "[19:26:26] Explicit valence for atom # 12 Cl, 3, is greater than permitted\n",
      "[19:26:37] Explicit valence for atom # 30 Cl, 3, is greater than permitted\n",
      "[19:26:45] Explicit valence for atom # 8 Cl, 3, is greater than permitted\n",
      "[19:26:51] Explicit valence for atom # 15 Cl, 3, is greater than permitted\n",
      "[19:28:00] Explicit valence for atom # 17 Cl, 5, is greater than permitted\n",
      "[19:28:44] Explicit valence for atom # 64 Cl, 3, is greater than permitted\n",
      "[19:28:54] Explicit valence for atom # 16 Cl, 3, is greater than permitted\n",
      "[19:29:20] Explicit valence for atom # 7 Cl, 5, is greater than permitted\n",
      "[19:29:27] Explicit valence for atom # 16 Cl, 5, is greater than permitted\n",
      "[19:29:49] Explicit valence for atom # 2 Cl, 3, is greater than permitted\n",
      "[19:30:01] Explicit valence for atom # 16 Br, 3, is greater than permitted\n",
      "[19:30:47] Explicit valence for atom # 7 Cl, 5, is greater than permitted\n",
      "[19:30:51] Explicit valence for atom # 11 Cl, 5, is greater than permitted\n",
      "[19:31:12] Explicit valence for atom # 3 Cl, 3, is greater than permitted\n",
      "[19:31:22] Explicit valence for atom # 2 Cl, 3, is greater than permitted\n",
      "[19:31:39] Explicit valence for atom # 19 Cl, 5, is greater than permitted\n",
      "[19:32:37] Explicit valence for atom # 12 Cl, 5, is greater than permitted\n",
      "[19:32:40] Explicit valence for atom # 17 Cl, 3, is greater than permitted\n",
      "[19:32:56] Explicit valence for atom # 18 Cl, 3, is greater than permitted\n",
      "[19:33:27] Explicit valence for atom # 11 Cl, 5, is greater than permitted\n",
      "[19:34:08] Explicit valence for atom # 8 Cl, 5, is greater than permitted\n",
      "[19:34:59] Explicit valence for atom # 29 Cl, 3, is greater than permitted\n",
      "[19:35:40] Explicit valence for atom # 8 Cl, 3, is greater than permitted\n",
      "[19:36:41] Explicit valence for atom # 11 Cl, 3, is greater than permitted\n",
      "[19:37:40] Explicit valence for atom # 9 Br, 3, is greater than permitted\n"
     ]
    }
   ],
   "execution_count": 25
  },
  {
   "metadata": {
    "ExecuteTime": {
     "end_time": "2025-02-01T18:37:57.629771Z",
     "start_time": "2025-02-01T18:37:55.622127Z"
    }
   },
   "cell_type": "code",
   "source": [
    "# After processing, drop rows where the histogram could not be computed \n",
    "df_4M = df_4M[df_4M['MurckoHist'].notnull()].copy()\n",
    "print(\"Candidate dataset shape after dropping rows with None MurckoHist:\", df_4M.shape)\n",
    "df_4M['MurckoHistStr'] = df_4M['MurckoHist'].astype(str)"
   ],
   "id": "b7761f12a5b4d31e",
   "outputs": [
    {
     "name": "stdout",
     "output_type": "stream",
     "text": [
      "Candidate dataset shape after dropping rows with None MurckoHist: (4172787, 6)\n"
     ]
    }
   ],
   "execution_count": 27
  },
  {
   "metadata": {
    "ExecuteTime": {
     "end_time": "2025-02-01T18:43:44.303259Z",
     "start_time": "2025-02-01T18:37:57.654688Z"
    }
   },
   "cell_type": "code",
   "source": [
    "# Apply the filter: keep candidate rows that are NOT similar to any test/val histogram.\n",
    "mask = ~df_4M['MurckoHist'].parallel_apply(\n",
    "    lambda h: is_similar_to_test_val(h, test_val_hists, k=3, d=4)\n",
    ")\n",
    "df_4M_train = df_4M[mask].copy()\n",
    "\n",
    "print(\"Number of candidate molecules kept for train fold:\", len(df_4M_train))\n",
    "\n",
    "# For these candidates, assign fold 'train'\n",
    "df_4M_train['fold'] = 'train'"
   ],
   "id": "ef9aaf72ee3483d4",
   "outputs": [
    {
     "data": {
      "text/plain": [
       "VBox(children=(HBox(children=(IntProgress(value=0, description='0.00%', max=521599), Label(value='0 / 521599')…"
      ],
      "application/vnd.jupyter.widget-view+json": {
       "version_major": 2,
       "version_minor": 0,
       "model_id": "dbd8853b15ca48d0ab0efef303858780"
      }
     },
     "metadata": {},
     "output_type": "display_data"
    },
    {
     "name": "stdout",
     "output_type": "stream",
     "text": [
      "Number of candidate molecules kept for train fold: 1872780\n"
     ]
    }
   ],
   "execution_count": 28
  },
  {
   "metadata": {
    "ExecuteTime": {
     "end_time": "2025-02-01T18:43:45.119277Z",
     "start_time": "2025-02-01T18:43:44.373193Z"
    }
   },
   "cell_type": "code",
   "source": [
    "# We are only interested in the 'smiles' and 'fold' columns.\n",
    "df_orig_small = df[['smiles', 'fold']].copy()\n",
    "df_candidates_small = df_4M_train[['smiles', 'fold']].copy()\n",
    "\n",
    "# Merge the two datasets (stack one on top of the other)\n",
    "df_combined = pd.concat([df_orig_small, df_candidates_small], ignore_index=True)\n",
    "print(\"Combined dataset shape:\", df_combined.shape)"
   ],
   "id": "8ff19bbe438699a2",
   "outputs": [
    {
     "name": "stdout",
     "output_type": "stream",
     "text": [
      "Combined dataset shape: (2056145, 2)\n"
     ]
    }
   ],
   "execution_count": 29
  },
  {
   "metadata": {
    "ExecuteTime": {
     "end_time": "2025-02-01T18:56:08.401429Z",
     "start_time": "2025-02-01T18:43:45.187677Z"
    }
   },
   "cell_type": "code",
   "source": [
    "max_tanimoto_train_test = evaluate_split(\n",
    "    df_split=df_combined,\n",
    "    train_fold='train',\n",
    "    val_fold='test',\n",
    "    smiles_col='smiles',\n",
    "    radius=2,\n",
    "    n_bits=2048\n",
    ")"
   ],
   "id": "3c25edafef599c0b",
   "outputs": [
    {
     "name": "stdout",
     "output_type": "stream",
     "text": [
      "Computing Morgan fingerprints for training set...\n",
      "Computing Morgan fingerprints for validation set...\n",
      "Computing maximum Tanimoto similarities for validation set...\n",
      "Plotting histogram of maximum Tanimoto similarities...\n"
     ]
    },
    {
     "data": {
      "text/plain": [
       "<Figure size 600x400 with 1 Axes>"
      ],
      "image/png": "[encoded data removed]"
     },
     "metadata": {},
     "output_type": "display_data"
    }
   ],
   "execution_count": 30
  },
  {
   "metadata": {
    "ExecuteTime": {
     "end_time": "2025-02-01T19:08:35.625289Z",
     "start_time": "2025-02-01T18:56:08.481268Z"
    }
   },
   "cell_type": "code",
   "source": [
    "max_tanimoto_train_val = evaluate_split(\n",
    "    df_split=df_combined,\n",
    "    train_fold='train',\n",
    "    val_fold='val',\n",
    "    smiles_col='smiles',\n",
    "    radius=2,\n",
    "    n_bits=2048\n",
    ")"
   ],
   "id": "1e615a33b9d18515",
   "outputs": [
    {
     "name": "stdout",
     "output_type": "stream",
     "text": [
      "Computing Morgan fingerprints for training set...\n",
      "Computing Morgan fingerprints for validation set...\n",
      "Computing maximum Tanimoto similarities for validation set...\n",
      "Plotting histogram of maximum Tanimoto similarities...\n"
     ]
    },
    {
     "data": {
      "text/plain": [
       "<Figure size 600x400 with 1 Axes>"
      ],
      "image/png": "[encoded data removed]"
     },
     "metadata": {},
     "output_type": "display_data"
    }
   ],
   "execution_count": 31
  },
  {
   "metadata": {
    "ExecuteTime": {
     "end_time": "2025-02-01T19:08:36.018530Z",
     "start_time": "2025-02-01T19:08:35.650493Z"
    }
   },
   "cell_type": "code",
   "source": [
    "df_orig_train = df_orig_us[df_orig_us['fold'] == 'train'].copy()\n",
    "df_orig_train = df_orig_train[['smiles', 'fold', 'MurckoHist']]"
   ],
   "id": "267a5d2b85bc881",
   "outputs": [],
   "execution_count": 32
  },
  {
   "metadata": {
    "ExecuteTime": {
     "end_time": "2025-02-01T19:08:38.386362Z",
     "start_time": "2025-02-01T19:08:36.038294Z"
    }
   },
   "cell_type": "code",
   "source": "df_combined_train = pd.concat([df_4M_train, df_orig_train], ignore_index=True)",
   "id": "1d5eb8672519bcad",
   "outputs": [],
   "execution_count": 33
  },
  {
   "metadata": {
    "ExecuteTime": {
     "end_time": "2025-02-01T19:08:38.404724Z",
     "start_time": "2025-02-01T19:08:38.402847Z"
    }
   },
   "cell_type": "code",
   "source": "print(\"Combined training dataset shape:\", df_combined_train.shape)",
   "id": "5faae2befbeb3f5",
   "outputs": [
    {
     "name": "stdout",
     "output_type": "stream",
     "text": [
      "Combined training dataset shape: (1883319, 7)\n"
     ]
    }
   ],
   "execution_count": 34
  },
  {
   "metadata": {
    "ExecuteTime": {
     "end_time": "2025-02-01T19:08:44.163394Z",
     "start_time": "2025-02-01T19:08:38.480732Z"
    }
   },
   "cell_type": "code",
   "source": [
    "output_filename = \"/Users/macbook/CODE/Majer:MassSpecGym/data/MSn/20241211_4M_murcko_train_smiles.tsv\"\n",
    "# df_combined_train.to_csv(output_filename, sep=\"\\t\", index=False)\n",
    "print(f\"Saved combined train smiles to {output_filename}\")"
   ],
   "id": "ebf27b8ffb478aad",
   "outputs": [
    {
     "name": "stdout",
     "output_type": "stream",
     "text": [
      "Saved combined train smiles to /Users/macbook/CODE/Majer:MassSpecGym/data/MSn/20241211_4M_murcko_train_smiles.tsv\n"
     ]
    }
   ],
   "execution_count": 35
  },
  {
   "metadata": {},
   "cell_type": "code",
   "outputs": [],
   "execution_count": null,
   "source": "",
   "id": "d243cd6386e3ea64"
  },
  {
   "metadata": {},
   "cell_type": "code",
   "outputs": [],
   "execution_count": null,
   "source": "",
   "id": "d475f5231e63840d"
  },
  {
   "metadata": {},
   "cell_type": "code",
   "outputs": [],
   "execution_count": null,
   "source": "",
   "id": "bbe7c253b8735c5d"
  },
  {
   "metadata": {},
   "cell_type": "code",
   "outputs": [],
   "execution_count": null,
   "source": "",
   "id": "d3829f4b7f80658f"
  },
  {
   "metadata": {},
   "cell_type": "code",
   "outputs": [],
   "execution_count": null,
   "source": "",
   "id": "b5ce963dc6942d1f"
  },
  {
   "metadata": {},
   "cell_type": "code",
   "outputs": [],
   "execution_count": null,
   "source": "",
   "id": "703668e97cff2b02"
  }
 ],
 "metadata": {
  "kernelspec": {
   "display_name": "Python 3",
   "language": "python",
   "name": "python3"
  },
  "language_info": {
   "codemirror_mode": {
    "name": "ipython",
    "version": 2
   },
   "file_extension": ".py",
   "mimetype": "text/x-python",
   "name": "python",
   "nbconvert_exporter": "python",
   "pygments_lexer": "ipython2",
   "version": "2.7.6"
  }
 },
 "nbformat": 4,
 "nbformat_minor": 5
}
