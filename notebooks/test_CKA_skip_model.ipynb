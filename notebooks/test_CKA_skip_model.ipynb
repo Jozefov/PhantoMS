{
 "cells": [
  {
   "cell_type": "code",
   "id": "initial_id",
   "metadata": {
    "collapsed": true,
    "jupyter": {
     "outputs_hidden": true
    },
    "ExecuteTime": {
     "end_time": "2025-01-16T14:38:07.147017Z",
     "start_time": "2025-01-16T14:38:03.714689Z"
    }
   },
   "source": [
    "import pytorch_lightning as pl\n",
    "from phantoms.models.retrieval.gnn_retrieval_model import GNNRetrievalModel  # Existing small model\n",
    "from phantoms.models.retrieval.gnn_retrieval_model_skip_connection import GNNRetrievalSkipConnections  # New large model\n",
    "from massspecgym.data.data_module import MassSpecDataModule\n",
    "from massspecgym.data.transforms import MolFingerprinter\n",
    "from massspecgym.featurize import SpectrumFeaturizer\n",
    "from pytorch_lightning.loggers import TensorBoardLogger, WandbLogger\n",
    "from massspecgym.data.datasets import MSnRetrievalDataset, MSnDataset\n",
    "import yaml\n",
    "import argparse\n",
    "import os\n",
    "import numpy as np\n",
    "import torch"
   ],
   "outputs": [
    {
     "name": "stderr",
     "output_type": "stream",
     "text": [
      "/Users/macbook/UTILS/anaconda3/envs/phantoms_env/lib/python3.11/site-packages/tqdm/auto.py:21: TqdmWarning: IProgress not found. Please update jupyter and ipywidgets. See https://ipywidgets.readthedocs.io/en/stable/user_install.html\n",
      "  from .autonotebook import tqdm as notebook_tqdm\n"
     ]
    }
   ],
   "execution_count": 1
  },
  {
   "cell_type": "code",
   "id": "ff756d727c6b90b6",
   "metadata": {
    "ExecuteTime": {
     "end_time": "2025-01-16T14:38:07.154995Z",
     "start_time": "2025-01-16T14:38:07.152035Z"
    }
   },
   "source": [
    "def save_embeddings(model, dataloader, save_dir):\n",
    "    \"\"\"\n",
    "    Extract embeddings from the model for the entire dataset and save them.\n",
    "\n",
    "    Args:\n",
    "        model: Trained model with a get_embeddings method.\n",
    "        dataloader: DataLoader for the dataset.\n",
    "        save_dir: Directory to save the embeddings.\n",
    "    \"\"\"\n",
    "    model.eval()\n",
    "    embeddings_dict = {}\n",
    "\n",
    "    with torch.no_grad():\n",
    "        for batch_idx, batch in enumerate(dataloader):\n",
    "            data = batch['spec']\n",
    "            embeddings = model.get_embeddings(data)  # Dict of embeddings\n",
    "\n",
    "            for layer_name, embed in embeddings.items():\n",
    "                if layer_name not in embeddings_dict:\n",
    "                    embeddings_dict[layer_name] = []\n",
    "                embeddings_dict[layer_name].append(embed.numpy())\n",
    "\n",
    "    # Concatenate all batches for each layer and save\n",
    "    for layer_name, embed_list in embeddings_dict.items():\n",
    "        layer_embeddings = np.concatenate(embed_list, axis=0)  # Shape: [total_samples, embedding_dim]\n",
    "        os.makedirs(save_dir, exist_ok=True)\n",
    "        save_path = os.path.join(save_dir, f\"{layer_name}.npy\")\n",
    "        np.save(save_path, layer_embeddings)"
   ],
   "outputs": [],
   "execution_count": 2
  },
  {
   "cell_type": "code",
   "id": "e45a753a9380d278",
   "metadata": {
    "ExecuteTime": {
     "end_time": "2025-01-16T14:38:07.202954Z",
     "start_time": "2025-01-16T14:38:07.195768Z"
    }
   },
   "source": [
    "def train_models(config, cut_tree_levels):\n",
    "    \"\"\"\n",
    "    Train separate models for each cut_tree_at_level.\n",
    "\n",
    "    Args:\n",
    "        config (dict): Configuration dictionary.\n",
    "        cut_tree_levels (list): List of cut_tree_at_level values.\n",
    "    \"\"\"\n",
    "    for level in cut_tree_levels:\n",
    "        # Define experiment-specific parameters\n",
    "        experiment_name = f\"{config.get('experiment_base_name', 'experiment')}_cut_tree_{level}\"\n",
    "        print(f\"Starting training for {experiment_name}\")\n",
    "\n",
    "        # Initialize Featurizer\n",
    "        featurizer = SpectrumFeaturizer(config['featurizer'], mode='torch')\n",
    "\n",
    "        # Initialize Dataset with specific cut_tree_at_level\n",
    "        dataset_msn = MSnRetrievalDataset(\n",
    "            pth=config['data']['file_mgf'],\n",
    "            candidates_pth=config['data']['file_json'],\n",
    "            featurizer=featurizer,\n",
    "            mol_transform=MolFingerprinter(fp_size=config['model']['fp_size']),\n",
    "            cut_tree_at_level=level,\n",
    "            max_allowed_deviation=config['data']['max_allowed_deviation']\n",
    "        )\n",
    "\n",
    "        # Initialize DataModule\n",
    "        data_module_msn = MassSpecDataModule(\n",
    "            dataset=dataset_msn,\n",
    "            batch_size=config['data']['batch_size'],\n",
    "            split_pth=config['data']['split_file'],\n",
    "            num_workers=config['data']['num_workers']\n",
    "        )\n",
    "\n",
    "        # Select Model Type (Assuming 'large' for SkipConnections)\n",
    "        model = GNNRetrievalSkipConnections(\n",
    "            hidden_channels=config['model']['hidden_channels'],\n",
    "            out_channels=config['model']['fp_size'],\n",
    "            node_feature_dim=config['model']['node_feature_dim'],\n",
    "            dropout_rate=config['model'].get('dropout_rate', 0.2),\n",
    "            at_ks=config['metrics']['at_ks'],\n",
    "            # lr=config['optimizer']['lr'],\n",
    "            # weight_decay=config['optimizer']['weight_decay']\n",
    "        )\n",
    "\n",
    "        # Initialize Loggers\n",
    "        tb_logger = TensorBoardLogger(\n",
    "            save_dir=config['logs']['dir'],\n",
    "            name=config['logs']['name'],\n",
    "            version=experiment_name\n",
    "        )\n",
    "\n",
    "        # wandb_logger = WandbLogger(\n",
    "        #     project=config['wandb']['project'],\n",
    "        #     entity=config['wandb']['entity'],\n",
    "        #     name=experiment_name,\n",
    "        #     log_model=\"all\"\n",
    "        # )\n",
    "\n",
    "        # Define experiment-specific checkpoint directory\n",
    "        checkpoint_dir = os.path.join(config['trainer']['checkpoint_dir'], experiment_name)\n",
    "        os.makedirs(checkpoint_dir, exist_ok=True)\n",
    "\n",
    "        # Initialize Trainer with both TensorBoard and W&B loggers\n",
    "        trainer = pl.Trainer(\n",
    "            accelerator=config['trainer']['accelerator'],\n",
    "            devices=config['trainer']['devices'],\n",
    "            max_epochs=config['trainer']['max_epochs'],\n",
    "            logger=[tb_logger],\n",
    "            log_every_n_steps=config['trainer']['log_every_n_steps'],\n",
    "            limit_train_batches=config['trainer']['limit_train_batches'],\n",
    "            limit_val_batches=config['trainer']['limit_val_batches'],\n",
    "            limit_test_batches=config['trainer']['limit_test_batches'],\n",
    "            callbacks=[\n",
    "                pl.callbacks.ModelCheckpoint(\n",
    "                    monitor=config['trainer']['checkpoint_monitor'],\n",
    "                    save_top_k=config['trainer']['save_top_k'],\n",
    "                    mode=config['trainer']['checkpoint_mode'],\n",
    "                    dirpath=checkpoint_dir,\n",
    "                    filename='gnn_retrieval-{epoch:02d}-{val_loss:.2f}'\n",
    "                ),\n",
    "                pl.callbacks.LearningRateMonitor(logging_interval='step')\n",
    "            ]\n",
    "        )\n",
    "\n",
    "        # Train the model\n",
    "        trainer.fit(model, datamodule=data_module_msn)\n",
    "\n",
    "        # Test the model\n",
    "        trainer.test(model, datamodule=data_module_msn)\n",
    "\n",
    "        # Save the trained model (optional)\n",
    "        model_save_path = os.path.join(checkpoint_dir, 'final_model.ckpt')\n",
    "        trainer.save_checkpoint(model_save_path)\n",
    "        print(f\"Model saved to {model_save_path}\")\n",
    "\n",
    "def extract_and_save_embeddings(config, cut_tree_levels):\n",
    "    \"\"\"\n",
    "    Extract and save embeddings from trained models.\n",
    "\n",
    "    Args:\n",
    "        config (dict): Configuration dictionary.\n",
    "        cut_tree_levels (list): List of cut_tree_at_level values.\n",
    "    \"\"\"\n",
    "    for level in cut_tree_levels:\n",
    "        # Define experiment-specific parameters\n",
    "        experiment_name = f\"{config.get('experiment_base_name', 'experiment')}_cut_tree_{level}\"\n",
    "        print(f\"Extracting embeddings for {experiment_name}\")\n",
    "\n",
    "        # Load the trained model\n",
    "        checkpoint_path = os.path.join(config['trainer']['checkpoint_dir'], experiment_name, 'final_model.ckpt')\n",
    "        if not os.path.exists(checkpoint_path):\n",
    "            print(f\"Checkpoint not found for {experiment_name} at {checkpoint_path}. Skipping embedding extraction.\")\n",
    "            continue\n",
    "\n",
    "        model = GNNRetrievalSkipConnections.load_from_checkpoint(\n",
    "            checkpoint_path,\n",
    "            hidden_channels=config['model']['hidden_channels'],\n",
    "            out_channels=config['model']['fp_size'],\n",
    "            node_feature_dim=config['model']['node_feature_dim'],\n",
    "            dropout_rate=config['model'].get('dropout_rate', 0.2),\n",
    "            at_ks=config['metrics']['at_ks'],\n",
    "            # lr=config['optimizer']['lr'],\n",
    "            # weight_decay=config['optimizer']['weight_decay']\n",
    "        )\n",
    "        model.eval()\n",
    "\n",
    "        # Initialize Featurizer\n",
    "        featurizer = SpectrumFeaturizer(config['featurizer'], mode='torch')\n",
    "\n",
    "        # Initialize Dataset with specific cut_tree_at_level\n",
    "        dataset_msn = MSnRetrievalDataset(\n",
    "            pth=config['data']['file_mgf'],\n",
    "            candidates_pth=config['data']['file_json'],\n",
    "            featurizer=featurizer,\n",
    "            mol_transform=MolFingerprinter(fp_size=config['model']['fp_size']),\n",
    "            cut_tree_at_level=level,\n",
    "            max_allowed_deviation=config['data']['max_allowed_deviation']\n",
    "        )\n",
    "\n",
    "        # Initialize DataModule\n",
    "        data_module_msn = MassSpecDataModule(\n",
    "            dataset=dataset_msn,\n",
    "            batch_size=config['data']['batch_size'],\n",
    "            split_pth=config['data']['split_file'],\n",
    "            num_workers=config['data']['num_workers']\n",
    "        )\n",
    "        \n",
    "        data_module_msn.prepare_data()\n",
    "        data_module_msn.setup()\n",
    "\n",
    "        # Define embedding save directory\n",
    "        embeddings_save_dir = os.path.join('embeddings', experiment_name)\n",
    "        os.makedirs(embeddings_save_dir, exist_ok=True)\n",
    "\n",
    "        # Use the test dataloader for embeddings extraction\n",
    "        test_loader = data_module_msn.val_dataloader()\n",
    "\n",
    "        print(f\"Extracting embeddings for {experiment_name}\")\n",
    "        save_embeddings(model, test_loader, embeddings_save_dir)\n",
    "        print(f\"Embeddings saved to {embeddings_save_dir}\")"
   ],
   "outputs": [],
   "execution_count": 3
  },
  {
   "cell_type": "code",
   "id": "79cbd2661cb0156d",
   "metadata": {
    "ExecuteTime": {
     "end_time": "2025-01-16T14:38:08.253366Z",
     "start_time": "2025-01-16T14:38:08.242569Z"
    }
   },
   "source": [
    "pl.seed_everything(42)\n",
    "\n",
    "config_path = \"/Users/macbook/CODE/PhantoMS/phantoms/models/retrieval/configs/config_skip_connection.yml\"\n",
    "# Load configuration\n",
    "with open(config_path, 'r') as f:\n",
    "    config = yaml.safe_load(f)"
   ],
   "outputs": [
    {
     "name": "stderr",
     "output_type": "stream",
     "text": [
      "Seed set to 42\n"
     ]
    }
   ],
   "execution_count": 4
  },
  {
   "metadata": {
    "ExecuteTime": {
     "end_time": "2025-01-16T14:38:11.003537Z",
     "start_time": "2025-01-16T14:38:09.353988Z"
    }
   },
   "cell_type": "code",
   "source": [
    "featurizer = SpectrumFeaturizer(config['featurizer'], mode='torch')\n",
    "dataset_msn = MSnRetrievalDataset(\n",
    "    pth=config['data']['file_mgf'],\n",
    "    candidates_pth=\"/Users/macbook/CODE/Majer:MassSpecGym/data/Retrieval/MassSpecGym_retrieval_candidates_mass.json\",\n",
    "    featurizer=featurizer,\n",
    "    mol_transform=MolFingerprinter(fp_size=config['model']['fp_size']),\n",
    "    cut_tree_at_level=4,\n",
    "    max_allowed_deviation=config['data']['max_allowed_deviation']\n",
    ")"
   ],
   "id": "a3608c773bf0fe50",
   "outputs": [
    {
     "name": "stdout",
     "output_type": "stream",
     "text": [
      "Warning: No candidates for 6 smiles. Skipping.\n",
      "Total valid indices: 99\n",
      "Dataset length: 99\n"
     ]
    }
   ],
   "execution_count": 5
  },
  {
   "metadata": {
    "ExecuteTime": {
     "end_time": "2025-01-16T13:53:39.046579Z",
     "start_time": "2025-01-16T13:53:39.043848Z"
    }
   },
   "cell_type": "code",
   "source": "len(dataset_msn)",
   "id": "76828a9118bd9415",
   "outputs": [
    {
     "data": {
      "text/plain": [
       "0"
      ]
     },
     "execution_count": 15,
     "metadata": {},
     "output_type": "execute_result"
    }
   ],
   "execution_count": 15
  },
  {
   "metadata": {},
   "cell_type": "code",
   "outputs": [],
   "execution_count": null,
   "source": [
    "mol_transform = MolFingerprinter()\n",
    "msn_dataset = MSnDataset(pth=\"../../../data/MSn/min_sample_trees.mgf\", mol_transform=mol_transform,\n",
    "                         max_allowed_deviation=0.005, prune_missing_spectra=True)"
   ],
   "id": "1cea82ae0e203cce"
  },
  {
   "metadata": {},
   "cell_type": "code",
   "outputs": [],
   "execution_count": null,
   "source": "",
   "id": "b6b2ee458d2da531"
  },
  {
   "cell_type": "code",
   "id": "c947d41421145e54",
   "metadata": {
    "ExecuteTime": {
     "end_time": "2025-01-16T14:38:27.029233Z",
     "start_time": "2025-01-16T14:38:16.113453Z"
    }
   },
   "source": [
    "# Define different cut_tree_at_level values\n",
    "cut_tree_levels = [3, 4]\n",
    "\n",
    "# Step 1: Train all models\n",
    "train_models(config, cut_tree_levels)"
   ],
   "outputs": [
    {
     "name": "stdout",
     "output_type": "stream",
     "text": [
      "Starting training for skip_first_cut_tree_3\n"
     ]
    },
    {
     "name": "stderr",
     "output_type": "stream",
     "text": [
      "/Users/macbook/UTILS/anaconda3/envs/phantoms_env/lib/python3.11/site-packages/torch/nn/utils/weight_norm.py:143: FutureWarning: `torch.nn.utils.weight_norm` is deprecated in favor of `torch.nn.utils.parametrizations.weight_norm`.\n",
      "  WeightNorm.apply(module, name, dim)\n",
      "GPU available: True (mps), used: False\n",
      "TPU available: False, using: 0 TPU cores\n",
      "HPU available: False, using: 0 HPUs\n",
      "/Users/macbook/UTILS/anaconda3/envs/phantoms_env/lib/python3.11/site-packages/pytorch_lightning/trainer/setup.py:177: GPU available but not used. You can set it by doing `Trainer(accelerator='gpu')`.\n",
      "/Users/macbook/UTILS/anaconda3/envs/phantoms_env/lib/python3.11/site-packages/pytorch_lightning/callbacks/model_checkpoint.py:654: Checkpoint directory /Users/macbook/CODE/PhantoMS/notebooks/checkpoints/skip_first_cut_tree_3 exists and is not empty.\n",
      "\n",
      "  | Name    | Type                        | Params | Mode \n",
      "----------------------------------------------------------------\n",
      "0 | gcn1    | GCNLayer                    | 10.4 K | train\n",
      "1 | gcn2    | GCNLayer                    | 110    | train\n",
      "2 | gcn3    | GCNLayer                    | 110    | train\n",
      "3 | head    | SkipConnectionRetrievalHead | 25.3 K | train\n",
      "4 | loss_fn | BCEWithLogitsLoss           | 0      | train\n",
      "----------------------------------------------------------------\n",
      "35.9 K    Trainable params\n",
      "0         Non-trainable params\n",
      "35.9 K    Total params\n",
      "0.143     Total estimated model params size (MB)\n",
      "53        Modules in train mode\n",
      "0         Modules in eval mode\n"
     ]
    },
    {
     "name": "stdout",
     "output_type": "stream",
     "text": [
      "Warning: No candidates for 6 smiles. Skipping.\n",
      "Total valid indices: 99\n",
      "Dataset length: 99\n",
      "Warning: Some identifiers in the split file are not found in the dataset. Taking intersection.\n",
      "Train dataset size: 76\n",
      "Val dataset size: 6\n",
      "Sanity Checking: |          | 0/? [00:00<?, ?it/s]"
     ]
    },
    {
     "name": "stderr",
     "output_type": "stream",
     "text": [
      "/Users/macbook/UTILS/anaconda3/envs/phantoms_env/lib/python3.11/site-packages/pytorch_lightning/trainer/connectors/data_connector.py:424: The 'val_dataloader' does not have many workers which may be a bottleneck. Consider increasing the value of the `num_workers` argument` to `num_workers=9` in the `DataLoader` to improve performance.\n"
     ]
    },
    {
     "name": "stdout",
     "output_type": "stream",
     "text": [
      "in collate_fn\n",
      "Sanity Checking DataLoader 0:  50%|█████     | 1/2 [00:00<00:00, 131.18it/s]in collate_fn\n",
      "                                                                            "
     ]
    },
    {
     "name": "stderr",
     "output_type": "stream",
     "text": [
      "/Users/macbook/UTILS/anaconda3/envs/phantoms_env/lib/python3.11/site-packages/pytorch_lightning/trainer/connectors/data_connector.py:424: The 'train_dataloader' does not have many workers which may be a bottleneck. Consider increasing the value of the `num_workers` argument` to `num_workers=9` in the `DataLoader` to improve performance.\n",
      "/Users/macbook/UTILS/anaconda3/envs/phantoms_env/lib/python3.11/site-packages/pytorch_lightning/loops/fit_loop.py:298: The number of training batches (2) is smaller than the logging interval Trainer(log_every_n_steps=10). Set a lower value for log_every_n_steps if you want to see logs for the training epoch.\n"
     ]
    },
    {
     "name": "stdout",
     "output_type": "stream",
     "text": [
      "Epoch 0:   0%|          | 0/2 [00:00<?, ?it/s] in collate_fn\n",
      "Epoch 0:  50%|█████     | 1/2 [00:00<00:00,  4.31it/s, v_num=ee_3]in collate_fn\n",
      "Epoch 0: 100%|██████████| 2/2 [00:00<00:00,  4.13it/s, v_num=ee_3, train_loss=0.723]\n",
      "Validation: |          | 0/? [00:00<?, ?it/s]\u001B[Ain collate_fn\n",
      "\n",
      "Validation:   0%|          | 0/2 [00:00<?, ?it/s]\u001B[A\n",
      "Validation DataLoader 0:   0%|          | 0/2 [00:00<?, ?it/s]\u001B[A\n",
      "Validation DataLoader 0:  50%|█████     | 1/2 [00:00<00:00, 173.89it/s]\u001B[Ain collate_fn\n",
      "\n",
      "Validation DataLoader 0: 100%|██████████| 2/2 [00:00<00:00,  6.44it/s] \u001B[A\n",
      "Epoch 1:   0%|          | 0/2 [00:00<?, ?it/s, v_num=ee_3, train_loss=0.730, val_loss=0.766]        in collate_fn\n",
      "Epoch 1:  50%|█████     | 1/2 [00:00<00:00,  3.02it/s, v_num=ee_3, train_loss=0.730, val_loss=0.766]in collate_fn\n",
      "Epoch 1: 100%|██████████| 2/2 [00:00<00:00,  2.87it/s, v_num=ee_3, train_loss=0.736, val_loss=0.766]\n",
      "Validation: |          | 0/? [00:00<?, ?it/s]\u001B[Ain collate_fn\n",
      "\n",
      "Validation:   0%|          | 0/2 [00:00<?, ?it/s]\u001B[A\n",
      "Validation DataLoader 0:   0%|          | 0/2 [00:00<?, ?it/s]\u001B[A\n",
      "Validation DataLoader 0:  50%|█████     | 1/2 [00:00<00:00, 161.16it/s]\u001B[Ain collate_fn\n",
      "\n",
      "Validation DataLoader 0: 100%|██████████| 2/2 [00:00<00:00,  6.41it/s] \u001B[A\n",
      "Epoch 1: 100%|██████████| 2/2 [00:01<00:00,  1.52it/s, v_num=ee_3, train_loss=0.728, val_loss=0.718]"
     ]
    },
    {
     "name": "stderr",
     "output_type": "stream",
     "text": [
      "`Trainer.fit` stopped: `max_epochs=2` reached.\n"
     ]
    },
    {
     "name": "stdout",
     "output_type": "stream",
     "text": [
      "Epoch 1: 100%|██████████| 2/2 [00:01<00:00,  1.51it/s, v_num=ee_3, train_loss=0.728, val_loss=0.718]"
     ]
    },
    {
     "name": "stderr",
     "output_type": "stream",
     "text": [
      "/Users/macbook/UTILS/anaconda3/envs/phantoms_env/lib/python3.11/site-packages/pytorch_lightning/trainer/connectors/data_connector.py:424: The 'test_dataloader' does not have many workers which may be a bottleneck. Consider increasing the value of the `num_workers` argument` to `num_workers=9` in the `DataLoader` to improve performance.\n"
     ]
    },
    {
     "name": "stdout",
     "output_type": "stream",
     "text": [
      "\n",
      "Warning: Some identifiers in the split file are not found in the dataset. Taking intersection.\n",
      "Test dataset size: 17\n",
      "Testing: |          | 0/? [00:00<?, ?it/s]in collate_fn\n",
      "Testing DataLoader 0:  50%|█████     | 1/2 [00:00<00:00, 172.68it/s]in collate_fn\n",
      "Testing DataLoader 0: 100%|██████████| 2/2 [00:00<00:00,  6.98it/s] \n",
      "────────────────────────────────────────────────────────────────────────────────────────────────────────────────────────\n",
      "       Test metric             DataLoader 0\n",
      "────────────────────────────────────────────────────────────────────────────────────────────────────────────────────────\n",
      "     test_hit_rate@1                0.0\n",
      "    test_hit_rate@20                0.0\n",
      "     test_hit_rate@5                0.0\n",
      "        test_loss           0.7181117534637451\n",
      "       test_mces@1                40.375\n",
      "────────────────────────────────────────────────────────────────────────────────────────────────────────────────────────\n",
      "Model saved to checkpoints/skip_first_cut_tree_3/final_model.ckpt\n",
      "Starting training for skip_first_cut_tree_4\n"
     ]
    },
    {
     "name": "stderr",
     "output_type": "stream",
     "text": [
      "/Users/macbook/UTILS/anaconda3/envs/phantoms_env/lib/python3.11/site-packages/torch/nn/utils/weight_norm.py:143: FutureWarning: `torch.nn.utils.weight_norm` is deprecated in favor of `torch.nn.utils.parametrizations.weight_norm`.\n",
      "  WeightNorm.apply(module, name, dim)\n",
      "GPU available: True (mps), used: False\n",
      "TPU available: False, using: 0 TPU cores\n",
      "HPU available: False, using: 0 HPUs\n",
      "/Users/macbook/UTILS/anaconda3/envs/phantoms_env/lib/python3.11/site-packages/pytorch_lightning/trainer/setup.py:177: GPU available but not used. You can set it by doing `Trainer(accelerator='gpu')`.\n",
      "/Users/macbook/UTILS/anaconda3/envs/phantoms_env/lib/python3.11/site-packages/pytorch_lightning/callbacks/model_checkpoint.py:654: Checkpoint directory /Users/macbook/CODE/PhantoMS/notebooks/checkpoints/skip_first_cut_tree_4 exists and is not empty.\n",
      "\n",
      "  | Name    | Type                        | Params | Mode \n",
      "----------------------------------------------------------------\n",
      "0 | gcn1    | GCNLayer                    | 10.4 K | train\n",
      "1 | gcn2    | GCNLayer                    | 110    | train\n",
      "2 | gcn3    | GCNLayer                    | 110    | train\n",
      "3 | head    | SkipConnectionRetrievalHead | 25.3 K | train\n",
      "4 | loss_fn | BCEWithLogitsLoss           | 0      | train\n",
      "----------------------------------------------------------------\n",
      "35.9 K    Trainable params\n",
      "0         Non-trainable params\n",
      "35.9 K    Total params\n",
      "0.143     Total estimated model params size (MB)\n",
      "53        Modules in train mode\n",
      "0         Modules in eval mode\n"
     ]
    },
    {
     "name": "stdout",
     "output_type": "stream",
     "text": [
      "Warning: No candidates for 6 smiles. Skipping.\n",
      "Total valid indices: 99\n",
      "Dataset length: 99\n",
      "Warning: Some identifiers in the split file are not found in the dataset. Taking intersection.\n",
      "Train dataset size: 76\n",
      "Val dataset size: 6\n",
      "Sanity Checking: |          | 0/? [00:00<?, ?it/s]"
     ]
    },
    {
     "name": "stderr",
     "output_type": "stream",
     "text": [
      "/Users/macbook/UTILS/anaconda3/envs/phantoms_env/lib/python3.11/site-packages/pytorch_lightning/trainer/connectors/data_connector.py:424: The 'val_dataloader' does not have many workers which may be a bottleneck. Consider increasing the value of the `num_workers` argument` to `num_workers=9` in the `DataLoader` to improve performance.\n"
     ]
    },
    {
     "name": "stdout",
     "output_type": "stream",
     "text": [
      "in collate_fn\n",
      "Sanity Checking DataLoader 0:  50%|█████     | 1/2 [00:00<00:00, 190.37it/s]in collate_fn\n",
      "                                                                            "
     ]
    },
    {
     "name": "stderr",
     "output_type": "stream",
     "text": [
      "/Users/macbook/UTILS/anaconda3/envs/phantoms_env/lib/python3.11/site-packages/pytorch_lightning/trainer/connectors/data_connector.py:424: The 'train_dataloader' does not have many workers which may be a bottleneck. Consider increasing the value of the `num_workers` argument` to `num_workers=9` in the `DataLoader` to improve performance.\n",
      "/Users/macbook/UTILS/anaconda3/envs/phantoms_env/lib/python3.11/site-packages/pytorch_lightning/loops/fit_loop.py:298: The number of training batches (2) is smaller than the logging interval Trainer(log_every_n_steps=10). Set a lower value for log_every_n_steps if you want to see logs for the training epoch.\n"
     ]
    },
    {
     "name": "stdout",
     "output_type": "stream",
     "text": [
      "Epoch 0:   0%|          | 0/2 [00:00<?, ?it/s] in collate_fn\n",
      "Epoch 0:  50%|█████     | 1/2 [00:00<00:00,  3.97it/s, v_num=ee_4]in collate_fn\n",
      "Epoch 0: 100%|██████████| 2/2 [00:00<00:00,  3.68it/s, v_num=ee_4, train_loss=0.728]\n",
      "Validation: |          | 0/? [00:00<?, ?it/s]\u001B[Ain collate_fn\n",
      "\n",
      "Validation:   0%|          | 0/2 [00:00<?, ?it/s]\u001B[A\n",
      "Validation DataLoader 0:   0%|          | 0/2 [00:00<?, ?it/s]\u001B[A\n",
      "Validation DataLoader 0:  50%|█████     | 1/2 [00:00<00:00, 167.39it/s]\u001B[Ain collate_fn\n",
      "\n",
      "Validation DataLoader 0: 100%|██████████| 2/2 [00:00<00:00,  6.31it/s] \u001B[A\n",
      "Epoch 1:   0%|          | 0/2 [00:00<?, ?it/s, v_num=ee_4, train_loss=0.707, val_loss=0.706]        in collate_fn\n",
      "Epoch 1:  50%|█████     | 1/2 [00:00<00:00,  2.62it/s, v_num=ee_4, train_loss=0.707, val_loss=0.706]in collate_fn\n",
      "Epoch 1: 100%|██████████| 2/2 [00:00<00:00,  3.07it/s, v_num=ee_4, train_loss=0.712, val_loss=0.706]\n",
      "Validation: |          | 0/? [00:00<?, ?it/s]\u001B[Ain collate_fn\n",
      "\n",
      "Validation:   0%|          | 0/2 [00:00<?, ?it/s]\u001B[A\n",
      "Validation DataLoader 0:   0%|          | 0/2 [00:00<?, ?it/s]\u001B[A\n",
      "Validation DataLoader 0:  50%|█████     | 1/2 [00:00<00:00, 90.41it/s]\u001B[Ain collate_fn\n",
      "\n",
      "Validation DataLoader 0: 100%|██████████| 2/2 [00:00<00:00,  6.01it/s]\u001B[A\n",
      "Epoch 1: 100%|██████████| 2/2 [00:01<00:00,  1.23it/s, v_num=ee_4, train_loss=0.713, val_loss=0.706]"
     ]
    },
    {
     "name": "stderr",
     "output_type": "stream",
     "text": [
      "`Trainer.fit` stopped: `max_epochs=2` reached.\n"
     ]
    },
    {
     "name": "stdout",
     "output_type": "stream",
     "text": [
      "Epoch 1: 100%|██████████| 2/2 [00:01<00:00,  1.22it/s, v_num=ee_4, train_loss=0.713, val_loss=0.706]"
     ]
    },
    {
     "name": "stderr",
     "output_type": "stream",
     "text": [
      "/Users/macbook/UTILS/anaconda3/envs/phantoms_env/lib/python3.11/site-packages/pytorch_lightning/trainer/connectors/data_connector.py:424: The 'test_dataloader' does not have many workers which may be a bottleneck. Consider increasing the value of the `num_workers` argument` to `num_workers=9` in the `DataLoader` to improve performance.\n"
     ]
    },
    {
     "name": "stdout",
     "output_type": "stream",
     "text": [
      "\n",
      "Warning: Some identifiers in the split file are not found in the dataset. Taking intersection.\n",
      "Test dataset size: 17\n",
      "Testing: |          | 0/? [00:00<?, ?it/s]in collate_fn\n",
      "Testing DataLoader 0:  50%|█████     | 1/2 [00:00<00:00, 184.67it/s]in collate_fn\n",
      "Testing DataLoader 0: 100%|██████████| 2/2 [00:00<00:00,  6.89it/s] \n",
      "────────────────────────────────────────────────────────────────────────────────────────────────────────────────────────\n",
      "       Test metric             DataLoader 0\n",
      "────────────────────────────────────────────────────────────────────────────────────────────────────────────────────────\n",
      "     test_hit_rate@1                0.0\n",
      "    test_hit_rate@20                0.0\n",
      "     test_hit_rate@5                0.0\n",
      "        test_loss           0.7048915028572083\n",
      "       test_mces@1                31.375\n",
      "────────────────────────────────────────────────────────────────────────────────────────────────────────────────────────\n",
      "Model saved to checkpoints/skip_first_cut_tree_4/final_model.ckpt\n"
     ]
    }
   ],
   "execution_count": 6
  },
  {
   "cell_type": "code",
   "id": "286f65dcb1f7b445",
   "metadata": {
    "ExecuteTime": {
     "end_time": "2025-01-16T14:38:32.807986Z",
     "start_time": "2025-01-16T14:38:27.035484Z"
    }
   },
   "source": "extract_and_save_embeddings(config, cut_tree_levels)",
   "outputs": [
    {
     "name": "stdout",
     "output_type": "stream",
     "text": [
      "Extracting embeddings for skip_first_cut_tree_3\n"
     ]
    },
    {
     "name": "stderr",
     "output_type": "stream",
     "text": [
      "/Users/macbook/UTILS/anaconda3/envs/phantoms_env/lib/python3.11/site-packages/torch/nn/utils/weight_norm.py:143: FutureWarning: `torch.nn.utils.weight_norm` is deprecated in favor of `torch.nn.utils.parametrizations.weight_norm`.\n",
      "  WeightNorm.apply(module, name, dim)\n"
     ]
    },
    {
     "name": "stdout",
     "output_type": "stream",
     "text": [
      "Warning: No candidates for 6 smiles. Skipping.\n",
      "Total valid indices: 99\n",
      "Dataset length: 99\n",
      "Warning: Some identifiers in the split file are not found in the dataset. Taking intersection.\n",
      "Train dataset size: 76\n",
      "Val dataset size: 6\n",
      "Extracting embeddings for skip_first_cut_tree_3\n",
      "in collate_fn\n",
      "in collate_fn\n",
      "in collate_fn\n",
      "Embeddings saved to embeddings/skip_first_cut_tree_3\n",
      "Extracting embeddings for skip_first_cut_tree_4\n"
     ]
    },
    {
     "name": "stderr",
     "output_type": "stream",
     "text": [
      "/Users/macbook/UTILS/anaconda3/envs/phantoms_env/lib/python3.11/site-packages/torch/nn/utils/weight_norm.py:143: FutureWarning: `torch.nn.utils.weight_norm` is deprecated in favor of `torch.nn.utils.parametrizations.weight_norm`.\n",
      "  WeightNorm.apply(module, name, dim)\n"
     ]
    },
    {
     "name": "stdout",
     "output_type": "stream",
     "text": [
      "Warning: No candidates for 6 smiles. Skipping.\n",
      "Total valid indices: 99\n",
      "Dataset length: 99\n",
      "Warning: Some identifiers in the split file are not found in the dataset. Taking intersection.\n",
      "Train dataset size: 76\n",
      "Val dataset size: 6\n",
      "Extracting embeddings for skip_first_cut_tree_4\n",
      "in collate_fn\n",
      "in collate_fn\n",
      "in collate_fn\n",
      "Embeddings saved to embeddings/skip_first_cut_tree_4\n"
     ]
    }
   ],
   "execution_count": 7
  },
  {
   "metadata": {},
   "cell_type": "markdown",
   "source": "# Embeddings",
   "id": "185455c06a26fb56"
  },
  {
   "cell_type": "code",
   "id": "2c5580ee27d568a9",
   "metadata": {
    "ExecuteTime": {
     "end_time": "2025-01-17T06:20:19.164396Z",
     "start_time": "2025-01-17T06:20:19.155754Z"
    }
   },
   "source": "os.listdir(\"/Users/macbook/CODE/PhantoMS/notebooks/embeddings/skip_first_cut_tree_3\")",
   "outputs": [
    {
     "data": {
      "text/plain": [
       "['head_head_fc1.npy',\n",
       " 'gcn2.npy',\n",
       " 'gcn3.npy',\n",
       " 'gcn1.npy',\n",
       " 'head_skipblock_1.npy',\n",
       " 'head_head_output.npy',\n",
       " 'head_skipblock_2.npy',\n",
       " 'global_mean_pool.npy',\n",
       " 'head_skipblock_3.npy',\n",
       " 'head_head_fc_final.npy']"
      ]
     },
     "execution_count": 8,
     "metadata": {},
     "output_type": "execute_result"
    }
   ],
   "execution_count": 8
  },
  {
   "cell_type": "code",
   "id": "720f9661c5cced8e",
   "metadata": {
    "ExecuteTime": {
     "end_time": "2025-01-17T06:57:41.456714Z",
     "start_time": "2025-01-17T06:57:41.451880Z"
    }
   },
   "source": [
    "def load_embeddings(experiment_dir, layer_names):\n",
    "    \"\"\"\n",
    "    Load embeddings for specified layers from a given experiment directory.\n",
    "\n",
    "    Args:\n",
    "        experiment_dir (str): Path to the experiment's embedding directory.\n",
    "        layer_names (list): List of layer names to load embeddings for.\n",
    "\n",
    "    Returns:\n",
    "        dict: Mapping from layer name to its embedding matrix.\n",
    "    \"\"\"\n",
    "    embeddings = {}\n",
    "    for layer in layer_names:\n",
    "        layer_path = os.path.join(experiment_dir, f\"{layer}.npy\")\n",
    "        if os.path.exists(layer_path):\n",
    "            embeddings[layer] = np.load(layer_path)\n",
    "        else:\n",
    "            print(f\"Warning: {layer_path} not found.\")\n",
    "    return embeddings\n",
    "\n",
    "from phantoms.utils.CKA.CKA import linear_CKA, kernel_CKA\n",
    "\n",
    "def compute_layer_cka(embeddings_model1, embeddings_model2, layer_name1, layer_name2):\n",
    "    \"\"\"\n",
    "    Compute CKA scores between two models for a specific layer.\n",
    "\n",
    "    Args:\n",
    "        embeddings_model1 (dict): Embeddings from model 1.\n",
    "        embeddings_model2 (dict): Embeddings from model 2.\n",
    "        layer_name1 (str): The layer to compare.\n",
    "        layer_name2 (str): The layer to compare.\n",
    "\n",
    "    Returns:\n",
    "        tuple: (linear_cka_score, rbf_cka_score)\n",
    "    \"\"\"\n",
    "    X = embeddings_model1.get(layer_name1)\n",
    "    Y = embeddings_model2.get(layer_name2)\n",
    "    \n",
    "    if X is None or Y is None:\n",
    "        print(f\"Embeddings for layer '{layer_name1}' or '{layer_name2}' are missing in one of the models.\")\n",
    "        return None, None\n",
    "    \n",
    "    # Transpose to shape (embedding_dim, num_samples)\n",
    "    X = X.T\n",
    "    Y = Y.T\n",
    "    \n",
    "    # Compute CKA scores\n",
    "    linear_cka_score = linear_CKA(X, Y)\n",
    "    rbf_cka_score = kernel_CKA(X, Y)\n",
    "    \n",
    "    return linear_cka_score, rbf_cka_score"
   ],
   "outputs": [],
   "execution_count": 27
  },
  {
   "cell_type": "code",
   "id": "f3a4b892170175ef",
   "metadata": {
    "ExecuteTime": {
     "end_time": "2025-01-17T06:57:41.827437Z",
     "start_time": "2025-01-17T06:57:41.825334Z"
    }
   },
   "source": [
    "experiment_dir1 = '/Users/macbook/CODE/PhantoMS/notebooks/embeddings/skip_first_cut_tree_3'\n",
    "experiment_dir2 = '/Users/macbook/CODE/PhantoMS/notebooks/embeddings/skip_first_cut_tree_4'\n",
    "\n",
    "# Specify the layers you want to compare\n",
    "layer_names = ['head_head_fc1',\n",
    " 'gcn2',\n",
    " 'gcn3',\n",
    " 'gcn1',\n",
    " 'head_skipblock_1',\n",
    " 'head_head_output',\n",
    " 'head_skipblock_2',\n",
    " 'global_mean_pool',\n",
    " 'head_skipblock_3',\n",
    " 'head_head_fc_final']\n"
   ],
   "outputs": [],
   "execution_count": 28
  },
  {
   "metadata": {
    "ExecuteTime": {
     "end_time": "2025-01-17T06:57:42.246589Z",
     "start_time": "2025-01-17T06:57:42.239083Z"
    }
   },
   "cell_type": "code",
   "source": [
    "embeddings_model1 = load_embeddings(experiment_dir1, layer_names)\n",
    "embeddings_model2 = load_embeddings(experiment_dir2, layer_names)"
   ],
   "id": "124dcb7f17d93a47",
   "outputs": [],
   "execution_count": 29
  },
  {
   "cell_type": "code",
   "id": "7e6f752f0a69438b",
   "metadata": {
    "ExecuteTime": {
     "end_time": "2025-01-17T06:58:13.598371Z",
     "start_time": "2025-01-17T06:58:00.848510Z"
    }
   },
   "source": [
    "# Compute and display CKA scores for each layer\n",
    "for layer in layer_names:\n",
    "    linear_cka, rbf_cka = compute_layer_cka(embeddings_model1, embeddings_model2, layer, layer)\n",
    "    if linear_cka is not None and rbf_cka is not None:\n",
    "        print(f\"Layer: {layer}\")\n",
    "        print(f\"  Linear CKA: {linear_cka:.4f}\")\n",
    "        print(f\"  RBF Kernel CKA: {rbf_cka:.4f}\\n\")"
   ],
   "outputs": [
    {
     "name": "stdout",
     "output_type": "stream",
     "text": [
      "Layer: head_head_fc1\n",
      "  Linear CKA: 0.0452\n",
      "  RBF Kernel CKA: 0.0703\n",
      "\n",
      "Layer: gcn2\n",
      "  Linear CKA: 0.0281\n",
      "  RBF Kernel CKA: 0.0573\n",
      "\n",
      "Layer: gcn3\n",
      "  Linear CKA: 0.6349\n",
      "  RBF Kernel CKA: 0.4263\n",
      "\n",
      "Layer: gcn1\n",
      "  Linear CKA: 0.2195\n",
      "  RBF Kernel CKA: 0.3238\n",
      "\n",
      "Layer: head_skipblock_1\n",
      "  Linear CKA: 0.1569\n",
      "  RBF Kernel CKA: 0.2226\n",
      "\n",
      "Layer: head_head_output\n",
      "  Linear CKA: 0.0001\n",
      "  RBF Kernel CKA: 0.0004\n",
      "\n",
      "Layer: head_skipblock_2\n",
      "  Linear CKA: 0.1831\n",
      "  RBF Kernel CKA: 0.2425\n",
      "\n",
      "Layer: global_mean_pool\n",
      "  Linear CKA: 0.6349\n",
      "  RBF Kernel CKA: 0.4263\n",
      "\n",
      "Layer: head_skipblock_3\n",
      "  Linear CKA: 0.0748\n",
      "  RBF Kernel CKA: 0.2389\n",
      "\n",
      "Layer: head_head_fc_final\n",
      "  Linear CKA: 0.3370\n",
      "  RBF Kernel CKA: 0.3440\n",
      "\n"
     ]
    }
   ],
   "execution_count": 31
  },
  {
   "metadata": {
    "ExecuteTime": {
     "end_time": "2025-01-17T06:58:13.606852Z",
     "start_time": "2025-01-17T06:58:13.603778Z"
    }
   },
   "cell_type": "code",
   "source": [
    "import matplotlib.pyplot as plt\n",
    "import seaborn as sns\n",
    "\n",
    "def plot_cka_scores(cka_scores, layer_names, model_names, title=\"CKA Heatmap\"):\n",
    "    \"\"\"\n",
    "    Plot a heatmap of CKA scores.\n",
    "\n",
    "    Args:\n",
    "        cka_scores (np.ndarray): 2D array of CKA scores.\n",
    "        layer_names (list): List of layer names.\n",
    "        model_names (list): List of model names.\n",
    "        title (str): Title of the heatmap.\n",
    "    \"\"\"\n",
    "    plt.figure(figsize=(12, 8))\n",
    "    sns.heatmap(cka_scores, annot=True, fmt=\".2f\",\n",
    "                xticklabels=model_names, yticklabels=layer_names,\n",
    "                cmap='viridis')\n",
    "    plt.xlabel('Model 2 Layers')\n",
    "    plt.ylabel('Model 1 Layers')\n",
    "    plt.title(title)\n",
    "    plt.tight_layout()\n",
    "    plt.show()"
   ],
   "id": "59228a10ecc921c",
   "outputs": [],
   "execution_count": 32
  },
  {
   "metadata": {
    "ExecuteTime": {
     "end_time": "2025-01-17T06:58:14.570251Z",
     "start_time": "2025-01-17T06:58:13.613696Z"
    }
   },
   "cell_type": "code",
   "source": [
    "# Initialize a matrix to store CKA scores\n",
    "# Rows: Model1 layers, Columns: Model2 layers\n",
    "cka_matrix = np.zeros((len(layer_names), len(layer_names), 2))  # Last dim for linear and RBF\n",
    "\n",
    "for i, layer1 in enumerate(layer_names):\n",
    "    for j, layer2 in enumerate(layer_names):\n",
    "        linear_cka, rbf_cka = compute_layer_cka(embeddings_model1, embeddings_model2, layer1, layer2)\n",
    "        if linear_cka is not None and rbf_cka is not None:\n",
    "            cka_matrix[i, j, 0] = linear_cka\n",
    "            cka_matrix[i, j, 1] = rbf_cka"
   ],
   "id": "7af32da82420292b",
   "outputs": [
    {
     "ename": "ValueError",
     "evalue": "operands could not be broadcast together with shapes (10,10) (4096,4096) ",
     "output_type": "error",
     "traceback": [
      "\u001B[0;31m---------------------------------------------------------------------------\u001B[0m",
      "\u001B[0;31mValueError\u001B[0m                                Traceback (most recent call last)",
      "Cell \u001B[0;32mIn[33], line 7\u001B[0m\n\u001B[1;32m      5\u001B[0m \u001B[38;5;28;01mfor\u001B[39;00m i, layer1 \u001B[38;5;129;01min\u001B[39;00m \u001B[38;5;28menumerate\u001B[39m(layer_names):\n\u001B[1;32m      6\u001B[0m     \u001B[38;5;28;01mfor\u001B[39;00m j, layer2 \u001B[38;5;129;01min\u001B[39;00m \u001B[38;5;28menumerate\u001B[39m(layer_names):\n\u001B[0;32m----> 7\u001B[0m         linear_cka, rbf_cka \u001B[38;5;241m=\u001B[39m compute_layer_cka(embeddings_model1, embeddings_model2, layer1, layer2)\n\u001B[1;32m      8\u001B[0m         \u001B[38;5;28;01mif\u001B[39;00m linear_cka \u001B[38;5;129;01mis\u001B[39;00m \u001B[38;5;129;01mnot\u001B[39;00m \u001B[38;5;28;01mNone\u001B[39;00m \u001B[38;5;129;01mand\u001B[39;00m rbf_cka \u001B[38;5;129;01mis\u001B[39;00m \u001B[38;5;129;01mnot\u001B[39;00m \u001B[38;5;28;01mNone\u001B[39;00m:\n\u001B[1;32m      9\u001B[0m             cka_matrix[i, j, \u001B[38;5;241m0\u001B[39m] \u001B[38;5;241m=\u001B[39m linear_cka\n",
      "Cell \u001B[0;32mIn[27], line 48\u001B[0m, in \u001B[0;36mcompute_layer_cka\u001B[0;34m(embeddings_model1, embeddings_model2, layer_name1, layer_name2)\u001B[0m\n\u001B[1;32m     45\u001B[0m Y \u001B[38;5;241m=\u001B[39m Y\u001B[38;5;241m.\u001B[39mT\n\u001B[1;32m     47\u001B[0m \u001B[38;5;66;03m# Compute CKA scores\u001B[39;00m\n\u001B[0;32m---> 48\u001B[0m linear_cka_score \u001B[38;5;241m=\u001B[39m linear_CKA(X, Y)\n\u001B[1;32m     49\u001B[0m rbf_cka_score \u001B[38;5;241m=\u001B[39m kernel_CKA(X, Y)\n\u001B[1;32m     51\u001B[0m \u001B[38;5;28;01mreturn\u001B[39;00m linear_cka_score, rbf_cka_score\n",
      "File \u001B[0;32m~/CODE/PhantoMS/phantoms/utils/CKA/CKA.py:37\u001B[0m, in \u001B[0;36mlinear_CKA\u001B[0;34m(X, Y)\u001B[0m\n\u001B[1;32m     36\u001B[0m \u001B[38;5;28;01mdef\u001B[39;00m \u001B[38;5;21mlinear_CKA\u001B[39m(X, Y):\n\u001B[0;32m---> 37\u001B[0m     hsic \u001B[38;5;241m=\u001B[39m linear_HSIC(X, Y)\n\u001B[1;32m     38\u001B[0m     var1 \u001B[38;5;241m=\u001B[39m np\u001B[38;5;241m.\u001B[39msqrt(linear_HSIC(X, X))\n\u001B[1;32m     39\u001B[0m     var2 \u001B[38;5;241m=\u001B[39m np\u001B[38;5;241m.\u001B[39msqrt(linear_HSIC(Y, Y))\n",
      "File \u001B[0;32m~/CODE/PhantoMS/phantoms/utils/CKA/CKA.py:33\u001B[0m, in \u001B[0;36mlinear_HSIC\u001B[0;34m(X, Y)\u001B[0m\n\u001B[1;32m     31\u001B[0m L_X \u001B[38;5;241m=\u001B[39m np\u001B[38;5;241m.\u001B[39mdot(X, X\u001B[38;5;241m.\u001B[39mT)\n\u001B[1;32m     32\u001B[0m L_Y \u001B[38;5;241m=\u001B[39m np\u001B[38;5;241m.\u001B[39mdot(Y, Y\u001B[38;5;241m.\u001B[39mT)\n\u001B[0;32m---> 33\u001B[0m \u001B[38;5;28;01mreturn\u001B[39;00m np\u001B[38;5;241m.\u001B[39msum(centering(L_X) \u001B[38;5;241m*\u001B[39m centering(L_Y))\n",
      "\u001B[0;31mValueError\u001B[0m: operands could not be broadcast together with shapes (10,10) (4096,4096) "
     ]
    }
   ],
   "execution_count": 33
  },
  {
   "metadata": {
    "ExecuteTime": {
     "end_time": "2025-01-17T06:58:14.576422Z",
     "start_time": "2025-01-17T06:54:53.992557Z"
    }
   },
   "cell_type": "code",
   "source": [
    "# Plot Linear CKA Heatmap\n",
    "plt.figure(figsize=(14, 12))\n",
    "sns.heatmap(cka_matrix[:,:, 0], annot=True, fmt=\".2f\",\n",
    "            xticklabels=layer_names, yticklabels=layer_names,\n",
    "            cmap='coolwarm')\n",
    "plt.xlabel('Model 2 Layers')\n",
    "plt.ylabel('Model 1 Layers')\n",
    "plt.title('Linear CKA Heatmap')\n",
    "plt.xticks(rotation=45, ha='right')\n",
    "plt.yticks(rotation=0)\n",
    "plt.tight_layout()\n",
    "plt.show()"
   ],
   "id": "8aaf9308b9bc71a6",
   "outputs": [
    {
     "data": {
      "text/plain": [
       "<Figure size 1400x1200 with 2 Axes>"
      ],
      "image/png": "[encoded data removed]"
     },
     "metadata": {},
     "output_type": "display_data"
    }
   ],
   "execution_count": 26
  },
  {
   "metadata": {},
   "cell_type": "code",
   "outputs": [],
   "execution_count": null,
   "source": [
    "# Plot RBF Kernel CKA Heatmap\n",
    "plt.figure(figsize=(14, 12))\n",
    "sns.heatmap(cka_matrix[:, :, 1], annot=True, fmt=\".2f\",\n",
    "            xticklabels=layer_names, yticklabels=layer_names,\n",
    "            cmap='coolwarm')\n",
    "plt.xlabel('Model 2 Layers')\n",
    "plt.ylabel('Model 1 Layers')\n",
    "plt.title('RBF Kernel CKA Heatmap')\n",
    "plt.xticks(rotation=45, ha='right')\n",
    "plt.yticks(rotation=0)\n",
    "plt.tight_layout()\n",
    "plt.show()"
   ],
   "id": "f3ce249743d7bfa9"
  },
  {
   "metadata": {},
   "cell_type": "code",
   "outputs": [],
   "execution_count": null,
   "source": "",
   "id": "285c0e918688d0c"
  }
 ],
 "metadata": {
  "kernelspec": {
   "display_name": "Python 3 (ipykernel)",
   "language": "python",
   "name": "python3"
  },
  "language_info": {
   "codemirror_mode": {
    "name": "ipython",
    "version": 3
   },
   "file_extension": ".py",
   "mimetype": "text/x-python",
   "name": "python",
   "nbconvert_exporter": "python",
   "pygments_lexer": "ipython3",
   "version": "3.11.10"
  }
 },
 "nbformat": 4,
 "nbformat_minor": 5
}
